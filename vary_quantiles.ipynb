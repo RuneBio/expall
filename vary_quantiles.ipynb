{
 "cells": [
  {
   "cell_type": "code",
   "execution_count": 1,
   "metadata": {},
   "outputs": [
    {
     "name": "stderr",
     "output_type": "stream",
     "text": [
      "/Users/joshsmith/Git/NovoNordisk_Capstone/.env/lib/python3.6/site-packages/h5py/__init__.py:36: FutureWarning: Conversion of the second argument of issubdtype from `float` to `np.floating` is deprecated. In future, it will be treated as `np.float64 == np.dtype(float).type`.\n",
      "  from ._conv import register_converters as _register_converters\n",
      "Using TensorFlow backend.\n"
     ]
    }
   ],
   "source": [
    "import pandas as pd\n",
    "from ndac.data_processing import quantile_classify, encode_sequence\n",
    "from ndac.predict import train_clstm"
   ]
  },
  {
   "cell_type": "code",
   "execution_count": 2,
   "metadata": {},
   "outputs": [],
   "source": [
    "# read in sequence/property data\n",
    "data = pd.read_csv('dataframes/DF_prest.csv', index_col=0)"
   ]
  },
  {
   "cell_type": "markdown",
   "metadata": {},
   "source": [
    "# vary high/low cutoff quantiles (balanced)"
   ]
  },
  {
   "cell_type": "code",
   "execution_count": 12,
   "metadata": {},
   "outputs": [
    {
     "name": "stdout",
     "output_type": "stream",
     "text": [
      "45206 samples input.\n",
      "22587 samples above high cut, 22619 samples below low cut, 0 samples removed.\n",
      "_________________________________________________________________\n",
      "Layer (type)                 Output Shape              Param #   \n",
      "=================================================================\n",
      "embedding_8 (Embedding)      (None, 200, 4)            304       \n",
      "_________________________________________________________________\n",
      "conv1d_8 (Conv1D)            (None, 200, 128)          1664      \n",
      "_________________________________________________________________\n",
      "max_pooling1d_8 (MaxPooling1 (None, 100, 128)          0         \n",
      "_________________________________________________________________\n",
      "lstm_8 (LSTM)                (None, 100)               91600     \n",
      "_________________________________________________________________\n",
      "dense_8 (Dense)              (None, 1)                 101       \n",
      "=================================================================\n",
      "Total params: 93,669\n",
      "Trainable params: 93,669\n",
      "Non-trainable params: 0\n",
      "_________________________________________________________________\n",
      "None\n",
      "Epoch 1/10\n",
      "31392/31392 [==============================] - 48s 2ms/step - loss: 0.6903 - acc: 0.5267\n",
      "Epoch 2/10\n",
      "31392/31392 [==============================] - 47s 2ms/step - loss: 0.6772 - acc: 0.5749\n",
      "Epoch 3/10\n",
      "31392/31392 [==============================] - 47s 1ms/step - loss: 0.6703 - acc: 0.5894\n",
      "Epoch 4/10\n",
      "31392/31392 [==============================] - 46s 1ms/step - loss: 0.6684 - acc: 0.5889\n",
      "Epoch 5/10\n",
      "31392/31392 [==============================] - 47s 1ms/step - loss: 0.6679 - acc: 0.5925\n",
      "Epoch 6/10\n",
      "31392/31392 [==============================] - 47s 1ms/step - loss: 0.6667 - acc: 0.5938\n",
      "Epoch 7/10\n",
      "31392/31392 [==============================] - 47s 1ms/step - loss: 0.6639 - acc: 0.5983\n",
      "Epoch 8/10\n",
      "31392/31392 [==============================] - 48s 2ms/step - loss: 0.6616 - acc: 0.6021\n",
      "Epoch 9/10\n",
      "31392/31392 [==============================] - 47s 1ms/step - loss: 0.6582 - acc: 0.6061\n",
      "Epoch 10/10\n",
      "31392/31392 [==============================] - 47s 1ms/step - loss: 0.6548 - acc: 0.6106\n",
      "Accuracy: 60.26%\n"
     ]
    },
    {
     "data": {
      "image/png": "[encoded data removed]",
      "text/plain": [
       "<Figure size 432x288 with 1 Axes>"
      ]
     },
     "metadata": {},
     "output_type": "display_data"
    }
   ],
   "source": [
    "# split quantiles and encode with nucleotide sequence\n",
    "df, hist = quantile_classify(data['conc_cf'], data['nt_seq'],\n",
    "                             low_cut=0.5, high_cut=0.5)\n",
    "X, y = encode_sequence(df['nt_seq'], df['class'],\n",
    "                       max_length=200, tag='GACAAGCTTGCGGCCGCA')\n",
    "\n",
    "nt_model = train_clstm(X, y, test_fraction=0.3, \n",
    "                       epochs=10)"
   ]
  },
  {
   "cell_type": "code",
   "execution_count": 5,
   "metadata": {},
   "outputs": [
    {
     "name": "stdout",
     "output_type": "stream",
     "text": [
      "45206 samples input.\n",
      "11303 samples above high cut, 11302 samples below low cut, 22601 samples removed.\n",
      "WARNING:tensorflow:From /Users/joshsmith/Git/NovoNordisk_Capstone/.env/lib/python3.6/site-packages/tensorflow/python/util/deprecation.py:497: calling conv1d (from tensorflow.python.ops.nn_ops) with data_format=NHWC is deprecated and will be removed in a future version.\n",
      "Instructions for updating:\n",
      "`NHWC` for data_format is deprecated, use `NWC` instead\n",
      "_________________________________________________________________\n",
      "Layer (type)                 Output Shape              Param #   \n",
      "=================================================================\n",
      "embedding_1 (Embedding)      (None, 200, 4)            296       \n",
      "_________________________________________________________________\n",
      "conv1d_1 (Conv1D)            (None, 200, 128)          1664      \n",
      "_________________________________________________________________\n",
      "max_pooling1d_1 (MaxPooling1 (None, 100, 128)          0         \n",
      "_________________________________________________________________\n",
      "lstm_1 (LSTM)                (None, 100)               91600     \n",
      "_________________________________________________________________\n",
      "dense_1 (Dense)              (None, 1)                 101       \n",
      "=================================================================\n",
      "Total params: 93,661\n",
      "Trainable params: 93,661\n",
      "Non-trainable params: 0\n",
      "_________________________________________________________________\n",
      "None\n",
      "Epoch 1/10\n",
      "15678/15678 [==============================] - 24s 2ms/step - loss: 0.6827 - acc: 0.5520\n",
      "Epoch 2/10\n",
      "15678/15678 [==============================] - 24s 2ms/step - loss: 0.6500 - acc: 0.6236\n",
      "Epoch 3/10\n",
      "15678/15678 [==============================] - 24s 1ms/step - loss: 0.6415 - acc: 0.6321\n",
      "Epoch 4/10\n",
      "15678/15678 [==============================] - 24s 1ms/step - loss: 0.6371 - acc: 0.6405\n",
      "Epoch 5/10\n",
      "15678/15678 [==============================] - 24s 2ms/step - loss: 0.6325 - acc: 0.6445\n",
      "Epoch 6/10\n",
      "15678/15678 [==============================] - 24s 2ms/step - loss: 0.6312 - acc: 0.6478\n",
      "Epoch 7/10\n",
      "15678/15678 [==============================] - 24s 2ms/step - loss: 0.6228 - acc: 0.6517\n",
      "Epoch 8/10\n",
      "15678/15678 [==============================] - 23s 1ms/step - loss: 0.6183 - acc: 0.6602\n",
      "Epoch 9/10\n",
      "15678/15678 [==============================] - 23s 1ms/step - loss: 0.6114 - acc: 0.6685\n",
      "Epoch 10/10\n",
      "15678/15678 [==============================] - 23s 1ms/step - loss: 0.6106 - acc: 0.6671\n",
      "Accuracy: 65.65%\n"
     ]
    },
    {
     "data": {
      "image/png": "[encoded data removed]",
      "text/plain": [
       "<Figure size 432x288 with 1 Axes>"
      ]
     },
     "metadata": {},
     "output_type": "display_data"
    }
   ],
   "source": [
    "# split quantiles and encode with nucleotide sequence\n",
    "df, hist = quantile_classify(data['conc_cf'], data['nt_seq'],\n",
    "                             low_cut=0.25, high_cut=0.75)\n",
    "X, y = encode_sequence(df['nt_seq'], df['class'],\n",
    "                       max_length=200, tag='GACAAGCTTGCGGCCGCA')\n",
    "\n",
    "nt_model = train_clstm(X, y, test_fraction=0.3, \n",
    "                       epochs=10)"
   ]
  },
  {
   "cell_type": "code",
   "execution_count": 7,
   "metadata": {},
   "outputs": [
    {
     "name": "stdout",
     "output_type": "stream",
     "text": [
      "45206 samples input.\n",
      "9050 samples above high cut, 9065 samples below low cut, 27091 samples removed.\n",
      "_________________________________________________________________\n",
      "Layer (type)                 Output Shape              Param #   \n",
      "=================================================================\n",
      "embedding_3 (Embedding)      (None, 200, 4)            296       \n",
      "_________________________________________________________________\n",
      "conv1d_3 (Conv1D)            (None, 200, 128)          1664      \n",
      "_________________________________________________________________\n",
      "max_pooling1d_3 (MaxPooling1 (None, 100, 128)          0         \n",
      "_________________________________________________________________\n",
      "lstm_3 (LSTM)                (None, 100)               91600     \n",
      "_________________________________________________________________\n",
      "dense_3 (Dense)              (None, 1)                 101       \n",
      "=================================================================\n",
      "Total params: 93,661\n",
      "Trainable params: 93,661\n",
      "Non-trainable params: 0\n",
      "_________________________________________________________________\n",
      "None\n",
      "Epoch 1/10\n",
      "12560/12560 [==============================] - 19s 2ms/step - loss: 0.6900 - acc: 0.5264\n",
      "Epoch 2/10\n",
      "12560/12560 [==============================] - 18s 1ms/step - loss: 0.6574 - acc: 0.6126\n",
      "Epoch 3/10\n",
      "12560/12560 [==============================] - 19s 2ms/step - loss: 0.6407 - acc: 0.6355\n",
      "Epoch 4/10\n",
      "12560/12560 [==============================] - 18s 1ms/step - loss: 0.6336 - acc: 0.6412\n",
      "Epoch 5/10\n",
      "12560/12560 [==============================] - 18s 1ms/step - loss: 0.6318 - acc: 0.6484\n",
      "Epoch 6/10\n",
      "12560/12560 [==============================] - 18s 1ms/step - loss: 0.6286 - acc: 0.6507\n",
      "Epoch 7/10\n",
      "12560/12560 [==============================] - 18s 1ms/step - loss: 0.6235 - acc: 0.6579\n",
      "Epoch 8/10\n",
      "12560/12560 [==============================] - 19s 1ms/step - loss: 0.6205 - acc: 0.6612\n",
      "Epoch 9/10\n",
      "12560/12560 [==============================] - 19s 1ms/step - loss: 0.6139 - acc: 0.6673\n",
      "Epoch 10/10\n",
      "12560/12560 [==============================] - 19s 1ms/step - loss: 0.6107 - acc: 0.6704\n",
      "Accuracy: 67.23%\n"
     ]
    },
    {
     "data": {
      "image/png": "[encoded data removed]",
      "text/plain": [
       "<Figure size 432x288 with 1 Axes>"
      ]
     },
     "metadata": {},
     "output_type": "display_data"
    }
   ],
   "source": [
    "# split quantiles and encode with nucleotide sequence\n",
    "df, hist = quantile_classify(data['conc_cf'], data['nt_seq'],\n",
    "                             low_cut=0.2, high_cut=0.8)\n",
    "X, y = encode_sequence(df['nt_seq'], df['class'],\n",
    "                       max_length=200, tag='GACAAGCTTGCGGCCGCA')\n",
    "\n",
    "nt_model = train_clstm(X, y, test_fraction=0.3, \n",
    "                       epochs=10)"
   ]
  },
  {
   "cell_type": "code",
   "execution_count": 6,
   "metadata": {},
   "outputs": [
    {
     "name": "stdout",
     "output_type": "stream",
     "text": [
      "45206 samples input.\n",
      "4521 samples above high cut, 4539 samples below low cut, 36146 samples removed.\n",
      "_________________________________________________________________\n",
      "Layer (type)                 Output Shape              Param #   \n",
      "=================================================================\n",
      "embedding_2 (Embedding)      (None, 200, 4)            288       \n",
      "_________________________________________________________________\n",
      "conv1d_2 (Conv1D)            (None, 200, 128)          1664      \n",
      "_________________________________________________________________\n",
      "max_pooling1d_2 (MaxPooling1 (None, 100, 128)          0         \n",
      "_________________________________________________________________\n",
      "lstm_2 (LSTM)                (None, 100)               91600     \n",
      "_________________________________________________________________\n",
      "dense_2 (Dense)              (None, 1)                 101       \n",
      "=================================================================\n",
      "Total params: 93,653\n",
      "Trainable params: 93,653\n",
      "Non-trainable params: 0\n",
      "_________________________________________________________________\n",
      "None\n",
      "Epoch 1/10\n",
      "6286/6286 [==============================] - 10s 2ms/step - loss: 0.6928 - acc: 0.5057\n",
      "Epoch 2/10\n",
      "6286/6286 [==============================] - 9s 1ms/step - loss: 0.6551 - acc: 0.6139\n",
      "Epoch 3/10\n",
      "6286/6286 [==============================] - 9s 1ms/step - loss: 0.6234 - acc: 0.6599\n",
      "Epoch 4/10\n",
      "6286/6286 [==============================] - 9s 1ms/step - loss: 0.6171 - acc: 0.6645\n",
      "Epoch 5/10\n",
      "6286/6286 [==============================] - 9s 1ms/step - loss: 0.6049 - acc: 0.6822\n",
      "Epoch 6/10\n",
      "6286/6286 [==============================] - 9s 1ms/step - loss: 0.6049 - acc: 0.6756\n",
      "Epoch 7/10\n",
      "6286/6286 [==============================] - 9s 2ms/step - loss: 0.6076 - acc: 0.6712\n",
      "Epoch 8/10\n",
      "6286/6286 [==============================] - 10s 2ms/step - loss: 0.6011 - acc: 0.6806\n",
      "Epoch 9/10\n",
      "6286/6286 [==============================] - 9s 1ms/step - loss: 0.5962 - acc: 0.6820\n",
      "Epoch 10/10\n",
      "6286/6286 [==============================] - 9s 1ms/step - loss: 0.5944 - acc: 0.6837\n",
      "Accuracy: 66.75%\n"
     ]
    },
    {
     "data": {
      "image/png": "[encoded data removed]",
      "text/plain": [
       "<Figure size 432x288 with 1 Axes>"
      ]
     },
     "metadata": {},
     "output_type": "display_data"
    }
   ],
   "source": [
    "# split quantiles and encode with nucleotide sequence\n",
    "df, hist = quantile_classify(data['conc_cf'], data['nt_seq'],\n",
    "                             low_cut=0.1, high_cut=0.9)\n",
    "X, y = encode_sequence(df['nt_seq'], df['class'],\n",
    "                       max_length=200, tag='GACAAGCTTGCGGCCGCA')\n",
    "\n",
    "nt_model = train_clstm(X, y, test_fraction=0.3, \n",
    "                       epochs=10)"
   ]
  },
  {
   "cell_type": "code",
   "execution_count": 8,
   "metadata": {},
   "outputs": [
    {
     "name": "stdout",
     "output_type": "stream",
     "text": [
      "45206 samples input.\n",
      "2271 samples above high cut, 2261 samples below low cut, 40674 samples removed.\n",
      "_________________________________________________________________\n",
      "Layer (type)                 Output Shape              Param #   \n",
      "=================================================================\n",
      "embedding_4 (Embedding)      (None, 200, 4)            280       \n",
      "_________________________________________________________________\n",
      "conv1d_4 (Conv1D)            (None, 200, 128)          1664      \n",
      "_________________________________________________________________\n",
      "max_pooling1d_4 (MaxPooling1 (None, 100, 128)          0         \n",
      "_________________________________________________________________\n",
      "lstm_4 (LSTM)                (None, 100)               91600     \n",
      "_________________________________________________________________\n",
      "dense_4 (Dense)              (None, 1)                 101       \n",
      "=================================================================\n",
      "Total params: 93,645\n",
      "Trainable params: 93,645\n",
      "Non-trainable params: 0\n",
      "_________________________________________________________________\n",
      "None\n",
      "Epoch 1/10\n",
      "3143/3143 [==============================] - 6s 2ms/step - loss: 0.6933 - acc: 0.4954\n",
      "Epoch 2/10\n",
      "3143/3143 [==============================] - 5s 2ms/step - loss: 0.6876 - acc: 0.5301\n",
      "Epoch 3/10\n",
      "3143/3143 [==============================] - 5s 2ms/step - loss: 0.6491 - acc: 0.6198\n",
      "Epoch 4/10\n",
      "3143/3143 [==============================] - 5s 2ms/step - loss: 0.6317 - acc: 0.6386\n",
      "Epoch 5/10\n",
      "3143/3143 [==============================] - 5s 2ms/step - loss: 0.6170 - acc: 0.6618\n",
      "Epoch 6/10\n",
      "3143/3143 [==============================] - 5s 2ms/step - loss: 0.6102 - acc: 0.6857\n",
      "Epoch 7/10\n",
      "3143/3143 [==============================] - 5s 2ms/step - loss: 0.6162 - acc: 0.6688\n",
      "Epoch 8/10\n",
      "3143/3143 [==============================] - 5s 2ms/step - loss: 0.6073 - acc: 0.6761\n",
      "Epoch 9/10\n",
      "3143/3143 [==============================] - 5s 2ms/step - loss: 0.5987 - acc: 0.6831\n",
      "Epoch 10/10\n",
      "3143/3143 [==============================] - 5s 1ms/step - loss: 0.6005 - acc: 0.6828\n",
      "Accuracy: 66.77%\n"
     ]
    },
    {
     "data": {
      "image/png": "[encoded data removed]",
      "text/plain": [
       "<Figure size 432x288 with 1 Axes>"
      ]
     },
     "metadata": {},
     "output_type": "display_data"
    }
   ],
   "source": [
    "# split quantiles and encode with nucleotide sequence\n",
    "df, hist = quantile_classify(data['conc_cf'], data['nt_seq'],\n",
    "                             low_cut=0.05, high_cut=0.95)\n",
    "X, y = encode_sequence(df['nt_seq'], df['class'],\n",
    "                       max_length=200, tag='GACAAGCTTGCGGCCGCA')\n",
    "\n",
    "nt_model = train_clstm(X, y, test_fraction=0.3, \n",
    "                       epochs=10)"
   ]
  },
  {
   "cell_type": "markdown",
   "metadata": {},
   "source": [
    "### adjust high/low cutoff quantiles (unbalanced)"
   ]
  },
  {
   "cell_type": "code",
   "execution_count": 9,
   "metadata": {},
   "outputs": [
    {
     "name": "stdout",
     "output_type": "stream",
     "text": [
      "45206 samples input.\n",
      "4521 samples above high cut, 11302 samples below low cut, 29383 samples removed.\n",
      "_________________________________________________________________\n",
      "Layer (type)                 Output Shape              Param #   \n",
      "=================================================================\n",
      "embedding_5 (Embedding)      (None, 200, 4)            292       \n",
      "_________________________________________________________________\n",
      "conv1d_5 (Conv1D)            (None, 200, 128)          1664      \n",
      "_________________________________________________________________\n",
      "max_pooling1d_5 (MaxPooling1 (None, 100, 128)          0         \n",
      "_________________________________________________________________\n",
      "lstm_5 (LSTM)                (None, 100)               91600     \n",
      "_________________________________________________________________\n",
      "dense_5 (Dense)              (None, 1)                 101       \n",
      "=================================================================\n",
      "Total params: 93,657\n",
      "Trainable params: 93,657\n",
      "Non-trainable params: 0\n",
      "_________________________________________________________________\n",
      "None\n",
      "Epoch 1/10\n",
      "10959/10959 [==============================] - 18s 2ms/step - loss: 0.6046 - acc: 0.7128\n",
      "Epoch 2/10\n",
      "10959/10959 [==============================] - 17s 2ms/step - loss: 0.5794 - acc: 0.7170\n",
      "Epoch 3/10\n",
      "10959/10959 [==============================] - 16s 1ms/step - loss: 0.5560 - acc: 0.7263\n",
      "Epoch 4/10\n",
      "10959/10959 [==============================] - 16s 1ms/step - loss: 0.5535 - acc: 0.7226\n",
      "Epoch 5/10\n",
      "10959/10959 [==============================] - 16s 1ms/step - loss: 0.5472 - acc: 0.7269\n",
      "Epoch 6/10\n",
      "10959/10959 [==============================] - 16s 1ms/step - loss: 0.5439 - acc: 0.7303\n",
      "Epoch 7/10\n",
      "10959/10959 [==============================] - 16s 1ms/step - loss: 0.5363 - acc: 0.7314\n",
      "Epoch 8/10\n",
      "10959/10959 [==============================] - 16s 1ms/step - loss: 0.5340 - acc: 0.7304\n",
      "Epoch 9/10\n",
      "10959/10959 [==============================] - 16s 1ms/step - loss: 0.5275 - acc: 0.7372\n",
      "Epoch 10/10\n",
      "10959/10959 [==============================] - 16s 1ms/step - loss: 0.5296 - acc: 0.7365\n",
      "Accuracy: 72.39%\n"
     ]
    },
    {
     "data": {
      "image/png": "[encoded data removed]",
      "text/plain": [
       "<Figure size 432x288 with 1 Axes>"
      ]
     },
     "metadata": {},
     "output_type": "display_data"
    }
   ],
   "source": [
    "# split quantiles and encode with nucleotide sequence\n",
    "df, hist = quantile_classify(data['conc_cf'], data['nt_seq'],\n",
    "                             low_cut=0.25, high_cut=0.9)\n",
    "X, y = encode_sequence(df['nt_seq'], df['class'],\n",
    "                       max_length=200, tag='GACAAGCTTGCGGCCGCA')\n",
    "\n",
    "nt_model = train_clstm(X, y, test_fraction=0.3, \n",
    "                       epochs=10)"
   ]
  },
  {
   "cell_type": "code",
   "execution_count": 10,
   "metadata": {},
   "outputs": [
    {
     "name": "stdout",
     "output_type": "stream",
     "text": [
      "45206 samples input.\n",
      "11303 samples above high cut, 4539 samples below low cut, 29364 samples removed.\n",
      "_________________________________________________________________\n",
      "Layer (type)                 Output Shape              Param #   \n",
      "=================================================================\n",
      "embedding_6 (Embedding)      (None, 200, 4)            296       \n",
      "_________________________________________________________________\n",
      "conv1d_6 (Conv1D)            (None, 200, 128)          1664      \n",
      "_________________________________________________________________\n",
      "max_pooling1d_6 (MaxPooling1 (None, 100, 128)          0         \n",
      "_________________________________________________________________\n",
      "lstm_6 (LSTM)                (None, 100)               91600     \n",
      "_________________________________________________________________\n",
      "dense_6 (Dense)              (None, 1)                 101       \n",
      "=================================================================\n",
      "Total params: 93,661\n",
      "Trainable params: 93,661\n",
      "Non-trainable params: 0\n",
      "_________________________________________________________________\n",
      "None\n",
      "Epoch 1/10\n",
      "11006/11006 [==============================] - 18s 2ms/step - loss: 0.6060 - acc: 0.7135\n",
      "Epoch 2/10\n",
      "11006/11006 [==============================] - 16s 1ms/step - loss: 0.5865 - acc: 0.7165\n",
      "Epoch 3/10\n",
      "11006/11006 [==============================] - 16s 1ms/step - loss: 0.5497 - acc: 0.7378\n",
      "Epoch 4/10\n",
      "11006/11006 [==============================] - 16s 1ms/step - loss: 0.5396 - acc: 0.7500\n",
      "Epoch 5/10\n",
      "11006/11006 [==============================] - 16s 1ms/step - loss: 0.5212 - acc: 0.7639\n",
      "Epoch 6/10\n",
      "11006/11006 [==============================] - 16s 1ms/step - loss: 0.5133 - acc: 0.7679\n",
      "Epoch 7/10\n",
      "11006/11006 [==============================] - 16s 1ms/step - loss: 0.5073 - acc: 0.7716\n",
      "Epoch 8/10\n",
      "11006/11006 [==============================] - 16s 1ms/step - loss: 0.4999 - acc: 0.7766\n",
      "Epoch 9/10\n",
      "11006/11006 [==============================] - 16s 1ms/step - loss: 0.4982 - acc: 0.7760\n",
      "Epoch 10/10\n",
      "11006/11006 [==============================] - 16s 1ms/step - loss: 0.4985 - acc: 0.7802\n",
      "Accuracy: 77.76%\n"
     ]
    },
    {
     "data": {
      "image/png": "[encoded data removed]",
      "text/plain": [
       "<Figure size 432x288 with 1 Axes>"
      ]
     },
     "metadata": {},
     "output_type": "display_data"
    }
   ],
   "source": [
    "# split quantiles and encode with nucleotide sequence\n",
    "df, hist = quantile_classify(data['conc_cf'], data['nt_seq'],\n",
    "                             low_cut=0.1, high_cut=0.75)\n",
    "X, y = encode_sequence(df['nt_seq'], df['class'],\n",
    "                       max_length=200, tag='GACAAGCTTGCGGCCGCA')\n",
    "\n",
    "nt_model = train_clstm(X, y, test_fraction=0.3, \n",
    "                       epochs=10)"
   ]
  },
  {
   "cell_type": "code",
   "execution_count": null,
   "metadata": {},
   "outputs": [],
   "source": []
  }
 ],
 "metadata": {
  "anaconda-cloud": {},
  "kernelspec": {
   "display_name": "Novo Capstone",
   "language": "python",
   "name": "novo"
  },
  "language_info": {
   "codemirror_mode": {
    "name": "ipython",
    "version": 3
   },
   "file_extension": ".py",
   "mimetype": "text/x-python",
   "name": "python",
   "nbconvert_exporter": "python",
   "pygments_lexer": "ipython3",
   "version": "3.6.4"
  }
 },
 "nbformat": 4,
 "nbformat_minor": 2
}
