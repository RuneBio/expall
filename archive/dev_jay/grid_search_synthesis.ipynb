{
 "cells": [
  {
   "cell_type": "code",
   "execution_count": 2,
   "metadata": {},
   "outputs": [],
   "source": [
    "import pandas as pd\n",
    "import numpy as np\n",
    "import matplotlib.pyplot as plt\n",
    "%matplotlib inline\n",
    "\n",
    "grid_search_data = pd.read_csv('../../2018-06-14_aa_gird_search_results.csv', index_col=0)"
   ]
  },
  {
   "cell_type": "code",
   "execution_count": 4,
   "metadata": {
    "scrolled": true
   },
   "outputs": [
    {
     "data": {
      "text/html": [
       "<div>\n",
       "<style scoped>\n",
       "    .dataframe tbody tr th:only-of-type {\n",
       "        vertical-align: middle;\n",
       "    }\n",
       "\n",
       "    .dataframe tbody tr th {\n",
       "        vertical-align: top;\n",
       "    }\n",
       "\n",
       "    .dataframe thead th {\n",
       "        text-align: right;\n",
       "    }\n",
       "</style>\n",
       "<table border=\"1\" class=\"dataframe\">\n",
       "  <thead>\n",
       "    <tr style=\"text-align: right;\">\n",
       "      <th></th>\n",
       "      <th>filter_length</th>\n",
       "      <th>lstm_nodes</th>\n",
       "      <th>num_filters</th>\n",
       "      <th>pool_size</th>\n",
       "      <th>mean</th>\n",
       "      <th>stddev</th>\n",
       "    </tr>\n",
       "  </thead>\n",
       "  <tbody>\n",
       "    <tr>\n",
       "      <th>32</th>\n",
       "      <td>8</td>\n",
       "      <td>200</td>\n",
       "      <td>100</td>\n",
       "      <td>3</td>\n",
       "      <td>0.735545</td>\n",
       "      <td>0.010507</td>\n",
       "    </tr>\n",
       "    <tr>\n",
       "      <th>27</th>\n",
       "      <td>8</td>\n",
       "      <td>100</td>\n",
       "      <td>100</td>\n",
       "      <td>4</td>\n",
       "      <td>0.732802</td>\n",
       "      <td>0.006332</td>\n",
       "    </tr>\n",
       "    <tr>\n",
       "      <th>33</th>\n",
       "      <td>8</td>\n",
       "      <td>200</td>\n",
       "      <td>100</td>\n",
       "      <td>4</td>\n",
       "      <td>0.732802</td>\n",
       "      <td>0.012428</td>\n",
       "    </tr>\n",
       "    <tr>\n",
       "      <th>24</th>\n",
       "      <td>8</td>\n",
       "      <td>100</td>\n",
       "      <td>50</td>\n",
       "      <td>3</td>\n",
       "      <td>0.732272</td>\n",
       "      <td>0.011836</td>\n",
       "    </tr>\n",
       "    <tr>\n",
       "      <th>14</th>\n",
       "      <td>5</td>\n",
       "      <td>100</td>\n",
       "      <td>100</td>\n",
       "      <td>3</td>\n",
       "      <td>0.730192</td>\n",
       "      <td>0.011924</td>\n",
       "    </tr>\n",
       "    <tr>\n",
       "      <th>20</th>\n",
       "      <td>5</td>\n",
       "      <td>200</td>\n",
       "      <td>100</td>\n",
       "      <td>3</td>\n",
       "      <td>0.729839</td>\n",
       "      <td>0.011031</td>\n",
       "    </tr>\n",
       "    <tr>\n",
       "      <th>16</th>\n",
       "      <td>5</td>\n",
       "      <td>100</td>\n",
       "      <td>200</td>\n",
       "      <td>3</td>\n",
       "      <td>0.729308</td>\n",
       "      <td>0.004731</td>\n",
       "    </tr>\n",
       "    <tr>\n",
       "      <th>12</th>\n",
       "      <td>5</td>\n",
       "      <td>100</td>\n",
       "      <td>50</td>\n",
       "      <td>3</td>\n",
       "      <td>0.728865</td>\n",
       "      <td>0.014762</td>\n",
       "    </tr>\n",
       "    <tr>\n",
       "      <th>5</th>\n",
       "      <td>3</td>\n",
       "      <td>100</td>\n",
       "      <td>200</td>\n",
       "      <td>4</td>\n",
       "      <td>0.728423</td>\n",
       "      <td>0.004228</td>\n",
       "    </tr>\n",
       "    <tr>\n",
       "      <th>21</th>\n",
       "      <td>5</td>\n",
       "      <td>200</td>\n",
       "      <td>100</td>\n",
       "      <td>4</td>\n",
       "      <td>0.727892</td>\n",
       "      <td>0.000738</td>\n",
       "    </tr>\n",
       "    <tr>\n",
       "      <th>23</th>\n",
       "      <td>5</td>\n",
       "      <td>200</td>\n",
       "      <td>200</td>\n",
       "      <td>4</td>\n",
       "      <td>0.727804</td>\n",
       "      <td>0.004663</td>\n",
       "    </tr>\n",
       "    <tr>\n",
       "      <th>15</th>\n",
       "      <td>5</td>\n",
       "      <td>100</td>\n",
       "      <td>100</td>\n",
       "      <td>4</td>\n",
       "      <td>0.727228</td>\n",
       "      <td>0.003253</td>\n",
       "    </tr>\n",
       "    <tr>\n",
       "      <th>26</th>\n",
       "      <td>8</td>\n",
       "      <td>100</td>\n",
       "      <td>100</td>\n",
       "      <td>3</td>\n",
       "      <td>0.725901</td>\n",
       "      <td>0.011899</td>\n",
       "    </tr>\n",
       "    <tr>\n",
       "      <th>18</th>\n",
       "      <td>5</td>\n",
       "      <td>200</td>\n",
       "      <td>50</td>\n",
       "      <td>3</td>\n",
       "      <td>0.725459</td>\n",
       "      <td>0.018156</td>\n",
       "    </tr>\n",
       "    <tr>\n",
       "      <th>3</th>\n",
       "      <td>3</td>\n",
       "      <td>100</td>\n",
       "      <td>100</td>\n",
       "      <td>4</td>\n",
       "      <td>0.724707</td>\n",
       "      <td>0.014399</td>\n",
       "    </tr>\n",
       "    <tr>\n",
       "      <th>31</th>\n",
       "      <td>8</td>\n",
       "      <td>200</td>\n",
       "      <td>50</td>\n",
       "      <td>4</td>\n",
       "      <td>0.723557</td>\n",
       "      <td>0.016566</td>\n",
       "    </tr>\n",
       "    <tr>\n",
       "      <th>6</th>\n",
       "      <td>3</td>\n",
       "      <td>200</td>\n",
       "      <td>50</td>\n",
       "      <td>3</td>\n",
       "      <td>0.723380</td>\n",
       "      <td>0.019158</td>\n",
       "    </tr>\n",
       "    <tr>\n",
       "      <th>35</th>\n",
       "      <td>8</td>\n",
       "      <td>200</td>\n",
       "      <td>200</td>\n",
       "      <td>4</td>\n",
       "      <td>0.723026</td>\n",
       "      <td>0.008724</td>\n",
       "    </tr>\n",
       "    <tr>\n",
       "      <th>29</th>\n",
       "      <td>8</td>\n",
       "      <td>100</td>\n",
       "      <td>200</td>\n",
       "      <td>4</td>\n",
       "      <td>0.722583</td>\n",
       "      <td>0.013105</td>\n",
       "    </tr>\n",
       "    <tr>\n",
       "      <th>25</th>\n",
       "      <td>8</td>\n",
       "      <td>100</td>\n",
       "      <td>50</td>\n",
       "      <td>4</td>\n",
       "      <td>0.722318</td>\n",
       "      <td>0.021805</td>\n",
       "    </tr>\n",
       "    <tr>\n",
       "      <th>2</th>\n",
       "      <td>3</td>\n",
       "      <td>100</td>\n",
       "      <td>100</td>\n",
       "      <td>3</td>\n",
       "      <td>0.721433</td>\n",
       "      <td>0.012414</td>\n",
       "    </tr>\n",
       "    <tr>\n",
       "      <th>13</th>\n",
       "      <td>5</td>\n",
       "      <td>100</td>\n",
       "      <td>50</td>\n",
       "      <td>4</td>\n",
       "      <td>0.720947</td>\n",
       "      <td>0.017368</td>\n",
       "    </tr>\n",
       "    <tr>\n",
       "      <th>34</th>\n",
       "      <td>8</td>\n",
       "      <td>200</td>\n",
       "      <td>200</td>\n",
       "      <td>3</td>\n",
       "      <td>0.720195</td>\n",
       "      <td>0.004834</td>\n",
       "    </tr>\n",
       "    <tr>\n",
       "      <th>4</th>\n",
       "      <td>3</td>\n",
       "      <td>100</td>\n",
       "      <td>200</td>\n",
       "      <td>3</td>\n",
       "      <td>0.718868</td>\n",
       "      <td>0.009646</td>\n",
       "    </tr>\n",
       "    <tr>\n",
       "      <th>10</th>\n",
       "      <td>3</td>\n",
       "      <td>200</td>\n",
       "      <td>200</td>\n",
       "      <td>3</td>\n",
       "      <td>0.717762</td>\n",
       "      <td>0.013216</td>\n",
       "    </tr>\n",
       "    <tr>\n",
       "      <th>9</th>\n",
       "      <td>3</td>\n",
       "      <td>200</td>\n",
       "      <td>100</td>\n",
       "      <td>4</td>\n",
       "      <td>0.716081</td>\n",
       "      <td>0.012890</td>\n",
       "    </tr>\n",
       "    <tr>\n",
       "      <th>17</th>\n",
       "      <td>5</td>\n",
       "      <td>100</td>\n",
       "      <td>200</td>\n",
       "      <td>4</td>\n",
       "      <td>0.715992</td>\n",
       "      <td>0.008335</td>\n",
       "    </tr>\n",
       "    <tr>\n",
       "      <th>30</th>\n",
       "      <td>8</td>\n",
       "      <td>200</td>\n",
       "      <td>50</td>\n",
       "      <td>3</td>\n",
       "      <td>0.715682</td>\n",
       "      <td>0.015610</td>\n",
       "    </tr>\n",
       "    <tr>\n",
       "      <th>11</th>\n",
       "      <td>3</td>\n",
       "      <td>200</td>\n",
       "      <td>200</td>\n",
       "      <td>4</td>\n",
       "      <td>0.715328</td>\n",
       "      <td>0.014104</td>\n",
       "    </tr>\n",
       "    <tr>\n",
       "      <th>22</th>\n",
       "      <td>5</td>\n",
       "      <td>200</td>\n",
       "      <td>200</td>\n",
       "      <td>3</td>\n",
       "      <td>0.714753</td>\n",
       "      <td>0.012300</td>\n",
       "    </tr>\n",
       "    <tr>\n",
       "      <th>28</th>\n",
       "      <td>8</td>\n",
       "      <td>100</td>\n",
       "      <td>200</td>\n",
       "      <td>3</td>\n",
       "      <td>0.713913</td>\n",
       "      <td>0.016321</td>\n",
       "    </tr>\n",
       "    <tr>\n",
       "      <th>0</th>\n",
       "      <td>3</td>\n",
       "      <td>100</td>\n",
       "      <td>50</td>\n",
       "      <td>3</td>\n",
       "      <td>0.713869</td>\n",
       "      <td>0.021466</td>\n",
       "    </tr>\n",
       "    <tr>\n",
       "      <th>7</th>\n",
       "      <td>3</td>\n",
       "      <td>200</td>\n",
       "      <td>50</td>\n",
       "      <td>4</td>\n",
       "      <td>0.712497</td>\n",
       "      <td>0.010590</td>\n",
       "    </tr>\n",
       "    <tr>\n",
       "      <th>1</th>\n",
       "      <td>3</td>\n",
       "      <td>100</td>\n",
       "      <td>50</td>\n",
       "      <td>4</td>\n",
       "      <td>0.712276</td>\n",
       "      <td>0.020923</td>\n",
       "    </tr>\n",
       "    <tr>\n",
       "      <th>8</th>\n",
       "      <td>3</td>\n",
       "      <td>200</td>\n",
       "      <td>100</td>\n",
       "      <td>3</td>\n",
       "      <td>0.711878</td>\n",
       "      <td>0.022284</td>\n",
       "    </tr>\n",
       "    <tr>\n",
       "      <th>19</th>\n",
       "      <td>5</td>\n",
       "      <td>200</td>\n",
       "      <td>50</td>\n",
       "      <td>4</td>\n",
       "      <td>0.711524</td>\n",
       "      <td>0.018315</td>\n",
       "    </tr>\n",
       "  </tbody>\n",
       "</table>\n",
       "</div>"
      ],
      "text/plain": [
       "    filter_length  lstm_nodes  num_filters  pool_size      mean    stddev\n",
       "32              8         200          100          3  0.735545  0.010507\n",
       "27              8         100          100          4  0.732802  0.006332\n",
       "33              8         200          100          4  0.732802  0.012428\n",
       "24              8         100           50          3  0.732272  0.011836\n",
       "14              5         100          100          3  0.730192  0.011924\n",
       "20              5         200          100          3  0.729839  0.011031\n",
       "16              5         100          200          3  0.729308  0.004731\n",
       "12              5         100           50          3  0.728865  0.014762\n",
       "5               3         100          200          4  0.728423  0.004228\n",
       "21              5         200          100          4  0.727892  0.000738\n",
       "23              5         200          200          4  0.727804  0.004663\n",
       "15              5         100          100          4  0.727228  0.003253\n",
       "26              8         100          100          3  0.725901  0.011899\n",
       "18              5         200           50          3  0.725459  0.018156\n",
       "3               3         100          100          4  0.724707  0.014399\n",
       "31              8         200           50          4  0.723557  0.016566\n",
       "6               3         200           50          3  0.723380  0.019158\n",
       "35              8         200          200          4  0.723026  0.008724\n",
       "29              8         100          200          4  0.722583  0.013105\n",
       "25              8         100           50          4  0.722318  0.021805\n",
       "2               3         100          100          3  0.721433  0.012414\n",
       "13              5         100           50          4  0.720947  0.017368\n",
       "34              8         200          200          3  0.720195  0.004834\n",
       "4               3         100          200          3  0.718868  0.009646\n",
       "10              3         200          200          3  0.717762  0.013216\n",
       "9               3         200          100          4  0.716081  0.012890\n",
       "17              5         100          200          4  0.715992  0.008335\n",
       "30              8         200           50          3  0.715682  0.015610\n",
       "11              3         200          200          4  0.715328  0.014104\n",
       "22              5         200          200          3  0.714753  0.012300\n",
       "28              8         100          200          3  0.713913  0.016321\n",
       "0               3         100           50          3  0.713869  0.021466\n",
       "7               3         200           50          4  0.712497  0.010590\n",
       "1               3         100           50          4  0.712276  0.020923\n",
       "8               3         200          100          3  0.711878  0.022284\n",
       "19              5         200           50          4  0.711524  0.018315"
      ]
     },
     "execution_count": 4,
     "metadata": {},
     "output_type": "execute_result"
    }
   ],
   "source": [
    "grid_search_data.sort_values('mean', ascending=False)"
   ]
  },
  {
   "cell_type": "code",
   "execution_count": 5,
   "metadata": {},
   "outputs": [
    {
     "name": "stdout",
     "output_type": "stream",
     "text": [
      "Pearson correlation of each hyperparameter \n",
      "with accuracy from 10-fold cv:\n"
     ]
    },
    {
     "data": {
      "text/plain": [
       "filter_length    0.394056\n",
       "lstm_nodes      -0.149501\n",
       "num_filters     -0.051023\n",
       "pool_size       -0.045890\n",
       "Name: mean, dtype: float64"
      ]
     },
     "execution_count": 5,
     "metadata": {},
     "output_type": "execute_result"
    }
   ],
   "source": [
    "print('Pearson correlation of each hyperparameter \\nwith accuracy '\n",
    "      'from 10-fold cv:')\n",
    "grid_search_data.corr()['mean'][:4]"
   ]
  },
  {
   "cell_type": "markdown",
   "metadata": {},
   "source": [
    "Without any further analysis, it seems there is a slight preference for small filter_size and large pool_size.\n",
    "We should also vary pool_stride."
   ]
  },
  {
   "cell_type": "code",
   "execution_count": 8,
   "metadata": {},
   "outputs": [
    {
     "data": {
      "text/plain": [
       "<matplotlib.axes._subplots.AxesSubplot at 0x2561f35c780>"
      ]
     },
     "execution_count": 8,
     "metadata": {},
     "output_type": "execute_result"
    },
    {
     "data": {
      "image/png": "[encoded data removed]",
      "text/plain": [
       "<matplotlib.figure.Figure at 0x2561f170c88>"
      ]
     },
     "metadata": {},
     "output_type": "display_data"
    }
   ],
   "source": [
    "grouped = grid_search_data.groupby('filter_length')\n",
    "grouped.mean()['mean'].plot(yerr=grouped.mean()['stddev'], marker='o', ms=7, mfc='k')"
   ]
  },
  {
   "cell_type": "code",
   "execution_count": 9,
   "metadata": {},
   "outputs": [
    {
     "data": {
      "text/plain": [
       "<matplotlib.axes._subplots.AxesSubplot at 0x2561c5ff5c0>"
      ]
     },
     "execution_count": 9,
     "metadata": {},
     "output_type": "execute_result"
    },
    {
     "data": {
      "image/png": "[encoded data removed]",
      "text/plain": [
       "<matplotlib.figure.Figure at 0x2561f4e55f8>"
      ]
     },
     "metadata": {},
     "output_type": "display_data"
    }
   ],
   "source": [
    "grouped = grid_search_data.groupby('lstm_nodes')\n",
    "grouped.mean()['mean'].plot(yerr=grouped.mean()['stddev'], marker='o', ms=7, mfc='k')"
   ]
  },
  {
   "cell_type": "code",
   "execution_count": 10,
   "metadata": {},
   "outputs": [
    {
     "data": {
      "text/plain": [
       "<matplotlib.axes._subplots.AxesSubplot at 0x2561f7c4748>"
      ]
     },
     "execution_count": 10,
     "metadata": {},
     "output_type": "execute_result"
    },
    {
     "data": {
      "image/png": "[encoded data removed]",
      "text/plain": [
       "<matplotlib.figure.Figure at 0x2561f494080>"
      ]
     },
     "metadata": {},
     "output_type": "display_data"
    }
   ],
   "source": [
    "grouped = grid_search_data.groupby('num_filters')\n",
    "grouped.mean()['mean'].plot(yerr=grouped.mean()['stddev'], marker='o', ms=7, mfc='k')"
   ]
  },
  {
   "cell_type": "code",
   "execution_count": 12,
   "metadata": {},
   "outputs": [
    {
     "data": {
      "text/plain": [
       "<matplotlib.axes._subplots.AxesSubplot at 0x2561f8135f8>"
      ]
     },
     "execution_count": 12,
     "metadata": {},
     "output_type": "execute_result"
    },
    {
     "data": {
      "image/png": "[encoded data removed]",
      "text/plain": [
       "<matplotlib.figure.Figure at 0x2561f5443c8>"
      ]
     },
     "metadata": {},
     "output_type": "display_data"
    }
   ],
   "source": [
    "grouped = grid_search_data.groupby('pool_size')\n",
    "grouped.mean()['mean'].plot(yerr=grouped.mean()['stddev'], marker='o', ms=7, mfc='k')"
   ]
  },
  {
   "cell_type": "markdown",
   "metadata": {},
   "source": [
    "# correlation between sets of 2?"
   ]
  },
  {
   "cell_type": "code",
   "execution_count": 25,
   "metadata": {},
   "outputs": [
    {
     "data": {
      "text/plain": [
       "<matplotlib.axes._subplots.AxesSubplot at 0x10f11d978>"
      ]
     },
     "execution_count": 25,
     "metadata": {},
     "output_type": "execute_result"
    },
    {
     "data": {
      "image/png": "[encoded data removed]",
      "text/plain": [
       "<Figure size 432x288 with 1 Axes>"
      ]
     },
     "metadata": {},
     "output_type": "display_data"
    }
   ],
   "source": [
    "grouped = grid_search_data.groupby(['pool_size', 'filter_size'])\n",
    "grouped.mean()['means'].plot(yerr=grouped.mean()['stddev'], marker='o', ms=7, mfc='k')"
   ]
  },
  {
   "cell_type": "code",
   "execution_count": 24,
   "metadata": {},
   "outputs": [
    {
     "data": {
      "text/plain": [
       "<matplotlib.axes._subplots.AxesSubplot at 0x10f04d588>"
      ]
     },
     "execution_count": 24,
     "metadata": {},
     "output_type": "execute_result"
    },
    {
     "data": {
      "image/png": "[encoded data removed]",
      "text/plain": [
       "<Figure size 432x288 with 1 Axes>"
      ]
     },
     "metadata": {},
     "output_type": "display_data"
    }
   ],
   "source": [
    "grouped = grid_search_data.groupby(['pool_size', 'num_filters'])\n",
    "grouped.mean()['means'].plot(yerr=grouped.mean()['stddev'], marker='o', ms=7, mfc='k')"
   ]
  },
  {
   "cell_type": "code",
   "execution_count": 27,
   "metadata": {},
   "outputs": [
    {
     "data": {
      "text/plain": [
       "<matplotlib.axes._subplots.AxesSubplot at 0x10f044eb8>"
      ]
     },
     "execution_count": 27,
     "metadata": {},
     "output_type": "execute_result"
    },
    {
     "data": {
      "image/png": "[encoded data removed]",
      "text/plain": [
       "<Figure size 432x288 with 1 Axes>"
      ]
     },
     "metadata": {},
     "output_type": "display_data"
    }
   ],
   "source": [
    "grouped = grid_search_data.groupby(['filter_size', 'num_filters'])\n",
    "grouped.mean()['means'].plot(yerr=grouped.mean()['stddev'], marker='o', ms=7, mfc='k')"
   ]
  },
  {
   "cell_type": "code",
   "execution_count": 26,
   "metadata": {},
   "outputs": [
    {
     "data": {
      "text/plain": [
       "<matplotlib.axes._subplots.AxesSubplot at 0x10ebbab38>"
      ]
     },
     "execution_count": 26,
     "metadata": {},
     "output_type": "execute_result"
    },
    {
     "data": {
      "image/png": "[encoded data removed]",
      "text/plain": [
       "<Figure size 432x288 with 1 Axes>"
      ]
     },
     "metadata": {},
     "output_type": "display_data"
    }
   ],
   "source": [
    "grouped = grid_search_data.groupby(['pool_size', 'filter_size', 'num_filters'])\n",
    "grouped.mean()['means'].plot(yerr=grouped.mean()['stddev'], marker='o', ms=7, mfc='k')"
   ]
  },
  {
   "cell_type": "code",
   "execution_count": null,
   "metadata": {},
   "outputs": [],
   "source": [
    "# current results indicate GlobalMaxPooling1D with small filter size will improve results"
   ]
  },
  {
   "cell_type": "markdown",
   "metadata": {},
   "source": [
    "# second attempt, switching to max pooling and multiple fitler sizes"
   ]
  },
  {
   "cell_type": "code",
   "execution_count": 5,
   "metadata": {
    "scrolled": true
   },
   "outputs": [
    {
     "data": {
      "text/html": [
       "<div>\n",
       "<style scoped>\n",
       "    .dataframe tbody tr th:only-of-type {\n",
       "        vertical-align: middle;\n",
       "    }\n",
       "\n",
       "    .dataframe tbody tr th {\n",
       "        vertical-align: top;\n",
       "    }\n",
       "\n",
       "    .dataframe thead th {\n",
       "        text-align: right;\n",
       "    }\n",
       "</style>\n",
       "<table border=\"1\" class=\"dataframe\">\n",
       "  <thead>\n",
       "    <tr style=\"text-align: right;\">\n",
       "      <th></th>\n",
       "      <th>filter_sizes</th>\n",
       "      <th>num_filters</th>\n",
       "      <th>means</th>\n",
       "      <th>stddev</th>\n",
       "    </tr>\n",
       "  </thead>\n",
       "  <tbody>\n",
       "    <tr>\n",
       "      <th>29</th>\n",
       "      <td>(5, 7, 10)</td>\n",
       "      <td>200</td>\n",
       "      <td>0.638534</td>\n",
       "      <td>0.009223</td>\n",
       "    </tr>\n",
       "    <tr>\n",
       "      <th>39</th>\n",
       "      <td>(3, 4, 5, 6)</td>\n",
       "      <td>200</td>\n",
       "      <td>0.635439</td>\n",
       "      <td>0.010293</td>\n",
       "    </tr>\n",
       "    <tr>\n",
       "      <th>33</th>\n",
       "      <td>(10, 10, 10)</td>\n",
       "      <td>100</td>\n",
       "      <td>0.635250</td>\n",
       "      <td>0.009037</td>\n",
       "    </tr>\n",
       "    <tr>\n",
       "      <th>34</th>\n",
       "      <td>(10, 10, 10)</td>\n",
       "      <td>200</td>\n",
       "      <td>0.634807</td>\n",
       "      <td>0.011488</td>\n",
       "    </tr>\n",
       "    <tr>\n",
       "      <th>13</th>\n",
       "      <td>(5, 5, 5)</td>\n",
       "      <td>100</td>\n",
       "      <td>0.633733</td>\n",
       "      <td>0.014114</td>\n",
       "    </tr>\n",
       "    <tr>\n",
       "      <th>14</th>\n",
       "      <td>(5, 5, 5)</td>\n",
       "      <td>200</td>\n",
       "      <td>0.632849</td>\n",
       "      <td>0.010271</td>\n",
       "    </tr>\n",
       "    <tr>\n",
       "      <th>23</th>\n",
       "      <td>(7, 7, 7)</td>\n",
       "      <td>100</td>\n",
       "      <td>0.632786</td>\n",
       "      <td>0.014647</td>\n",
       "    </tr>\n",
       "    <tr>\n",
       "      <th>38</th>\n",
       "      <td>(3, 4, 5, 6)</td>\n",
       "      <td>100</td>\n",
       "      <td>0.632660</td>\n",
       "      <td>0.007379</td>\n",
       "    </tr>\n",
       "    <tr>\n",
       "      <th>2</th>\n",
       "      <td>(3, 3, 3)</td>\n",
       "      <td>50</td>\n",
       "      <td>0.632028</td>\n",
       "      <td>0.011632</td>\n",
       "    </tr>\n",
       "    <tr>\n",
       "      <th>28</th>\n",
       "      <td>(5, 7, 10)</td>\n",
       "      <td>100</td>\n",
       "      <td>0.631586</td>\n",
       "      <td>0.010217</td>\n",
       "    </tr>\n",
       "    <tr>\n",
       "      <th>19</th>\n",
       "      <td>(3, 5, 7)</td>\n",
       "      <td>200</td>\n",
       "      <td>0.631459</td>\n",
       "      <td>0.010377</td>\n",
       "    </tr>\n",
       "    <tr>\n",
       "      <th>9</th>\n",
       "      <td>(3, 4, 5)</td>\n",
       "      <td>200</td>\n",
       "      <td>0.630764</td>\n",
       "      <td>0.012289</td>\n",
       "    </tr>\n",
       "    <tr>\n",
       "      <th>3</th>\n",
       "      <td>(3, 3, 3)</td>\n",
       "      <td>100</td>\n",
       "      <td>0.629438</td>\n",
       "      <td>0.010152</td>\n",
       "    </tr>\n",
       "    <tr>\n",
       "      <th>24</th>\n",
       "      <td>(7, 7, 7)</td>\n",
       "      <td>200</td>\n",
       "      <td>0.629185</td>\n",
       "      <td>0.007925</td>\n",
       "    </tr>\n",
       "    <tr>\n",
       "      <th>4</th>\n",
       "      <td>(3, 3, 3)</td>\n",
       "      <td>200</td>\n",
       "      <td>0.629122</td>\n",
       "      <td>0.009882</td>\n",
       "    </tr>\n",
       "    <tr>\n",
       "      <th>16</th>\n",
       "      <td>(3, 5, 7)</td>\n",
       "      <td>20</td>\n",
       "      <td>0.628490</td>\n",
       "      <td>0.010991</td>\n",
       "    </tr>\n",
       "    <tr>\n",
       "      <th>17</th>\n",
       "      <td>(3, 5, 7)</td>\n",
       "      <td>50</td>\n",
       "      <td>0.628048</td>\n",
       "      <td>0.007095</td>\n",
       "    </tr>\n",
       "    <tr>\n",
       "      <th>21</th>\n",
       "      <td>(7, 7, 7)</td>\n",
       "      <td>20</td>\n",
       "      <td>0.628048</td>\n",
       "      <td>0.011544</td>\n",
       "    </tr>\n",
       "    <tr>\n",
       "      <th>12</th>\n",
       "      <td>(5, 5, 5)</td>\n",
       "      <td>50</td>\n",
       "      <td>0.627795</td>\n",
       "      <td>0.004859</td>\n",
       "    </tr>\n",
       "    <tr>\n",
       "      <th>37</th>\n",
       "      <td>(3, 4, 5, 6)</td>\n",
       "      <td>50</td>\n",
       "      <td>0.627732</td>\n",
       "      <td>0.009387</td>\n",
       "    </tr>\n",
       "    <tr>\n",
       "      <th>6</th>\n",
       "      <td>(3, 4, 5)</td>\n",
       "      <td>20</td>\n",
       "      <td>0.627669</td>\n",
       "      <td>0.009506</td>\n",
       "    </tr>\n",
       "    <tr>\n",
       "      <th>27</th>\n",
       "      <td>(5, 7, 10)</td>\n",
       "      <td>50</td>\n",
       "      <td>0.627353</td>\n",
       "      <td>0.009213</td>\n",
       "    </tr>\n",
       "    <tr>\n",
       "      <th>1</th>\n",
       "      <td>(3, 3, 3)</td>\n",
       "      <td>20</td>\n",
       "      <td>0.627290</td>\n",
       "      <td>0.010989</td>\n",
       "    </tr>\n",
       "    <tr>\n",
       "      <th>7</th>\n",
       "      <td>(3, 4, 5)</td>\n",
       "      <td>50</td>\n",
       "      <td>0.627037</td>\n",
       "      <td>0.009281</td>\n",
       "    </tr>\n",
       "    <tr>\n",
       "      <th>32</th>\n",
       "      <td>(10, 10, 10)</td>\n",
       "      <td>50</td>\n",
       "      <td>0.626469</td>\n",
       "      <td>0.008095</td>\n",
       "    </tr>\n",
       "    <tr>\n",
       "      <th>22</th>\n",
       "      <td>(7, 7, 7)</td>\n",
       "      <td>50</td>\n",
       "      <td>0.626406</td>\n",
       "      <td>0.009181</td>\n",
       "    </tr>\n",
       "    <tr>\n",
       "      <th>18</th>\n",
       "      <td>(3, 5, 7)</td>\n",
       "      <td>100</td>\n",
       "      <td>0.625837</td>\n",
       "      <td>0.014587</td>\n",
       "    </tr>\n",
       "    <tr>\n",
       "      <th>8</th>\n",
       "      <td>(3, 4, 5)</td>\n",
       "      <td>100</td>\n",
       "      <td>0.625395</td>\n",
       "      <td>0.009150</td>\n",
       "    </tr>\n",
       "    <tr>\n",
       "      <th>5</th>\n",
       "      <td>(3, 4, 5)</td>\n",
       "      <td>10</td>\n",
       "      <td>0.622931</td>\n",
       "      <td>0.009982</td>\n",
       "    </tr>\n",
       "    <tr>\n",
       "      <th>36</th>\n",
       "      <td>(3, 4, 5, 6)</td>\n",
       "      <td>20</td>\n",
       "      <td>0.622678</td>\n",
       "      <td>0.009844</td>\n",
       "    </tr>\n",
       "    <tr>\n",
       "      <th>11</th>\n",
       "      <td>(5, 5, 5)</td>\n",
       "      <td>20</td>\n",
       "      <td>0.622363</td>\n",
       "      <td>0.009382</td>\n",
       "    </tr>\n",
       "    <tr>\n",
       "      <th>35</th>\n",
       "      <td>(3, 4, 5, 6)</td>\n",
       "      <td>10</td>\n",
       "      <td>0.622299</td>\n",
       "      <td>0.008732</td>\n",
       "    </tr>\n",
       "    <tr>\n",
       "      <th>15</th>\n",
       "      <td>(3, 5, 7)</td>\n",
       "      <td>10</td>\n",
       "      <td>0.621920</td>\n",
       "      <td>0.010214</td>\n",
       "    </tr>\n",
       "    <tr>\n",
       "      <th>31</th>\n",
       "      <td>(10, 10, 10)</td>\n",
       "      <td>20</td>\n",
       "      <td>0.621162</td>\n",
       "      <td>0.012763</td>\n",
       "    </tr>\n",
       "    <tr>\n",
       "      <th>26</th>\n",
       "      <td>(5, 7, 10)</td>\n",
       "      <td>20</td>\n",
       "      <td>0.620467</td>\n",
       "      <td>0.011503</td>\n",
       "    </tr>\n",
       "    <tr>\n",
       "      <th>20</th>\n",
       "      <td>(7, 7, 7)</td>\n",
       "      <td>10</td>\n",
       "      <td>0.619457</td>\n",
       "      <td>0.010457</td>\n",
       "    </tr>\n",
       "    <tr>\n",
       "      <th>25</th>\n",
       "      <td>(5, 7, 10)</td>\n",
       "      <td>10</td>\n",
       "      <td>0.618762</td>\n",
       "      <td>0.015745</td>\n",
       "    </tr>\n",
       "    <tr>\n",
       "      <th>10</th>\n",
       "      <td>(5, 5, 5)</td>\n",
       "      <td>10</td>\n",
       "      <td>0.614277</td>\n",
       "      <td>0.012729</td>\n",
       "    </tr>\n",
       "    <tr>\n",
       "      <th>30</th>\n",
       "      <td>(10, 10, 10)</td>\n",
       "      <td>10</td>\n",
       "      <td>0.613266</td>\n",
       "      <td>0.009704</td>\n",
       "    </tr>\n",
       "    <tr>\n",
       "      <th>0</th>\n",
       "      <td>(3, 3, 3)</td>\n",
       "      <td>10</td>\n",
       "      <td>0.612887</td>\n",
       "      <td>0.017035</td>\n",
       "    </tr>\n",
       "  </tbody>\n",
       "</table>\n",
       "</div>"
      ],
      "text/plain": [
       "    filter_sizes  num_filters     means    stddev\n",
       "29    (5, 7, 10)          200  0.638534  0.009223\n",
       "39  (3, 4, 5, 6)          200  0.635439  0.010293\n",
       "33  (10, 10, 10)          100  0.635250  0.009037\n",
       "34  (10, 10, 10)          200  0.634807  0.011488\n",
       "13     (5, 5, 5)          100  0.633733  0.014114\n",
       "14     (5, 5, 5)          200  0.632849  0.010271\n",
       "23     (7, 7, 7)          100  0.632786  0.014647\n",
       "38  (3, 4, 5, 6)          100  0.632660  0.007379\n",
       "2      (3, 3, 3)           50  0.632028  0.011632\n",
       "28    (5, 7, 10)          100  0.631586  0.010217\n",
       "19     (3, 5, 7)          200  0.631459  0.010377\n",
       "9      (3, 4, 5)          200  0.630764  0.012289\n",
       "3      (3, 3, 3)          100  0.629438  0.010152\n",
       "24     (7, 7, 7)          200  0.629185  0.007925\n",
       "4      (3, 3, 3)          200  0.629122  0.009882\n",
       "16     (3, 5, 7)           20  0.628490  0.010991\n",
       "17     (3, 5, 7)           50  0.628048  0.007095\n",
       "21     (7, 7, 7)           20  0.628048  0.011544\n",
       "12     (5, 5, 5)           50  0.627795  0.004859\n",
       "37  (3, 4, 5, 6)           50  0.627732  0.009387\n",
       "6      (3, 4, 5)           20  0.627669  0.009506\n",
       "27    (5, 7, 10)           50  0.627353  0.009213\n",
       "1      (3, 3, 3)           20  0.627290  0.010989\n",
       "7      (3, 4, 5)           50  0.627037  0.009281\n",
       "32  (10, 10, 10)           50  0.626469  0.008095\n",
       "22     (7, 7, 7)           50  0.626406  0.009181\n",
       "18     (3, 5, 7)          100  0.625837  0.014587\n",
       "8      (3, 4, 5)          100  0.625395  0.009150\n",
       "5      (3, 4, 5)           10  0.622931  0.009982\n",
       "36  (3, 4, 5, 6)           20  0.622678  0.009844\n",
       "11     (5, 5, 5)           20  0.622363  0.009382\n",
       "35  (3, 4, 5, 6)           10  0.622299  0.008732\n",
       "15     (3, 5, 7)           10  0.621920  0.010214\n",
       "31  (10, 10, 10)           20  0.621162  0.012763\n",
       "26    (5, 7, 10)           20  0.620467  0.011503\n",
       "20     (7, 7, 7)           10  0.619457  0.010457\n",
       "25    (5, 7, 10)           10  0.618762  0.015745\n",
       "10     (5, 5, 5)           10  0.614277  0.012729\n",
       "30  (10, 10, 10)           10  0.613266  0.009704\n",
       "0      (3, 3, 3)           10  0.612887  0.017035"
      ]
     },
     "execution_count": 5,
     "metadata": {},
     "output_type": "execute_result"
    }
   ],
   "source": [
    "grid_search_two = pd.read_csv('second_grid_search_results.csv', index_col=0)\n",
    "grid_search_two.sort_values('means', ascending=False)"
   ]
  },
  {
   "cell_type": "code",
   "execution_count": 8,
   "metadata": {},
   "outputs": [
    {
     "name": "stdout",
     "output_type": "stream",
     "text": [
      "Pearson correlation of each hyperparameter \n",
      "with accuracy from 10-fold cv:\n"
     ]
    },
    {
     "data": {
      "text/plain": [
       "num_filters    0.714684\n",
       "means          1.000000\n",
       "stddev        -0.265817\n",
       "Name: means, dtype: float64"
      ]
     },
     "execution_count": 8,
     "metadata": {},
     "output_type": "execute_result"
    }
   ],
   "source": [
    "print('Pearson correlation of each hyperparameter \\nwith accuracy '\n",
    "      'from 10-fold cv:')\n",
    "grid_search_two.corr()['means']"
   ]
  },
  {
   "cell_type": "code",
   "execution_count": 11,
   "metadata": {},
   "outputs": [
    {
     "data": {
      "text/plain": [
       "<matplotlib.axes._subplots.AxesSubplot at 0x10699c588>"
      ]
     },
     "execution_count": 11,
     "metadata": {},
     "output_type": "execute_result"
    },
    {
     "data": {
      "image/png": "[encoded data removed]",
      "text/plain": [
       "<Figure size 432x288 with 1 Axes>"
      ]
     },
     "metadata": {},
     "output_type": "display_data"
    }
   ],
   "source": [
    "grouped = grid_search_two.groupby('num_filters')\n",
    "grouped.mean()['means'].plot(yerr=grouped.mean()['stddev'], marker='o', ms=7, mfc='k')"
   ]
  },
  {
   "cell_type": "code",
   "execution_count": 12,
   "metadata": {},
   "outputs": [
    {
     "data": {
      "text/plain": [
       "<matplotlib.axes._subplots.AxesSubplot at 0x106a016d8>"
      ]
     },
     "execution_count": 12,
     "metadata": {},
     "output_type": "execute_result"
    },
    {
     "data": {
      "image/png": "[encoded data removed]",
      "text/plain": [
       "<Figure size 432x288 with 1 Axes>"
      ]
     },
     "metadata": {},
     "output_type": "display_data"
    }
   ],
   "source": [
    "grouped = grid_search_two.groupby('filter_sizes')\n",
    "grouped.mean()['means'].plot(yerr=grouped.mean()['stddev'], marker='o', ms=7, mfc='k')"
   ]
  },
  {
   "cell_type": "code",
   "execution_count": 13,
   "metadata": {},
   "outputs": [
    {
     "data": {
      "text/plain": [
       "<matplotlib.axes._subplots.AxesSubplot at 0x106ac10f0>"
      ]
     },
     "execution_count": 13,
     "metadata": {},
     "output_type": "execute_result"
    },
    {
     "data": {
      "image/png": "[encoded data removed]",
      "text/plain": [
       "<Figure size 432x288 with 1 Axes>"
      ]
     },
     "metadata": {},
     "output_type": "display_data"
    }
   ],
   "source": [
    "grouped = grid_search_two.groupby(['filter_sizes', 'num_filters'])\n",
    "grouped.mean()['means'].plot(yerr=grouped.mean()['stddev'], marker='o', ms=7, mfc='k')"
   ]
  },
  {
   "cell_type": "code",
   "execution_count": null,
   "metadata": {},
   "outputs": [],
   "source": []
  }
 ],
 "metadata": {
  "anaconda-cloud": {},
  "kernelspec": {
   "display_name": "Python 3",
   "language": "python",
   "name": "python3"
  },
  "language_info": {
   "codemirror_mode": {
    "name": "ipython",
    "version": 3
   },
   "file_extension": ".py",
   "mimetype": "text/x-python",
   "name": "python",
   "nbconvert_exporter": "python",
   "pygments_lexer": "ipython3",
   "version": "3.6.3"
  }
 },
 "nbformat": 4,
 "nbformat_minor": 2
}
