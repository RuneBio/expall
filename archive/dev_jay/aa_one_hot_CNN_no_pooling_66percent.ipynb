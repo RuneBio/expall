{
 "cells": [
  {
   "cell_type": "code",
   "execution_count": 1,
   "metadata": {},
   "outputs": [],
   "source": [
    "import numpy as np\n",
    "import pandas as pd\n",
    "import h5py\n",
    "import matplotlib.pyplot as plt\n",
    "from sklearn.model_selection import train_test_split"
   ]
  },
  {
   "cell_type": "code",
   "execution_count": 2,
   "metadata": {},
   "outputs": [],
   "source": [
    "data = pd.read_hdf('aa_one_hot_highlow.h5')"
   ]
  },
  {
   "cell_type": "code",
   "execution_count": 3,
   "metadata": {},
   "outputs": [
    {
     "data": {
      "text/html": [
       "<div>\n",
       "<style scoped>\n",
       "    .dataframe tbody tr th:only-of-type {\n",
       "        vertical-align: middle;\n",
       "    }\n",
       "\n",
       "    .dataframe tbody tr th {\n",
       "        vertical-align: top;\n",
       "    }\n",
       "\n",
       "    .dataframe thead th {\n",
       "        text-align: right;\n",
       "    }\n",
       "</style>\n",
       "<table border=\"1\" class=\"dataframe\">\n",
       "  <thead>\n",
       "    <tr style=\"text-align: right;\">\n",
       "      <th></th>\n",
       "      <th>class</th>\n",
       "      <th>prest_id</th>\n",
       "      <th>conc_cf</th>\n",
       "      <th>aa_one_hot</th>\n",
       "    </tr>\n",
       "  </thead>\n",
       "  <tbody>\n",
       "    <tr>\n",
       "      <th>1</th>\n",
       "      <td>0</td>\n",
       "      <td>140099</td>\n",
       "      <td>2.91540</td>\n",
       "      <td>[[0.0, 0.0, 0.0, 0.0, 0.0, 0.0, 0.0, 0.0, 0.0,...</td>\n",
       "    </tr>\n",
       "    <tr>\n",
       "      <th>2</th>\n",
       "      <td>0</td>\n",
       "      <td>140225</td>\n",
       "      <td>1.48770</td>\n",
       "      <td>[[0.0, 0.0, 0.0, 0.0, 0.0, 0.0, 0.0, 0.0, 0.0,...</td>\n",
       "    </tr>\n",
       "    <tr>\n",
       "      <th>5</th>\n",
       "      <td>0</td>\n",
       "      <td>140325</td>\n",
       "      <td>1.50290</td>\n",
       "      <td>[[0.0, 0.0, 0.0, 0.0, 1.0, 0.0, 0.0, 0.0, 0.0,...</td>\n",
       "    </tr>\n",
       "    <tr>\n",
       "      <th>8</th>\n",
       "      <td>0</td>\n",
       "      <td>140354</td>\n",
       "      <td>0.92003</td>\n",
       "      <td>[[0.0, 0.0, 0.0, 0.0, 0.0, 0.0, 0.0, 0.0, 0.0,...</td>\n",
       "    </tr>\n",
       "    <tr>\n",
       "      <th>10</th>\n",
       "      <td>0</td>\n",
       "      <td>140500</td>\n",
       "      <td>2.21830</td>\n",
       "      <td>[[0.0, 0.0, 0.0, 0.0, 0.0, 0.0, 0.0, 0.0, 0.0,...</td>\n",
       "    </tr>\n",
       "  </tbody>\n",
       "</table>\n",
       "</div>"
      ],
      "text/plain": [
       "    class  prest_id  conc_cf  \\\n",
       "1       0    140099  2.91540   \n",
       "2       0    140225  1.48770   \n",
       "5       0    140325  1.50290   \n",
       "8       0    140354  0.92003   \n",
       "10      0    140500  2.21830   \n",
       "\n",
       "                                           aa_one_hot  \n",
       "1   [[0.0, 0.0, 0.0, 0.0, 0.0, 0.0, 0.0, 0.0, 0.0,...  \n",
       "2   [[0.0, 0.0, 0.0, 0.0, 0.0, 0.0, 0.0, 0.0, 0.0,...  \n",
       "5   [[0.0, 0.0, 0.0, 0.0, 1.0, 0.0, 0.0, 0.0, 0.0,...  \n",
       "8   [[0.0, 0.0, 0.0, 0.0, 0.0, 0.0, 0.0, 0.0, 0.0,...  \n",
       "10  [[0.0, 0.0, 0.0, 0.0, 0.0, 0.0, 0.0, 0.0, 0.0,...  "
      ]
     },
     "execution_count": 3,
     "metadata": {},
     "output_type": "execute_result"
    }
   ],
   "source": [
    "data.head()"
   ]
  },
  {
   "cell_type": "code",
   "execution_count": 4,
   "metadata": {},
   "outputs": [
    {
     "data": {
      "text/html": [
       "<div>\n",
       "<style scoped>\n",
       "    .dataframe tbody tr th:only-of-type {\n",
       "        vertical-align: middle;\n",
       "    }\n",
       "\n",
       "    .dataframe tbody tr th {\n",
       "        vertical-align: top;\n",
       "    }\n",
       "\n",
       "    .dataframe thead th {\n",
       "        text-align: right;\n",
       "    }\n",
       "</style>\n",
       "<table border=\"1\" class=\"dataframe\">\n",
       "  <thead>\n",
       "    <tr style=\"text-align: right;\">\n",
       "      <th></th>\n",
       "      <th>class</th>\n",
       "      <th>prest_id</th>\n",
       "      <th>conc_cf</th>\n",
       "      <th>aa_one_hot</th>\n",
       "    </tr>\n",
       "  </thead>\n",
       "  <tbody>\n",
       "    <tr>\n",
       "      <th>45201</th>\n",
       "      <td>1</td>\n",
       "      <td>4550047</td>\n",
       "      <td>12.28</td>\n",
       "      <td>[[0.0, 0.0, 0.0, 0.0, 0.0, 0.0, 0.0, 0.0, 0.0,...</td>\n",
       "    </tr>\n",
       "    <tr>\n",
       "      <th>45202</th>\n",
       "      <td>1</td>\n",
       "      <td>4550053</td>\n",
       "      <td>11.18</td>\n",
       "      <td>[[0.0, 0.0, 0.0, 0.0, 0.0, 0.0, 0.0, 0.0, 0.0,...</td>\n",
       "    </tr>\n",
       "    <tr>\n",
       "      <th>45203</th>\n",
       "      <td>1</td>\n",
       "      <td>4550054</td>\n",
       "      <td>10.94</td>\n",
       "      <td>[[0.0, 0.0, 0.0, 0.0, 0.0, 1.0, 0.0, 0.0, 0.0,...</td>\n",
       "    </tr>\n",
       "    <tr>\n",
       "      <th>45204</th>\n",
       "      <td>1</td>\n",
       "      <td>4560007</td>\n",
       "      <td>11.30</td>\n",
       "      <td>[[0.0, 0.0, 0.0, 0.0, 0.0, 0.0, 0.0, 1.0, 0.0,...</td>\n",
       "    </tr>\n",
       "    <tr>\n",
       "      <th>45205</th>\n",
       "      <td>1</td>\n",
       "      <td>4560013</td>\n",
       "      <td>9.38</td>\n",
       "      <td>[[0.0, 0.0, 1.0, 0.0, 0.0, 0.0, 0.0, 0.0, 0.0,...</td>\n",
       "    </tr>\n",
       "  </tbody>\n",
       "</table>\n",
       "</div>"
      ],
      "text/plain": [
       "       class  prest_id  conc_cf  \\\n",
       "45201      1   4550047    12.28   \n",
       "45202      1   4550053    11.18   \n",
       "45203      1   4550054    10.94   \n",
       "45204      1   4560007    11.30   \n",
       "45205      1   4560013     9.38   \n",
       "\n",
       "                                              aa_one_hot  \n",
       "45201  [[0.0, 0.0, 0.0, 0.0, 0.0, 0.0, 0.0, 0.0, 0.0,...  \n",
       "45202  [[0.0, 0.0, 0.0, 0.0, 0.0, 0.0, 0.0, 0.0, 0.0,...  \n",
       "45203  [[0.0, 0.0, 0.0, 0.0, 0.0, 1.0, 0.0, 0.0, 0.0,...  \n",
       "45204  [[0.0, 0.0, 0.0, 0.0, 0.0, 0.0, 0.0, 1.0, 0.0,...  \n",
       "45205  [[0.0, 0.0, 1.0, 0.0, 0.0, 0.0, 0.0, 0.0, 0.0,...  "
      ]
     },
     "execution_count": 4,
     "metadata": {},
     "output_type": "execute_result"
    }
   ],
   "source": [
    "data.tail()"
   ]
  },
  {
   "cell_type": "code",
   "execution_count": 5,
   "metadata": {},
   "outputs": [
    {
     "data": {
      "text/plain": [
       "(149, 20)"
      ]
     },
     "execution_count": 5,
     "metadata": {},
     "output_type": "execute_result"
    }
   ],
   "source": [
    "data['aa_one_hot'][1].shape"
   ]
  },
  {
   "cell_type": "code",
   "execution_count": 6,
   "metadata": {},
   "outputs": [],
   "source": [
    "# create a 3D array of one one hot encodings\n",
    "max_len = 149\n",
    "width = 20\n",
    "num_samples = data.shape[0]\n",
    "\n",
    "X = np.zeros((num_samples, max_len, width))\n",
    "for idx, aa_one_hot in enumerate(data['aa_one_hot'].values):\n",
    "    X[idx, :, :] = aa_one_hot\n",
    "\n",
    "    \n",
    "y = data['class'].values"
   ]
  },
  {
   "cell_type": "code",
   "execution_count": 7,
   "metadata": {},
   "outputs": [],
   "source": [
    "x_train, x_test, y_train, y_test = train_test_split(\n",
    "    X, y, test_size=0.3, random_state=42)"
   ]
  },
  {
   "cell_type": "code",
   "execution_count": 24,
   "metadata": {},
   "outputs": [],
   "source": [
    "def make_model(x_train, y_train, x_test, y_test, filt_width=3, epochs=1):\n",
    "\n",
    "    # simple model per Yoon Kim (2014)\n",
    "    from keras.models import Sequential\n",
    "    from keras.layers import Dense, Dropout, Flatten\n",
    "    from keras.layers import Conv1D, GlobalMaxPooling1D, AveragePooling1D\n",
    "    model = Sequential()\n",
    "    model.add(Conv1D(10, filt_width, activation='relu', input_shape=(149, 20)))\n",
    "    #model.add(AveragePooling1D(pool_size=2, strides=None, padding='valid'))\n",
    "    #model.add(GlobalMaxPooling1D())\n",
    "    model.add(Flatten())\n",
    "    model.add(Dropout(0.5))\n",
    "    model.add(Dense(32))\n",
    "    model.add(Dropout(0.5))\n",
    "    model.add(Dense(1, activation='sigmoid'))\n",
    "\n",
    "    model.compile(loss='binary_crossentropy',\n",
    "                  optimizer='adam',\n",
    "                  metrics=['accuracy'])\n",
    "\n",
    "    model.fit(x_train, y_train, batch_size=50, epochs=epochs,\n",
    "              validation_data=(x_test, y_test), verbose=2)\n",
    "    model.save('model_no_pool'+ str(filt_width) + '.h5')\n",
    "    print('model saved as: ', 'model_no_pool'+ str(filt_width) + '.h5')\n",
    "    return"
   ]
  },
  {
   "cell_type": "code",
   "execution_count": 27,
   "metadata": {},
   "outputs": [],
   "source": [
    "epochs = 25"
   ]
  },
  {
   "cell_type": "code",
   "execution_count": 28,
   "metadata": {},
   "outputs": [
    {
     "name": "stdout",
     "output_type": "stream",
     "text": [
      "Train on 15822 samples, validate on 6781 samples\n",
      "Epoch 1/25\n",
      " - 9s - loss: 0.7022 - acc: 0.5250 - val_loss: 0.6838 - val_acc: 0.5599\n",
      "Epoch 2/25\n",
      " - 7s - loss: 0.6687 - acc: 0.5920 - val_loss: 0.6605 - val_acc: 0.6076\n",
      "Epoch 3/25\n",
      " - 7s - loss: 0.6530 - acc: 0.6124 - val_loss: 0.6568 - val_acc: 0.6186\n",
      "Epoch 4/25\n",
      " - 7s - loss: 0.6442 - acc: 0.6248 - val_loss: 0.6496 - val_acc: 0.6222\n",
      "Epoch 5/25\n",
      " - 7s - loss: 0.6386 - acc: 0.6294 - val_loss: 0.6486 - val_acc: 0.6238\n",
      "Epoch 6/25\n",
      " - 7s - loss: 0.6326 - acc: 0.6435 - val_loss: 0.6470 - val_acc: 0.6266\n",
      "Epoch 7/25\n",
      " - 7s - loss: 0.6318 - acc: 0.6421 - val_loss: 0.6476 - val_acc: 0.6266\n",
      "Epoch 8/25\n",
      " - 7s - loss: 0.6276 - acc: 0.6480 - val_loss: 0.6479 - val_acc: 0.6248\n",
      "Epoch 9/25\n",
      " - 7s - loss: 0.6249 - acc: 0.6485 - val_loss: 0.6551 - val_acc: 0.6201\n",
      "Epoch 10/25\n",
      " - 7s - loss: 0.6255 - acc: 0.6521 - val_loss: 0.6511 - val_acc: 0.6217\n",
      "Epoch 11/25\n",
      " - 7s - loss: 0.6247 - acc: 0.6509 - val_loss: 0.6464 - val_acc: 0.6275\n",
      "Epoch 12/25\n",
      " - 7s - loss: 0.6208 - acc: 0.6554 - val_loss: 0.6475 - val_acc: 0.6301\n",
      "Epoch 13/25\n",
      " - 7s - loss: 0.6201 - acc: 0.6542 - val_loss: 0.6563 - val_acc: 0.6194\n",
      "Epoch 14/25\n",
      " - 7s - loss: 0.6221 - acc: 0.6451 - val_loss: 0.6466 - val_acc: 0.6276\n",
      "Epoch 15/25\n",
      " - 7s - loss: 0.6199 - acc: 0.6573 - val_loss: 0.6473 - val_acc: 0.6241\n",
      "Epoch 16/25\n",
      " - 7s - loss: 0.6151 - acc: 0.6627 - val_loss: 0.6466 - val_acc: 0.6275\n",
      "Epoch 17/25\n",
      " - 7s - loss: 0.6196 - acc: 0.6558 - val_loss: 0.6465 - val_acc: 0.6245\n",
      "Epoch 18/25\n",
      " - 7s - loss: 0.6161 - acc: 0.6566 - val_loss: 0.6476 - val_acc: 0.6285\n",
      "Epoch 19/25\n",
      " - 7s - loss: 0.6169 - acc: 0.6574 - val_loss: 0.6476 - val_acc: 0.6256\n",
      "Epoch 20/25\n",
      " - 7s - loss: 0.6158 - acc: 0.6587 - val_loss: 0.6491 - val_acc: 0.6272\n",
      "Epoch 21/25\n",
      " - 7s - loss: 0.6140 - acc: 0.6607 - val_loss: 0.6474 - val_acc: 0.6268\n",
      "Epoch 22/25\n",
      " - 7s - loss: 0.6128 - acc: 0.6598 - val_loss: 0.6464 - val_acc: 0.6294\n",
      "Epoch 23/25\n",
      " - 7s - loss: 0.6147 - acc: 0.6598 - val_loss: 0.6506 - val_acc: 0.6254\n",
      "Epoch 24/25\n",
      " - 7s - loss: 0.6149 - acc: 0.6624 - val_loss: 0.6479 - val_acc: 0.6276\n",
      "Epoch 25/25\n",
      " - 7s - loss: 0.6146 - acc: 0.6604 - val_loss: 0.6490 - val_acc: 0.6260\n",
      "model saved as:  model_no_pool3.h5\n"
     ]
    }
   ],
   "source": [
    "make_model(x_train, y_train, x_test, y_test, filt_width=3, epochs=epochs)"
   ]
  },
  {
   "cell_type": "code",
   "execution_count": 29,
   "metadata": {},
   "outputs": [
    {
     "name": "stdout",
     "output_type": "stream",
     "text": [
      "Train on 15822 samples, validate on 6781 samples\n",
      "Epoch 1/25\n",
      " - 9s - loss: 0.6977 - acc: 0.5401 - val_loss: 0.6684 - val_acc: 0.5894\n",
      "Epoch 2/25\n",
      " - 7s - loss: 0.6609 - acc: 0.6043 - val_loss: 0.6538 - val_acc: 0.6136\n",
      "Epoch 3/25\n",
      " - 7s - loss: 0.6490 - acc: 0.6242 - val_loss: 0.6479 - val_acc: 0.6254\n",
      "Epoch 4/25\n",
      " - 7s - loss: 0.6371 - acc: 0.6353 - val_loss: 0.6471 - val_acc: 0.6245\n",
      "Epoch 5/25\n",
      " - 7s - loss: 0.6335 - acc: 0.6406 - val_loss: 0.6467 - val_acc: 0.6301\n",
      "Epoch 6/25\n",
      " - 7s - loss: 0.6297 - acc: 0.6394 - val_loss: 0.6462 - val_acc: 0.6213\n",
      "Epoch 7/25\n",
      " - 7s - loss: 0.6289 - acc: 0.6502 - val_loss: 0.6444 - val_acc: 0.6279\n",
      "Epoch 8/25\n",
      " - 7s - loss: 0.6233 - acc: 0.6505 - val_loss: 0.6461 - val_acc: 0.6238\n",
      "Epoch 9/25\n",
      " - 7s - loss: 0.6226 - acc: 0.6507 - val_loss: 0.6453 - val_acc: 0.6282\n",
      "Epoch 10/25\n",
      " - 7s - loss: 0.6198 - acc: 0.6568 - val_loss: 0.6472 - val_acc: 0.6229\n",
      "Epoch 11/25\n",
      " - 7s - loss: 0.6193 - acc: 0.6556 - val_loss: 0.6477 - val_acc: 0.6238\n",
      "Epoch 12/25\n",
      " - 7s - loss: 0.6199 - acc: 0.6589 - val_loss: 0.6455 - val_acc: 0.6291\n",
      "Epoch 13/25\n",
      " - 7s - loss: 0.6149 - acc: 0.6630 - val_loss: 0.6479 - val_acc: 0.6241\n",
      "Epoch 14/25\n",
      " - 7s - loss: 0.6154 - acc: 0.6572 - val_loss: 0.6469 - val_acc: 0.6241\n",
      "Epoch 15/25\n",
      " - 7s - loss: 0.6184 - acc: 0.6617 - val_loss: 0.6477 - val_acc: 0.6229\n",
      "Epoch 16/25\n",
      " - 7s - loss: 0.6123 - acc: 0.6627 - val_loss: 0.6481 - val_acc: 0.6244\n",
      "Epoch 17/25\n",
      " - 7s - loss: 0.6117 - acc: 0.6626 - val_loss: 0.6455 - val_acc: 0.6254\n",
      "Epoch 18/25\n",
      " - 7s - loss: 0.6100 - acc: 0.6620 - val_loss: 0.6471 - val_acc: 0.6235\n",
      "Epoch 19/25\n",
      " - 7s - loss: 0.6117 - acc: 0.6627 - val_loss: 0.6484 - val_acc: 0.6225\n",
      "Epoch 20/25\n",
      " - 7s - loss: 0.6095 - acc: 0.6643 - val_loss: 0.6461 - val_acc: 0.6194\n",
      "Epoch 21/25\n",
      " - 7s - loss: 0.6079 - acc: 0.6679 - val_loss: 0.6461 - val_acc: 0.6210\n",
      "Epoch 22/25\n",
      " - 7s - loss: 0.6071 - acc: 0.6651 - val_loss: 0.6522 - val_acc: 0.6181\n",
      "Epoch 23/25\n",
      " - 7s - loss: 0.6035 - acc: 0.6724 - val_loss: 0.6474 - val_acc: 0.6244\n",
      "Epoch 24/25\n",
      " - 7s - loss: 0.6074 - acc: 0.6677 - val_loss: 0.6489 - val_acc: 0.6197\n",
      "Epoch 25/25\n",
      " - 7s - loss: 0.6011 - acc: 0.6725 - val_loss: 0.6545 - val_acc: 0.6209\n",
      "model saved as:  model_no_pool4.h5\n"
     ]
    }
   ],
   "source": [
    "make_model(x_train, y_train, x_test, y_test, filt_width=4, epochs=epochs)"
   ]
  },
  {
   "cell_type": "code",
   "execution_count": 30,
   "metadata": {},
   "outputs": [
    {
     "name": "stdout",
     "output_type": "stream",
     "text": [
      "Train on 15822 samples, validate on 6781 samples\n",
      "Epoch 1/25\n",
      " - 10s - loss: 0.6978 - acc: 0.5351 - val_loss: 0.6750 - val_acc: 0.5822\n",
      "Epoch 2/25\n",
      " - 8s - loss: 0.6620 - acc: 0.5983 - val_loss: 0.6532 - val_acc: 0.6189\n",
      "Epoch 3/25\n",
      " - 8s - loss: 0.6465 - acc: 0.6265 - val_loss: 0.6538 - val_acc: 0.6148\n",
      "Epoch 4/25\n",
      " - 8s - loss: 0.6356 - acc: 0.6340 - val_loss: 0.6464 - val_acc: 0.6268\n",
      "Epoch 5/25\n",
      " - 8s - loss: 0.6328 - acc: 0.6448 - val_loss: 0.6469 - val_acc: 0.6272\n",
      "Epoch 6/25\n",
      " - 8s - loss: 0.6256 - acc: 0.6492 - val_loss: 0.6465 - val_acc: 0.6204\n",
      "Epoch 7/25\n",
      " - 8s - loss: 0.6238 - acc: 0.6483 - val_loss: 0.6452 - val_acc: 0.6223\n",
      "Epoch 8/25\n",
      " - 8s - loss: 0.6188 - acc: 0.6534 - val_loss: 0.6445 - val_acc: 0.6251\n",
      "Epoch 9/25\n",
      " - 8s - loss: 0.6160 - acc: 0.6609 - val_loss: 0.6442 - val_acc: 0.6270\n",
      "Epoch 10/25\n",
      " - 8s - loss: 0.6132 - acc: 0.6660 - val_loss: 0.6421 - val_acc: 0.6285\n",
      "Epoch 11/25\n",
      " - 9s - loss: 0.6116 - acc: 0.6639 - val_loss: 0.6473 - val_acc: 0.6259\n",
      "Epoch 12/25\n",
      " - 9s - loss: 0.6098 - acc: 0.6656 - val_loss: 0.6407 - val_acc: 0.6322\n",
      "Epoch 13/25\n",
      " - 9s - loss: 0.6047 - acc: 0.6707 - val_loss: 0.6436 - val_acc: 0.6250\n",
      "Epoch 14/25\n",
      " - 8s - loss: 0.6040 - acc: 0.6689 - val_loss: 0.6386 - val_acc: 0.6356\n",
      "Epoch 15/25\n",
      " - 8s - loss: 0.6007 - acc: 0.6731 - val_loss: 0.6424 - val_acc: 0.6349\n",
      "Epoch 16/25\n",
      " - 8s - loss: 0.6003 - acc: 0.6738 - val_loss: 0.6384 - val_acc: 0.6268\n",
      "Epoch 17/25\n",
      " - 8s - loss: 0.5973 - acc: 0.6720 - val_loss: 0.6393 - val_acc: 0.6362\n",
      "Epoch 18/25\n",
      " - 8s - loss: 0.5976 - acc: 0.6772 - val_loss: 0.6333 - val_acc: 0.6393\n",
      "Epoch 19/25\n",
      " - 8s - loss: 0.5949 - acc: 0.6767 - val_loss: 0.6339 - val_acc: 0.6372\n",
      "Epoch 20/25\n",
      " - 9s - loss: 0.5931 - acc: 0.6833 - val_loss: 0.6339 - val_acc: 0.6372\n",
      "Epoch 21/25\n",
      " - 8s - loss: 0.5917 - acc: 0.6805 - val_loss: 0.6396 - val_acc: 0.6357\n",
      "Epoch 22/25\n",
      " - 8s - loss: 0.5935 - acc: 0.6815 - val_loss: 0.6346 - val_acc: 0.6394\n",
      "Epoch 23/25\n",
      " - 8s - loss: 0.5965 - acc: 0.6777 - val_loss: 0.6304 - val_acc: 0.6456\n",
      "Epoch 24/25\n",
      " - 8s - loss: 0.5884 - acc: 0.6808 - val_loss: 0.6347 - val_acc: 0.6393\n",
      "Epoch 25/25\n",
      " - 8s - loss: 0.5921 - acc: 0.6802 - val_loss: 0.6337 - val_acc: 0.6384\n",
      "model saved as:  model_no_pool5.h5\n"
     ]
    }
   ],
   "source": [
    "make_model(x_train, y_train, x_test, y_test, filt_width=5, epochs=epochs)"
   ]
  },
  {
   "cell_type": "code",
   "execution_count": 31,
   "metadata": {},
   "outputs": [
    {
     "name": "stdout",
     "output_type": "stream",
     "text": [
      "Train on 15822 samples, validate on 6781 samples\n",
      "Epoch 1/25\n",
      " - 10s - loss: 0.6979 - acc: 0.5411 - val_loss: 0.6722 - val_acc: 0.5816\n",
      "Epoch 2/25\n",
      " - 9s - loss: 0.6576 - acc: 0.6074 - val_loss: 0.6510 - val_acc: 0.6166\n",
      "Epoch 3/25\n",
      " - 9s - loss: 0.6433 - acc: 0.6279 - val_loss: 0.6467 - val_acc: 0.6231\n",
      "Epoch 4/25\n",
      " - 9s - loss: 0.6372 - acc: 0.6325 - val_loss: 0.6432 - val_acc: 0.6298\n",
      "Epoch 5/25\n",
      " - 9s - loss: 0.6284 - acc: 0.6443 - val_loss: 0.6432 - val_acc: 0.6297\n",
      "Epoch 6/25\n",
      " - 9s - loss: 0.6243 - acc: 0.6506 - val_loss: 0.6454 - val_acc: 0.6287\n",
      "Epoch 7/25\n",
      " - 9s - loss: 0.6204 - acc: 0.6538 - val_loss: 0.6436 - val_acc: 0.6226\n",
      "Epoch 8/25\n",
      " - 9s - loss: 0.6181 - acc: 0.6579 - val_loss: 0.6477 - val_acc: 0.6256\n",
      "Epoch 9/25\n",
      " - 9s - loss: 0.6177 - acc: 0.6569 - val_loss: 0.6429 - val_acc: 0.6265\n",
      "Epoch 10/25\n",
      " - 9s - loss: 0.6107 - acc: 0.6623 - val_loss: 0.6434 - val_acc: 0.6293\n",
      "Epoch 11/25\n",
      " - 9s - loss: 0.6063 - acc: 0.6699 - val_loss: 0.6432 - val_acc: 0.6312\n",
      "Epoch 12/25\n",
      " - 9s - loss: 0.6043 - acc: 0.6716 - val_loss: 0.6413 - val_acc: 0.6309\n",
      "Epoch 13/25\n",
      " - 9s - loss: 0.6041 - acc: 0.6711 - val_loss: 0.6393 - val_acc: 0.6355\n",
      "Epoch 14/25\n",
      " - 9s - loss: 0.5956 - acc: 0.6753 - val_loss: 0.6410 - val_acc: 0.6327\n",
      "Epoch 15/25\n",
      " - 9s - loss: 0.5972 - acc: 0.6787 - val_loss: 0.6385 - val_acc: 0.6350\n",
      "Epoch 16/25\n",
      " - 9s - loss: 0.5933 - acc: 0.6829 - val_loss: 0.6369 - val_acc: 0.6360\n",
      "Epoch 17/25\n",
      " - 9s - loss: 0.5921 - acc: 0.6802 - val_loss: 0.6355 - val_acc: 0.6388\n",
      "Epoch 18/25\n",
      " - 9s - loss: 0.5907 - acc: 0.6832 - val_loss: 0.6351 - val_acc: 0.6359\n",
      "Epoch 19/25\n",
      " - 9s - loss: 0.5894 - acc: 0.6845 - val_loss: 0.6345 - val_acc: 0.6396\n",
      "Epoch 20/25\n",
      " - 9s - loss: 0.5861 - acc: 0.6885 - val_loss: 0.6337 - val_acc: 0.6385\n",
      "Epoch 21/25\n",
      " - 9s - loss: 0.5857 - acc: 0.6849 - val_loss: 0.6358 - val_acc: 0.6355\n",
      "Epoch 22/25\n",
      " - 9s - loss: 0.5850 - acc: 0.6849 - val_loss: 0.6346 - val_acc: 0.6393\n",
      "Epoch 23/25\n",
      " - 9s - loss: 0.5831 - acc: 0.6862 - val_loss: 0.6341 - val_acc: 0.6419\n",
      "Epoch 24/25\n",
      " - 9s - loss: 0.5805 - acc: 0.6883 - val_loss: 0.6373 - val_acc: 0.6411\n",
      "Epoch 25/25\n",
      " - 9s - loss: 0.5800 - acc: 0.6870 - val_loss: 0.6373 - val_acc: 0.6412\n",
      "model saved as:  model_no_pool6.h5\n"
     ]
    }
   ],
   "source": [
    "make_model(x_train, y_train, x_test, y_test, filt_width=6, epochs=epochs)"
   ]
  },
  {
   "cell_type": "code",
   "execution_count": 32,
   "metadata": {},
   "outputs": [
    {
     "name": "stdout",
     "output_type": "stream",
     "text": [
      "Train on 15822 samples, validate on 6781 samples\n",
      "Epoch 1/25\n",
      " - 11s - loss: 0.6904 - acc: 0.5451 - val_loss: 0.6579 - val_acc: 0.6107\n",
      "Epoch 2/25\n",
      " - 10s - loss: 0.6498 - acc: 0.6220 - val_loss: 0.6462 - val_acc: 0.6332\n",
      "Epoch 3/25\n",
      " - 10s - loss: 0.6372 - acc: 0.6382 - val_loss: 0.6455 - val_acc: 0.6200\n",
      "Epoch 4/25\n",
      " - 10s - loss: 0.6303 - acc: 0.6456 - val_loss: 0.6427 - val_acc: 0.6260\n",
      "Epoch 5/25\n",
      " - 10s - loss: 0.6195 - acc: 0.6532 - val_loss: 0.6439 - val_acc: 0.6276\n",
      "Epoch 6/25\n",
      " - 10s - loss: 0.6159 - acc: 0.6603 - val_loss: 0.6384 - val_acc: 0.6390\n",
      "Epoch 7/25\n",
      " - 10s - loss: 0.6051 - acc: 0.6704 - val_loss: 0.6337 - val_acc: 0.6433\n",
      "Epoch 8/25\n",
      " - 10s - loss: 0.6007 - acc: 0.6778 - val_loss: 0.6301 - val_acc: 0.6503\n",
      "Epoch 9/25\n",
      " - 10s - loss: 0.5940 - acc: 0.6792 - val_loss: 0.6299 - val_acc: 0.6455\n",
      "Epoch 10/25\n",
      " - 10s - loss: 0.5890 - acc: 0.6827 - val_loss: 0.6293 - val_acc: 0.6464\n",
      "Epoch 11/25\n",
      " - 10s - loss: 0.5860 - acc: 0.6847 - val_loss: 0.6267 - val_acc: 0.6464\n",
      "Epoch 12/25\n",
      " - 10s - loss: 0.5819 - acc: 0.6883 - val_loss: 0.6262 - val_acc: 0.6521\n",
      "Epoch 13/25\n",
      " - 10s - loss: 0.5818 - acc: 0.6895 - val_loss: 0.6260 - val_acc: 0.6511\n",
      "Epoch 14/25\n",
      " - 10s - loss: 0.5763 - acc: 0.6925 - val_loss: 0.6285 - val_acc: 0.6487\n",
      "Epoch 15/25\n",
      " - 10s - loss: 0.5783 - acc: 0.6903 - val_loss: 0.6282 - val_acc: 0.6433\n",
      "Epoch 16/25\n",
      " - 10s - loss: 0.5721 - acc: 0.6998 - val_loss: 0.6261 - val_acc: 0.6524\n",
      "Epoch 17/25\n",
      " - 10s - loss: 0.5680 - acc: 0.7028 - val_loss: 0.6312 - val_acc: 0.6501\n",
      "Epoch 18/25\n",
      " - 10s - loss: 0.5705 - acc: 0.7009 - val_loss: 0.6268 - val_acc: 0.6518\n",
      "Epoch 19/25\n",
      " - 10s - loss: 0.5710 - acc: 0.6938 - val_loss: 0.6242 - val_acc: 0.6554\n",
      "Epoch 20/25\n",
      " - 10s - loss: 0.5654 - acc: 0.7026 - val_loss: 0.6254 - val_acc: 0.6542\n",
      "Epoch 21/25\n",
      " - 10s - loss: 0.5649 - acc: 0.7016 - val_loss: 0.6290 - val_acc: 0.6502\n",
      "Epoch 22/25\n",
      " - 10s - loss: 0.5663 - acc: 0.7023 - val_loss: 0.6251 - val_acc: 0.6537\n",
      "Epoch 23/25\n",
      " - 10s - loss: 0.5630 - acc: 0.6998 - val_loss: 0.6220 - val_acc: 0.6585\n",
      "Epoch 24/25\n",
      " - 10s - loss: 0.5644 - acc: 0.7011 - val_loss: 0.6236 - val_acc: 0.6546\n",
      "Epoch 25/25\n",
      " - 10s - loss: 0.5604 - acc: 0.7099 - val_loss: 0.6234 - val_acc: 0.6529\n",
      "model saved as:  model_no_pool8.h5\n"
     ]
    }
   ],
   "source": [
    "make_model(x_train, y_train, x_test, y_test, filt_width=8, epochs=epochs)"
   ]
  },
  {
   "cell_type": "code",
   "execution_count": 33,
   "metadata": {},
   "outputs": [
    {
     "name": "stdout",
     "output_type": "stream",
     "text": [
      "Train on 15822 samples, validate on 6781 samples\n",
      "Epoch 1/25\n",
      " - 13s - loss: 0.6955 - acc: 0.5397 - val_loss: 0.6656 - val_acc: 0.6045\n",
      "Epoch 2/25\n",
      " - 11s - loss: 0.6546 - acc: 0.6108 - val_loss: 0.6474 - val_acc: 0.6229\n",
      "Epoch 3/25\n",
      " - 11s - loss: 0.6376 - acc: 0.6379 - val_loss: 0.6451 - val_acc: 0.6288\n",
      "Epoch 4/25\n",
      " - 11s - loss: 0.6291 - acc: 0.6473 - val_loss: 0.6400 - val_acc: 0.6306\n",
      "Epoch 5/25\n",
      " - 11s - loss: 0.6210 - acc: 0.6576 - val_loss: 0.6403 - val_acc: 0.6335\n",
      "Epoch 6/25\n",
      " - 11s - loss: 0.6166 - acc: 0.6555 - val_loss: 0.6394 - val_acc: 0.6318\n",
      "Epoch 7/25\n",
      " - 11s - loss: 0.6073 - acc: 0.6686 - val_loss: 0.6367 - val_acc: 0.6416\n",
      "Epoch 8/25\n",
      " - 11s - loss: 0.6055 - acc: 0.6724 - val_loss: 0.6348 - val_acc: 0.6409\n",
      "Epoch 9/25\n",
      " - 11s - loss: 0.5942 - acc: 0.6789 - val_loss: 0.6360 - val_acc: 0.6343\n",
      "Epoch 10/25\n",
      " - 11s - loss: 0.5875 - acc: 0.6835 - val_loss: 0.6259 - val_acc: 0.6470\n",
      "Epoch 11/25\n",
      " - 11s - loss: 0.5799 - acc: 0.6872 - val_loss: 0.6201 - val_acc: 0.6503\n",
      "Epoch 12/25\n",
      " - 11s - loss: 0.5729 - acc: 0.6966 - val_loss: 0.6197 - val_acc: 0.6548\n",
      "Epoch 13/25\n",
      " - 11s - loss: 0.5651 - acc: 0.7006 - val_loss: 0.6205 - val_acc: 0.6560\n",
      "Epoch 14/25\n",
      " - 11s - loss: 0.5643 - acc: 0.7011 - val_loss: 0.6210 - val_acc: 0.6536\n",
      "Epoch 15/25\n",
      " - 11s - loss: 0.5589 - acc: 0.7057 - val_loss: 0.6163 - val_acc: 0.6546\n",
      "Epoch 16/25\n",
      " - 11s - loss: 0.5611 - acc: 0.7035 - val_loss: 0.6240 - val_acc: 0.6593\n",
      "Epoch 17/25\n",
      " - 11s - loss: 0.5556 - acc: 0.7114 - val_loss: 0.6159 - val_acc: 0.6592\n",
      "Epoch 18/25\n",
      " - 11s - loss: 0.5583 - acc: 0.7058 - val_loss: 0.6169 - val_acc: 0.6561\n",
      "Epoch 19/25\n",
      " - 11s - loss: 0.5519 - acc: 0.7158 - val_loss: 0.6200 - val_acc: 0.6571\n",
      "Epoch 20/25\n",
      " - 11s - loss: 0.5498 - acc: 0.7094 - val_loss: 0.6220 - val_acc: 0.6570\n",
      "Epoch 21/25\n",
      " - 11s - loss: 0.5502 - acc: 0.7131 - val_loss: 0.6227 - val_acc: 0.6593\n",
      "Epoch 22/25\n",
      " - 11s - loss: 0.5502 - acc: 0.7168 - val_loss: 0.6202 - val_acc: 0.6592\n",
      "Epoch 23/25\n",
      " - 11s - loss: 0.5492 - acc: 0.7128 - val_loss: 0.6194 - val_acc: 0.6548\n",
      "Epoch 24/25\n",
      " - 11s - loss: 0.5434 - acc: 0.7158 - val_loss: 0.6251 - val_acc: 0.6552\n",
      "Epoch 25/25\n",
      " - 12s - loss: 0.5440 - acc: 0.7205 - val_loss: 0.6184 - val_acc: 0.6582\n",
      "model saved as:  model_no_pool10.h5\n"
     ]
    }
   ],
   "source": [
    "make_model(x_train, y_train, x_test, y_test, filt_width=10, epochs=epochs)"
   ]
  },
  {
   "cell_type": "code",
   "execution_count": 34,
   "metadata": {},
   "outputs": [
    {
     "name": "stdout",
     "output_type": "stream",
     "text": [
      "Train on 15822 samples, validate on 6781 samples\n",
      "Epoch 1/25\n",
      " - 13s - loss: 0.6911 - acc: 0.5423 - val_loss: 0.6566 - val_acc: 0.6111\n",
      "Epoch 2/25\n",
      " - 12s - loss: 0.6470 - acc: 0.6221 - val_loss: 0.6461 - val_acc: 0.6248\n",
      "Epoch 3/25\n",
      " - 11s - loss: 0.6297 - acc: 0.6425 - val_loss: 0.6437 - val_acc: 0.6322\n",
      "Epoch 4/25\n",
      " - 11s - loss: 0.6136 - acc: 0.6640 - val_loss: 0.6278 - val_acc: 0.6362\n",
      "Epoch 5/25\n",
      " - 11s - loss: 0.5998 - acc: 0.6728 - val_loss: 0.6230 - val_acc: 0.6524\n",
      "Epoch 6/25\n",
      " - 11s - loss: 0.5909 - acc: 0.6832 - val_loss: 0.6172 - val_acc: 0.6552\n",
      "Epoch 7/25\n",
      " - 11s - loss: 0.5827 - acc: 0.6895 - val_loss: 0.6120 - val_acc: 0.6586\n",
      "Epoch 8/25\n",
      " - 11s - loss: 0.5719 - acc: 0.6968 - val_loss: 0.6132 - val_acc: 0.6579\n",
      "Epoch 9/25\n",
      " - 11s - loss: 0.5661 - acc: 0.6976 - val_loss: 0.6129 - val_acc: 0.6506\n",
      "Epoch 10/25\n",
      " - 11s - loss: 0.5609 - acc: 0.7034 - val_loss: 0.6155 - val_acc: 0.6580\n",
      "Epoch 11/25\n",
      " - 11s - loss: 0.5580 - acc: 0.7056 - val_loss: 0.6166 - val_acc: 0.6573\n",
      "Epoch 12/25\n",
      " - 11s - loss: 0.5549 - acc: 0.7095 - val_loss: 0.6125 - val_acc: 0.6590\n",
      "Epoch 13/25\n",
      " - 11s - loss: 0.5497 - acc: 0.7098 - val_loss: 0.6208 - val_acc: 0.6545\n",
      "Epoch 14/25\n",
      " - 11s - loss: 0.5475 - acc: 0.7151 - val_loss: 0.6162 - val_acc: 0.6579\n",
      "Epoch 15/25\n",
      " - 11s - loss: 0.5473 - acc: 0.7139 - val_loss: 0.6148 - val_acc: 0.6588\n",
      "Epoch 16/25\n",
      " - 11s - loss: 0.5426 - acc: 0.7217 - val_loss: 0.6159 - val_acc: 0.6632\n",
      "Epoch 17/25\n",
      " - 11s - loss: 0.5414 - acc: 0.7215 - val_loss: 0.6135 - val_acc: 0.6599\n",
      "Epoch 18/25\n",
      " - 11s - loss: 0.5398 - acc: 0.7207 - val_loss: 0.6159 - val_acc: 0.6630\n",
      "Epoch 19/25\n",
      " - 11s - loss: 0.5381 - acc: 0.7239 - val_loss: 0.6155 - val_acc: 0.6555\n",
      "Epoch 20/25\n",
      " - 11s - loss: 0.5394 - acc: 0.7266 - val_loss: 0.6144 - val_acc: 0.6552\n",
      "Epoch 21/25\n",
      " - 11s - loss: 0.5331 - acc: 0.7240 - val_loss: 0.6166 - val_acc: 0.6588\n",
      "Epoch 22/25\n",
      " - 11s - loss: 0.5333 - acc: 0.7251 - val_loss: 0.6191 - val_acc: 0.6565\n",
      "Epoch 23/25\n",
      " - 11s - loss: 0.5338 - acc: 0.7227 - val_loss: 0.6200 - val_acc: 0.6545\n",
      "Epoch 24/25\n",
      " - 11s - loss: 0.5319 - acc: 0.7272 - val_loss: 0.6187 - val_acc: 0.6543\n",
      "Epoch 25/25\n",
      " - 11s - loss: 0.5275 - acc: 0.7340 - val_loss: 0.6175 - val_acc: 0.6586\n",
      "model saved as:  model_no_pool12.h5\n"
     ]
    }
   ],
   "source": [
    "make_model(x_train, y_train, x_test, y_test, filt_width=12, epochs=epochs)"
   ]
  },
  {
   "cell_type": "markdown",
   "metadata": {},
   "source": [
    "## Make an ensemble with these models"
   ]
  },
  {
   "cell_type": "code",
   "execution_count": 35,
   "metadata": {},
   "outputs": [],
   "source": [
    "#load all the models\n",
    "import keras\n",
    "model_no_pool3 = keras.models.load_model('model_no_pool3.h5')\n",
    "model_no_pool4 = keras.models.load_model('model_no_pool4.h5')\n",
    "model_no_pool5 = keras.models.load_model('model_no_pool5.h5')\n",
    "model_no_pool6 = keras.models.load_model('model_no_pool6.h5')\n",
    "model_no_pool8 = keras.models.load_model('model_no_pool8.h5')\n",
    "model_no_pool10 = keras.models.load_model('model_no_pool10.h5')\n",
    "model_no_pool12 = keras.models.load_model('model_no_pool12.h5')\n"
   ]
  },
  {
   "cell_type": "code",
   "execution_count": 36,
   "metadata": {},
   "outputs": [
    {
     "name": "stdout",
     "output_type": "stream",
     "text": [
      "Train acc\n"
     ]
    },
    {
     "data": {
      "text/plain": [
       "0.7737327771457464"
      ]
     },
     "execution_count": 36,
     "metadata": {},
     "output_type": "execute_result"
    }
   ],
   "source": [
    "x = x_train\n",
    "y = y_train\n",
    "\n",
    "y_pred3 = model_no_pool3.predict(x)\n",
    "y_pred4 = model_no_pool4.predict(x)\n",
    "y_pred5 = model_no_pool5.predict(x)\n",
    "y_pred6 = model_no_pool6.predict(x)\n",
    "y_pred8 = model_no_pool8.predict(x)\n",
    "y_pred10 = model_no_pool10.predict(x)\n",
    "y_pred12 = model_no_pool12.predict(x)\n",
    "\n",
    "y_pred_total = np.round((y_pred3 + y_pred4 + y_pred5 + y_pred6 + y_pred8 + y_pred10 + y_pred12)/7)\n",
    "\n",
    "z = y_pred_total == np.reshape(y, [-1,1])\n",
    "\n",
    "print('Train acc')\n",
    "np.sum(z)/len(z)"
   ]
  },
  {
   "cell_type": "code",
   "execution_count": 37,
   "metadata": {},
   "outputs": [
    {
     "name": "stdout",
     "output_type": "stream",
     "text": [
      "Test acc\n"
     ]
    },
    {
     "data": {
      "text/plain": [
       "0.66376640613478843"
      ]
     },
     "execution_count": 37,
     "metadata": {},
     "output_type": "execute_result"
    }
   ],
   "source": [
    "x = x_test\n",
    "y = y_test\n",
    "\n",
    "y_pred3 = model_no_pool3.predict(x)\n",
    "y_pred4 = model_no_pool4.predict(x)\n",
    "y_pred5 = model_no_pool5.predict(x)\n",
    "y_pred6 = model_no_pool6.predict(x)\n",
    "y_pred8 = model_no_pool8.predict(x)\n",
    "y_pred10 = model_no_pool10.predict(x)\n",
    "y_pred12 = model_no_pool12.predict(x)\n",
    "\n",
    "y_pred_total = np.round((y_pred3 + y_pred4 + y_pred5 + y_pred6 + y_pred8 + y_pred10 + y_pred12)/7)\n",
    "\n",
    "z = y_pred_total == np.reshape(y, [-1,1])\n",
    "\n",
    "print('Test acc')\n",
    "np.sum(z)/len(z)"
   ]
  },
  {
   "cell_type": "code",
   "execution_count": null,
   "metadata": {},
   "outputs": [],
   "source": []
  },
  {
   "cell_type": "code",
   "execution_count": null,
   "metadata": {},
   "outputs": [],
   "source": []
  },
  {
   "cell_type": "markdown",
   "metadata": {},
   "source": [
    "# Filter Vizualization"
   ]
  },
  {
   "cell_type": "code",
   "execution_count": null,
   "metadata": {},
   "outputs": [],
   "source": [
    "#try to vizulaize the filters\n",
    "weights = model_no_pool8.get_weights()"
   ]
  },
  {
   "cell_type": "code",
   "execution_count": null,
   "metadata": {},
   "outputs": [],
   "source": [
    "weights[0].shape"
   ]
  },
  {
   "cell_type": "code",
   "execution_count": null,
   "metadata": {},
   "outputs": [],
   "source": [
    "#I'm expecting 10 filters that are 8 x 20\n",
    "#if I'm interpreting this correctly the weights[0] is and array [8x20 filter, 10 filters]\n",
    "\n",
    "import matplotlib.pyplot as plt\n",
    "%matplotlib inline\n",
    "\n",
    "plt.figure(figsize=(30,5))\n",
    "for ind in range(1,11):\n",
    "    w = weights[0][:,:,ind-1]\n",
    "    plt.subplot(2,5,ind)\n",
    "    plt.imshow(w)\n",
    "    plt.colorbar()"
   ]
  },
  {
   "cell_type": "markdown",
   "metadata": {},
   "source": [
    "since the data only has a single hot pixel in each row, I would expect to see similar patterns in the filters, but this doesn't look much like that so maybe there is some more work to be done here or my expecation is wrong."
   ]
  },
  {
   "cell_type": "code",
   "execution_count": null,
   "metadata": {},
   "outputs": [],
   "source": []
  }
 ],
 "metadata": {
  "anaconda-cloud": {},
  "kernelspec": {
   "display_name": "Python 3",
   "language": "python",
   "name": "python3"
  },
  "language_info": {
   "codemirror_mode": {
    "name": "ipython",
    "version": 3
   },
   "file_extension": ".py",
   "mimetype": "text/x-python",
   "name": "python",
   "nbconvert_exporter": "python",
   "pygments_lexer": "ipython3",
   "version": "3.6.4"
  }
 },
 "nbformat": 4,
 "nbformat_minor": 1
}
