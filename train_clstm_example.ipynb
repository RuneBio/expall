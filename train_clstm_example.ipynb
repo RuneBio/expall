{
 "cells": [
  {
   "cell_type": "code",
   "execution_count": 1,
   "metadata": {},
   "outputs": [
    {
     "name": "stderr",
     "output_type": "stream",
     "text": [
      "/Users/joshsmith/Git/NovoNordisk_Capstone/.env/lib/python3.6/site-packages/h5py/__init__.py:36: FutureWarning: Conversion of the second argument of issubdtype from `float` to `np.floating` is deprecated. In future, it will be treated as `np.float64 == np.dtype(float).type`.\n",
      "  from ._conv import register_converters as _register_converters\n",
      "Using TensorFlow backend.\n"
     ]
    }
   ],
   "source": [
    "import pandas as pd\n",
    "import matplotlib.pyplot as plt\n",
    "%matplotlib inline\n",
    "\n",
    "from keras import backend as K\n",
    "from ndac.data_processing import quantile_classify, encode_sequence\n",
    "from ndac.predict import train_clstm"
   ]
  },
  {
   "cell_type": "code",
   "execution_count": 2,
   "metadata": {},
   "outputs": [],
   "source": [
    "# read in sequence/property data\n",
    "data = pd.read_csv('dataframes/DF_prest.csv', index_col=0)"
   ]
  },
  {
   "cell_type": "markdown",
   "metadata": {},
   "source": [
    "# train with nucleotide seq"
   ]
  },
  {
   "cell_type": "code",
   "execution_count": 3,
   "metadata": {},
   "outputs": [
    {
     "name": "stdout",
     "output_type": "stream",
     "text": [
      "45206 samples input.\n",
      "11303 samples above high cut, 11302 samples below low cut, 22601 samples removed.\n",
      "WARNING:tensorflow:From /Users/joshsmith/Git/NovoNordisk_Capstone/.env/lib/python3.6/site-packages/tensorflow/python/util/deprecation.py:497: calling conv1d (from tensorflow.python.ops.nn_ops) with data_format=NHWC is deprecated and will be removed in a future version.\n",
      "Instructions for updating:\n",
      "`NHWC` for data_format is deprecated, use `NWC` instead\n",
      "_________________________________________________________________\n",
      "Layer (type)                 Output Shape              Param #   \n",
      "=================================================================\n",
      "embedding_1 (Embedding)      (None, 200, 4)            296       \n",
      "_________________________________________________________________\n",
      "conv1d_1 (Conv1D)            (None, 200, 128)          1664      \n",
      "_________________________________________________________________\n",
      "max_pooling1d_1 (MaxPooling1 (None, 100, 128)          0         \n",
      "_________________________________________________________________\n",
      "lstm_1 (LSTM)                (None, 100)               91600     \n",
      "_________________________________________________________________\n",
      "dense_1 (Dense)              (None, 1)                 101       \n",
      "=================================================================\n",
      "Total params: 93,661\n",
      "Trainable params: 93,661\n",
      "Non-trainable params: 0\n",
      "_________________________________________________________________\n",
      "None\n",
      "Epoch 1/10\n",
      "15678/15678 [==============================] - 25s 2ms/step - loss: 0.6826 - acc: 0.5529\n",
      "Epoch 2/10\n",
      "15678/15678 [==============================] - 24s 2ms/step - loss: 0.6508 - acc: 0.6200\n",
      "Epoch 3/10\n",
      "15678/15678 [==============================] - 25s 2ms/step - loss: 0.6420 - acc: 0.6332\n",
      "Epoch 4/10\n",
      "15678/15678 [==============================] - 24s 2ms/step - loss: 0.6362 - acc: 0.6401\n",
      "Epoch 5/10\n",
      "15678/15678 [==============================] - 24s 2ms/step - loss: 0.6315 - acc: 0.6458\n",
      "Epoch 6/10\n",
      "15678/15678 [==============================] - 24s 2ms/step - loss: 0.6263 - acc: 0.6501\n",
      "Epoch 7/10\n",
      "15678/15678 [==============================] - 24s 2ms/step - loss: 0.6216 - acc: 0.6564\n",
      "Epoch 8/10\n",
      "15678/15678 [==============================] - 24s 2ms/step - loss: 0.6186 - acc: 0.6577\n",
      "Epoch 9/10\n",
      "15678/15678 [==============================] - 24s 2ms/step - loss: 0.6104 - acc: 0.6709\n",
      "Epoch 10/10\n",
      "15678/15678 [==============================] - 24s 2ms/step - loss: 0.6121 - acc: 0.6643\n",
      "Accuracy: 64.60%\n"
     ]
    },
    {
     "data": {
      "image/png": "[encoded data removed]",
      "text/plain": [
       "<Figure size 432x288 with 1 Axes>"
      ]
     },
     "metadata": {},
     "output_type": "display_data"
    }
   ],
   "source": [
    "# split quantiles and encode with nucleotide sequence\n",
    "df, hist = quantile_classify(data['conc_cf'], data['nt_seq'],\n",
    "                             low_cut=0.25, high_cut=0.75)\n",
    "X, y = encode_sequence(df['nt_seq'], df['class'],\n",
    "                       max_length=200, tag='GACAAGCTTGCGGCCGCA')\n",
    "\n",
    "nt_model = train_clstm(X, y, test_fraction=0.3, \n",
    "                       epochs=10)"
   ]
  },
  {
   "cell_type": "code",
   "execution_count": 27,
   "metadata": {},
   "outputs": [
    {
     "data": {
      "text/plain": [
       "<matplotlib.image.AxesImage at 0x119c149b0>"
      ]
     },
     "execution_count": 27,
     "metadata": {},
     "output_type": "execute_result"
    },
    {
     "data": {
      "image/png": "[encoded data removed]",
      "text/plain": [
       "<Figure size 720x72 with 1 Axes>"
      ]
     },
     "metadata": {},
     "output_type": "display_data"
    }
   ],
   "source": [
    "# Visualize embedded sequence after training nt_model\n",
    "get_1st_layer_output = K.function([nt_model.layers[0].input, K.learning_phase()],\n",
    "                                  [nt_model.layers[0].output])\n",
    "\n",
    "x = X[0].reshape(-1,200)  # after using keras Tokenizer on X\n",
    "# output in train mode = 1\n",
    "layer_output = get_1st_layer_output([x, 1])[0]\n",
    "\n",
    "plt.figure(figsize=(10, 1))\n",
    "plt.imshow(layer_output[0].T)"
   ]
  },
  {
   "cell_type": "markdown",
   "metadata": {},
   "source": [
    "# train with amino acid sequence"
   ]
  },
  {
   "cell_type": "code",
   "execution_count": 28,
   "metadata": {
    "scrolled": true
   },
   "outputs": [
    {
     "name": "stdout",
     "output_type": "stream",
     "text": [
      "45206 samples input.\n",
      "11303 samples above high cut, 11302 samples below low cut, 22601 samples removed.\n",
      "_________________________________________________________________\n",
      "Layer (type)                 Output Shape              Param #   \n",
      "=================================================================\n",
      "embedding_2 (Embedding)      (None, 200, 4)            84        \n",
      "_________________________________________________________________\n",
      "conv1d_2 (Conv1D)            (None, 200, 128)          1664      \n",
      "_________________________________________________________________\n",
      "max_pooling1d_2 (MaxPooling1 (None, 100, 128)          0         \n",
      "_________________________________________________________________\n",
      "lstm_2 (LSTM)                (None, 100)               91600     \n",
      "_________________________________________________________________\n",
      "dense_2 (Dense)              (None, 1)                 101       \n",
      "=================================================================\n",
      "Total params: 93,449\n",
      "Trainable params: 93,449\n",
      "Non-trainable params: 0\n",
      "_________________________________________________________________\n",
      "None\n",
      "Epoch 1/3\n",
      "15823/15823 [==============================] - 25s 2ms/step - loss: 0.6946 - acc: 0.5392\n",
      "Epoch 2/3\n",
      "15823/15823 [==============================] - 24s 2ms/step - loss: 0.6626 - acc: 0.6014\n",
      "Epoch 3/3\n",
      "15823/15823 [==============================] - 24s 1ms/step - loss: 0.6473 - acc: 0.6250\n",
      "Accuracy: 65.25%\n"
     ]
    },
    {
     "data": {
      "image/png": "[encoded data removed]",
      "text/plain": [
       "<Figure size 432x288 with 1 Axes>"
      ]
     },
     "metadata": {},
     "output_type": "display_data"
    }
   ],
   "source": [
    "df, hist = quantile_classify(data['conc_cf'], data['aa_seq'])\n",
    "X, y = encode_sequence(df['aa_seq'], df['class'],\n",
    "                       max_length=200)\n",
    "\n",
    "aa_model = train_clstm(X, y, test_fraction=0.3, epochs=3)"
   ]
  },
  {
   "cell_type": "code",
   "execution_count": 29,
   "metadata": {},
   "outputs": [
    {
     "data": {
      "text/plain": [
       "<matplotlib.image.AxesImage at 0x11aac3b00>"
      ]
     },
     "execution_count": 29,
     "metadata": {},
     "output_type": "execute_result"
    },
    {
     "data": {
      "image/png": "[encoded data removed]",
      "text/plain": [
       "<Figure size 720x72 with 1 Axes>"
      ]
     },
     "metadata": {},
     "output_type": "display_data"
    }
   ],
   "source": [
    "# Visualize embedded sequence after training aa_model\n",
    "get_1st_layer_output = K.function([aa_model.layers[0].input, K.learning_phase()],\n",
    "                                  [aa_model.layers[0].output])\n",
    "\n",
    "x = X[0].reshape(-1,200)  # after using keras Tokenizer on X\n",
    "# output in train mode = 1\n",
    "layer_output = get_1st_layer_output([x, 1])[0]\n",
    "\n",
    "plt.figure(figsize=(10, 1))\n",
    "plt.imshow(layer_output[0].T)"
   ]
  },
  {
   "cell_type": "markdown",
   "metadata": {},
   "source": [
    "# solubility multiclass"
   ]
  },
  {
   "cell_type": "code",
   "execution_count": 2,
   "metadata": {},
   "outputs": [],
   "source": [
    "# read in sequence/property data\n",
    "data = pd.read_csv('dataframes/DF_solubility.csv', index_col=0)"
   ]
  },
  {
   "cell_type": "code",
   "execution_count": 3,
   "metadata": {},
   "outputs": [
    {
     "name": "stdout",
     "output_type": "stream",
     "text": [
      "WARNING:tensorflow:From /Users/joshsmith/Git/NovoNordisk_Capstone/.env/lib/python3.6/site-packages/tensorflow/python/util/deprecation.py:497: calling conv1d (from tensorflow.python.ops.nn_ops) with data_format=NHWC is deprecated and will be removed in a future version.\n",
      "Instructions for updating:\n",
      "`NHWC` for data_format is deprecated, use `NWC` instead\n",
      "_________________________________________________________________\n",
      "Layer (type)                 Output Shape              Param #   \n",
      "=================================================================\n",
      "embedding_1 (Embedding)      (None, 200, 4)            84        \n",
      "_________________________________________________________________\n",
      "conv1d_1 (Conv1D)            (None, 200, 128)          1664      \n",
      "_________________________________________________________________\n",
      "max_pooling1d_1 (MaxPooling1 (None, 100, 128)          0         \n",
      "_________________________________________________________________\n",
      "lstm_1 (LSTM)                (None, 100)               91600     \n",
      "_________________________________________________________________\n",
      "dense_1 (Dense)              (None, 6)                 606       \n",
      "=================================================================\n",
      "Total params: 93,954\n",
      "Trainable params: 93,954\n",
      "Non-trainable params: 0\n",
      "_________________________________________________________________\n",
      "None\n",
      "Epoch 1/10\n",
      "11257/11257 [==============================] - 17s 1ms/step - loss: 1.3240 - acc: 0.4590\n",
      "Epoch 2/10\n",
      "11257/11257 [==============================] - 17s 1ms/step - loss: 1.2043 - acc: 0.4680\n",
      "Epoch 3/10\n",
      "11257/11257 [==============================] - 18s 2ms/step - loss: 1.1536 - acc: 0.4771\n",
      "Epoch 4/10\n",
      "11257/11257 [==============================] - 17s 2ms/step - loss: 1.1482 - acc: 0.4773\n",
      "Epoch 5/10\n",
      "11257/11257 [==============================] - 17s 2ms/step - loss: 1.1410 - acc: 0.4825\n",
      "Epoch 6/10\n",
      "11257/11257 [==============================] - 16s 1ms/step - loss: 1.1415 - acc: 0.4747\n",
      "Epoch 7/10\n",
      "11257/11257 [==============================] - 17s 2ms/step - loss: 1.1347 - acc: 0.4827\n",
      "Epoch 8/10\n",
      "11257/11257 [==============================] - 18s 2ms/step - loss: 1.1293 - acc: 0.4857\n",
      "Epoch 9/10\n",
      "11257/11257 [==============================] - 18s 2ms/step - loss: 1.1290 - acc: 0.4841\n",
      "Epoch 10/10\n",
      "11257/11257 [==============================] - 17s 2ms/step - loss: 1.1255 - acc: 0.4862\n",
      "Accuracy: 47.77%\n"
     ]
    }
   ],
   "source": [
    "X, y = encode_sequence(data['aa_seq'], data['solubility_class_1M'],\n",
    "                       max_length=200)\n",
    "aa_model = train_clstm(X, y, test_fraction=0.3, epochs=10)"
   ]
  },
  {
   "cell_type": "code",
   "execution_count": null,
   "metadata": {},
   "outputs": [],
   "source": []
  }
 ],
 "metadata": {
  "anaconda-cloud": {},
  "kernelspec": {
   "display_name": "Novo Capstone",
   "language": "python",
   "name": "novo"
  },
  "language_info": {
   "codemirror_mode": {
    "name": "ipython",
    "version": 3
   },
   "file_extension": ".py",
   "mimetype": "text/x-python",
   "name": "python",
   "nbconvert_exporter": "python",
   "pygments_lexer": "ipython3",
   "version": "3.6.4"
  }
 },
 "nbformat": 4,
 "nbformat_minor": 2
}
