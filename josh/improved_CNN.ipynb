{
 "cells": [
  {
   "cell_type": "code",
   "execution_count": 1,
   "metadata": {
    "collapsed": false
   },
   "outputs": [],
   "source": [
    "import numpy as np\n",
    "import pandas as pd\n",
    "\n",
    "# stuck with the CPU version for now...\n",
    "high_exp = pd.read_csv(\"high_exp.csv\", index_col=0)\n",
    "low_exp = pd.read_csv(\"low_exp.csv\", index_col=0)\n",
    "\n",
    "data_df = pd.concat([high_exp, low_exp], axis=0)\n",
    "\n",
    "def string_to_matrix(color_string):\n",
    "    color_string = str(color_string)\n",
    "    list_of_strings = color_string.replace('[', '').replace(']', '').split('\\n')\n",
    "    list_of_lists = [channels.strip().split() \n",
    "                     for channels in list_of_strings\n",
    "                     if 'nan' not in list_of_strings\n",
    "                    ]\n",
    "    remaining_pad = 181 - len(list_of_lists)\n",
    "    while remaining_pad > 0:\n",
    "        list_of_lists.append(list([0, 0, 0, 0]))\n",
    "        remaining_pad = remaining_pad - 1\n",
    "    \n",
    "    return np.array(list_of_lists).astype(np.float)\n",
    "\n",
    "data_df['color_matrix'] = data_df['color_matrix'].apply(string_to_matrix)\n",
    "\n",
    "# create train test split\n",
    "from sklearn.model_selection import train_test_split\n",
    "\n",
    "X = np.zeros((22604, 181, 4))\n",
    "for idx, colors in enumerate(data_df['color_matrix'].values):\n",
    "    X[idx, :, :] = colors\n",
    "    \n",
    "y = data_df['class'].values\n",
    "\n",
    "x_train, x_test, y_train, y_test = train_test_split(\n",
    "    X, y, test_size=0.3, random_state=42)"
   ]
  },
  {
   "cell_type": "code",
   "execution_count": 2,
   "metadata": {
    "collapsed": false
   },
   "outputs": [
    {
     "name": "stderr",
     "output_type": "stream",
     "text": [
      "Using TensorFlow backend.\n"
     ]
    },
    {
     "name": "stdout",
     "output_type": "stream",
     "text": [
      "WARNING:tensorflow:From /Users/jksmith/Git/Protein_ML/.env/lib/python3.6/site-packages/tensorflow/python/util/deprecation.py:497: calling conv1d (from tensorflow.python.ops.nn_ops) with data_format=NHWC is deprecated and will be removed in a future version.\n",
      "Instructions for updating:\n",
      "`NHWC` for data_format is deprecated, use `NWC` instead\n"
     ]
    }
   ],
   "source": [
    "from keras.models import Sequential\n",
    "from keras.layers import Dense, Dropout, Flatten\n",
    "from keras.layers import Conv1D, MaxPooling1D\n",
    "\n",
    "model = Sequential()\n",
    "model.add(Conv1D(100, 10, activation='relu', input_shape=(181, 4)))\n",
    "model.add(MaxPooling1D(pool_size=10))\n",
    "model.add(Flatten())\n",
    "# model.add(Dense(32))\n",
    "# model.add(Dropout(0.5))\n",
    "model.add(Dense(1, activation='sigmoid'))\n",
    "\n",
    "model.compile(loss='binary_crossentropy',\n",
    "              optimizer='rmsprop',\n",
    "              metrics=['accuracy'])"
   ]
  },
  {
   "cell_type": "code",
   "execution_count": 3,
   "metadata": {
    "collapsed": false
   },
   "outputs": [
    {
     "name": "stdout",
     "output_type": "stream",
     "text": [
      "Epoch 1/10\n",
      "15822/15822 [==============================] - 2s 156us/step - loss: 0.6928 - acc: 0.5212\n",
      "Epoch 2/10\n",
      "15822/15822 [==============================] - 2s 147us/step - loss: 0.6884 - acc: 0.5370\n",
      "Epoch 3/10\n",
      "15822/15822 [==============================] - 2s 147us/step - loss: 0.6861 - acc: 0.5480\n",
      "Epoch 4/10\n",
      "15822/15822 [==============================] - 2s 150us/step - loss: 0.6827 - acc: 0.5611\n",
      "Epoch 5/10\n",
      "15822/15822 [==============================] - 2s 147us/step - loss: 0.6781 - acc: 0.5714\n",
      "Epoch 6/10\n",
      "15822/15822 [==============================] - 2s 148us/step - loss: 0.6735 - acc: 0.5842\n",
      "Epoch 7/10\n",
      "15822/15822 [==============================] - 2s 146us/step - loss: 0.6683 - acc: 0.5955\n",
      "Epoch 8/10\n",
      "15822/15822 [==============================] - 2s 147us/step - loss: 0.6631 - acc: 0.6061\n",
      "Epoch 9/10\n",
      "15822/15822 [==============================] - 2s 148us/step - loss: 0.6577 - acc: 0.6165\n",
      "Epoch 10/10\n",
      "15822/15822 [==============================] - 2s 151us/step - loss: 0.6512 - acc: 0.6230\n",
      "6782/6782 [==============================] - 0s 49us/step\n"
     ]
    }
   ],
   "source": [
    "model.fit(x_train, y_train, batch_size=50, epochs=10)\n",
    "score = model.evaluate(x_test, y_test, batch_size=50)"
   ]
  },
  {
   "cell_type": "code",
   "execution_count": null,
   "metadata": {
    "collapsed": true
   },
   "outputs": [],
   "source": []
  }
 ],
 "metadata": {
  "kernelspec": {
   "display_name": "Novo",
   "language": "python",
   "name": "novo"
  },
  "language_info": {
   "codemirror_mode": {
    "name": "ipython",
    "version": 3
   },
   "file_extension": ".py",
   "mimetype": "text/x-python",
   "name": "python",
   "nbconvert_exporter": "python",
   "pygments_lexer": "ipython3",
   "version": "3.6.5"
  }
 },
 "nbformat": 4,
 "nbformat_minor": 0
}
