{
 "cells": [
  {
   "cell_type": "code",
   "execution_count": 1,
   "metadata": {
    "collapsed": true
   },
   "outputs": [],
   "source": [
    "import pandas as pd\n",
    "import numpy as np"
   ]
  },
  {
   "cell_type": "code",
   "execution_count": 13,
   "metadata": {
    "collapsed": true
   },
   "outputs": [],
   "source": [
    "# read all color dataframes...\n",
    "color_1 = pd.read_csv(\"DF_color_1.csv\", index_col=0)\n",
    "color_2 = pd.read_csv(\"DF_color_2.csv\", index_col=0)\n",
    "color_3 = pd.read_csv(\"DF_color_3.csv\", index_col=0)\n",
    "color_4 = pd.read_csv(\"DF_color_4.csv\", index_col=0)\n",
    "\n",
    "color_df = pd.concat([color_1, color_2, color_3, color_4], axis=0)"
   ]
  },
  {
   "cell_type": "code",
   "execution_count": 15,
   "metadata": {
    "collapsed": false
   },
   "outputs": [],
   "source": [
    "# identify high and low classes by conc_cf quantiles\n",
    "low_cut = color_df['conc_cf'].quantile(0.25)\n",
    "high_cut = color_df['conc_cf'].quantile(0.75)\n",
    "\n",
    "low_exp_df = color_df[color_df['conc_cf'] < low_cut]\n",
    "high_exp_df = color_df[color_df['conc_cf'] > high_cut]"
   ]
  },
  {
   "cell_type": "code",
   "execution_count": 16,
   "metadata": {
    "collapsed": false
   },
   "outputs": [
    {
     "name": "stdout",
     "output_type": "stream",
     "text": [
      "(11302, 4) (11302, 4)\n"
     ]
    }
   ],
   "source": [
    "print(low_exp_df.shape, high_exp_df.shape)"
   ]
  },
  {
   "cell_type": "code",
   "execution_count": 17,
   "metadata": {
    "collapsed": false
   },
   "outputs": [
    {
     "name": "stderr",
     "output_type": "stream",
     "text": [
      "/Users/jksmith/Git/Protein_ML/.env/lib/python3.6/site-packages/ipykernel_launcher.py:1: SettingWithCopyWarning: \n",
      "A value is trying to be set on a copy of a slice from a DataFrame.\n",
      "Try using .loc[row_indexer,col_indexer] = value instead\n",
      "\n",
      "See the caveats in the documentation: http://pandas.pydata.org/pandas-docs/stable/indexing.html#indexing-view-versus-copy\n",
      "  \"\"\"Entry point for launching an IPython kernel.\n",
      "/Users/jksmith/Git/Protein_ML/.env/lib/python3.6/site-packages/ipykernel_launcher.py:2: SettingWithCopyWarning: \n",
      "A value is trying to be set on a copy of a slice from a DataFrame.\n",
      "Try using .loc[row_indexer,col_indexer] = value instead\n",
      "\n",
      "See the caveats in the documentation: http://pandas.pydata.org/pandas-docs/stable/indexing.html#indexing-view-versus-copy\n",
      "  \n"
     ]
    }
   ],
   "source": [
    "# set classes for high vs. low expression\n",
    "low_exp_df['class'] = 0\n",
    "high_exp_df['class'] = 1"
   ]
  },
  {
   "cell_type": "code",
   "execution_count": 18,
   "metadata": {
    "collapsed": false
   },
   "outputs": [
    {
     "name": "stdout",
     "output_type": "stream",
     "text": [
      "(11302, 5) (11302, 5)\n"
     ]
    }
   ],
   "source": [
    "print(low_exp_df.shape, high_exp_df.shape)"
   ]
  },
  {
   "cell_type": "code",
   "execution_count": 22,
   "metadata": {
    "collapsed": false
   },
   "outputs": [],
   "source": [
    "# write high and low dataframes to csv\n",
    "low_exp_df.to_csv('low_exp.csv')\n",
    "high_exp_df.to_csv('high_exp.csv')"
   ]
  },
  {
   "cell_type": "code",
   "execution_count": null,
   "metadata": {
    "collapsed": true
   },
   "outputs": [],
   "source": []
  }
 ],
 "metadata": {
  "kernelspec": {
   "display_name": "Novo",
   "language": "python",
   "name": "novo"
  },
  "language_info": {
   "codemirror_mode": {
    "name": "ipython",
    "version": 3
   },
   "file_extension": ".py",
   "mimetype": "text/x-python",
   "name": "python",
   "nbconvert_exporter": "python",
   "pygments_lexer": "ipython3",
   "version": "3.6.5"
  }
 },
 "nbformat": 4,
 "nbformat_minor": 0
}
