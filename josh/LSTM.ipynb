{
 "cells": [
  {
   "cell_type": "code",
   "execution_count": 1,
   "metadata": {},
   "outputs": [
    {
     "name": "stderr",
     "output_type": "stream",
     "text": [
      "/Users/joshsmith/Git/NovoNordisk_Capstone/.env/lib/python3.6/site-packages/h5py/__init__.py:36: FutureWarning: Conversion of the second argument of issubdtype from `float` to `np.floating` is deprecated. In future, it will be treated as `np.float64 == np.dtype(float).type`.\n",
      "  from ._conv import register_converters as _register_converters\n",
      "Using TensorFlow backend.\n"
     ]
    }
   ],
   "source": [
    "import numpy as np\n",
    "import pandas as pd\n",
    "import matplotlib.pyplot as plt\n",
    "%matplotlib inline\n",
    "\n",
    "from keras.preprocessing.text import Tokenizer\n",
    "from sklearn.model_selection import train_test_split\n",
    "from keras.preprocessing import sequence"
   ]
  },
  {
   "cell_type": "code",
   "execution_count": 4,
   "metadata": {},
   "outputs": [
    {
     "name": "stdout",
     "output_type": "stream",
     "text": [
      "data shape:  (22364, 8)\n"
     ]
    }
   ],
   "source": [
    "# read original data from \n",
    "data = pd.read_csv('../dataframes/DF_prest.csv', index_col=0)\n",
    "\n",
    "# setup 'docs' for use with Tokenizer\n",
    "def nt_seq_doc(nt_sequence):\n",
    "    if 'GACAAGCTTGCGGCCGCA' not in nt_sequence:\n",
    "        return None\n",
    "    true_nt = nt_sequence.split('GACAAGCTTGCGGCCGCA')[1]\n",
    "    if len(true_nt) % 3 != 0:\n",
    "        return None\n",
    "    return ' '.join([true_nt[i:i+3] \n",
    "                     for i in range(0, len(true_nt), 3)])\n",
    "# split quantiles\n",
    "def assign_class(conc):\n",
    "    if conc <= low_cut:\n",
    "        return 0\n",
    "    elif conc >= high_cut:\n",
    "        return 1\n",
    "    return\n",
    "\n",
    "data['nt_seq_doc'] = data['nt_seq'].apply(nt_seq_doc)\n",
    "data = data[pd.notnull(data['nt_seq_doc'])]\n",
    "\n",
    "# identify high and low classes by conc_cf quantiles\n",
    "low_cut = data['conc_cf'].quantile(0.25)\n",
    "high_cut = data['conc_cf'].quantile(0.75)\n",
    "\n",
    "data['class'] = data['conc_cf'].apply(assign_class)\n",
    "data = data[pd.notnull(data['class'])]\n",
    "# check shape\n",
    "print('data shape: ', data.shape)"
   ]
  },
  {
   "cell_type": "code",
   "execution_count": 5,
   "metadata": {},
   "outputs": [],
   "source": [
    "# define sequence documents\n",
    "docs = list(data['nt_seq_doc'])\n",
    "# create the tokenizer\n",
    "t = Tokenizer()\n",
    "# fit the tokenizer on the documents\n",
    "t.fit_on_texts(docs)\n",
    "\n",
    "# integer encode documents\n",
    "X = t.texts_to_sequences(docs)\n",
    "y = data['class'].values\n",
    "\n",
    "# create test-train split\n",
    "X_train, X_test, y_train, y_test = train_test_split(\n",
    "    X, y, test_size=0.3, random_state=42)\n",
    "\n",
    "# fix random seed for reproducibility\n",
    "np.random.seed(7)\n",
    "\n",
    "# load the dataset but only keep the top n words, zero the rest\n",
    "top_words = len(t.word_index) + 1\n",
    "\n",
    "# truncate and pad input sequences\n",
    "#seq_lengths = [len(seq) for seq in X]\n",
    "#max_seq_length = max(seq_lengths)\n",
    "max_seq_length = 200\n",
    "X_train = sequence.pad_sequences(X_train, maxlen=max_seq_length)\n",
    "X_test = sequence.pad_sequences(X_test, maxlen=max_seq_length)"
   ]
  },
  {
   "cell_type": "markdown",
   "metadata": {},
   "source": [
    "# Embed codons, learn w/ single Long Short Term Memory Layer"
   ]
  },
  {
   "cell_type": "markdown",
   "metadata": {},
   "source": [
    "### 4 dimensional embedding"
   ]
  },
  {
   "cell_type": "code",
   "execution_count": 4,
   "metadata": {},
   "outputs": [
    {
     "name": "stdout",
     "output_type": "stream",
     "text": [
      "_________________________________________________________________\n",
      "Layer (type)                 Output Shape              Param #   \n",
      "=================================================================\n",
      "embedding_1 (Embedding)      (None, 181, 4)            260       \n",
      "_________________________________________________________________\n",
      "lstm_1 (LSTM)                (None, 100)               42000     \n",
      "_________________________________________________________________\n",
      "dense_1 (Dense)              (None, 1)                 101       \n",
      "=================================================================\n",
      "Total params: 42,361\n",
      "Trainable params: 42,361\n",
      "Non-trainable params: 0\n",
      "_________________________________________________________________\n",
      "None\n",
      "Epoch 1/3\n",
      "15654/15654 [==============================] - 27s 2ms/step - loss: 0.6922 - acc: 0.5111\n",
      "Epoch 2/3\n",
      "15654/15654 [==============================] - 26s 2ms/step - loss: 0.6795 - acc: 0.5687\n",
      "Epoch 3/3\n",
      "15654/15654 [==============================] - 26s 2ms/step - loss: 0.6559 - acc: 0.6158\n",
      "Accuracy: 58.12%\n"
     ]
    }
   ],
   "source": [
    "from keras.models import Sequential\n",
    "from keras.layers import Dense\n",
    "from keras.layers import LSTM\n",
    "from keras.layers.embeddings import Embedding\n",
    "\n",
    "# create the model\n",
    "embedding_vecor_length = 4\n",
    "model = Sequential()\n",
    "model.add(Embedding(top_words, embedding_vecor_length, input_length=max_seq_length))\n",
    "model.add(LSTM(100))\n",
    "model.add(Dense(1, activation='sigmoid'))\n",
    "model.compile(loss='binary_crossentropy', optimizer='adam', metrics=['accuracy'])\n",
    "print(model.summary())\n",
    "model.fit(X_train, y_train, epochs=3, batch_size=100)\n",
    "# Final evaluation of the model\n",
    "scores = model.evaluate(X_test, y_test, verbose=0)\n",
    "print(\"Accuracy: %.2f%%\" % (scores[1]*100))"
   ]
  },
  {
   "cell_type": "markdown",
   "metadata": {},
   "source": [
    "### 8 dimensional embedding"
   ]
  },
  {
   "cell_type": "code",
   "execution_count": 9,
   "metadata": {},
   "outputs": [
    {
     "name": "stdout",
     "output_type": "stream",
     "text": [
      "_________________________________________________________________\n",
      "Layer (type)                 Output Shape              Param #   \n",
      "=================================================================\n",
      "embedding_2 (Embedding)      (None, 181, 8)            520       \n",
      "_________________________________________________________________\n",
      "lstm_2 (LSTM)                (None, 100)               43600     \n",
      "_________________________________________________________________\n",
      "dense_2 (Dense)              (None, 1)                 101       \n",
      "=================================================================\n",
      "Total params: 44,221\n",
      "Trainable params: 44,221\n",
      "Non-trainable params: 0\n",
      "_________________________________________________________________\n",
      "None\n",
      "Epoch 1/3\n",
      "15654/15654 [==============================] - 26s 2ms/step - loss: 0.6946 - acc: 0.5074\n",
      "Epoch 2/3\n",
      "15654/15654 [==============================] - 26s 2ms/step - loss: 0.6772 - acc: 0.5687\n",
      "Epoch 3/3\n",
      "15654/15654 [==============================] - 26s 2ms/step - loss: 0.6601 - acc: 0.6120\n",
      "Accuracy: 61.67%\n"
     ]
    }
   ],
   "source": [
    "from keras.models import Sequential\n",
    "from keras.layers import Dense\n",
    "from keras.layers import LSTM\n",
    "from keras.layers.embeddings import Embedding\n",
    "\n",
    "# create the model\n",
    "embedding_vecor_length = 8\n",
    "model = Sequential()\n",
    "model.add(Embedding(top_words, embedding_vecor_length, input_length=max_seq_length))\n",
    "model.add(LSTM(100))\n",
    "model.add(Dense(1, activation='sigmoid'))\n",
    "model.compile(loss='binary_crossentropy', optimizer='adam', metrics=['accuracy'])\n",
    "print(model.summary())\n",
    "model.fit(X_train, y_train, epochs=3, batch_size=100)\n",
    "# Final evaluation of the model\n",
    "scores = model.evaluate(X_test, y_test, verbose=0)\n",
    "print(\"Accuracy: %.2f%%\" % (scores[1]*100))"
   ]
  },
  {
   "cell_type": "markdown",
   "metadata": {},
   "source": [
    "### 16 dimensional embedding"
   ]
  },
  {
   "cell_type": "code",
   "execution_count": 8,
   "metadata": {},
   "outputs": [
    {
     "name": "stdout",
     "output_type": "stream",
     "text": [
      "_________________________________________________________________\n",
      "Layer (type)                 Output Shape              Param #   \n",
      "=================================================================\n",
      "embedding_3 (Embedding)      (None, 200, 16)           1040      \n",
      "_________________________________________________________________\n",
      "lstm_3 (LSTM)                (None, 100)               46800     \n",
      "_________________________________________________________________\n",
      "dense_3 (Dense)              (None, 1)                 101       \n",
      "=================================================================\n",
      "Total params: 47,941\n",
      "Trainable params: 47,941\n",
      "Non-trainable params: 0\n",
      "_________________________________________________________________\n",
      "None\n",
      "Epoch 1/3\n",
      "15654/15654 [==============================] - 29s 2ms/step - loss: 0.6949 - acc: 0.5184\n",
      "Epoch 2/3\n",
      "15654/15654 [==============================] - 29s 2ms/step - loss: 0.6886 - acc: 0.5489\n",
      "Epoch 3/3\n",
      "15654/15654 [==============================] - 30s 2ms/step - loss: 0.6797 - acc: 0.5684\n",
      "Accuracy: 58.24%\n"
     ]
    }
   ],
   "source": [
    "from keras.models import Sequential\n",
    "from keras.layers import Dense\n",
    "from keras.layers import LSTM\n",
    "from keras.layers.embeddings import Embedding\n",
    "\n",
    "# create the model\n",
    "embedding_vecor_length = 16\n",
    "model = Sequential()\n",
    "model.add(Embedding(top_words, embedding_vecor_length, input_length=max_seq_length))\n",
    "model.add(LSTM(100))\n",
    "model.add(Dense(1, activation='sigmoid'))\n",
    "model.compile(loss='binary_crossentropy', optimizer='adam', metrics=['accuracy'])\n",
    "print(model.summary())\n",
    "model.fit(X_train, y_train, epochs=3, batch_size=100)\n",
    "# Final evaluation of the model\n",
    "scores = model.evaluate(X_test, y_test, verbose=0)\n",
    "print(\"Accuracy: %.2f%%\" % (scores[1]*100))"
   ]
  },
  {
   "cell_type": "markdown",
   "metadata": {},
   "source": [
    "### 32 dimensional embedding"
   ]
  },
  {
   "cell_type": "code",
   "execution_count": 11,
   "metadata": {},
   "outputs": [
    {
     "name": "stdout",
     "output_type": "stream",
     "text": [
      "_________________________________________________________________\n",
      "Layer (type)                 Output Shape              Param #   \n",
      "=================================================================\n",
      "embedding_4 (Embedding)      (None, 181, 32)           2080      \n",
      "_________________________________________________________________\n",
      "lstm_4 (LSTM)                (None, 100)               53200     \n",
      "_________________________________________________________________\n",
      "dense_4 (Dense)              (None, 1)                 101       \n",
      "=================================================================\n",
      "Total params: 55,381\n",
      "Trainable params: 55,381\n",
      "Non-trainable params: 0\n",
      "_________________________________________________________________\n",
      "None\n",
      "Epoch 1/3\n",
      "15654/15654 [==============================] - 28s 2ms/step - loss: 0.6887 - acc: 0.5305\n",
      "Epoch 2/3\n",
      "15654/15654 [==============================] - 26s 2ms/step - loss: 0.6515 - acc: 0.6242\n",
      "Epoch 3/3\n",
      "15654/15654 [==============================] - 26s 2ms/step - loss: 0.6417 - acc: 0.6379\n",
      "Accuracy: 61.74%\n"
     ]
    }
   ],
   "source": [
    "from keras.models import Sequential\n",
    "from keras.layers import Dense\n",
    "from keras.layers import LSTM\n",
    "from keras.layers.embeddings import Embedding\n",
    "\n",
    "# create the model\n",
    "embedding_vecor_length = 32\n",
    "model = Sequential()\n",
    "model.add(Embedding(top_words, embedding_vecor_length, input_length=max_seq_length))\n",
    "model.add(LSTM(100))\n",
    "model.add(Dense(1, activation='sigmoid'))\n",
    "model.compile(loss='binary_crossentropy', optimizer='adam', metrics=['accuracy'])\n",
    "print(model.summary())\n",
    "model.fit(X_train, y_train, epochs=3, batch_size=100)\n",
    "# Final evaluation of the model\n",
    "scores = model.evaluate(X_test, y_test, verbose=0)\n",
    "print(\"Accuracy: %.2f%%\" % (scores[1]*100))"
   ]
  },
  {
   "cell_type": "markdown",
   "metadata": {},
   "source": [
    "# Hook LSTM to basic CNN"
   ]
  },
  {
   "cell_type": "code",
   "execution_count": 7,
   "metadata": {},
   "outputs": [
    {
     "name": "stdout",
     "output_type": "stream",
     "text": [
      "WARNING:tensorflow:From /Users/joshsmith/Git/NovoNordisk_Capstone/.env/lib/python3.6/site-packages/tensorflow/python/util/deprecation.py:497: calling conv1d (from tensorflow.python.ops.nn_ops) with data_format=NHWC is deprecated and will be removed in a future version.\n",
      "Instructions for updating:\n",
      "`NHWC` for data_format is deprecated, use `NWC` instead\n",
      "Train on 15654 samples, validate on 6710 samples\n",
      "Epoch 1/15\n",
      "15654/15654 [==============================] - 34s 2ms/step - loss: 0.6723 - acc: 0.5751 - val_loss: 0.6547 - val_acc: 0.6155\n",
      "Epoch 2/15\n",
      "15654/15654 [==============================] - 33s 2ms/step - loss: 0.6449 - acc: 0.6350 - val_loss: 0.6446 - val_acc: 0.6264\n",
      "Epoch 3/15\n",
      "15654/15654 [==============================] - 33s 2ms/step - loss: 0.6357 - acc: 0.6449 - val_loss: 0.6362 - val_acc: 0.6429\n",
      "Epoch 4/15\n",
      "15654/15654 [==============================] - 33s 2ms/step - loss: 0.6245 - acc: 0.6550 - val_loss: 0.6394 - val_acc: 0.6371\n",
      "Epoch 5/15\n",
      "15654/15654 [==============================] - 34s 2ms/step - loss: 0.6181 - acc: 0.6635 - val_loss: 0.6231 - val_acc: 0.6514\n",
      "Epoch 6/15\n",
      "15654/15654 [==============================] - 34s 2ms/step - loss: 0.6075 - acc: 0.6753 - val_loss: 0.6160 - val_acc: 0.6630\n",
      "Epoch 7/15\n",
      "15654/15654 [==============================] - 34s 2ms/step - loss: 0.6007 - acc: 0.6787 - val_loss: 0.6257 - val_acc: 0.6525\n",
      "Epoch 8/15\n",
      "15654/15654 [==============================] - 34s 2ms/step - loss: 0.5831 - acc: 0.6922 - val_loss: 0.5933 - val_acc: 0.6878\n",
      "Epoch 9/15\n",
      "15654/15654 [==============================] - 33s 2ms/step - loss: 0.5571 - acc: 0.7172 - val_loss: 0.5747 - val_acc: 0.7021\n",
      "Epoch 10/15\n",
      "15654/15654 [==============================] - 32s 2ms/step - loss: 0.5488 - acc: 0.7235 - val_loss: 0.5838 - val_acc: 0.7100\n",
      "Epoch 11/15\n",
      "15654/15654 [==============================] - 34s 2ms/step - loss: 0.5356 - acc: 0.7327 - val_loss: 0.5660 - val_acc: 0.7098\n",
      "Epoch 12/15\n",
      "15654/15654 [==============================] - 34s 2ms/step - loss: 0.5252 - acc: 0.7394 - val_loss: 0.5666 - val_acc: 0.7061\n",
      "Epoch 13/15\n",
      "15654/15654 [==============================] - 34s 2ms/step - loss: 0.5170 - acc: 0.7470 - val_loss: 0.5662 - val_acc: 0.7100\n",
      "Epoch 14/15\n",
      "15654/15654 [==============================] - 34s 2ms/step - loss: 0.5045 - acc: 0.7567 - val_loss: 0.5691 - val_acc: 0.7142\n",
      "Epoch 15/15\n",
      "15654/15654 [==============================] - 34s 2ms/step - loss: 0.4953 - acc: 0.7616 - val_loss: 0.5618 - val_acc: 0.7241\n"
     ]
    },
    {
     "data": {
      "image/png": "[encoded data removed]",
      "text/plain": [
       "<Figure size 432x288 with 1 Axes>"
      ]
     },
     "metadata": {},
     "output_type": "display_data"
    }
   ],
   "source": [
    "from keras.models import Sequential\n",
    "from keras.layers import Dense\n",
    "from keras.layers import LSTM\n",
    "from keras.layers.convolutional import Conv1D\n",
    "from keras.layers.convolutional import MaxPooling1D\n",
    "from keras.layers import Dropout\n",
    "from keras.layers.embeddings import Embedding\n",
    "\n",
    "# create the model\n",
    "embedding_vecor_length = 16\n",
    "model = Sequential()\n",
    "model.add(Embedding(top_words, embedding_vecor_length, input_length=max_seq_length))\n",
    "model.add(Conv1D(filters=128, kernel_size=3, padding='same', activation='selu'))\n",
    "model.add(MaxPooling1D(pool_size=2))\n",
    "model.add(LSTM(100))\n",
    "model.add(Dense(1, activation='sigmoid'))\n",
    "model.compile(loss='binary_crossentropy', optimizer='adam', metrics=['accuracy'])\n",
    "# record training progress\n",
    "history = model.fit(X_train, y_train, epochs=15, batch_size=64,\n",
    "                    validation_data=(X_test, y_test))\n",
    "\n",
    "# plot loss vs. epoch\n",
    "# https://machinelearningmastery.com/diagnose-overfitting-underfitting-lstm-models/\n",
    "plt.plot(history.history['loss'])\n",
    "plt.plot(history.history['val_loss'])\n",
    "plt.title('model train vs validation loss')\n",
    "plt.ylabel('loss')\n",
    "plt.xlabel('epoch')\n",
    "plt.legend(['train', 'validation'], loc='upper right')\n",
    "plt.show()"
   ]
  },
  {
   "cell_type": "code",
   "execution_count": null,
   "metadata": {},
   "outputs": [],
   "source": []
  }
 ],
 "metadata": {
  "anaconda-cloud": {},
  "kernelspec": {
   "display_name": "Novo Capstone",
   "language": "python",
   "name": "novo"
  },
  "language_info": {
   "codemirror_mode": {
    "name": "ipython",
    "version": 3
   },
   "file_extension": ".py",
   "mimetype": "text/x-python",
   "name": "python",
   "nbconvert_exporter": "python",
   "pygments_lexer": "ipython3",
   "version": "3.6.4"
  }
 },
 "nbformat": 4,
 "nbformat_minor": 2
}
