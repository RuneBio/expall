{
 "cells": [
  {
   "cell_type": "code",
   "execution_count": 1,
   "metadata": {
    "collapsed": true
   },
   "outputs": [],
   "source": [
    "import numpy as np \n",
    "import pandas as pd\n",
    "%matplotlib inline\n",
    "import matplotlib.pyplot as plt"
   ]
  },
  {
   "cell_type": "code",
   "execution_count": 40,
   "metadata": {
    "collapsed": true
   },
   "outputs": [],
   "source": [
    "data = pd.read_csv('reduced_features_data.csv', index_col=0)\n",
    "\n",
    "# need to convert stringified codon sequence back to list\n",
    "def clean_list(list_string):\n",
    "    return list_string.replace('[','').replace(']','').replace(\"'\", '').split()\n",
    "\n",
    "data['codon_array'] = data['codon_array'].apply(clean_list)"
   ]
  },
  {
   "cell_type": "code",
   "execution_count": 14,
   "metadata": {
    "collapsed": true
   },
   "outputs": [],
   "source": [
    "codon_list = ['AAA', 'AAT', 'AAC', 'AAG', 'ATA', 'ATT', 'ATC', 'ATG', 'ACA', 'ACT',\n",
    "              'ACC', 'ACG', 'AGA', 'AGT', 'AGC', 'AGG', 'TAA', 'TAT', 'TAC', 'TAG',\n",
    "              'TTA', 'TTT', 'TTC', 'TTG', 'TCA', 'TCT', 'TCC', 'TCG', 'TGA', 'TGT',\n",
    "              'TGC', 'TGG', 'CAA', 'CAT', 'CAC', 'CAG', 'CTA', 'CTT', 'CTC', 'CTG',\n",
    "              'CCA', 'CCT', 'CCC', 'CCG', 'CGA', 'CGT', 'CGC', 'CGG', 'GAA', 'GAT',\n",
    "              'GAC', 'GAG', 'GTA', 'GTT', 'GTC', 'GTG', 'GCA', 'GCT', 'GCC', 'GCG',\n",
    "              'GGA', 'GGT', 'GGC', 'GGG']"
   ]
  },
  {
   "cell_type": "markdown",
   "metadata": {},
   "source": [
    "### Again convert to markdown so I don't generate different encodings\n",
    "codon_list.sort()\n",
    "codon_one_hot = {}\n",
    "for idx, codon in enumerate(codon_list):\n",
    "    one_hot = np.zeros(64)\n",
    "    one_hot[idx] = 1\n",
    "    # convert to list for storage in json\n",
    "    codon_one_hot[codon] = list(one_hot)\n",
    "    \n",
    "\n",
    "import json\n",
    "with open('codon_one_hot.json', 'w') as f:\n",
    "    # sort and indent for to make more prettier\n",
    "    json.dump(codon_one_hot, f, sort_keys=True, indent=4)"
   ]
  },
  {
   "cell_type": "code",
   "execution_count": 27,
   "metadata": {
    "collapsed": false
   },
   "outputs": [],
   "source": [
    "with open('codon_one_hot.json', 'r') as fp:\n",
    "    codon_one_hot = json.load(fp)"
   ]
  },
  {
   "cell_type": "code",
   "execution_count": 42,
   "metadata": {
    "collapsed": false
   },
   "outputs": [],
   "source": [
    "def list_to_one_hot_matrix(codon_array):\n",
    "    # mark for garbage if codon_array is nan\n",
    "    if str(codon_array[0]) == 'nan':\n",
    "        return\n",
    "\n",
    "    # otherwise return color matrix\n",
    "    one_hot_matrix = np.ndarray(shape=(len(codon_array), 64))\n",
    "    for idx, codon in enumerate(codon_array):\n",
    "        one_hot_matrix[idx] = np.array(codon_one_hot[codon])\n",
    "        \n",
    "    return one_hot_matrix\n",
    "\n",
    "data['one_hot_matrix'] = data['codon_array'].apply(list_to_one_hot_matrix)"
   ]
  },
  {
   "cell_type": "code",
   "execution_count": 45,
   "metadata": {
    "collapsed": false
   },
   "outputs": [
    {
     "data": {
      "text/plain": [
       "(146, 64)"
      ]
     },
     "execution_count": 45,
     "metadata": {},
     "output_type": "execute_result"
    }
   ],
   "source": [
    "data['one_hot_matrix'][0].shape"
   ]
  },
  {
   "cell_type": "code",
   "execution_count": 46,
   "metadata": {
    "collapsed": true
   },
   "outputs": [],
   "source": [
    "data.to_csv('DF_all_w_one_hot_encoding.csv')"
   ]
  },
  {
   "cell_type": "code",
   "execution_count": 47,
   "metadata": {
    "collapsed": false
   },
   "outputs": [
    {
     "data": {
      "text/plain": [
       "array([[0., 0., 0., ..., 0., 0., 0.],\n",
       "       [0., 0., 0., ..., 0., 0., 0.],\n",
       "       [0., 0., 0., ..., 0., 0., 0.],\n",
       "       ...,\n",
       "       [0., 0., 0., ..., 0., 0., 0.],\n",
       "       [0., 0., 0., ..., 0., 0., 0.],\n",
       "       [0., 0., 0., ..., 0., 0., 0.]])"
      ]
     },
     "execution_count": 47,
     "metadata": {},
     "output_type": "execute_result"
    }
   ],
   "source": [
    "data['one_hot_matrix'][0]"
   ]
  },
  {
   "cell_type": "code",
   "execution_count": null,
   "metadata": {
    "collapsed": true
   },
   "outputs": [],
   "source": []
  }
 ],
 "metadata": {
  "kernelspec": {
   "display_name": "Novo",
   "language": "python",
   "name": "novo"
  },
  "language_info": {
   "codemirror_mode": {
    "name": "ipython",
    "version": 3
   },
   "file_extension": ".py",
   "mimetype": "text/x-python",
   "name": "python",
   "nbconvert_exporter": "python",
   "pygments_lexer": "ipython3",
   "version": "3.6.5"
  }
 },
 "nbformat": 4,
 "nbformat_minor": 0
}
