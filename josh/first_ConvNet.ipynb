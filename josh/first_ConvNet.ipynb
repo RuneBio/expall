{
 "cells": [
  {
   "cell_type": "code",
   "execution_count": 2,
   "metadata": {},
   "outputs": [
    {
     "name": "stderr",
     "output_type": "stream",
     "text": [
      "Using TensorFlow backend.\n"
     ]
    }
   ],
   "source": [
    "import numpy as np\n",
    "import pandas as pd\n",
    "import keras"
   ]
  },
  {
   "cell_type": "code",
   "execution_count": 28,
   "metadata": {},
   "outputs": [],
   "source": [
    "# stuck with the CPU version for now...\n",
    "color_1 = pd.read_csv(\"DF_color_1.csv\", index_col=0)\n",
    "color_2 = pd.read_csv(\"DF_color_2.csv\", index_col=0)\n",
    "color_3 = pd.read_csv(\"DF_color_3.csv\", index_col=0)\n",
    "color_4 = pd.read_csv(\"DF_color_4.csv\", index_col=0)\n",
    "\n",
    "color_df = pd.concat([color_1, color_2, color_3, color_4], axis=0)"
   ]
  },
  {
   "cell_type": "code",
   "execution_count": 29,
   "metadata": {},
   "outputs": [],
   "source": [
    "def string_to_matrix(color_string):\n",
    "    color_string = str(color_string)\n",
    "    list_of_strings = color_string.replace('[', '').replace(']', '').split('\\n')\n",
    "    list_of_lists = [channels.strip().split() for channels in list_of_strings]\n",
    "    return np.array(list_of_lists).astype(np.float)\n",
    "\n",
    "color_df['color_matrix'] = color_df['color_matrix'].apply(string_to_matrix)"
   ]
  },
  {
   "cell_type": "code",
   "execution_count": 33,
   "metadata": {},
   "outputs": [
    {
     "data": {
      "text/plain": [
       "(45209, 4)"
      ]
     },
     "execution_count": 33,
     "metadata": {},
     "output_type": "execute_result"
    }
   ],
   "source": [
    "color_df.shape"
   ]
  },
  {
   "cell_type": "code",
   "execution_count": null,
   "metadata": {
    "collapsed": true
   },
   "outputs": [],
   "source": [
    "N_features = 4\n",
    "\n",
    "model = Sequential()\n",
    "model.add(Conv1D(filters=1, kernel_size=10 ,strides=10,     \n",
    "                  input_shape=(None, N_features),\n",
    "                  kernel_initializer='uniform', \n",
    "                  activation='relu')) "
   ]
  }
 ],
 "metadata": {
  "anaconda-cloud": {},
  "kernelspec": {
   "display_name": "Novo",
   "language": "python",
   "name": "novo"
  },
  "language_info": {
   "codemirror_mode": {
    "name": "ipython",
    "version": 3
   },
   "file_extension": ".py",
   "mimetype": "text/x-python",
   "name": "python",
   "nbconvert_exporter": "python",
   "pygments_lexer": "ipython3",
   "version": "3.6.4"
  }
 },
 "nbformat": 4,
 "nbformat_minor": 1
}
