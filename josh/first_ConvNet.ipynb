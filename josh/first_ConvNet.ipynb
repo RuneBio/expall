{
 "cells": [
  {
   "cell_type": "markdown",
   "metadata": {},
   "source": [
    "# Now... testing example 1D CNN from Keras docs\n",
    "https://keras.io/getting-started/sequential-model-guide/"
   ]
  },
  {
   "cell_type": "code",
   "execution_count": 1,
   "metadata": {
    "collapsed": true
   },
   "outputs": [],
   "source": [
    "import numpy as np\n",
    "import pandas as pd"
   ]
  },
  {
   "cell_type": "code",
   "execution_count": 2,
   "metadata": {
    "collapsed": true
   },
   "outputs": [],
   "source": [
    "# stuck with the CPU version for now...\n",
    "high_exp = pd.read_csv(\"high_exp.csv\", index_col=0)\n",
    "low_exp = pd.read_csv(\"low_exp.csv\", index_col=0)\n",
    "\n",
    "data_df = pd.concat([high_exp, low_exp], axis=0)"
   ]
  },
  {
   "cell_type": "code",
   "execution_count": 3,
   "metadata": {
    "collapsed": true
   },
   "outputs": [],
   "source": [
    "def string_to_matrix(color_string):\n",
    "    color_string = str(color_string)\n",
    "    list_of_strings = color_string.replace('[', '').replace(']', '').split('\\n')\n",
    "    list_of_lists = [channels.strip().split() \n",
    "                     for channels in list_of_strings\n",
    "                     if 'nan' not in list_of_strings\n",
    "                    ]\n",
    "    remaining_pad = 181 - len(list_of_lists)\n",
    "    while remaining_pad > 0:\n",
    "        list_of_lists.append(list([0, 0, 0, 0]))\n",
    "        remaining_pad = remaining_pad - 1\n",
    "    \n",
    "    return np.array(list_of_lists).astype(np.float)\n",
    "\n",
    "data_df['color_matrix'] = data_df['color_matrix'].apply(string_to_matrix)"
   ]
  },
  {
   "cell_type": "code",
   "execution_count": 4,
   "metadata": {
    "collapsed": true
   },
   "outputs": [],
   "source": [
    "from sklearn.model_selection import train_test_split\n",
    "\n",
    "X = np.zeros((22604, 181, 4))\n",
    "for idx, colors in enumerate(data_df['color_matrix'].values):\n",
    "    X[idx, :, :] = colors\n",
    "    \n",
    "y = data_df['class'].values\n",
    "\n",
    "x_train, x_test, y_train, y_test = train_test_split(\n",
    "    X, y, test_size=0.3, random_state=42)"
   ]
  },
  {
   "cell_type": "code",
   "execution_count": 5,
   "metadata": {},
   "outputs": [
    {
     "name": "stderr",
     "output_type": "stream",
     "text": [
      "Using TensorFlow backend.\n"
     ]
    },
    {
     "name": "stdout",
     "output_type": "stream",
     "text": [
      "WARNING:tensorflow:From /Users/jksmith/Git/Protein_ML/.env/lib/python3.6/site-packages/tensorflow/python/util/deprecation.py:497: calling conv1d (from tensorflow.python.ops.nn_ops) with data_format=NHWC is deprecated and will be removed in a future version.\n",
      "Instructions for updating:\n",
      "`NHWC` for data_format is deprecated, use `NWC` instead\n"
     ]
    }
   ],
   "source": [
    "from keras.models import Sequential\n",
    "from keras.layers import Dense, Dropout\n",
    "from keras.layers import Embedding\n",
    "from keras.layers import Conv1D, GlobalAveragePooling1D, MaxPooling1D\n",
    "\n",
    "model = Sequential()\n",
    "model.add(Conv1D(64, 3, activation='relu', input_shape=(181, 4)))\n",
    "model.add(Conv1D(64, 3, activation='relu'))\n",
    "model.add(MaxPooling1D(3))\n",
    "model.add(Conv1D(128, 3, activation='relu'))\n",
    "model.add(Conv1D(128, 3, activation='relu'))\n",
    "model.add(GlobalAveragePooling1D())\n",
    "model.add(Dropout(0.5))\n",
    "model.add(Dense(1, activation='sigmoid'))\n",
    "\n",
    "model.compile(loss='binary_crossentropy',\n",
    "              optimizer='rmsprop',\n",
    "              metrics=['accuracy'])"
   ]
  },
  {
   "cell_type": "code",
   "execution_count": 6,
   "metadata": {},
   "outputs": [
    {
     "name": "stdout",
     "output_type": "stream",
     "text": [
      "Epoch 1/10\n",
      "15822/15822 [==============================] - 12s 790us/step - loss: 0.6933 - acc: 0.5169\n",
      "Epoch 2/10\n",
      "15822/15822 [==============================] - 12s 747us/step - loss: 0.6912 - acc: 0.5291\n",
      "Epoch 3/10\n",
      "15822/15822 [==============================] - 12s 752us/step - loss: 0.6900 - acc: 0.5358\n",
      "Epoch 4/10\n",
      "15822/15822 [==============================] - 12s 744us/step - loss: 0.6872 - acc: 0.5482\n",
      "Epoch 5/10\n",
      "15822/15822 [==============================] - 12s 741us/step - loss: 0.6850 - acc: 0.5537\n",
      "Epoch 6/10\n",
      "15822/15822 [==============================] - 12s 753us/step - loss: 0.6837 - acc: 0.5633\n",
      "Epoch 7/10\n",
      "15822/15822 [==============================] - 12s 752us/step - loss: 0.6825 - acc: 0.5638\n",
      "Epoch 8/10\n",
      "15822/15822 [==============================] - 12s 753us/step - loss: 0.6802 - acc: 0.5689\n",
      "Epoch 9/10\n",
      "15822/15822 [==============================] - 12s 758us/step - loss: 0.6791 - acc: 0.5731\n",
      "Epoch 10/10\n",
      "15822/15822 [==============================] - 12s 742us/step - loss: 0.6765 - acc: 0.5834\n",
      "6782/6782 [==============================] - 1s 220us/step\n"
     ]
    }
   ],
   "source": [
    "model.fit(x_train, y_train, batch_size=16, epochs=10)\n",
    "score = model.evaluate(x_test, y_test, batch_size=16)"
   ]
  },
  {
   "cell_type": "code",
   "execution_count": 36,
   "metadata": {},
   "outputs": [],
   "source": [
    "from keras.models import Sequential\n",
    "from keras.layers import Dense, Dropout, Flatten\n",
    "from keras.layers import Conv1D, MaxPooling1D\n",
    "\n",
    "model = Sequential()\n",
    "model.add(Conv1D(100, 10, activation='relu', input_shape=(181, 4)))\n",
    "model.add(MaxPooling1D(pool_size=10))\n",
    "model.add(Flatten())\n",
    "# model.add(Dense(32))\n",
    "# model.add(Dropout(0.5))\n",
    "model.add(Dense(1, activation='sigmoid'))\n",
    "\n",
    "model.compile(loss='binary_crossentropy',\n",
    "              optimizer='rmsprop',\n",
    "              metrics=['accuracy'])"
   ]
  },
  {
   "cell_type": "code",
   "execution_count": 37,
   "metadata": {},
   "outputs": [
    {
     "name": "stdout",
     "output_type": "stream",
     "text": [
      "Epoch 1/10\n",
      "15822/15822 [==============================] - 4s 240us/step - loss: 0.6925 - acc: 0.5260\n",
      "Epoch 2/10\n",
      "15822/15822 [==============================] - 3s 211us/step - loss: 0.6896 - acc: 0.5353\n",
      "Epoch 3/10\n",
      "15822/15822 [==============================] - 3s 211us/step - loss: 0.6875 - acc: 0.5418\n",
      "Epoch 4/10\n",
      "15822/15822 [==============================] - 3s 213us/step - loss: 0.6848 - acc: 0.5519\n",
      "Epoch 5/10\n",
      "15822/15822 [==============================] - 3s 213us/step - loss: 0.6819 - acc: 0.5614\n",
      "Epoch 6/10\n",
      "15822/15822 [==============================] - 3s 213us/step - loss: 0.6774 - acc: 0.5717\n",
      "Epoch 7/10\n",
      "15822/15822 [==============================] - 3s 214us/step - loss: 0.6732 - acc: 0.5844\n",
      "Epoch 8/10\n",
      "15822/15822 [==============================] - 3s 215us/step - loss: 0.6694 - acc: 0.5911\n",
      "Epoch 9/10\n",
      "15822/15822 [==============================] - 3s 213us/step - loss: 0.6645 - acc: 0.6004\n",
      "Epoch 10/10\n",
      "15822/15822 [==============================] - 3s 216us/step - loss: 0.6596 - acc: 0.6068\n",
      "6782/6782 [==============================] - 1s 96us/step\n"
     ]
    }
   ],
   "source": [
    "model.fit(x_train, y_train, batch_size=16, epochs=10)\n",
    "score = model.evaluate(x_test, y_test, batch_size=16)"
   ]
  },
  {
   "cell_type": "code",
   "execution_count": null,
   "metadata": {
    "collapsed": true
   },
   "outputs": [],
   "source": []
  }
 ],
 "metadata": {
  "anaconda-cloud": {},
  "kernelspec": {
   "display_name": "Novo Capstone",
   "language": "python",
   "name": "novo"
  },
  "language_info": {
   "codemirror_mode": {
    "name": "ipython",
    "version": 3
   },
   "file_extension": ".py",
   "mimetype": "text/x-python",
   "name": "python",
   "nbconvert_exporter": "python",
   "pygments_lexer": "ipython3",
   "version": "3.6.4"
  }
 },
 "nbformat": 4,
 "nbformat_minor": 1
}
