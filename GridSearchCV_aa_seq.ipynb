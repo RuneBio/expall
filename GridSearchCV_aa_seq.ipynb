{
 "cells": [
  {
   "cell_type": "code",
   "execution_count": 1,
   "metadata": {},
   "outputs": [
    {
     "name": "stderr",
     "output_type": "stream",
     "text": [
      "C:\\Users\\Jay\\Miniconda3\\lib\\site-packages\\h5py\\__init__.py:36: FutureWarning: Conversion of the second argument of issubdtype from `float` to `np.floating` is deprecated. In future, it will be treated as `np.float64 == np.dtype(float).type`.\n",
      "  from ._conv import register_converters as _register_converters\n",
      "Using TensorFlow backend.\n"
     ]
    }
   ],
   "source": [
    "import numpy as np\n",
    "import pandas as pd\n",
    "import matplotlib.pyplot as plt\n",
    "\n",
    "from keras.preprocessing.text import Tokenizer\n",
    "from sklearn.model_selection import train_test_split\n",
    "from keras.preprocessing import sequence\n",
    "\n",
    "from keras.models import Sequential\n",
    "from keras.layers import Dense\n",
    "from keras.layers import LSTM\n",
    "from keras.layers.convolutional import Conv1D\n",
    "from keras.layers.convolutional import MaxPooling1D\n",
    "from keras.layers import Dropout\n",
    "from keras.layers.embeddings import Embedding\n",
    "\n",
    "from sklearn.model_selection import GridSearchCV\n",
    "from keras.wrappers.scikit_learn import KerasClassifier\n",
    "\n",
    "import ndac\n",
    "%matplotlib inline\n",
    "#this is the grid search with progress bar \n",
    "# pip install git+https://github.com/pactools/pactools.git#egg=pactools\n",
    "#from pactools.grid_search import GridSearchCVProgressBar "
   ]
  },
  {
   "cell_type": "code",
   "execution_count": 3,
   "metadata": {},
   "outputs": [
    {
     "name": "stdout",
     "output_type": "stream",
     "text": [
      "45206 samples input.\n",
      "11303 samples above high cut, 11302 samples below low cut, 22601 samples removed.\n"
     ]
    },
    {
     "data": {
      "image/png": "[encoded data removed]",
      "text/plain": [
       "<matplotlib.figure.Figure at 0x2698ef797f0>"
      ]
     },
     "metadata": {},
     "output_type": "display_data"
    }
   ],
   "source": [
    "#read in the data and classify\n",
    "data = pd.read_csv('dataframes/DF_prest.csv', index_col=0)\n",
    "data, hist = ndac.quantile_classify(data['conc_cf'], data['aa_seq'])"
   ]
  },
  {
   "cell_type": "code",
   "execution_count": 8,
   "metadata": {},
   "outputs": [
    {
     "name": "stdout",
     "output_type": "stream",
     "text": [
      "data shape:  (22605, 4)\n"
     ]
    }
   ],
   "source": [
    "# setup 'docs' for use with Tokenizer\n",
    "def aa_seq_doc(aa_sequence):\n",
    "    \"\"\"This function takes in an amino acid sequence (aa sequence) and adds spaces between each amino acid.\"\"\"\n",
    "    \n",
    "    return ' '.join([aa_sequence[i:i+1] \n",
    "                     for i in range(0, len(aa_sequence))])\n",
    "data['aa_seq_doc'] = data['aa_seq'].apply(aa_seq_doc)\n",
    "data = data[pd.notnull(data['aa_seq_doc'])]\n",
    "\n",
    "# check shape\n",
    "print('data shape: ', data.shape)"
   ]
  },
  {
   "cell_type": "code",
   "execution_count": 9,
   "metadata": {},
   "outputs": [],
   "source": [
    "# define sequence documents\n",
    "docs = list(data['aa_seq_doc'])\n",
    "# create the tokenizer\n",
    "t = Tokenizer()\n",
    "# fit the tokenizer on the documents\n",
    "t.fit_on_texts(docs)\n",
    "\n",
    "# integer encode documents\n",
    "X = t.texts_to_sequences(docs)\n",
    "y = data['class'].values\n",
    "\n",
    "# fix random seed for reproducibility\n",
    "np.random.seed(27315)\n",
    "\n",
    "# load the dataset but only keep the top n words, zero the rest\n",
    "top_words = len(t.word_index) + 1\n",
    "\n",
    "# truncate and pad input sequences\n",
    "seq_lengths = [len(seq) for seq in X]\n",
    "max_seq_length = max(seq_lengths)\n",
    "X = sequence.pad_sequences(X, maxlen=max_seq_length)"
   ]
  },
  {
   "cell_type": "code",
   "execution_count": 14,
   "metadata": {},
   "outputs": [
    {
     "name": "stdout",
     "output_type": "stream",
     "text": [
      "Fitting 3 folds for each of 2 candidates, totalling 6 fits\n",
      "[CV] filter_length=2, lstm_nodes=10, num_filters=5, pool_size=3 ......\n",
      "WARNING:tensorflow:From C:\\Users\\Jay\\Miniconda3\\lib\\site-packages\\tensorflow\\python\\util\\deprecation.py:497: calling conv1d (from tensorflow.python.ops.nn_ops) with data_format=NHWC is deprecated and will be removed in a future version.\n",
      "Instructions for updating:\n",
      "`NHWC` for data_format is deprecated, use `NWC` instead\n",
      "[CV]  filter_length=2, lstm_nodes=10, num_filters=5, pool_size=3, score=0.5702720635524235, total=   9.6s\n",
      "[CV] filter_length=2, lstm_nodes=10, num_filters=5, pool_size=3 ......\n"
     ]
    },
    {
     "name": "stderr",
     "output_type": "stream",
     "text": [
      "[Parallel(n_jobs=1)]: Done   1 out of   1 | elapsed:   10.8s remaining:    0.0s\n"
     ]
    },
    {
     "name": "stdout",
     "output_type": "stream",
     "text": [
      "[CV]  filter_length=2, lstm_nodes=10, num_filters=5, pool_size=3, score=0.4910418049499699, total=   9.0s\n",
      "[CV] filter_length=2, lstm_nodes=10, num_filters=5, pool_size=3 ......\n"
     ]
    },
    {
     "name": "stderr",
     "output_type": "stream",
     "text": [
      "[Parallel(n_jobs=1)]: Done   2 out of   2 | elapsed:   21.2s remaining:    0.0s\n"
     ]
    },
    {
     "name": "stdout",
     "output_type": "stream",
     "text": [
      "[CV]  filter_length=2, lstm_nodes=10, num_filters=5, pool_size=3, score=0.4828135368993287, total=   9.6s\n",
      "[CV] filter_length=3, lstm_nodes=10, num_filters=5, pool_size=3 ......\n"
     ]
    },
    {
     "name": "stderr",
     "output_type": "stream",
     "text": [
      "[Parallel(n_jobs=1)]: Done   3 out of   3 | elapsed:   32.1s remaining:    0.0s\n"
     ]
    },
    {
     "name": "stdout",
     "output_type": "stream",
     "text": [
      "[CV]  filter_length=3, lstm_nodes=10, num_filters=5, pool_size=3, score=0.5844724616627861, total=   9.6s\n",
      "[CV] filter_length=3, lstm_nodes=10, num_filters=5, pool_size=3 ......\n"
     ]
    },
    {
     "name": "stderr",
     "output_type": "stream",
     "text": [
      "[Parallel(n_jobs=1)]: Done   4 out of   4 | elapsed:   43.2s remaining:    0.0s\n"
     ]
    },
    {
     "name": "stdout",
     "output_type": "stream",
     "text": [
      "[CV]  filter_length=3, lstm_nodes=10, num_filters=5, pool_size=3, score=0.5039150629719125, total=  10.3s\n",
      "[CV] filter_length=3, lstm_nodes=10, num_filters=5, pool_size=3 ......\n"
     ]
    },
    {
     "name": "stderr",
     "output_type": "stream",
     "text": [
      "[Parallel(n_jobs=1)]: Done   5 out of   5 | elapsed:   54.9s remaining:    0.0s\n"
     ]
    },
    {
     "name": "stdout",
     "output_type": "stream",
     "text": [
      "[CV]  filter_length=3, lstm_nodes=10, num_filters=5, pool_size=3, score=0.42003981414898073, total=  10.8s\n"
     ]
    },
    {
     "name": "stderr",
     "output_type": "stream",
     "text": [
      "[Parallel(n_jobs=1)]: Done   6 out of   6 | elapsed:  1.1min remaining:    0.0s\n",
      "[Parallel(n_jobs=1)]: Done   6 out of   6 | elapsed:  1.1min finished\n"
     ]
    },
    {
     "name": "stdout",
     "output_type": "stream",
     "text": [
      "Best: 0.514709 using {'filter_length': 2, 'lstm_nodes': 10, 'num_filters': 5, 'pool_size': 3}\n"
     ]
    }
   ],
   "source": [
    "# tune hyperparameters for simple model\n",
    "\n",
    "# model based on \"A C-LSTM Neural Network for Text Classification\"\n",
    "\n",
    "def create_model(embedding_length=16, num_filters=128, pool_size=2,\n",
    "                 lstm_nodes=100, drop=0.5, recurrent_drop=0.5, filter_length=3):\n",
    "    # create the model\n",
    "    model = Sequential()\n",
    "    model.add(Embedding(top_words, embedding_length, \n",
    "                        input_length=max_seq_length))\n",
    "    model.add(Conv1D(filters=num_filters, kernel_size=filter_length, \n",
    "                     padding='same', activation='selu'))\n",
    "    model.add(MaxPooling1D(pool_size=pool_size))\n",
    "    model.add(LSTM(lstm_nodes, dropout=drop, \n",
    "              recurrent_dropout=recurrent_drop))\n",
    "    model.add(Dense(1, activation='sigmoid'))\n",
    "    model.compile(loss='binary_crossentropy', optimizer='adam', \n",
    "                  metrics=['accuracy'])\n",
    "\n",
    "    return model\n",
    "\n",
    "\n",
    "model = KerasClassifier(build_fn=create_model, batch_size=64,\n",
    "                        epochs=30, verbose=10)\n",
    "# define the grid search parameters\n",
    "# model hyperparameters\n",
    "embedding_length = [4, 6, 8]\n",
    "num_filters = [50, 100, 200]\n",
    "filter_length = [3, 5, 8]\n",
    "pool_size = [3, 4]\n",
    "lstm_nodes = [100, 200]\n",
    "\n",
    "param_grid = dict(num_filters=num_filters, pool_size=pool_size,\n",
    "                  lstm_nodes=lstm_nodes, filter_length=filter_length)\n",
    "\n",
    "grid = GridSearchCV(estimator=model, param_grid=param_grid,\n",
    "                    cv=3, verbose=10)#, n_jobs=28)\n",
    "# grid = GridSearchCVProgressBar(estimator=model, param_grid=param_grid,\n",
    "#                     cv=3, verbose=10)\n",
    "\n",
    "grid_result = grid.fit(X, y)\n",
    "# summarize results\n",
    "print(\"Best: %f using %s\" % (grid_result.best_score_, grid_result.best_params_))\n",
    "\n",
    "grid_df = pd.DataFrame(grid_result.cv_results_['params'])\n",
    "grid_df['mean'] = grid_result.cv_results_['mean_test_score']\n",
    "grid_df['stddev'] = grid_result.cv_results_['std_test_score']\n",
    "\n",
    "# print results to csv file\n",
    "grid_df.to_csv('2018-06-14_aa_gird_search_results.csv')"
   ]
  },
  {
   "cell_type": "code",
   "execution_count": null,
   "metadata": {},
   "outputs": [],
   "source": []
  }
 ],
 "metadata": {
  "anaconda-cloud": {},
  "kernelspec": {
   "display_name": "Python 3",
   "language": "python",
   "name": "python3"
  },
  "language_info": {
   "codemirror_mode": {
    "name": "ipython",
    "version": 3
   },
   "file_extension": ".py",
   "mimetype": "text/x-python",
   "name": "python",
   "nbconvert_exporter": "python",
   "pygments_lexer": "ipython3",
   "version": "3.6.3"
  }
 },
 "nbformat": 4,
 "nbformat_minor": 2
}
