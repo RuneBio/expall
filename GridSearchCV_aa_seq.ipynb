{
 "cells": [
  {
   "cell_type": "code",
   "execution_count": 1,
   "metadata": {},
   "outputs": [
    {
     "name": "stderr",
     "output_type": "stream",
     "text": [
      "Using TensorFlow backend.\n"
     ]
    }
   ],
   "source": [
    "import numpy as np\n",
    "import pandas as pd\n",
    "import matplotlib.pyplot as plt\n",
    "\n",
    "from keras.preprocessing.text import Tokenizer\n",
    "from sklearn.model_selection import train_test_split\n",
    "from keras.preprocessing import sequence\n",
    "\n",
    "from keras.models import Sequential\n",
    "from keras.layers import Dense\n",
    "from keras.layers import LSTM\n",
    "from keras.layers.convolutional import Conv1D\n",
    "from keras.layers.convolutional import MaxPooling1D\n",
    "from keras.layers import Dropout\n",
    "from keras.layers.embeddings import Embedding\n",
    "\n",
    "from sklearn.model_selection import GridSearchCV\n",
    "from keras.wrappers.scikit_learn import KerasClassifier\n",
    "\n",
    "import ndac\n",
    "%matplotlib inline"
   ]
  },
  {
   "cell_type": "code",
   "execution_count": 2,
   "metadata": {},
   "outputs": [
    {
     "name": "stdout",
     "output_type": "stream",
     "text": [
      "45206 samples input.\n",
      "11303 samples above high cut, 11302 samples below low cut, 22601 samples removed.\n"
     ]
    },
    {
     "data": {
      "image/png": "[encoded data removed]",
      "text/plain": [
       "<Figure size 432x288 with 1 Axes>"
      ]
     },
     "metadata": {},
     "output_type": "display_data"
    }
   ],
   "source": [
    "#read in the data and classify\n",
    "data = pd.read_csv('dataframes/DF_prest.csv', index_col=0)\n",
    "data, hist = ndac.quantile_classify(data['conc_cf'], data['aa_seq'])"
   ]
  },
  {
   "cell_type": "code",
   "execution_count": 3,
   "metadata": {},
   "outputs": [
    {
     "name": "stdout",
     "output_type": "stream",
     "text": [
      "data shape:  (22605, 4)\n"
     ]
    }
   ],
   "source": [
    "# setup 'docs' for use with Tokenizer\n",
    "def aa_seq_doc(aa_sequence):\n",
    "    \"\"\"This function takes in an amino acid sequence (aa sequence) and adds spaces between each amino acid.\"\"\"\n",
    "    \n",
    "    return ' '.join([aa_sequence[i:i+1] \n",
    "                     for i in range(0, len(aa_sequence))])\n",
    "data['aa_seq_doc'] = data['aa_seq'].apply(aa_seq_doc)\n",
    "data = data[pd.notnull(data['aa_seq_doc'])]\n",
    "\n",
    "# check shape\n",
    "print('data shape: ', data.shape)"
   ]
  },
  {
   "cell_type": "code",
   "execution_count": 4,
   "metadata": {},
   "outputs": [],
   "source": [
    "# define sequence documents\n",
    "docs = list(data['aa_seq_doc'])\n",
    "# create the tokenizer\n",
    "t = Tokenizer()\n",
    "# fit the tokenizer on the documents\n",
    "t.fit_on_texts(docs)\n",
    "\n",
    "# integer encode documents\n",
    "X = t.texts_to_sequences(docs)\n",
    "y = data['class'].values\n",
    "\n",
    "# fix random seed for reproducibility\n",
    "np.random.seed(27315)\n",
    "\n",
    "# load the dataset but only keep the top n words, zero the rest\n",
    "top_words = len(t.word_index) + 1\n",
    "\n",
    "# truncate and pad input sequences\n",
    "seq_lengths = [len(seq) for seq in X]\n",
    "max_seq_length = max(seq_lengths)\n",
    "X = sequence.pad_sequences(X, maxlen=max_seq_length)"
   ]
  },
  {
   "cell_type": "code",
   "execution_count": 7,
   "metadata": {},
   "outputs": [
    {
     "name": "stdout",
     "output_type": "stream",
     "text": [
      "Fitting 3 folds for each of 36 candidates, totalling 108 fits\n",
      "[CV] filter_length=3, lstm_nodes=100, num_filters=50, pool_size=3 ....\n",
      "[CV]  filter_length=3, lstm_nodes=100, num_filters=50, pool_size=3, score=0.7428002656020308, total=28.3min\n",
      "[CV] filter_length=3, lstm_nodes=100, num_filters=50, pool_size=3 ....\n"
     ]
    },
    {
     "name": "stderr",
     "output_type": "stream",
     "text": [
      "[Parallel(n_jobs=1)]: Done   1 out of   1 | elapsed: 28.6min remaining:    0.0s\n"
     ]
    },
    {
     "name": "stdout",
     "output_type": "stream",
     "text": [
      "[CV]  filter_length=3, lstm_nodes=100, num_filters=50, pool_size=3, score=0.6914399467641025, total=28.3min\n",
      "[CV] filter_length=3, lstm_nodes=100, num_filters=50, pool_size=3 ....\n"
     ]
    },
    {
     "name": "stderr",
     "output_type": "stream",
     "text": [
      "[Parallel(n_jobs=1)]: Done   2 out of   2 | elapsed: 57.1min remaining:    0.0s\n"
     ]
    },
    {
     "name": "stdout",
     "output_type": "stream",
     "text": [
      "[CV]  filter_length=3, lstm_nodes=100, num_filters=50, pool_size=3, score=0.7073656268917178, total=28.1min\n",
      "[CV] filter_length=3, lstm_nodes=100, num_filters=50, pool_size=4 ....\n"
     ]
    },
    {
     "name": "stderr",
     "output_type": "stream",
     "text": [
      "[Parallel(n_jobs=1)]: Done   3 out of   3 | elapsed: 85.5min remaining:    0.0s\n"
     ]
    },
    {
     "name": "stdout",
     "output_type": "stream",
     "text": [
      "[CV]  filter_length=3, lstm_nodes=100, num_filters=50, pool_size=4, score=0.7416058395900865, total=22.4min\n",
      "[CV] filter_length=3, lstm_nodes=100, num_filters=50, pool_size=4 ....\n"
     ]
    },
    {
     "name": "stderr",
     "output_type": "stream",
     "text": [
      "[Parallel(n_jobs=1)]: Done   4 out of   4 | elapsed: 108.0min remaining:    0.0s\n"
     ]
    },
    {
     "name": "stdout",
     "output_type": "stream",
     "text": [
      "[CV]  filter_length=3, lstm_nodes=100, num_filters=50, pool_size=4, score=0.6942269407761517, total=22.5min\n",
      "[CV] filter_length=3, lstm_nodes=100, num_filters=50, pool_size=4 ....\n"
     ]
    },
    {
     "name": "stderr",
     "output_type": "stream",
     "text": [
      "[Parallel(n_jobs=1)]: Done   5 out of   5 | elapsed: 130.8min remaining:    0.0s\n"
     ]
    },
    {
     "name": "stdout",
     "output_type": "stream",
     "text": [
      "[CV]  filter_length=3, lstm_nodes=100, num_filters=50, pool_size=4, score=0.7009953548912979, total=22.8min\n",
      "[CV] filter_length=3, lstm_nodes=100, num_filters=100, pool_size=3 ...\n"
     ]
    },
    {
     "name": "stderr",
     "output_type": "stream",
     "text": [
      "[Parallel(n_jobs=1)]: Done   6 out of   6 | elapsed: 153.7min remaining:    0.0s\n"
     ]
    },
    {
     "name": "stdout",
     "output_type": "stream",
     "text": [
      "[CV]  filter_length=3, lstm_nodes=100, num_filters=100, pool_size=3, score=0.7380225611982871, total=36.8min\n",
      "[CV] filter_length=3, lstm_nodes=100, num_filters=100, pool_size=3 ...\n"
     ]
    },
    {
     "name": "stderr",
     "output_type": "stream",
     "text": [
      "[Parallel(n_jobs=1)]: Done   7 out of   7 | elapsed: 190.9min remaining:    0.0s\n"
     ]
    },
    {
     "name": "stdout",
     "output_type": "stream",
     "text": [
      "[CV]  filter_length=3, lstm_nodes=100, num_filters=100, pool_size=3, score=0.7081619112240057, total=37.3min\n",
      "[CV] filter_length=3, lstm_nodes=100, num_filters=100, pool_size=3 ...\n"
     ]
    },
    {
     "name": "stderr",
     "output_type": "stream",
     "text": [
      "[Parallel(n_jobs=1)]: Done   8 out of   8 | elapsed: 228.5min remaining:    0.0s\n"
     ]
    },
    {
     "name": "stdout",
     "output_type": "stream",
     "text": [
      "[CV]  filter_length=3, lstm_nodes=100, num_filters=100, pool_size=3, score=0.7181154610150369, total=37.1min\n",
      "[CV] filter_length=3, lstm_nodes=100, num_filters=100, pool_size=4 ...\n"
     ]
    },
    {
     "name": "stderr",
     "output_type": "stream",
     "text": [
      "[Parallel(n_jobs=1)]: Done   9 out of   9 | elapsed: 266.0min remaining:    0.0s\n"
     ]
    },
    {
     "name": "stdout",
     "output_type": "stream",
     "text": [
      "[CV]  filter_length=3, lstm_nodes=100, num_filters=100, pool_size=4, score=0.7450564036245922, total=30.4min\n",
      "[CV] filter_length=3, lstm_nodes=100, num_filters=100, pool_size=4 ...\n",
      "[CV]  filter_length=3, lstm_nodes=100, num_filters=100, pool_size=4, score=0.7138686129725683, total=31.0min\n",
      "[CV] filter_length=3, lstm_nodes=100, num_filters=100, pool_size=4 ...\n",
      "[CV]  filter_length=3, lstm_nodes=100, num_filters=100, pool_size=4, score=0.7151957530174812, total=30.6min\n",
      "[CV] filter_length=3, lstm_nodes=100, num_filters=200, pool_size=3 ...\n",
      "[CV]  filter_length=3, lstm_nodes=100, num_filters=200, pool_size=3, score=0.7279362974217497, total=59.5min\n",
      "[CV] filter_length=3, lstm_nodes=100, num_filters=200, pool_size=3 ...\n",
      "[CV]  filter_length=3, lstm_nodes=100, num_filters=200, pool_size=3, score=0.7055076308889585, total=60.5min\n",
      "[CV] filter_length=3, lstm_nodes=100, num_filters=200, pool_size=3 ...\n",
      "[CV]  filter_length=3, lstm_nodes=100, num_filters=200, pool_size=3, score=0.7231585930496474, total=60.3min\n",
      "[CV] filter_length=3, lstm_nodes=100, num_filters=200, pool_size=4 ...\n",
      "[CV]  filter_length=3, lstm_nodes=100, num_filters=200, pool_size=4, score=0.7285998674600268, total=49.8min\n",
      "[CV] filter_length=3, lstm_nodes=100, num_filters=200, pool_size=4 ...\n",
      "[CV]  filter_length=3, lstm_nodes=100, num_filters=200, pool_size=4, score=0.7231585934056141, total=49.6min\n",
      "[CV] filter_length=3, lstm_nodes=100, num_filters=200, pool_size=4 ...\n",
      "[CV]  filter_length=3, lstm_nodes=100, num_filters=200, pool_size=4, score=0.7335102851848058, total=49.8min\n",
      "[CV] filter_length=3, lstm_nodes=200, num_filters=50, pool_size=3 ....\n",
      "[CV]  filter_length=3, lstm_nodes=200, num_filters=50, pool_size=3, score=0.7454545456285736, total=57.9min\n",
      "[CV] filter_length=3, lstm_nodes=200, num_filters=50, pool_size=3 ....\n",
      "[CV]  filter_length=3, lstm_nodes=200, num_filters=50, pool_size=3, score=0.6987392171455996, total=57.2min\n",
      "[CV] filter_length=3, lstm_nodes=200, num_filters=50, pool_size=3 ....\n",
      "[CV]  filter_length=3, lstm_nodes=200, num_filters=50, pool_size=3, score=0.7259455874176632, total=57.2min\n",
      "[CV] filter_length=3, lstm_nodes=200, num_filters=50, pool_size=4 ....\n",
      "[CV]  filter_length=3, lstm_nodes=200, num_filters=50, pool_size=4, score=0.7259455870775173, total=45.0min\n",
      "[CV] filter_length=3, lstm_nodes=200, num_filters=50, pool_size=4 ....\n",
      "[CV]  filter_length=3, lstm_nodes=200, num_filters=50, pool_size=4, score=0.7114797609486798, total=44.9min\n",
      "[CV] filter_length=3, lstm_nodes=200, num_filters=50, pool_size=4 ....\n",
      "[CV]  filter_length=3, lstm_nodes=200, num_filters=50, pool_size=4, score=0.7000663568661872, total=45.0min\n",
      "[CV] filter_length=3, lstm_nodes=200, num_filters=100, pool_size=3 ...\n",
      "[CV]  filter_length=3, lstm_nodes=200, num_filters=100, pool_size=3, score=0.7362972795211802, total=73.3min\n",
      "[CV] filter_length=3, lstm_nodes=200, num_filters=100, pool_size=3 ...\n",
      "[CV]  filter_length=3, lstm_nodes=200, num_filters=100, pool_size=3, score=0.6824153946580361, total=72.6min\n",
      "[CV] filter_length=3, lstm_nodes=200, num_filters=100, pool_size=3 ...\n",
      "[CV]  filter_length=3, lstm_nodes=200, num_filters=100, pool_size=3, score=0.7169210349872718, total=73.0min\n",
      "[CV] filter_length=3, lstm_nodes=200, num_filters=100, pool_size=4 ...\n",
      "[CV]  filter_length=3, lstm_nodes=200, num_filters=100, pool_size=4, score=0.7343065694854524, total=57.5min\n",
      "[CV] filter_length=3, lstm_nodes=200, num_filters=100, pool_size=4 ...\n",
      "[CV]  filter_length=3, lstm_nodes=200, num_filters=100, pool_size=4, score=0.7072329129378528, total=57.0min\n",
      "[CV] filter_length=3, lstm_nodes=200, num_filters=100, pool_size=4 ...\n",
      "[CV]  filter_length=3, lstm_nodes=200, num_filters=100, pool_size=4, score=0.7067020569325443, total=57.7min\n",
      "[CV] filter_length=3, lstm_nodes=200, num_filters=200, pool_size=3 ...\n",
      "[CV]  filter_length=3, lstm_nodes=200, num_filters=200, pool_size=3, score=0.7304578634469653, total=96.3min\n",
      "[CV] filter_length=3, lstm_nodes=200, num_filters=200, pool_size=3 ...\n",
      "[CV]  filter_length=3, lstm_nodes=200, num_filters=200, pool_size=3, score=0.6995355008766995, total=96.4min\n",
      "[CV] filter_length=3, lstm_nodes=200, num_filters=200, pool_size=3 ...\n",
      "[CV]  filter_length=3, lstm_nodes=200, num_filters=200, pool_size=3, score=0.7232913070509746, total=96.0min\n",
      "[CV] filter_length=3, lstm_nodes=200, num_filters=200, pool_size=4 ...\n",
      "[CV]  filter_length=3, lstm_nodes=200, num_filters=200, pool_size=4, score=0.7337757134959646, total=77.7min\n",
      "[CV] filter_length=3, lstm_nodes=200, num_filters=200, pool_size=4 ...\n",
      "[CV]  filter_length=3, lstm_nodes=200, num_filters=200, pool_size=4, score=0.699535500845058, total=77.8min\n",
      "[CV] filter_length=3, lstm_nodes=200, num_filters=200, pool_size=4 ...\n",
      "[CV]  filter_length=3, lstm_nodes=200, num_filters=200, pool_size=4, score=0.7126741869922656, total=78.6min\n",
      "[CV] filter_length=5, lstm_nodes=100, num_filters=50, pool_size=3 ....\n",
      "[CV]  filter_length=5, lstm_nodes=100, num_filters=50, pool_size=3, score=0.7483742536261292, total=29.5min\n",
      "[CV] filter_length=5, lstm_nodes=100, num_filters=50, pool_size=3 ....\n",
      "[CV]  filter_length=5, lstm_nodes=100, num_filters=50, pool_size=3, score=0.7126741869448033, total=29.3min\n",
      "[CV] filter_length=5, lstm_nodes=100, num_filters=50, pool_size=3 ....\n",
      "[CV]  filter_length=5, lstm_nodes=100, num_filters=50, pool_size=3, score=0.7255474451051774, total=29.6min\n",
      "[CV] filter_length=5, lstm_nodes=100, num_filters=50, pool_size=4 ....\n",
      "[CV]  filter_length=5, lstm_nodes=100, num_filters=50, pool_size=4, score=0.7441274056153022, total=24.1min\n",
      "[CV] filter_length=5, lstm_nodes=100, num_filters=50, pool_size=4 ....\n",
      "[CV]  filter_length=5, lstm_nodes=100, num_filters=50, pool_size=4, score=0.7023224949045694, total=24.3min\n",
      "[CV] filter_length=5, lstm_nodes=100, num_filters=50, pool_size=4 ....\n",
      "[CV]  filter_length=5, lstm_nodes=100, num_filters=50, pool_size=4, score=0.716390178997784, total=24.2min\n",
      "[CV] filter_length=5, lstm_nodes=100, num_filters=100, pool_size=3 ...\n",
      "[CV]  filter_length=5, lstm_nodes=100, num_filters=100, pool_size=3, score=0.7390842732405457, total=39.5min\n",
      "[CV] filter_length=5, lstm_nodes=100, num_filters=100, pool_size=3 ...\n",
      "[CV]  filter_length=5, lstm_nodes=100, num_filters=100, pool_size=3, score=0.7133377569672598, total=39.2min\n",
      "[CV] filter_length=5, lstm_nodes=100, num_filters=100, pool_size=3 ...\n",
      "[CV]  filter_length=5, lstm_nodes=100, num_filters=100, pool_size=3, score=0.7381552755555809, total=39.0min\n",
      "[CV] filter_length=5, lstm_nodes=100, num_filters=100, pool_size=4 ...\n",
      "[CV]  filter_length=5, lstm_nodes=100, num_filters=100, pool_size=4, score=0.7274054414322618, total=33.0min\n",
      "[CV] filter_length=5, lstm_nodes=100, num_filters=100, pool_size=4 ...\n",
      "[CV]  filter_length=5, lstm_nodes=100, num_filters=100, pool_size=4, score=0.7311214334694217, total=33.0min\n",
      "[CV] filter_length=5, lstm_nodes=100, num_filters=100, pool_size=4 ...\n",
      "[CV]  filter_length=5, lstm_nodes=100, num_filters=100, pool_size=4, score=0.7231585930654681, total=32.9min\n",
      "[CV] filter_length=5, lstm_nodes=100, num_filters=200, pool_size=3 ...\n",
      "[CV]  filter_length=5, lstm_nodes=100, num_filters=200, pool_size=3, score=0.7287325814455332, total=63.4min\n",
      "[CV] filter_length=5, lstm_nodes=100, num_filters=200, pool_size=3 ...\n",
      "[CV]  filter_length=5, lstm_nodes=100, num_filters=200, pool_size=3, score=0.7238221634122498, total=63.5min\n",
      "[CV] filter_length=5, lstm_nodes=100, num_filters=200, pool_size=3 ...\n",
      "[CV]  filter_length=5, lstm_nodes=100, num_filters=200, pool_size=3, score=0.7353682815277109, total=63.4min\n",
      "[CV] filter_length=5, lstm_nodes=100, num_filters=200, pool_size=4 ...\n",
      "[CV]  filter_length=5, lstm_nodes=100, num_filters=200, pool_size=4, score=0.7248838754228669, total=52.7min\n",
      "[CV] filter_length=5, lstm_nodes=100, num_filters=200, pool_size=4 ...\n",
      "[CV]  filter_length=5, lstm_nodes=100, num_filters=200, pool_size=4, score=0.7182481750321847, total=53.5min\n",
      "[CV] filter_length=5, lstm_nodes=100, num_filters=200, pool_size=4 ...\n",
      "[CV]  filter_length=5, lstm_nodes=100, num_filters=200, pool_size=4, score=0.7048440609772473, total=52.7min\n",
      "[CV] filter_length=5, lstm_nodes=200, num_filters=50, pool_size=3 ....\n",
      "[CV]  filter_length=5, lstm_nodes=200, num_filters=50, pool_size=3, score=0.7461181156035678, total=59.6min\n",
      "[CV] filter_length=5, lstm_nodes=200, num_filters=50, pool_size=3 ....\n"
     ]
    },
    {
     "name": "stdout",
     "output_type": "stream",
     "text": [
      "[CV]  filter_length=5, lstm_nodes=200, num_filters=50, pool_size=3, score=0.7019243528689465, total=59.3min\n",
      "[CV] filter_length=5, lstm_nodes=200, num_filters=50, pool_size=3 ....\n",
      "[CV]  filter_length=5, lstm_nodes=200, num_filters=50, pool_size=3, score=0.7283344394257311, total=59.7min\n",
      "[CV] filter_length=5, lstm_nodes=200, num_filters=50, pool_size=4 ....\n",
      "[CV]  filter_length=5, lstm_nodes=200, num_filters=50, pool_size=4, score=0.7295288654693168, total=47.9min\n",
      "[CV] filter_length=5, lstm_nodes=200, num_filters=50, pool_size=4 ....\n",
      "[CV]  filter_length=5, lstm_nodes=200, num_filters=50, pool_size=4, score=0.6863968146820296, total=47.5min\n",
      "[CV] filter_length=5, lstm_nodes=200, num_filters=50, pool_size=4 ....\n",
      "[CV]  filter_length=5, lstm_nodes=200, num_filters=50, pool_size=4, score=0.7186463170678076, total=47.0min\n",
      "[CV] filter_length=5, lstm_nodes=200, num_filters=100, pool_size=3 ...\n",
      "[CV]  filter_length=5, lstm_nodes=200, num_filters=100, pool_size=3, score=0.7409422692274842, total=75.0min\n",
      "[CV] filter_length=5, lstm_nodes=200, num_filters=100, pool_size=3 ...\n",
      "[CV]  filter_length=5, lstm_nodes=200, num_filters=100, pool_size=3, score=0.7147976113220043, total=75.9min\n",
      "[CV] filter_length=5, lstm_nodes=200, num_filters=100, pool_size=3 ...\n",
      "[CV]  filter_length=5, lstm_nodes=200, num_filters=100, pool_size=3, score=0.7337757135117853, total=75.6min\n",
      "[CV] filter_length=5, lstm_nodes=200, num_filters=100, pool_size=4 ...\n",
      "[CV]  filter_length=5, lstm_nodes=200, num_filters=100, pool_size=4, score=0.7285998674600268, total=59.6min\n",
      "[CV] filter_length=5, lstm_nodes=200, num_filters=100, pool_size=4 ...\n",
      "[CV]  filter_length=5, lstm_nodes=200, num_filters=100, pool_size=4, score=0.7268745854269533, total=59.3min\n",
      "[CV] filter_length=5, lstm_nodes=200, num_filters=100, pool_size=4 ...\n",
      "[CV]  filter_length=5, lstm_nodes=200, num_filters=100, pool_size=4, score=0.7282017251000787, total=60.3min\n",
      "[CV] filter_length=5, lstm_nodes=200, num_filters=200, pool_size=3 ...\n",
      "[CV]  filter_length=5, lstm_nodes=200, num_filters=200, pool_size=3, score=0.7299270074732982, total=99.4min\n",
      "[CV] filter_length=5, lstm_nodes=200, num_filters=200, pool_size=3 ...\n",
      "[CV]  filter_length=5, lstm_nodes=200, num_filters=200, pool_size=3, score=0.71453218331935, total=99.5min\n",
      "[CV] filter_length=5, lstm_nodes=200, num_filters=200, pool_size=3 ...\n",
      "[CV]  filter_length=5, lstm_nodes=200, num_filters=200, pool_size=3, score=0.6998009288951744, total=99.0min\n",
      "[CV] filter_length=5, lstm_nodes=200, num_filters=200, pool_size=4 ...\n",
      "[CV]  filter_length=5, lstm_nodes=200, num_filters=200, pool_size=4, score=0.7280690110987516, total=82.0min\n",
      "[CV] filter_length=5, lstm_nodes=200, num_filters=200, pool_size=4 ...\n",
      "[CV]  filter_length=5, lstm_nodes=200, num_filters=200, pool_size=4, score=0.7219641673778491, total=81.1min\n",
      "[CV] filter_length=5, lstm_nodes=200, num_filters=200, pool_size=4 ...\n",
      "[CV]  filter_length=5, lstm_nodes=200, num_filters=200, pool_size=4, score=0.7333775711676579, total=81.9min\n",
      "[CV] filter_length=8, lstm_nodes=100, num_filters=50, pool_size=3 ....\n",
      "[CV]  filter_length=8, lstm_nodes=100, num_filters=50, pool_size=3, score=0.7450564036245922, total=31.2min\n",
      "[CV] filter_length=8, lstm_nodes=100, num_filters=50, pool_size=3 ....\n",
      "[CV]  filter_length=8, lstm_nodes=100, num_filters=50, pool_size=3, score=0.7165228930149319, total=31.3min\n",
      "[CV] filter_length=8, lstm_nodes=100, num_filters=50, pool_size=3 ....\n",
      "[CV]  filter_length=8, lstm_nodes=100, num_filters=50, pool_size=3, score=0.7352355672020586, total=31.3min\n",
      "[CV] filter_length=8, lstm_nodes=100, num_filters=50, pool_size=4 ....\n",
      "[CV]  filter_length=8, lstm_nodes=100, num_filters=50, pool_size=4, score=0.746781685641845, total=26.8min\n",
      "[CV] filter_length=8, lstm_nodes=100, num_filters=50, pool_size=4 ....\n",
      "[CV]  filter_length=8, lstm_nodes=100, num_filters=50, pool_size=4, score=0.6938287988354531, total=26.8min\n",
      "[CV] filter_length=8, lstm_nodes=100, num_filters=50, pool_size=4 ....\n",
      "[CV]  filter_length=8, lstm_nodes=100, num_filters=50, pool_size=4, score=0.7263437290973195, total=26.7min\n",
      "[CV] filter_length=8, lstm_nodes=100, num_filters=100, pool_size=3 ...\n",
      "[CV]  filter_length=8, lstm_nodes=100, num_filters=100, pool_size=3, score=0.7349701395237296, total=41.7min\n",
      "[CV] filter_length=8, lstm_nodes=100, num_filters=100, pool_size=3 ...\n",
      "[CV]  filter_length=8, lstm_nodes=100, num_filters=100, pool_size=3, score=0.7090909089089705, total=41.2min\n",
      "[CV] filter_length=8, lstm_nodes=100, num_filters=100, pool_size=3 ...\n",
      "[CV]  filter_length=8, lstm_nodes=100, num_filters=100, pool_size=3, score=0.7336429992019536, total=41.2min\n",
      "[CV] filter_length=8, lstm_nodes=100, num_filters=100, pool_size=4 ...\n",
      "[CV]  filter_length=8, lstm_nodes=100, num_filters=100, pool_size=4, score=0.7360318515027052, total=35.3min\n",
      "[CV] filter_length=8, lstm_nodes=100, num_filters=100, pool_size=4 ...\n",
      "[CV]  filter_length=8, lstm_nodes=100, num_filters=100, pool_size=4, score=0.7239548774135769, total=35.4min\n",
      "[CV] filter_length=8, lstm_nodes=100, num_filters=100, pool_size=4 ...\n",
      "[CV]  filter_length=8, lstm_nodes=100, num_filters=100, pool_size=4, score=0.7384207035265937, total=35.6min\n",
      "[CV] filter_length=8, lstm_nodes=100, num_filters=200, pool_size=3 ...\n",
      "[CV]  filter_length=8, lstm_nodes=100, num_filters=200, pool_size=3, score=0.7365627072311508, total=67.0min\n",
      "[CV] filter_length=8, lstm_nodes=100, num_filters=200, pool_size=3 ...\n",
      "[CV]  filter_length=8, lstm_nodes=100, num_filters=200, pool_size=3, score=0.6987392168212744, total=67.2min\n",
      "[CV] filter_length=8, lstm_nodes=100, num_filters=200, pool_size=3 ...\n",
      "[CV]  filter_length=8, lstm_nodes=100, num_filters=200, pool_size=3, score=0.7064366289457107, total=67.1min\n",
      "[CV] filter_length=8, lstm_nodes=100, num_filters=200, pool_size=4 ...\n",
      "[CV]  filter_length=8, lstm_nodes=100, num_filters=200, pool_size=4, score=0.7373589912232928, total=58.0min\n",
      "[CV] filter_length=8, lstm_nodes=100, num_filters=200, pool_size=4 ...\n",
      "[CV]  filter_length=8, lstm_nodes=100, num_filters=200, pool_size=4, score=0.7055076309047793, total=57.3min\n",
      "[CV] filter_length=8, lstm_nodes=100, num_filters=200, pool_size=4 ...\n",
      "[CV]  filter_length=8, lstm_nodes=100, num_filters=200, pool_size=4, score=0.724883875082721, total=57.9min\n",
      "[CV] filter_length=8, lstm_nodes=200, num_filters=50, pool_size=3 ....\n",
      "[CV]  filter_length=8, lstm_nodes=200, num_filters=50, pool_size=3, score=0.7377571332114535, total=61.5min\n",
      "[CV] filter_length=8, lstm_nodes=200, num_filters=50, pool_size=3 ....\n",
      "[CV]  filter_length=8, lstm_nodes=200, num_filters=50, pool_size=3, score=0.7048440612224688, total=62.1min\n",
      "[CV] filter_length=8, lstm_nodes=200, num_filters=50, pool_size=3 ....\n",
      "[CV]  filter_length=8, lstm_nodes=200, num_filters=50, pool_size=3, score=0.7044459189258037, total=61.8min\n",
      "[CV] filter_length=8, lstm_nodes=200, num_filters=50, pool_size=4 ....\n",
      "[CV]  filter_length=8, lstm_nodes=200, num_filters=50, pool_size=4, score=0.7455872595982592, total=49.3min\n",
      "[CV] filter_length=8, lstm_nodes=200, num_filters=50, pool_size=4 ....\n",
      "[CV]  filter_length=8, lstm_nodes=200, num_filters=50, pool_size=4, score=0.7056403449219272, total=48.7min\n",
      "[CV] filter_length=8, lstm_nodes=200, num_filters=50, pool_size=4 ....\n",
      "[CV]  filter_length=8, lstm_nodes=200, num_filters=50, pool_size=4, score=0.7194426010757704, total=49.0min\n",
      "[CV] filter_length=8, lstm_nodes=200, num_filters=100, pool_size=3 ...\n",
      "[CV]  filter_length=8, lstm_nodes=200, num_filters=100, pool_size=3, score=0.7459854013411985, total=79.7min\n",
      "[CV] filter_length=8, lstm_nodes=200, num_filters=100, pool_size=3 ...\n",
      "[CV]  filter_length=8, lstm_nodes=200, num_filters=100, pool_size=3, score=0.721167883385707, total=78.5min\n",
      "[CV] filter_length=8, lstm_nodes=200, num_filters=100, pool_size=3 ...\n",
      "[CV]  filter_length=8, lstm_nodes=200, num_filters=100, pool_size=3, score=0.7394824155530316, total=78.0min\n",
      "[CV] filter_length=8, lstm_nodes=200, num_filters=100, pool_size=4 ...\n",
      "[CV]  filter_length=8, lstm_nodes=200, num_filters=100, pool_size=4, score=0.7493032513269148, total=63.0min\n",
      "[CV] filter_length=8, lstm_nodes=200, num_filters=100, pool_size=4 ...\n",
      "[CV]  filter_length=8, lstm_nodes=200, num_filters=100, pool_size=4, score=0.7193098870111604, total=62.5min\n",
      "[CV] filter_length=8, lstm_nodes=200, num_filters=100, pool_size=4 ...\n"
     ]
    },
    {
     "name": "stdout",
     "output_type": "stream",
     "text": [
      "[CV]  filter_length=8, lstm_nodes=200, num_filters=100, pool_size=4, score=0.7297942931318251, total=62.9min\n",
      "[CV] filter_length=8, lstm_nodes=200, num_filters=200, pool_size=3 ...\n",
      "[CV]  filter_length=8, lstm_nodes=200, num_filters=200, pool_size=3, score=0.7155938950214626, total=104.0min\n",
      "[CV] filter_length=8, lstm_nodes=200, num_filters=200, pool_size=3 ...\n",
      "[CV]  filter_length=8, lstm_nodes=200, num_filters=200, pool_size=3, score=0.7181154613235413, total=105.2min\n",
      "[CV] filter_length=8, lstm_nodes=200, num_filters=200, pool_size=3 ...\n",
      "[CV]  filter_length=8, lstm_nodes=200, num_filters=200, pool_size=3, score=0.7268745854111325, total=104.3min\n",
      "[CV] filter_length=8, lstm_nodes=200, num_filters=200, pool_size=4 ...\n",
      "[CV]  filter_length=8, lstm_nodes=200, num_filters=200, pool_size=4, score=0.7336429991703122, total=85.7min\n",
      "[CV] filter_length=8, lstm_nodes=200, num_filters=200, pool_size=4 ...\n",
      "[CV]  filter_length=8, lstm_nodes=200, num_filters=200, pool_size=4, score=0.7231585930971096, total=86.8min\n",
      "[CV] filter_length=8, lstm_nodes=200, num_filters=200, pool_size=4 ...\n",
      "[CV]  filter_length=8, lstm_nodes=200, num_filters=200, pool_size=4, score=0.7122760452967886, total=86.2min\n"
     ]
    },
    {
     "name": "stderr",
     "output_type": "stream",
     "text": [
      "[Parallel(n_jobs=1)]: Done 108 out of 108 | elapsed: 6068.3min finished\n"
     ]
    },
    {
     "name": "stdout",
     "output_type": "stream",
     "text": [
      "Best: 0.735545 using {'filter_length': 8, 'lstm_nodes': 200, 'num_filters': 100, 'pool_size': 3}\n"
     ]
    }
   ],
   "source": [
    "# tune hyperparameters for simple model\n",
    "\n",
    "# model based on \"A C-LSTM Neural Network for Text Classification\"\n",
    "\n",
    "def create_model(embedding_length=16, num_filters=128, pool_size=2,\n",
    "                 lstm_nodes=100, drop=0.5, recurrent_drop=0.5, filter_length=3):\n",
    "    # create the model\n",
    "    model = Sequential()\n",
    "    model.add(Embedding(top_words, embedding_length, \n",
    "                        input_length=max_seq_length))\n",
    "    model.add(Conv1D(filters=num_filters, kernel_size=filter_length, \n",
    "                     padding='same', activation='selu'))\n",
    "    model.add(MaxPooling1D(pool_size=pool_size))\n",
    "    model.add(LSTM(lstm_nodes, dropout=drop, \n",
    "              recurrent_dropout=recurrent_drop))\n",
    "    model.add(Dense(1, activation='sigmoid'))\n",
    "    model.compile(loss='binary_crossentropy', optimizer='adam', \n",
    "                  metrics=['accuracy'])\n",
    "\n",
    "    return model\n",
    "\n",
    "\n",
    "model = KerasClassifier(build_fn=create_model, batch_size=64,\n",
    "                        epochs=30, verbose=0)\n",
    "# define the grid search parameters\n",
    "# model hyperparameters\n",
    "embedding_length = [4, 6, 8]\n",
    "num_filters = [50, 100, 200]\n",
    "filter_length = [3, 5, 8]\n",
    "pool_size = [3, 4]\n",
    "lstm_nodes = [100, 200]\n",
    "\n",
    "param_grid = dict(num_filters=num_filters, pool_size=pool_size,\n",
    "                  lstm_nodes=lstm_nodes, filter_length=filter_length)\n",
    "\n",
    "grid = GridSearchCV(estimator=model, param_grid=param_grid,\n",
    "                    cv=3, verbose=10)\n",
    "\n",
    "\n",
    "grid_result = grid.fit(X, y)\n",
    "# summarize results\n",
    "print(\"Best: %f using %s\" % (grid_result.best_score_, grid_result.best_params_))\n",
    "\n",
    "grid_df = pd.DataFrame(grid_result.cv_results_['params'])\n",
    "grid_df['mean'] = grid_result.cv_results_['mean_test_score']\n",
    "grid_df['stddev'] = grid_result.cv_results_['std_test_score']\n",
    "\n",
    "# print results to csv file\n",
    "grid_df.to_csv('2018-06-14_aa_gird_search_results.csv')"
   ]
  },
  {
   "cell_type": "code",
   "execution_count": null,
   "metadata": {},
   "outputs": [],
   "source": []
  }
 ],
 "metadata": {
  "anaconda-cloud": {},
  "kernelspec": {
   "display_name": "Python 3",
   "language": "python",
   "name": "python3"
  },
  "language_info": {
   "codemirror_mode": {
    "name": "ipython",
    "version": 3
   },
   "file_extension": ".py",
   "mimetype": "text/x-python",
   "name": "python",
   "nbconvert_exporter": "python",
   "pygments_lexer": "ipython3",
   "version": "3.6.4"
  }
 },
 "nbformat": 4,
 "nbformat_minor": 2
}
