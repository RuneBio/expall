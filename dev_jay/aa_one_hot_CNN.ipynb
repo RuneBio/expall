{
 "cells": [
  {
   "cell_type": "code",
   "execution_count": 1,
   "metadata": {},
   "outputs": [
    {
     "name": "stderr",
     "output_type": "stream",
     "text": [
      "C:\\Users\\Jay\\Miniconda3\\lib\\site-packages\\h5py\\__init__.py:36: FutureWarning: Conversion of the second argument of issubdtype from `float` to `np.floating` is deprecated. In future, it will be treated as `np.float64 == np.dtype(float).type`.\n",
      "  from ._conv import register_converters as _register_converters\n"
     ]
    }
   ],
   "source": [
    "import numpy as np\n",
    "import pandas as pd\n",
    "import h5py\n",
    "import matplotlib.pyplot as plt\n",
    "from sklearn.model_selection import train_test_split"
   ]
  },
  {
   "cell_type": "code",
   "execution_count": 2,
   "metadata": {},
   "outputs": [],
   "source": [
    "data = pd.read_hdf('aa_one_hot_highlow.h5')"
   ]
  },
  {
   "cell_type": "code",
   "execution_count": 3,
   "metadata": {},
   "outputs": [
    {
     "data": {
      "text/html": [
       "<div>\n",
       "<style scoped>\n",
       "    .dataframe tbody tr th:only-of-type {\n",
       "        vertical-align: middle;\n",
       "    }\n",
       "\n",
       "    .dataframe tbody tr th {\n",
       "        vertical-align: top;\n",
       "    }\n",
       "\n",
       "    .dataframe thead th {\n",
       "        text-align: right;\n",
       "    }\n",
       "</style>\n",
       "<table border=\"1\" class=\"dataframe\">\n",
       "  <thead>\n",
       "    <tr style=\"text-align: right;\">\n",
       "      <th></th>\n",
       "      <th>class</th>\n",
       "      <th>prest_id</th>\n",
       "      <th>conc_cf</th>\n",
       "      <th>aa_one_hot</th>\n",
       "    </tr>\n",
       "  </thead>\n",
       "  <tbody>\n",
       "    <tr>\n",
       "      <th>1</th>\n",
       "      <td>0</td>\n",
       "      <td>140099</td>\n",
       "      <td>2.91540</td>\n",
       "      <td>[[0.0, 0.0, 0.0, 0.0, 0.0, 0.0, 0.0, 0.0, 0.0,...</td>\n",
       "    </tr>\n",
       "    <tr>\n",
       "      <th>2</th>\n",
       "      <td>0</td>\n",
       "      <td>140225</td>\n",
       "      <td>1.48770</td>\n",
       "      <td>[[0.0, 0.0, 0.0, 0.0, 0.0, 0.0, 0.0, 0.0, 0.0,...</td>\n",
       "    </tr>\n",
       "    <tr>\n",
       "      <th>5</th>\n",
       "      <td>0</td>\n",
       "      <td>140325</td>\n",
       "      <td>1.50290</td>\n",
       "      <td>[[0.0, 0.0, 0.0, 0.0, 1.0, 0.0, 0.0, 0.0, 0.0,...</td>\n",
       "    </tr>\n",
       "    <tr>\n",
       "      <th>8</th>\n",
       "      <td>0</td>\n",
       "      <td>140354</td>\n",
       "      <td>0.92003</td>\n",
       "      <td>[[0.0, 0.0, 0.0, 0.0, 0.0, 0.0, 0.0, 0.0, 0.0,...</td>\n",
       "    </tr>\n",
       "    <tr>\n",
       "      <th>10</th>\n",
       "      <td>0</td>\n",
       "      <td>140500</td>\n",
       "      <td>2.21830</td>\n",
       "      <td>[[0.0, 0.0, 0.0, 0.0, 0.0, 0.0, 0.0, 0.0, 0.0,...</td>\n",
       "    </tr>\n",
       "  </tbody>\n",
       "</table>\n",
       "</div>"
      ],
      "text/plain": [
       "    class  prest_id  conc_cf  \\\n",
       "1       0    140099  2.91540   \n",
       "2       0    140225  1.48770   \n",
       "5       0    140325  1.50290   \n",
       "8       0    140354  0.92003   \n",
       "10      0    140500  2.21830   \n",
       "\n",
       "                                           aa_one_hot  \n",
       "1   [[0.0, 0.0, 0.0, 0.0, 0.0, 0.0, 0.0, 0.0, 0.0,...  \n",
       "2   [[0.0, 0.0, 0.0, 0.0, 0.0, 0.0, 0.0, 0.0, 0.0,...  \n",
       "5   [[0.0, 0.0, 0.0, 0.0, 1.0, 0.0, 0.0, 0.0, 0.0,...  \n",
       "8   [[0.0, 0.0, 0.0, 0.0, 0.0, 0.0, 0.0, 0.0, 0.0,...  \n",
       "10  [[0.0, 0.0, 0.0, 0.0, 0.0, 0.0, 0.0, 0.0, 0.0,...  "
      ]
     },
     "execution_count": 3,
     "metadata": {},
     "output_type": "execute_result"
    }
   ],
   "source": [
    "data.head()"
   ]
  },
  {
   "cell_type": "code",
   "execution_count": 4,
   "metadata": {},
   "outputs": [
    {
     "data": {
      "text/html": [
       "<div>\n",
       "<style scoped>\n",
       "    .dataframe tbody tr th:only-of-type {\n",
       "        vertical-align: middle;\n",
       "    }\n",
       "\n",
       "    .dataframe tbody tr th {\n",
       "        vertical-align: top;\n",
       "    }\n",
       "\n",
       "    .dataframe thead th {\n",
       "        text-align: right;\n",
       "    }\n",
       "</style>\n",
       "<table border=\"1\" class=\"dataframe\">\n",
       "  <thead>\n",
       "    <tr style=\"text-align: right;\">\n",
       "      <th></th>\n",
       "      <th>class</th>\n",
       "      <th>prest_id</th>\n",
       "      <th>conc_cf</th>\n",
       "      <th>aa_one_hot</th>\n",
       "    </tr>\n",
       "  </thead>\n",
       "  <tbody>\n",
       "    <tr>\n",
       "      <th>45201</th>\n",
       "      <td>1</td>\n",
       "      <td>4550047</td>\n",
       "      <td>12.28</td>\n",
       "      <td>[[0.0, 0.0, 0.0, 0.0, 0.0, 0.0, 0.0, 0.0, 0.0,...</td>\n",
       "    </tr>\n",
       "    <tr>\n",
       "      <th>45202</th>\n",
       "      <td>1</td>\n",
       "      <td>4550053</td>\n",
       "      <td>11.18</td>\n",
       "      <td>[[0.0, 0.0, 0.0, 0.0, 0.0, 0.0, 0.0, 0.0, 0.0,...</td>\n",
       "    </tr>\n",
       "    <tr>\n",
       "      <th>45203</th>\n",
       "      <td>1</td>\n",
       "      <td>4550054</td>\n",
       "      <td>10.94</td>\n",
       "      <td>[[0.0, 0.0, 0.0, 0.0, 0.0, 1.0, 0.0, 0.0, 0.0,...</td>\n",
       "    </tr>\n",
       "    <tr>\n",
       "      <th>45204</th>\n",
       "      <td>1</td>\n",
       "      <td>4560007</td>\n",
       "      <td>11.30</td>\n",
       "      <td>[[0.0, 0.0, 0.0, 0.0, 0.0, 0.0, 0.0, 1.0, 0.0,...</td>\n",
       "    </tr>\n",
       "    <tr>\n",
       "      <th>45205</th>\n",
       "      <td>1</td>\n",
       "      <td>4560013</td>\n",
       "      <td>9.38</td>\n",
       "      <td>[[0.0, 0.0, 1.0, 0.0, 0.0, 0.0, 0.0, 0.0, 0.0,...</td>\n",
       "    </tr>\n",
       "  </tbody>\n",
       "</table>\n",
       "</div>"
      ],
      "text/plain": [
       "       class  prest_id  conc_cf  \\\n",
       "45201      1   4550047    12.28   \n",
       "45202      1   4550053    11.18   \n",
       "45203      1   4550054    10.94   \n",
       "45204      1   4560007    11.30   \n",
       "45205      1   4560013     9.38   \n",
       "\n",
       "                                              aa_one_hot  \n",
       "45201  [[0.0, 0.0, 0.0, 0.0, 0.0, 0.0, 0.0, 0.0, 0.0,...  \n",
       "45202  [[0.0, 0.0, 0.0, 0.0, 0.0, 0.0, 0.0, 0.0, 0.0,...  \n",
       "45203  [[0.0, 0.0, 0.0, 0.0, 0.0, 1.0, 0.0, 0.0, 0.0,...  \n",
       "45204  [[0.0, 0.0, 0.0, 0.0, 0.0, 0.0, 0.0, 1.0, 0.0,...  \n",
       "45205  [[0.0, 0.0, 1.0, 0.0, 0.0, 0.0, 0.0, 0.0, 0.0,...  "
      ]
     },
     "execution_count": 4,
     "metadata": {},
     "output_type": "execute_result"
    }
   ],
   "source": [
    "data.tail()"
   ]
  },
  {
   "cell_type": "code",
   "execution_count": 9,
   "metadata": {},
   "outputs": [
    {
     "data": {
      "text/plain": [
       "(149, 20)"
      ]
     },
     "execution_count": 9,
     "metadata": {},
     "output_type": "execute_result"
    }
   ],
   "source": [
    "data['aa_one_hot'][1].shape"
   ]
  },
  {
   "cell_type": "code",
   "execution_count": 12,
   "metadata": {},
   "outputs": [],
   "source": [
    "# create a 3D array of one one hot encodings\n",
    "max_len = 149\n",
    "width = 20\n",
    "num_samples = data.shape[0]\n",
    "\n",
    "X = np.zeros((num_samples, max_len, width))\n",
    "for idx, aa_one_hot in enumerate(data['aa_one_hot'].values):\n",
    "    X[idx, :, :] = aa_one_hot\n",
    "\n",
    "    \n",
    "y = data['class'].values"
   ]
  },
  {
   "cell_type": "code",
   "execution_count": 13,
   "metadata": {},
   "outputs": [],
   "source": [
    "x_train, x_test, y_train, y_test = train_test_split(\n",
    "    X, y, test_size=0.3, random_state=42)"
   ]
  },
  {
   "cell_type": "code",
   "execution_count": 43,
   "metadata": {},
   "outputs": [
    {
     "name": "stdout",
     "output_type": "stream",
     "text": [
      "Train on 15822 samples, validate on 6781 samples\n",
      "Epoch 1/10\n",
      "15822/15822 [==============================] - 6s 404us/step - loss: 0.7144 - acc: 0.5119 - val_loss: 0.6868 - val_acc: 0.5614\n",
      "Epoch 2/10\n",
      "15822/15822 [==============================] - 6s 375us/step - loss: 0.6859 - acc: 0.5497 - val_loss: 0.6799 - val_acc: 0.5856\n",
      "Epoch 3/10\n",
      "15822/15822 [==============================] - 6s 372us/step - loss: 0.6780 - acc: 0.5729 - val_loss: 0.6740 - val_acc: 0.6117\n",
      "Epoch 4/10\n",
      "15822/15822 [==============================] - 6s 391us/step - loss: 0.6714 - acc: 0.5880 - val_loss: 0.6687 - val_acc: 0.6166\n",
      "Epoch 5/10\n",
      "15822/15822 [==============================] - 6s 378us/step - loss: 0.6649 - acc: 0.6028 - val_loss: 0.6633 - val_acc: 0.6216\n",
      "Epoch 6/10\n",
      "15822/15822 [==============================] - 6s 397us/step - loss: 0.6613 - acc: 0.6036 - val_loss: 0.6615 - val_acc: 0.6189\n",
      "Epoch 7/10\n",
      "15822/15822 [==============================] - 6s 383us/step - loss: 0.6588 - acc: 0.6090 - val_loss: 0.6579 - val_acc: 0.6219\n",
      "Epoch 8/10\n",
      "15822/15822 [==============================] - 6s 388us/step - loss: 0.6534 - acc: 0.6167 - val_loss: 0.6558 - val_acc: 0.6248\n",
      "Epoch 9/10\n",
      "15822/15822 [==============================] - 6s 389us/step - loss: 0.6506 - acc: 0.6213 - val_loss: 0.6535 - val_acc: 0.6253\n",
      "Epoch 10/10\n",
      "15822/15822 [==============================] - 6s 388us/step - loss: 0.6486 - acc: 0.6231 - val_loss: 0.6529 - val_acc: 0.6310\n"
     ]
    },
    {
     "data": {
      "text/plain": [
       "<keras.callbacks.History at 0x1dd556dd6a0>"
      ]
     },
     "execution_count": 43,
     "metadata": {},
     "output_type": "execute_result"
    }
   ],
   "source": [
    "# simple model per Yoon Kim (2014)\n",
    "\n",
    "from keras.models import Sequential\n",
    "from keras.layers import Dense, Dropout, Flatten\n",
    "from keras.layers import Conv1D, GlobalMaxPooling1D\n",
    "model = Sequential()\n",
    "model.add(Conv1D(10, 8, activation='relu', input_shape=(149, 20)))\n",
    "model.add(GlobalMaxPooling1D())\n",
    "# model.add(Flatten())\n",
    "# model.add(Dense(32))\n",
    "model.add(Dropout(0.5))\n",
    "model.add(Dense(1, activation='sigmoid'))\n",
    "\n",
    "model.compile(loss='binary_crossentropy',\n",
    "              optimizer='adam',\n",
    "              metrics=['accuracy'])\n",
    "\n",
    "model.fit(x_train, y_train, batch_size=50, epochs=10,\n",
    "          validation_data=(x_test, y_test), verbose=1)"
   ]
  },
  {
   "cell_type": "code",
   "execution_count": 44,
   "metadata": {},
   "outputs": [],
   "source": [
    "#try to vizulaize the filters\n",
    "weights = model.get_weights()"
   ]
  },
  {
   "cell_type": "code",
   "execution_count": 45,
   "metadata": {},
   "outputs": [
    {
     "data": {
      "text/plain": [
       "(8, 20, 10)"
      ]
     },
     "execution_count": 45,
     "metadata": {},
     "output_type": "execute_result"
    }
   ],
   "source": [
    "weights[0].shape"
   ]
  },
  {
   "cell_type": "code",
   "execution_count": 47,
   "metadata": {},
   "outputs": [
    {
     "data": {
      "image/png": "[encoded data removed]",
      "text/plain": [
       "<matplotlib.figure.Figure at 0x1dd57217160>"
      ]
     },
     "metadata": {},
     "output_type": "display_data"
    }
   ],
   "source": [
    "#I'm expecting 10 filters that are 8 x 20\n",
    "#if I'm interpreting this correctly the weights[0] is and array [8x20 filter, 10 filters]\n",
    "\n",
    "import matplotlib.pyplot as plt\n",
    "%matplotlib inline\n",
    "\n",
    "plt.figure(figsize=(30,5))\n",
    "for ind in range(1,11):\n",
    "    w = weights[0][:,:,ind-1]\n",
    "    plt.subplot(2,5,ind)\n",
    "    plt.imshow(w)\n",
    "    plt.colorbar()"
   ]
  },
  {
   "cell_type": "markdown",
   "metadata": {},
   "source": [
    "since the data only has a single hot pixel in each row, I would expect to see similar patterns in the filters, but this doesn't look much like that so maybe there is some more work to be done here or my expecation is wrong."
   ]
  },
  {
   "cell_type": "code",
   "execution_count": null,
   "metadata": {},
   "outputs": [],
   "source": [
    "# Now trying to use an example based on Kim's paper.\n",
    "# adapted from https://github.com/alexander-rakhlin/CNN-for-Sentence-Classification-in-Keras/blob/master/sentiment_cnn.py"
   ]
  },
  {
   "cell_type": "code",
   "execution_count": 24,
   "metadata": {},
   "outputs": [
    {
     "name": "stdout",
     "output_type": "stream",
     "text": [
      "Train on 15822 samples, validate on 6781 samples\n",
      "Epoch 1/10\n",
      " - 10s - loss: 0.7933 - acc: 0.5042 - val_loss: 0.6900 - val_acc: 0.5465\n",
      "Epoch 2/10\n",
      " - 9s - loss: 0.7012 - acc: 0.5263 - val_loss: 0.6882 - val_acc: 0.5658\n",
      "Epoch 3/10\n",
      " - 9s - loss: 0.6914 - acc: 0.5293 - val_loss: 0.6864 - val_acc: 0.5759\n",
      "Epoch 4/10\n",
      " - 9s - loss: 0.6884 - acc: 0.5399 - val_loss: 0.6844 - val_acc: 0.5902\n",
      "Epoch 5/10\n",
      " - 9s - loss: 0.6842 - acc: 0.5530 - val_loss: 0.6819 - val_acc: 0.5977\n",
      "Epoch 6/10\n",
      " - 9s - loss: 0.6833 - acc: 0.5530 - val_loss: 0.6797 - val_acc: 0.5976\n",
      "Epoch 7/10\n",
      " - 9s - loss: 0.6810 - acc: 0.5602 - val_loss: 0.6783 - val_acc: 0.5841\n",
      "Epoch 8/10\n",
      " - 10s - loss: 0.6805 - acc: 0.5667 - val_loss: 0.6761 - val_acc: 0.6074\n",
      "Epoch 9/10\n",
      " - 9s - loss: 0.6774 - acc: 0.5720 - val_loss: 0.6735 - val_acc: 0.6150\n",
      "Epoch 10/10\n",
      " - 9s - loss: 0.6752 - acc: 0.5758 - val_loss: 0.6715 - val_acc: 0.6161\n"
     ]
    },
    {
     "data": {
      "text/plain": [
       "<keras.callbacks.History at 0x1dd2f5e2240>"
      ]
     },
     "execution_count": 24,
     "metadata": {},
     "output_type": "execute_result"
    }
   ],
   "source": [
    "from keras.models import Sequential, Model\n",
    "from keras.layers import Dense, Dropout, Input, MaxPooling1D, Convolution1D, Flatten\n",
    "from keras.layers.merge import Concatenate\n",
    "\n",
    "filter_sizes = (3, 4, 5)\n",
    "num_filters = 10\n",
    "dropout_prob = (0.5, 0.8)\n",
    "hidden_dims = 50\n",
    "\n",
    "# prepare input shape\n",
    "input_shape = (149, 20)\n",
    "model_input = Input(shape=input_shape)\n",
    "z = model_input\n",
    "\n",
    "# z = Dropout(dropout_prob[0])(z)\n",
    "\n",
    "# Convolutional ddddblock\n",
    "conv_blocks = []\n",
    "for sz in filter_sizes:\n",
    "    conv = Convolution1D(filters=num_filters,\n",
    "                         kernel_size=sz,\n",
    "                         padding=\"valid\",\n",
    "                         activation=\"relu\",\n",
    "                         strides=1)(z)\n",
    "    conv = GlobalMaxPooling1D()(conv)\n",
    "    conv_blocks.append(conv)\n",
    "z = Concatenate()(conv_blocks) if len(conv_blocks) > 1 else conv_blocks[0]\n",
    "# z = Flatten()(z)\n",
    "z = Dropout(dropout_prob[1])(z)\n",
    "# z = Dense(hidden_dims, activation=\"selu\")(z)\n",
    "model_output = Dense(1, activation=\"sigmoid\")(z)\n",
    "\n",
    "model2 = Model(model_input, model_output)\n",
    "model2.compile(loss=\"binary_crossentropy\", optimizer=\"adam\", metrics=[\"accuracy\"])\n",
    "\n",
    "# Train the model\n",
    "model2.fit(x_train, y_train, batch_size=50, epochs=10,\n",
    "          validation_data=(x_test, y_test), verbose=2)"
   ]
  },
  {
   "cell_type": "markdown",
   "metadata": {},
   "source": [
    "### the following architecture comes from the keras docs... seems to overfit"
   ]
  },
  {
   "cell_type": "code",
   "execution_count": 25,
   "metadata": {},
   "outputs": [
    {
     "name": "stdout",
     "output_type": "stream",
     "text": [
      "Train on 15822 samples, validate on 6781 samples\n",
      "Epoch 1/10\n",
      "15822/15822 [==============================] - 21s 1ms/step - loss: 0.6816 - acc: 0.5528 - val_loss: 0.6547 - val_acc: 0.6213\n",
      "Epoch 2/10\n",
      "15822/15822 [==============================] - 21s 1ms/step - loss: 0.6510 - acc: 0.6243 - val_loss: 0.6396 - val_acc: 0.6380\n",
      "Epoch 3/10\n",
      "15822/15822 [==============================] - 24s 2ms/step - loss: 0.6357 - acc: 0.6400 - val_loss: 0.6387 - val_acc: 0.6297\n",
      "Epoch 4/10\n",
      "15822/15822 [==============================] - 23s 1ms/step - loss: 0.6248 - acc: 0.6509 - val_loss: 0.6213 - val_acc: 0.6465\n",
      "Epoch 5/10\n",
      "15822/15822 [==============================] - 23s 1ms/step - loss: 0.6114 - acc: 0.6648 - val_loss: 0.6176 - val_acc: 0.6444\n",
      "Epoch 6/10\n",
      "15822/15822 [==============================] - 23s 1ms/step - loss: 0.5977 - acc: 0.6730 - val_loss: 0.6116 - val_acc: 0.6624\n",
      "Epoch 7/10\n",
      "15822/15822 [==============================] - 25s 2ms/step - loss: 0.5873 - acc: 0.6834 - val_loss: 0.6050 - val_acc: 0.6635\n",
      "Epoch 8/10\n",
      "15822/15822 [==============================] - 22s 1ms/step - loss: 0.5763 - acc: 0.6957 - val_loss: 0.5997 - val_acc: 0.6644\n",
      "Epoch 9/10\n",
      "15822/15822 [==============================] - 22s 1ms/step - loss: 0.5626 - acc: 0.7033 - val_loss: 0.5928 - val_acc: 0.6658\n",
      "Epoch 10/10\n",
      "15822/15822 [==============================] - 24s 2ms/step - loss: 0.5521 - acc: 0.7167 - val_loss: 0.5989 - val_acc: 0.6667\n"
     ]
    },
    {
     "data": {
      "text/plain": [
       "<keras.callbacks.History at 0x1dd51cdad30>"
      ]
     },
     "execution_count": 25,
     "metadata": {},
     "output_type": "execute_result"
    }
   ],
   "source": [
    "from keras.models import Sequential\n",
    "from keras.layers import Dense, Dropout\n",
    "from keras.layers import Embedding\n",
    "from keras.layers import Conv1D, GlobalAveragePooling1D, MaxPooling1D\n",
    "\n",
    "model = Sequential()\n",
    "model.add(Conv1D(64, 3, activation='relu', input_shape=(149, 20)))\n",
    "model.add(Conv1D(64, 3, activation='relu'))\n",
    "model.add(MaxPooling1D(3))\n",
    "model.add(Conv1D(128, 3, activation='relu'))\n",
    "model.add(Conv1D(128, 3, activation='relu'))\n",
    "model.add(GlobalAveragePooling1D())\n",
    "model.add(Dropout(0.8))\n",
    "model.add(Dense(1, activation='sigmoid'))\n",
    "\n",
    "model.compile(loss='binary_crossentropy',\n",
    "              optimizer='adam',\n",
    "              metrics=['accuracy'])\n",
    "\n",
    "model.fit(x_train, y_train, batch_size=50, epochs=10,\n",
    "          validation_data=(x_test, y_test), verbose=1)"
   ]
  },
  {
   "cell_type": "code",
   "execution_count": null,
   "metadata": {},
   "outputs": [],
   "source": []
  }
 ],
 "metadata": {
  "anaconda-cloud": {},
  "kernelspec": {
   "display_name": "Python 3",
   "language": "python",
   "name": "python3"
  },
  "language_info": {
   "codemirror_mode": {
    "name": "ipython",
    "version": 3
   },
   "file_extension": ".py",
   "mimetype": "text/x-python",
   "name": "python",
   "nbconvert_exporter": "python",
   "pygments_lexer": "ipython3",
   "version": "3.6.3"
  }
 },
 "nbformat": 4,
 "nbformat_minor": 1
}
