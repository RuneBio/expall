{
 "cells": [
  {
   "cell_type": "code",
   "execution_count": 1,
   "metadata": {},
   "outputs": [
    {
     "name": "stderr",
     "output_type": "stream",
     "text": [
      "C:\\Users\\Jay\\Miniconda3\\lib\\site-packages\\h5py\\__init__.py:36: FutureWarning: Conversion of the second argument of issubdtype from `float` to `np.floating` is deprecated. In future, it will be treated as `np.float64 == np.dtype(float).type`.\n",
      "  from ._conv import register_converters as _register_converters\n"
     ]
    }
   ],
   "source": [
    "import pandas as pd\n",
    "import numpy as np\n",
    "import os, sys, subprocess\n",
    "import h5py\n",
    "import json\n",
    "import matplotlib.pyplot as plt"
   ]
  },
  {
   "cell_type": "code",
   "execution_count": 2,
   "metadata": {},
   "outputs": [
    {
     "name": "stdout",
     "output_type": "stream",
     "text": [
      "Number of peptides: 45206\n"
     ]
    }
   ],
   "source": [
    "#import data from Sastry et. al. \n",
    "DATA_DIR = '../dataframes/'\n",
    "\n",
    "DF_prest = pd.concat([pd.read_csv(DATA_DIR+'DF_prest_features_1.csv',index_col=0),\n",
    "                      pd.read_csv(DATA_DIR+'DF_prest_features_2.csv',index_col=0),\n",
    "                      pd.read_csv(DATA_DIR+'DF_prest_features_3.csv',index_col=0),\n",
    "                      pd.read_csv(DATA_DIR+'DF_prest_features_4.csv',index_col=0)])\n",
    "print ('Number of peptides:', len(DF_prest))\n"
   ]
  },
  {
   "cell_type": "code",
   "execution_count": 3,
   "metadata": {},
   "outputs": [
    {
     "data": {
      "text/html": [
       "<div>\n",
       "<style scoped>\n",
       "    .dataframe tbody tr th:only-of-type {\n",
       "        vertical-align: middle;\n",
       "    }\n",
       "\n",
       "    .dataframe tbody tr th {\n",
       "        vertical-align: top;\n",
       "    }\n",
       "\n",
       "    .dataframe thead th {\n",
       "        text-align: right;\n",
       "    }\n",
       "</style>\n",
       "<table border=\"1\" class=\"dataframe\">\n",
       "  <thead>\n",
       "    <tr style=\"text-align: right;\">\n",
       "      <th></th>\n",
       "      <th>prest_id</th>\n",
       "      <th>uniprot_id</th>\n",
       "      <th>conc_cf</th>\n",
       "      <th>aa_seq</th>\n",
       "      <th>nt_seq</th>\n",
       "      <th>aa_len</th>\n",
       "      <th>true_nt_seq</th>\n",
       "      <th>AAA</th>\n",
       "      <th>AAT</th>\n",
       "      <th>AAC</th>\n",
       "      <th>...</th>\n",
       "      <th>disembl_HOTLOOPS_frac</th>\n",
       "      <th>ronn_avg</th>\n",
       "      <th>ronn_results</th>\n",
       "      <th>ronn_frac</th>\n",
       "      <th>disopred_results</th>\n",
       "      <th>disopred_avg</th>\n",
       "      <th>disopred_pb_results</th>\n",
       "      <th>disopred_pb_avg</th>\n",
       "      <th>disopred_frac</th>\n",
       "      <th>disopred_pb_frac</th>\n",
       "    </tr>\n",
       "  </thead>\n",
       "  <tbody>\n",
       "    <tr>\n",
       "      <th>0</th>\n",
       "      <td>140095</td>\n",
       "      <td>G3V3N0</td>\n",
       "      <td>4.3075</td>\n",
       "      <td>IMTAPSSFEQFKVAMNYLQLYNVPDCLEDIQDADCSSSKCSSSASS...</td>\n",
       "      <td>GACAAGCTTGCGGCCGCAATTATGACAGCTCCCTCCAGTTTTGAGC...</td>\n",
       "      <td>139</td>\n",
       "      <td>ATTATGACAGCTCCCTCCAGTTTTGAGCAGTTTAAAGTGGCAATGA...</td>\n",
       "      <td>0.057554</td>\n",
       "      <td>0.043165</td>\n",
       "      <td>0.021583</td>\n",
       "      <td>...</td>\n",
       "      <td>0.410072</td>\n",
       "      <td>0.495827</td>\n",
       "      <td>imtapssfeqfkvamnylqlynvpdclediqDADCSSSKCSSSASS...</td>\n",
       "      <td>0.482014</td>\n",
       "      <td>ImtapssfeqfkvamnylqlynvpdclediqdadcsSSKCSSSASS...</td>\n",
       "      <td>0.387050</td>\n",
       "      <td>-...................................^^^^^^^^^^...</td>\n",
       "      <td>0.317770</td>\n",
       "      <td>0.388489</td>\n",
       "      <td>0.359712</td>\n",
       "    </tr>\n",
       "    <tr>\n",
       "      <th>1</th>\n",
       "      <td>140099</td>\n",
       "      <td>G3V537</td>\n",
       "      <td>2.9154</td>\n",
       "      <td>TYYAWKHELLGSGTCPALPPREVLGMEELEKLPEEQVAEEELECSA...</td>\n",
       "      <td>GACAAGCTTGCGGCCGCAACCTACTATGCCTGGAAGCATGAGCTGC...</td>\n",
       "      <td>144</td>\n",
       "      <td>ACCTACTATGCCTGGAAGCATGAGCTGCTGGGCTCTGGCACCTGCC...</td>\n",
       "      <td>0.006944</td>\n",
       "      <td>0.013889</td>\n",
       "      <td>0.013889</td>\n",
       "      <td>...</td>\n",
       "      <td>0.388889</td>\n",
       "      <td>0.488125</td>\n",
       "      <td>tyyawkhellGSGTcPALPPREVLGMEELEKLPEEQVAEEELECSa...</td>\n",
       "      <td>0.493056</td>\n",
       "      <td>tyyawkhellgsgtCPALPPREVLGMEELEKLPEEQVAEEELECSA...</td>\n",
       "      <td>0.421597</td>\n",
       "      <td>..............^^^^^^--^^^^^^^^^^^^^^^^^^^-^^^^...</td>\n",
       "      <td>0.352917</td>\n",
       "      <td>0.465278</td>\n",
       "      <td>0.423611</td>\n",
       "    </tr>\n",
       "    <tr>\n",
       "      <th>2</th>\n",
       "      <td>140225</td>\n",
       "      <td>P12724</td>\n",
       "      <td>1.4877</td>\n",
       "      <td>SLHARPPQFTRAQWFAIQHISLNPPRCTIAMRAINNYRWRCKNQNT...</td>\n",
       "      <td>GACAAGCTTGCGGCCGCATCACTCCATGCCAGACCCCCACAGTTTA...</td>\n",
       "      <td>136</td>\n",
       "      <td>TCACTCCATGCCAGACCCCCACAGTTTACGAGGGCTCAGTGGTTTG...</td>\n",
       "      <td>0.007353</td>\n",
       "      <td>0.051471</td>\n",
       "      <td>0.058824</td>\n",
       "      <td>...</td>\n",
       "      <td>0.338235</td>\n",
       "      <td>0.368750</td>\n",
       "      <td>SLharppqftraqwfaiqhislnpprctiamrainnyrwrcknqnt...</td>\n",
       "      <td>0.058824</td>\n",
       "      <td>slharppqftraqwfaiqhislnpprctiamrainnyrwrcknqnt...</td>\n",
       "      <td>0.034338</td>\n",
       "      <td>.................................................</td>\n",
       "      <td>0.000000</td>\n",
       "      <td>0.000000</td>\n",
       "      <td>0.000000</td>\n",
       "    </tr>\n",
       "    <tr>\n",
       "      <th>3</th>\n",
       "      <td>140235</td>\n",
       "      <td>H0YH02</td>\n",
       "      <td>6.7224</td>\n",
       "      <td>ARALNESKRVNNGNTAPEDSSPAKKTRRCQRQESKKMPVAGGKANK...</td>\n",
       "      <td>GACAAGCTTGCGGCCGCAGCGAGAGCATTAAATGAAAGCAAAAGAG...</td>\n",
       "      <td>123</td>\n",
       "      <td>GCGAGAGCATTAAATGAAAGCAAAAGAGTTAATAATGGCAACACGG...</td>\n",
       "      <td>0.040650</td>\n",
       "      <td>0.056911</td>\n",
       "      <td>0.040650</td>\n",
       "      <td>...</td>\n",
       "      <td>0.552846</td>\n",
       "      <td>0.571382</td>\n",
       "      <td>ARALNESKRVNNGNTAPEDSSPAKKTRRCQRQESKKMPVAGGKANK...</td>\n",
       "      <td>0.536585</td>\n",
       "      <td>ARALNESKRVNNGNTAPEDSSPAKKTRRCQRQESKKMPVAGGKANK...</td>\n",
       "      <td>0.425366</td>\n",
       "      <td>^^^^^^^^^^^^^^^-^---^-^^^^^^^^^^^^^--^^^^^^^^^...</td>\n",
       "      <td>0.295122</td>\n",
       "      <td>0.430894</td>\n",
       "      <td>0.373984</td>\n",
       "    </tr>\n",
       "    <tr>\n",
       "      <th>4</th>\n",
       "      <td>140309</td>\n",
       "      <td>F5GYC5</td>\n",
       "      <td>3.3848</td>\n",
       "      <td>HRKEPGARLEATRGAARPHKQGTKPMITRPSVSQLGEGKCPSSQHL...</td>\n",
       "      <td>GACAAGCTTGCGGCCGCACATCGGAAAGAGCCTGGGGCAAGGCTGG...</td>\n",
       "      <td>124</td>\n",
       "      <td>CATCGGAAAGAGCCTGGGGCAAGGCTGGAGGCCACAAGAGGAGCTG...</td>\n",
       "      <td>0.032258</td>\n",
       "      <td>0.008065</td>\n",
       "      <td>0.008065</td>\n",
       "      <td>...</td>\n",
       "      <td>0.274194</td>\n",
       "      <td>0.556613</td>\n",
       "      <td>HRKEPGARLEATRGAARPHKQGTKPMITRPSVSQLGEGKCPSSQHL...</td>\n",
       "      <td>0.620968</td>\n",
       "      <td>HRKEPGARLEATRGAARPHKQGTkpmitrpsvsqlgegkcpssqhl...</td>\n",
       "      <td>0.236613</td>\n",
       "      <td>^^^^^^^^^^^^^^^^^^^^^^^^.........................</td>\n",
       "      <td>0.185726</td>\n",
       "      <td>0.201613</td>\n",
       "      <td>0.209677</td>\n",
       "    </tr>\n",
       "  </tbody>\n",
       "</table>\n",
       "<p>5 rows × 163 columns</p>\n",
       "</div>"
      ],
      "text/plain": [
       "   prest_id uniprot_id  conc_cf  \\\n",
       "0    140095     G3V3N0   4.3075   \n",
       "1    140099     G3V537   2.9154   \n",
       "2    140225     P12724   1.4877   \n",
       "3    140235     H0YH02   6.7224   \n",
       "4    140309     F5GYC5   3.3848   \n",
       "\n",
       "                                              aa_seq  \\\n",
       "0  IMTAPSSFEQFKVAMNYLQLYNVPDCLEDIQDADCSSSKCSSSASS...   \n",
       "1  TYYAWKHELLGSGTCPALPPREVLGMEELEKLPEEQVAEEELECSA...   \n",
       "2  SLHARPPQFTRAQWFAIQHISLNPPRCTIAMRAINNYRWRCKNQNT...   \n",
       "3  ARALNESKRVNNGNTAPEDSSPAKKTRRCQRQESKKMPVAGGKANK...   \n",
       "4  HRKEPGARLEATRGAARPHKQGTKPMITRPSVSQLGEGKCPSSQHL...   \n",
       "\n",
       "                                              nt_seq  aa_len  \\\n",
       "0  GACAAGCTTGCGGCCGCAATTATGACAGCTCCCTCCAGTTTTGAGC...     139   \n",
       "1  GACAAGCTTGCGGCCGCAACCTACTATGCCTGGAAGCATGAGCTGC...     144   \n",
       "2  GACAAGCTTGCGGCCGCATCACTCCATGCCAGACCCCCACAGTTTA...     136   \n",
       "3  GACAAGCTTGCGGCCGCAGCGAGAGCATTAAATGAAAGCAAAAGAG...     123   \n",
       "4  GACAAGCTTGCGGCCGCACATCGGAAAGAGCCTGGGGCAAGGCTGG...     124   \n",
       "\n",
       "                                         true_nt_seq       AAA       AAT  \\\n",
       "0  ATTATGACAGCTCCCTCCAGTTTTGAGCAGTTTAAAGTGGCAATGA...  0.057554  0.043165   \n",
       "1  ACCTACTATGCCTGGAAGCATGAGCTGCTGGGCTCTGGCACCTGCC...  0.006944  0.013889   \n",
       "2  TCACTCCATGCCAGACCCCCACAGTTTACGAGGGCTCAGTGGTTTG...  0.007353  0.051471   \n",
       "3  GCGAGAGCATTAAATGAAAGCAAAAGAGTTAATAATGGCAACACGG...  0.040650  0.056911   \n",
       "4  CATCGGAAAGAGCCTGGGGCAAGGCTGGAGGCCACAAGAGGAGCTG...  0.032258  0.008065   \n",
       "\n",
       "        AAC        ...         disembl_HOTLOOPS_frac  ronn_avg  \\\n",
       "0  0.021583        ...                      0.410072  0.495827   \n",
       "1  0.013889        ...                      0.388889  0.488125   \n",
       "2  0.058824        ...                      0.338235  0.368750   \n",
       "3  0.040650        ...                      0.552846  0.571382   \n",
       "4  0.008065        ...                      0.274194  0.556613   \n",
       "\n",
       "                                        ronn_results  ronn_frac  \\\n",
       "0  imtapssfeqfkvamnylqlynvpdclediqDADCSSSKCSSSASS...   0.482014   \n",
       "1  tyyawkhellGSGTcPALPPREVLGMEELEKLPEEQVAEEELECSa...   0.493056   \n",
       "2  SLharppqftraqwfaiqhislnpprctiamrainnyrwrcknqnt...   0.058824   \n",
       "3  ARALNESKRVNNGNTAPEDSSPAKKTRRCQRQESKKMPVAGGKANK...   0.536585   \n",
       "4  HRKEPGARLEATRGAARPHKQGTKPMITRPSVSQLGEGKCPSSQHL...   0.620968   \n",
       "\n",
       "                                    disopred_results  disopred_avg  \\\n",
       "0  ImtapssfeqfkvamnylqlynvpdclediqdadcsSSKCSSSASS...      0.387050   \n",
       "1  tyyawkhellgsgtCPALPPREVLGMEELEKLPEEQVAEEELECSA...      0.421597   \n",
       "2  slharppqftraqwfaiqhislnpprctiamrainnyrwrcknqnt...      0.034338   \n",
       "3  ARALNESKRVNNGNTAPEDSSPAKKTRRCQRQESKKMPVAGGKANK...      0.425366   \n",
       "4  HRKEPGARLEATRGAARPHKQGTkpmitrpsvsqlgegkcpssqhl...      0.236613   \n",
       "\n",
       "                                 disopred_pb_results  disopred_pb_avg  \\\n",
       "0  -...................................^^^^^^^^^^...         0.317770   \n",
       "1  ..............^^^^^^--^^^^^^^^^^^^^^^^^^^-^^^^...         0.352917   \n",
       "2  .................................................         0.000000   \n",
       "3  ^^^^^^^^^^^^^^^-^---^-^^^^^^^^^^^^^--^^^^^^^^^...         0.295122   \n",
       "4  ^^^^^^^^^^^^^^^^^^^^^^^^.........................         0.185726   \n",
       "\n",
       "   disopred_frac  disopred_pb_frac  \n",
       "0       0.388489          0.359712  \n",
       "1       0.465278          0.423611  \n",
       "2       0.000000          0.000000  \n",
       "3       0.430894          0.373984  \n",
       "4       0.201613          0.209677  \n",
       "\n",
       "[5 rows x 163 columns]"
      ]
     },
     "execution_count": 3,
     "metadata": {},
     "output_type": "execute_result"
    }
   ],
   "source": [
    "DF_prest.head(5)"
   ]
  },
  {
   "cell_type": "markdown",
   "metadata": {},
   "source": [
    "# One hot encoding of AA sequence"
   ]
  },
  {
   "cell_type": "code",
   "execution_count": 4,
   "metadata": {},
   "outputs": [],
   "source": [
    "# list of amino acid single letter abbreviations from https://en.wikipedia.org/wiki/Amino_acid\n",
    "aa_list = ['A', 'R', 'N', 'D', 'C', 'E', 'Q', 'G', 'H', 'I', 'L', 'K', 'M', 'F', 'P', 'S', 'T', 'W', 'Y', 'V']"
   ]
  },
  {
   "cell_type": "markdown",
   "metadata": {},
   "source": [
    "Make a dictionary for the encoding (with abbreviations sorted in alpabetical order)"
   ]
  },
  {
   "cell_type": "code",
   "execution_count": 5,
   "metadata": {},
   "outputs": [],
   "source": [
    "aa_list.sort() # sort the aa_list alphabetically \n",
    "\n",
    "# create a dictionary\n",
    "aa_one_hot = {}\n",
    "for idx, aa in enumerate(aa_list): \n",
    "    one_hot = np.zeros(len(aa_list))\n",
    "    one_hot[idx] = 1\n",
    "    aa_one_hot[aa] = list(one_hot)  "
   ]
  },
  {
   "cell_type": "markdown",
   "metadata": {},
   "source": [
    "In order to avoid the need to pad the data later we will make all one hot encodings the same length"
   ]
  },
  {
   "cell_type": "code",
   "execution_count": 6,
   "metadata": {},
   "outputs": [
    {
     "data": {
      "text/plain": [
       "149"
      ]
     },
     "execution_count": 6,
     "metadata": {},
     "output_type": "execute_result"
    }
   ],
   "source": [
    "max(DF_prest['aa_len'])"
   ]
  },
  {
   "cell_type": "code",
   "execution_count": 7,
   "metadata": {},
   "outputs": [],
   "source": [
    "def aa_to_one_hot_matrix(aa_seq):\n",
    "    \n",
    "    one_hot_matrix = np.zeros([149, 20]) # maximum aa_seq length X number of amino acids \n",
    "    for idx, aa in enumerate(aa_seq):\n",
    "        one_hot_matrix[idx] = np.array(aa_one_hot[aa])\n",
    "        \n",
    "    return one_hot_matrix"
   ]
  },
  {
   "cell_type": "markdown",
   "metadata": {},
   "source": [
    "Make a new dataframe that only has the info needed for the one hot encoding and apply the encoding function to the entire dataset"
   ]
  },
  {
   "cell_type": "code",
   "execution_count": 8,
   "metadata": {},
   "outputs": [],
   "source": [
    "df_aa_one_hot = pd.DataFrame()\n",
    "df_aa_one_hot['prest_id'] = DF_prest['prest_id']\n",
    "df_aa_one_hot['conc_cf'] = DF_prest['conc_cf']\n",
    "df_aa_one_hot['aa_one_hot'] = DF_prest['aa_seq'].apply(aa_to_one_hot_matrix)"
   ]
  },
  {
   "cell_type": "markdown",
   "metadata": {},
   "source": [
    "Vizulaize an example sequence.  Note that the right hand side is empty (this is padding so all data is the same shape)"
   ]
  },
  {
   "cell_type": "code",
   "execution_count": 10,
   "metadata": {},
   "outputs": [
    {
     "data": {
      "text/plain": [
       "<matplotlib.image.AxesImage at 0x205c5cdab00>"
      ]
     },
     "execution_count": 10,
     "metadata": {},
     "output_type": "execute_result"
    },
    {
     "data": {
      "image/png": "[encoded data removed]",
      "text/plain": [
       "<matplotlib.figure.Figure at 0x205c28e4668>"
      ]
     },
     "metadata": {},
     "output_type": "display_data"
    }
   ],
   "source": [
    "ind = 5000\n",
    "plt.figure(figsize=(12, 8))\n",
    "plt.imshow(np.rot90(df_aa_one_hot['aa_one_hot'][ind]))"
   ]
  },
  {
   "cell_type": "markdown",
   "metadata": {},
   "source": [
    "Split the data into high and low expression"
   ]
  },
  {
   "cell_type": "code",
   "execution_count": 11,
   "metadata": {
    "scrolled": true
   },
   "outputs": [
    {
     "data": {
      "text/plain": [
       "<matplotlib.lines.Line2D at 0x205c6048d30>"
      ]
     },
     "execution_count": 11,
     "metadata": {},
     "output_type": "execute_result"
    },
    {
     "data": {
      "image/png": "[encoded data removed]",
      "text/plain": [
       "<matplotlib.figure.Figure at 0x205c28e4898>"
      ]
     },
     "metadata": {},
     "output_type": "display_data"
    }
   ],
   "source": [
    "df_aa_one_hot['conc_cf'].hist(bins=100)\n",
    "plt.axvline(df_aa_one_hot['conc_cf'].quantile(.75), color='k', linestyle='dashed', linewidth=3)\n",
    "plt.axvline(df_aa_one_hot['conc_cf'].quantile(.25), color='r', linestyle='dashed', linewidth=3)"
   ]
  },
  {
   "cell_type": "code",
   "execution_count": 12,
   "metadata": {},
   "outputs": [
    {
     "name": "stdout",
     "output_type": "stream",
     "text": [
      "(11302, 4) (11301, 4)\n"
     ]
    }
   ],
   "source": [
    "# identify high and low classes by conc_cf quantiles\n",
    "low_cut = df_aa_one_hot['conc_cf'].quantile(0.25)\n",
    "high_cut = df_aa_one_hot['conc_cf'].quantile(0.75)\n",
    "\n",
    "low_exp_df = df_aa_one_hot[df_aa_one_hot['conc_cf'] < low_cut]\n",
    "high_exp_df = df_aa_one_hot[df_aa_one_hot['conc_cf'] > high_cut]\n",
    "\n",
    "# set classes for high vs. low expression# set cl \n",
    "low_exp_df.insert(0, 'class', 0)\n",
    "high_exp_df.insert(0, 'class', 1)\n",
    "#doing it this was causes a warning\n",
    "# low_exp_df['class'] = 0\n",
    "# high_exp_df['class'] = 1\n",
    "\n",
    "print(low_exp_df.shape, high_exp_df.shape)\n",
    "\n",
    "aa_one_hot_highlow = pd.concat([low_exp_df,high_exp_df])\n"
   ]
  },
  {
   "cell_type": "code",
   "execution_count": 13,
   "metadata": {},
   "outputs": [
    {
     "name": "stderr",
     "output_type": "stream",
     "text": [
      "C:\\Users\\Jay\\Miniconda3\\lib\\site-packages\\pandas\\core\\generic.py:1471: PerformanceWarning: \n",
      "your performance may suffer as PyTables will pickle object types that it cannot\n",
      "map directly to c-types [inferred_type->mixed,key->block2_values] [items->['aa_one_hot']]\n",
      "\n",
      "  return pytables.to_hdf(path_or_buf, key, self, **kwargs)\n"
     ]
    }
   ],
   "source": [
    "aa_one_hot_highlow.to_hdf('aa_one_hot_highlow.h5')"
   ]
  },
  {
   "cell_type": "markdown",
   "metadata": {},
   "source": [
    "Maybe it would be better to convert everthign to np arrays for storage?"
   ]
  },
  {
   "cell_type": "code",
   "execution_count": null,
   "metadata": {},
   "outputs": [],
   "source": []
  }
 ],
 "metadata": {
  "kernelspec": {
   "display_name": "Python 3",
   "language": "python",
   "name": "python3"
  },
  "language_info": {
   "codemirror_mode": {
    "name": "ipython",
    "version": 3
   },
   "file_extension": ".py",
   "mimetype": "text/x-python",
   "name": "python",
   "nbconvert_exporter": "python",
   "pygments_lexer": "ipython3",
   "version": "3.6.3"
  }
 },
 "nbformat": 4,
 "nbformat_minor": 2
}
