{
 "cells": [
  {
   "cell_type": "code",
   "execution_count": 1,
   "metadata": {},
   "outputs": [
    {
     "name": "stderr",
     "output_type": "stream",
     "text": [
      "C:\\Users\\Jay\\Miniconda3\\lib\\site-packages\\h5py\\__init__.py:36: FutureWarning: Conversion of the second argument of issubdtype from `float` to `np.floating` is deprecated. In future, it will be treated as `np.float64 == np.dtype(float).type`.\n",
      "  from ._conv import register_converters as _register_converters\n"
     ]
    }
   ],
   "source": [
    "import numpy as np\n",
    "import pandas as pd\n",
    "import h5py\n",
    "import matplotlib.pyplot as plt\n",
    "from sklearn.model_selection import train_test_split"
   ]
  },
  {
   "cell_type": "code",
   "execution_count": 2,
   "metadata": {},
   "outputs": [],
   "source": [
    "data = pd.read_hdf('aa_one_hot_highlow.h5')"
   ]
  },
  {
   "cell_type": "code",
   "execution_count": 3,
   "metadata": {},
   "outputs": [
    {
     "data": {
      "text/html": [
       "<div>\n",
       "<style scoped>\n",
       "    .dataframe tbody tr th:only-of-type {\n",
       "        vertical-align: middle;\n",
       "    }\n",
       "\n",
       "    .dataframe tbody tr th {\n",
       "        vertical-align: top;\n",
       "    }\n",
       "\n",
       "    .dataframe thead th {\n",
       "        text-align: right;\n",
       "    }\n",
       "</style>\n",
       "<table border=\"1\" class=\"dataframe\">\n",
       "  <thead>\n",
       "    <tr style=\"text-align: right;\">\n",
       "      <th></th>\n",
       "      <th>class</th>\n",
       "      <th>prest_id</th>\n",
       "      <th>conc_cf</th>\n",
       "      <th>aa_one_hot</th>\n",
       "    </tr>\n",
       "  </thead>\n",
       "  <tbody>\n",
       "    <tr>\n",
       "      <th>1</th>\n",
       "      <td>0</td>\n",
       "      <td>140099</td>\n",
       "      <td>2.91540</td>\n",
       "      <td>[[0.0, 0.0, 0.0, 0.0, 0.0, 0.0, 0.0, 0.0, 0.0,...</td>\n",
       "    </tr>\n",
       "    <tr>\n",
       "      <th>2</th>\n",
       "      <td>0</td>\n",
       "      <td>140225</td>\n",
       "      <td>1.48770</td>\n",
       "      <td>[[0.0, 0.0, 0.0, 0.0, 0.0, 0.0, 0.0, 0.0, 0.0,...</td>\n",
       "    </tr>\n",
       "    <tr>\n",
       "      <th>5</th>\n",
       "      <td>0</td>\n",
       "      <td>140325</td>\n",
       "      <td>1.50290</td>\n",
       "      <td>[[0.0, 0.0, 0.0, 0.0, 1.0, 0.0, 0.0, 0.0, 0.0,...</td>\n",
       "    </tr>\n",
       "    <tr>\n",
       "      <th>8</th>\n",
       "      <td>0</td>\n",
       "      <td>140354</td>\n",
       "      <td>0.92003</td>\n",
       "      <td>[[0.0, 0.0, 0.0, 0.0, 0.0, 0.0, 0.0, 0.0, 0.0,...</td>\n",
       "    </tr>\n",
       "    <tr>\n",
       "      <th>10</th>\n",
       "      <td>0</td>\n",
       "      <td>140500</td>\n",
       "      <td>2.21830</td>\n",
       "      <td>[[0.0, 0.0, 0.0, 0.0, 0.0, 0.0, 0.0, 0.0, 0.0,...</td>\n",
       "    </tr>\n",
       "  </tbody>\n",
       "</table>\n",
       "</div>"
      ],
      "text/plain": [
       "    class  prest_id  conc_cf  \\\n",
       "1       0    140099  2.91540   \n",
       "2       0    140225  1.48770   \n",
       "5       0    140325  1.50290   \n",
       "8       0    140354  0.92003   \n",
       "10      0    140500  2.21830   \n",
       "\n",
       "                                           aa_one_hot  \n",
       "1   [[0.0, 0.0, 0.0, 0.0, 0.0, 0.0, 0.0, 0.0, 0.0,...  \n",
       "2   [[0.0, 0.0, 0.0, 0.0, 0.0, 0.0, 0.0, 0.0, 0.0,...  \n",
       "5   [[0.0, 0.0, 0.0, 0.0, 1.0, 0.0, 0.0, 0.0, 0.0,...  \n",
       "8   [[0.0, 0.0, 0.0, 0.0, 0.0, 0.0, 0.0, 0.0, 0.0,...  \n",
       "10  [[0.0, 0.0, 0.0, 0.0, 0.0, 0.0, 0.0, 0.0, 0.0,...  "
      ]
     },
     "execution_count": 3,
     "metadata": {},
     "output_type": "execute_result"
    }
   ],
   "source": [
    "data.head()"
   ]
  },
  {
   "cell_type": "code",
   "execution_count": 4,
   "metadata": {},
   "outputs": [
    {
     "data": {
      "text/html": [
       "<div>\n",
       "<style scoped>\n",
       "    .dataframe tbody tr th:only-of-type {\n",
       "        vertical-align: middle;\n",
       "    }\n",
       "\n",
       "    .dataframe tbody tr th {\n",
       "        vertical-align: top;\n",
       "    }\n",
       "\n",
       "    .dataframe thead th {\n",
       "        text-align: right;\n",
       "    }\n",
       "</style>\n",
       "<table border=\"1\" class=\"dataframe\">\n",
       "  <thead>\n",
       "    <tr style=\"text-align: right;\">\n",
       "      <th></th>\n",
       "      <th>class</th>\n",
       "      <th>prest_id</th>\n",
       "      <th>conc_cf</th>\n",
       "      <th>aa_one_hot</th>\n",
       "    </tr>\n",
       "  </thead>\n",
       "  <tbody>\n",
       "    <tr>\n",
       "      <th>45201</th>\n",
       "      <td>1</td>\n",
       "      <td>4550047</td>\n",
       "      <td>12.28</td>\n",
       "      <td>[[0.0, 0.0, 0.0, 0.0, 0.0, 0.0, 0.0, 0.0, 0.0,...</td>\n",
       "    </tr>\n",
       "    <tr>\n",
       "      <th>45202</th>\n",
       "      <td>1</td>\n",
       "      <td>4550053</td>\n",
       "      <td>11.18</td>\n",
       "      <td>[[0.0, 0.0, 0.0, 0.0, 0.0, 0.0, 0.0, 0.0, 0.0,...</td>\n",
       "    </tr>\n",
       "    <tr>\n",
       "      <th>45203</th>\n",
       "      <td>1</td>\n",
       "      <td>4550054</td>\n",
       "      <td>10.94</td>\n",
       "      <td>[[0.0, 0.0, 0.0, 0.0, 0.0, 1.0, 0.0, 0.0, 0.0,...</td>\n",
       "    </tr>\n",
       "    <tr>\n",
       "      <th>45204</th>\n",
       "      <td>1</td>\n",
       "      <td>4560007</td>\n",
       "      <td>11.30</td>\n",
       "      <td>[[0.0, 0.0, 0.0, 0.0, 0.0, 0.0, 0.0, 1.0, 0.0,...</td>\n",
       "    </tr>\n",
       "    <tr>\n",
       "      <th>45205</th>\n",
       "      <td>1</td>\n",
       "      <td>4560013</td>\n",
       "      <td>9.38</td>\n",
       "      <td>[[0.0, 0.0, 1.0, 0.0, 0.0, 0.0, 0.0, 0.0, 0.0,...</td>\n",
       "    </tr>\n",
       "  </tbody>\n",
       "</table>\n",
       "</div>"
      ],
      "text/plain": [
       "       class  prest_id  conc_cf  \\\n",
       "45201      1   4550047    12.28   \n",
       "45202      1   4550053    11.18   \n",
       "45203      1   4550054    10.94   \n",
       "45204      1   4560007    11.30   \n",
       "45205      1   4560013     9.38   \n",
       "\n",
       "                                              aa_one_hot  \n",
       "45201  [[0.0, 0.0, 0.0, 0.0, 0.0, 0.0, 0.0, 0.0, 0.0,...  \n",
       "45202  [[0.0, 0.0, 0.0, 0.0, 0.0, 0.0, 0.0, 0.0, 0.0,...  \n",
       "45203  [[0.0, 0.0, 0.0, 0.0, 0.0, 1.0, 0.0, 0.0, 0.0,...  \n",
       "45204  [[0.0, 0.0, 0.0, 0.0, 0.0, 0.0, 0.0, 1.0, 0.0,...  \n",
       "45205  [[0.0, 0.0, 1.0, 0.0, 0.0, 0.0, 0.0, 0.0, 0.0,...  "
      ]
     },
     "execution_count": 4,
     "metadata": {},
     "output_type": "execute_result"
    }
   ],
   "source": [
    "data.tail()"
   ]
  },
  {
   "cell_type": "code",
   "execution_count": 5,
   "metadata": {},
   "outputs": [
    {
     "data": {
      "text/plain": [
       "(149, 20)"
      ]
     },
     "execution_count": 5,
     "metadata": {},
     "output_type": "execute_result"
    }
   ],
   "source": [
    "data['aa_one_hot'][1].shape"
   ]
  },
  {
   "cell_type": "code",
   "execution_count": 6,
   "metadata": {},
   "outputs": [],
   "source": [
    "# create a 3D array of one one hot encodings\n",
    "max_len = 149\n",
    "width = 20\n",
    "num_samples = data.shape[0]\n",
    "\n",
    "X = np.zeros((num_samples, max_len, width))\n",
    "for idx, aa_one_hot in enumerate(data['aa_one_hot'].values):\n",
    "    X[idx, :, :] = aa_one_hot\n",
    "\n",
    "    \n",
    "y = data['class'].values"
   ]
  },
  {
   "cell_type": "code",
   "execution_count": 7,
   "metadata": {},
   "outputs": [],
   "source": [
    "x_train, x_test, y_train, y_test = train_test_split(\n",
    "    X, y, test_size=0.3, random_state=42)"
   ]
  },
  {
   "cell_type": "code",
   "execution_count": 8,
   "metadata": {},
   "outputs": [],
   "source": [
    "def make_model(x_train, y_train, x_test, y_test, filt_width=3, epochs=1):\n",
    "\n",
    "    # simple model per Yoon Kim (2014)\n",
    "    from keras.models import Sequential\n",
    "    from keras.layers import Dense, Dropout, Flatten\n",
    "    from keras.layers import Conv1D, GlobalMaxPooling1D, AveragePooling1D\n",
    "    model = Sequential()\n",
    "    model.add(Conv1D(20, filt_width, activation='relu', input_shape=(149, 20)))\n",
    "    #model.add(AveragePooling1D(pool_size=2, strides=None, padding='valid'))\n",
    "    #model.add(GlobalMaxPooling1D())\n",
    "    model.add(Flatten())\n",
    "    model.add(Dropout(0.5))\n",
    "    model.add(Dense(32))\n",
    "    model.add(Dropout(0.5))\n",
    "    model.add(Dense(1, activation='sigmoid'))\n",
    "\n",
    "    model.compile(loss='binary_crossentropy',\n",
    "                  optimizer='adam',\n",
    "                  metrics=['accuracy'])\n",
    "\n",
    "    model.fit(x_train, y_train, batch_size=50, epochs=epochs,\n",
    "              validation_data=(x_test, y_test), verbose=2)\n",
    "    model.save('model_no_pool'+ str(filt_width) + '.h5')\n",
    "    print('model saved as: ', 'model_no_pool'+ str(filt_width) + '.h5')\n",
    "    return"
   ]
  },
  {
   "cell_type": "code",
   "execution_count": 9,
   "metadata": {},
   "outputs": [],
   "source": [
    "epochs = 25"
   ]
  },
  {
   "cell_type": "code",
   "execution_count": 10,
   "metadata": {},
   "outputs": [
    {
     "name": "stderr",
     "output_type": "stream",
     "text": [
      "Using TensorFlow backend.\n"
     ]
    },
    {
     "name": "stdout",
     "output_type": "stream",
     "text": [
      "Train on 15822 samples, validate on 6781 samples\n",
      "Epoch 1/25\n",
      " - 10s - loss: 0.6975 - acc: 0.5402 - val_loss: 0.6713 - val_acc: 0.5896\n",
      "Epoch 2/25\n",
      " - 9s - loss: 0.6581 - acc: 0.6114 - val_loss: 0.6542 - val_acc: 0.6096\n",
      "Epoch 3/25\n",
      " - 9s - loss: 0.6405 - acc: 0.6367 - val_loss: 0.6507 - val_acc: 0.6179\n",
      "Epoch 4/25\n",
      " - 9s - loss: 0.6315 - acc: 0.6463 - val_loss: 0.6519 - val_acc: 0.6123\n",
      "Epoch 5/25\n",
      " - 9s - loss: 0.6259 - acc: 0.6471 - val_loss: 0.6514 - val_acc: 0.6197\n",
      "Epoch 6/25\n",
      " - 9s - loss: 0.6217 - acc: 0.6494 - val_loss: 0.6528 - val_acc: 0.6188\n",
      "Epoch 7/25\n",
      " - 9s - loss: 0.6164 - acc: 0.6584 - val_loss: 0.6557 - val_acc: 0.6116\n",
      "Epoch 8/25\n",
      " - 9s - loss: 0.6132 - acc: 0.6599 - val_loss: 0.6539 - val_acc: 0.6141\n",
      "Epoch 9/25\n",
      " - 9s - loss: 0.6101 - acc: 0.6632 - val_loss: 0.6551 - val_acc: 0.6155\n",
      "Epoch 10/25\n",
      " - 9s - loss: 0.6074 - acc: 0.6706 - val_loss: 0.6561 - val_acc: 0.6150\n",
      "Epoch 11/25\n",
      " - 9s - loss: 0.6053 - acc: 0.6720 - val_loss: 0.6556 - val_acc: 0.6179\n",
      "Epoch 12/25\n",
      " - 9s - loss: 0.6033 - acc: 0.6697 - val_loss: 0.6564 - val_acc: 0.6154\n",
      "Epoch 13/25\n",
      " - 9s - loss: 0.6001 - acc: 0.6743 - val_loss: 0.6540 - val_acc: 0.6173\n",
      "Epoch 14/25\n",
      " - 9s - loss: 0.5978 - acc: 0.6727 - val_loss: 0.6556 - val_acc: 0.6098\n",
      "Epoch 15/25\n",
      " - 9s - loss: 0.6006 - acc: 0.6725 - val_loss: 0.6557 - val_acc: 0.6151\n",
      "Epoch 16/25\n",
      " - 9s - loss: 0.5975 - acc: 0.6843 - val_loss: 0.6592 - val_acc: 0.6150\n",
      "Epoch 17/25\n",
      " - 9s - loss: 0.5943 - acc: 0.6822 - val_loss: 0.6568 - val_acc: 0.6186\n",
      "Epoch 18/25\n",
      " - 9s - loss: 0.5944 - acc: 0.6768 - val_loss: 0.6594 - val_acc: 0.6126\n",
      "Epoch 19/25\n",
      " - 9s - loss: 0.5924 - acc: 0.6805 - val_loss: 0.6561 - val_acc: 0.6176\n",
      "Epoch 20/25\n",
      " - 9s - loss: 0.5925 - acc: 0.6800 - val_loss: 0.6573 - val_acc: 0.6181\n",
      "Epoch 21/25\n",
      " - 9s - loss: 0.5884 - acc: 0.6838 - val_loss: 0.6638 - val_acc: 0.6201\n",
      "Epoch 22/25\n",
      " - 9s - loss: 0.5882 - acc: 0.6795 - val_loss: 0.6605 - val_acc: 0.6217\n",
      "Epoch 23/25\n",
      " - 9s - loss: 0.5865 - acc: 0.6866 - val_loss: 0.6578 - val_acc: 0.6206\n",
      "Epoch 24/25\n",
      " - 9s - loss: 0.5862 - acc: 0.6852 - val_loss: 0.6582 - val_acc: 0.6198\n",
      "Epoch 25/25\n",
      " - 9s - loss: 0.5850 - acc: 0.6833 - val_loss: 0.6595 - val_acc: 0.6183\n",
      "model saved as:  model_no_pool3.h5\n"
     ]
    }
   ],
   "source": [
    "make_model(x_train, y_train, x_test, y_test, filt_width=3, epochs=epochs)"
   ]
  },
  {
   "cell_type": "code",
   "execution_count": 11,
   "metadata": {},
   "outputs": [
    {
     "name": "stdout",
     "output_type": "stream",
     "text": [
      "Train on 15822 samples, validate on 6781 samples\n",
      "Epoch 1/25\n",
      " - 10s - loss: 0.6950 - acc: 0.5449 - val_loss: 0.6654 - val_acc: 0.5973\n",
      "Epoch 2/25\n",
      " - 10s - loss: 0.6541 - acc: 0.6181 - val_loss: 0.6530 - val_acc: 0.6099\n",
      "Epoch 3/25\n",
      " - 10s - loss: 0.6385 - acc: 0.6350 - val_loss: 0.6534 - val_acc: 0.6158\n",
      "Epoch 4/25\n",
      " - 10s - loss: 0.6271 - acc: 0.6461 - val_loss: 0.6515 - val_acc: 0.6183\n",
      "Epoch 5/25\n",
      " - 10s - loss: 0.6239 - acc: 0.6545 - val_loss: 0.6518 - val_acc: 0.6172\n",
      "Epoch 6/25\n",
      " - 10s - loss: 0.6152 - acc: 0.6557 - val_loss: 0.6532 - val_acc: 0.6189\n",
      "Epoch 7/25\n",
      " - 10s - loss: 0.6110 - acc: 0.6638 - val_loss: 0.6528 - val_acc: 0.6157\n",
      "Epoch 8/25\n",
      " - 10s - loss: 0.6040 - acc: 0.6668 - val_loss: 0.6598 - val_acc: 0.6145\n",
      "Epoch 9/25\n",
      " - 10s - loss: 0.6006 - acc: 0.6713 - val_loss: 0.6587 - val_acc: 0.6188\n",
      "Epoch 10/25\n",
      " - 10s - loss: 0.5997 - acc: 0.6697 - val_loss: 0.6556 - val_acc: 0.6161\n",
      "Epoch 11/25\n",
      " - 10s - loss: 0.5943 - acc: 0.6773 - val_loss: 0.6531 - val_acc: 0.6189\n",
      "Epoch 12/25\n",
      " - 10s - loss: 0.5916 - acc: 0.6791 - val_loss: 0.6538 - val_acc: 0.6209\n",
      "Epoch 13/25\n",
      " - 10s - loss: 0.5907 - acc: 0.6830 - val_loss: 0.6634 - val_acc: 0.6167\n",
      "Epoch 14/25\n",
      " - 10s - loss: 0.5867 - acc: 0.6854 - val_loss: 0.6576 - val_acc: 0.6206\n",
      "Epoch 15/25\n",
      " - 10s - loss: 0.5830 - acc: 0.6893 - val_loss: 0.6592 - val_acc: 0.6210\n",
      "Epoch 16/25\n",
      " - 10s - loss: 0.5809 - acc: 0.6914 - val_loss: 0.6599 - val_acc: 0.6204\n",
      "Epoch 17/25\n",
      " - 10s - loss: 0.5769 - acc: 0.6938 - val_loss: 0.6574 - val_acc: 0.6210\n",
      "Epoch 18/25\n",
      " - 10s - loss: 0.5771 - acc: 0.6943 - val_loss: 0.6624 - val_acc: 0.6176\n",
      "Epoch 19/25\n",
      " - 10s - loss: 0.5737 - acc: 0.6961 - val_loss: 0.6626 - val_acc: 0.6192\n",
      "Epoch 20/25\n",
      " - 10s - loss: 0.5716 - acc: 0.6986 - val_loss: 0.6569 - val_acc: 0.6234\n",
      "Epoch 21/25\n",
      " - 10s - loss: 0.5704 - acc: 0.6981 - val_loss: 0.6616 - val_acc: 0.6204\n",
      "Epoch 22/25\n",
      " - 10s - loss: 0.5715 - acc: 0.6974 - val_loss: 0.6584 - val_acc: 0.6235\n",
      "Epoch 23/25\n",
      " - 10s - loss: 0.5668 - acc: 0.6993 - val_loss: 0.6617 - val_acc: 0.6270\n",
      "Epoch 24/25\n",
      " - 10s - loss: 0.5707 - acc: 0.6966 - val_loss: 0.6581 - val_acc: 0.6293\n",
      "Epoch 25/25\n",
      " - 10s - loss: 0.5646 - acc: 0.7011 - val_loss: 0.6596 - val_acc: 0.6279\n",
      "model saved as:  model_no_pool4.h5\n"
     ]
    }
   ],
   "source": [
    "make_model(x_train, y_train, x_test, y_test, filt_width=4, epochs=epochs)"
   ]
  },
  {
   "cell_type": "code",
   "execution_count": 12,
   "metadata": {},
   "outputs": [
    {
     "name": "stdout",
     "output_type": "stream",
     "text": [
      "Train on 15822 samples, validate on 6781 samples\n",
      "Epoch 1/25\n",
      " - 11s - loss: 0.6930 - acc: 0.5422 - val_loss: 0.6650 - val_acc: 0.6017\n",
      "Epoch 2/25\n",
      " - 10s - loss: 0.6526 - acc: 0.6214 - val_loss: 0.6487 - val_acc: 0.6238\n",
      "Epoch 3/25\n",
      " - 10s - loss: 0.6346 - acc: 0.6374 - val_loss: 0.6465 - val_acc: 0.6307\n",
      "Epoch 4/25\n",
      " - 10s - loss: 0.6247 - acc: 0.6535 - val_loss: 0.6441 - val_acc: 0.6284\n",
      "Epoch 5/25\n",
      " - 11s - loss: 0.6214 - acc: 0.6519 - val_loss: 0.6448 - val_acc: 0.6322\n",
      "Epoch 6/25\n",
      " - 10s - loss: 0.6116 - acc: 0.6622 - val_loss: 0.6464 - val_acc: 0.6270\n",
      "Epoch 7/25\n",
      " - 10s - loss: 0.6073 - acc: 0.6718 - val_loss: 0.6450 - val_acc: 0.6328\n",
      "Epoch 8/25\n",
      " - 11s - loss: 0.6001 - acc: 0.6747 - val_loss: 0.6456 - val_acc: 0.6307\n",
      "Epoch 9/25\n",
      " - 10s - loss: 0.5943 - acc: 0.6787 - val_loss: 0.6448 - val_acc: 0.6338\n",
      "Epoch 10/25\n",
      " - 11s - loss: 0.5876 - acc: 0.6859 - val_loss: 0.6434 - val_acc: 0.6319\n",
      "Epoch 11/25\n",
      " - 10s - loss: 0.5849 - acc: 0.6912 - val_loss: 0.6505 - val_acc: 0.6353\n",
      "Epoch 12/25\n",
      " - 10s - loss: 0.5809 - acc: 0.6900 - val_loss: 0.6412 - val_acc: 0.6421\n",
      "Epoch 13/25\n",
      " - 10s - loss: 0.5780 - acc: 0.6935 - val_loss: 0.6419 - val_acc: 0.6324\n",
      "Epoch 14/25\n",
      " - 10s - loss: 0.5775 - acc: 0.6940 - val_loss: 0.6410 - val_acc: 0.6371\n",
      "Epoch 15/25\n",
      " - 10s - loss: 0.5697 - acc: 0.7019 - val_loss: 0.6517 - val_acc: 0.6355\n",
      "Epoch 16/25\n",
      " - 11s - loss: 0.5688 - acc: 0.7029 - val_loss: 0.6415 - val_acc: 0.6402\n",
      "Epoch 17/25\n",
      " - 10s - loss: 0.5659 - acc: 0.7057 - val_loss: 0.6389 - val_acc: 0.6390\n",
      "Epoch 18/25\n",
      " - 10s - loss: 0.5644 - acc: 0.7046 - val_loss: 0.6381 - val_acc: 0.6408\n",
      "Epoch 19/25\n",
      " - 10s - loss: 0.5614 - acc: 0.7067 - val_loss: 0.6396 - val_acc: 0.6380\n",
      "Epoch 20/25\n",
      " - 10s - loss: 0.5603 - acc: 0.7064 - val_loss: 0.6405 - val_acc: 0.6406\n",
      "Epoch 21/25\n",
      " - 10s - loss: 0.5586 - acc: 0.7088 - val_loss: 0.6440 - val_acc: 0.6377\n",
      "Epoch 22/25\n",
      " - 10s - loss: 0.5587 - acc: 0.7096 - val_loss: 0.6402 - val_acc: 0.6431\n",
      "Epoch 23/25\n",
      " - 10s - loss: 0.5557 - acc: 0.7095 - val_loss: 0.6408 - val_acc: 0.6402\n",
      "Epoch 24/25\n",
      " - 10s - loss: 0.5516 - acc: 0.7137 - val_loss: 0.6461 - val_acc: 0.6349\n",
      "Epoch 25/25\n",
      " - 10s - loss: 0.5536 - acc: 0.7103 - val_loss: 0.6476 - val_acc: 0.6365\n",
      "model saved as:  model_no_pool5.h5\n"
     ]
    }
   ],
   "source": [
    "make_model(x_train, y_train, x_test, y_test, filt_width=5, epochs=epochs)"
   ]
  },
  {
   "cell_type": "code",
   "execution_count": 13,
   "metadata": {},
   "outputs": [
    {
     "name": "stdout",
     "output_type": "stream",
     "text": [
      "Train on 15822 samples, validate on 6781 samples\n",
      "Epoch 1/25\n",
      " - 11s - loss: 0.6870 - acc: 0.5567 - val_loss: 0.6668 - val_acc: 0.5984\n",
      "Epoch 2/25\n",
      " - 10s - loss: 0.6482 - acc: 0.6243 - val_loss: 0.6469 - val_acc: 0.6213\n",
      "Epoch 3/25\n",
      " - 10s - loss: 0.6328 - acc: 0.6403 - val_loss: 0.6467 - val_acc: 0.6287\n",
      "Epoch 4/25\n",
      " - 10s - loss: 0.6199 - acc: 0.6595 - val_loss: 0.6445 - val_acc: 0.6303\n",
      "Epoch 5/25\n",
      " - 10s - loss: 0.6101 - acc: 0.6687 - val_loss: 0.6452 - val_acc: 0.6306\n",
      "Epoch 6/25\n",
      " - 10s - loss: 0.6027 - acc: 0.6716 - val_loss: 0.6471 - val_acc: 0.6315\n",
      "Epoch 7/25\n",
      " - 10s - loss: 0.5955 - acc: 0.6784 - val_loss: 0.6439 - val_acc: 0.6368\n",
      "Epoch 8/25\n",
      " - 10s - loss: 0.5910 - acc: 0.6868 - val_loss: 0.6431 - val_acc: 0.6391\n",
      "Epoch 9/25\n",
      " - 10s - loss: 0.5785 - acc: 0.6923 - val_loss: 0.6481 - val_acc: 0.6363\n",
      "Epoch 10/25\n",
      " - 10s - loss: 0.5729 - acc: 0.6952 - val_loss: 0.6458 - val_acc: 0.6383\n",
      "Epoch 11/25\n",
      " - 10s - loss: 0.5731 - acc: 0.6977 - val_loss: 0.6486 - val_acc: 0.6381\n",
      "Epoch 12/25\n",
      " - 10s - loss: 0.5685 - acc: 0.7016 - val_loss: 0.6486 - val_acc: 0.6366\n",
      "Epoch 13/25\n",
      " - 10s - loss: 0.5633 - acc: 0.7043 - val_loss: 0.6464 - val_acc: 0.6415\n",
      "Epoch 14/25\n",
      " - 10s - loss: 0.5649 - acc: 0.6992 - val_loss: 0.6479 - val_acc: 0.6362\n",
      "Epoch 15/25\n",
      " - 10s - loss: 0.5535 - acc: 0.7127 - val_loss: 0.6517 - val_acc: 0.6350\n",
      "Epoch 16/25\n",
      " - 10s - loss: 0.5547 - acc: 0.7117 - val_loss: 0.6497 - val_acc: 0.6360\n",
      "Epoch 17/25\n",
      " - 10s - loss: 0.5476 - acc: 0.7153 - val_loss: 0.6515 - val_acc: 0.6340\n",
      "Epoch 18/25\n",
      " - 10s - loss: 0.5550 - acc: 0.7132 - val_loss: 0.6489 - val_acc: 0.6353\n",
      "Epoch 19/25\n",
      " - 10s - loss: 0.5489 - acc: 0.7145 - val_loss: 0.6523 - val_acc: 0.6357\n",
      "Epoch 20/25\n",
      " - 10s - loss: 0.5504 - acc: 0.7156 - val_loss: 0.6471 - val_acc: 0.6352\n",
      "Epoch 21/25\n",
      " - 11s - loss: 0.5431 - acc: 0.7164 - val_loss: 0.6488 - val_acc: 0.6344\n",
      "Epoch 22/25\n",
      " - 10s - loss: 0.5417 - acc: 0.7180 - val_loss: 0.6504 - val_acc: 0.6390\n",
      "Epoch 23/25\n",
      " - 10s - loss: 0.5423 - acc: 0.7181 - val_loss: 0.6531 - val_acc: 0.6285\n",
      "Epoch 24/25\n",
      " - 10s - loss: 0.5410 - acc: 0.7213 - val_loss: 0.6559 - val_acc: 0.6353\n",
      "Epoch 25/25\n",
      " - 10s - loss: 0.5415 - acc: 0.7211 - val_loss: 0.6537 - val_acc: 0.6325\n",
      "model saved as:  model_no_pool6.h5\n"
     ]
    }
   ],
   "source": [
    "make_model(x_train, y_train, x_test, y_test, filt_width=6, epochs=epochs)"
   ]
  },
  {
   "cell_type": "code",
   "execution_count": 14,
   "metadata": {},
   "outputs": [
    {
     "name": "stdout",
     "output_type": "stream",
     "text": [
      "Train on 15822 samples, validate on 6781 samples\n",
      "Epoch 1/25\n",
      " - 12s - loss: 0.6883 - acc: 0.5539 - val_loss: 0.6592 - val_acc: 0.6014\n",
      "Epoch 2/25\n",
      " - 11s - loss: 0.6420 - acc: 0.6301 - val_loss: 0.6473 - val_acc: 0.6259\n",
      "Epoch 3/25\n",
      " - 11s - loss: 0.6221 - acc: 0.6576 - val_loss: 0.6463 - val_acc: 0.6285\n",
      "Epoch 4/25\n",
      " - 11s - loss: 0.6087 - acc: 0.6670 - val_loss: 0.6453 - val_acc: 0.6310\n",
      "Epoch 5/25\n",
      " - 11s - loss: 0.6005 - acc: 0.6700 - val_loss: 0.6427 - val_acc: 0.6275\n",
      "Epoch 6/25\n",
      " - 11s - loss: 0.5879 - acc: 0.6844 - val_loss: 0.6430 - val_acc: 0.6247\n",
      "Epoch 7/25\n",
      " - 11s - loss: 0.5753 - acc: 0.6973 - val_loss: 0.6429 - val_acc: 0.6253\n",
      "Epoch 8/25\n",
      " - 11s - loss: 0.5689 - acc: 0.7017 - val_loss: 0.6393 - val_acc: 0.6322\n",
      "Epoch 9/25\n",
      " - 11s - loss: 0.5600 - acc: 0.7100 - val_loss: 0.6397 - val_acc: 0.6406\n",
      "Epoch 10/25\n",
      " - 11s - loss: 0.5535 - acc: 0.7143 - val_loss: 0.6380 - val_acc: 0.6385\n",
      "Epoch 11/25\n",
      " - 11s - loss: 0.5494 - acc: 0.7124 - val_loss: 0.6401 - val_acc: 0.6390\n",
      "Epoch 12/25\n",
      " - 11s - loss: 0.5429 - acc: 0.7202 - val_loss: 0.6375 - val_acc: 0.6353\n",
      "Epoch 13/25\n",
      " - 11s - loss: 0.5411 - acc: 0.7259 - val_loss: 0.6402 - val_acc: 0.6431\n",
      "Epoch 14/25\n",
      " - 11s - loss: 0.5381 - acc: 0.7242 - val_loss: 0.6373 - val_acc: 0.6437\n",
      "Epoch 15/25\n",
      " - 11s - loss: 0.5316 - acc: 0.7292 - val_loss: 0.6456 - val_acc: 0.6408\n",
      "Epoch 16/25\n",
      " - 11s - loss: 0.5287 - acc: 0.7347 - val_loss: 0.6419 - val_acc: 0.6365\n",
      "Epoch 17/25\n",
      " - 11s - loss: 0.5264 - acc: 0.7329 - val_loss: 0.6481 - val_acc: 0.6415\n",
      "Epoch 18/25\n",
      " - 11s - loss: 0.5219 - acc: 0.7368 - val_loss: 0.6467 - val_acc: 0.6406\n",
      "Epoch 19/25\n",
      " - 11s - loss: 0.5248 - acc: 0.7339 - val_loss: 0.6446 - val_acc: 0.6436\n",
      "Epoch 20/25\n",
      " - 11s - loss: 0.5232 - acc: 0.7386 - val_loss: 0.6475 - val_acc: 0.6403\n",
      "Epoch 21/25\n",
      " - 11s - loss: 0.5174 - acc: 0.7366 - val_loss: 0.6457 - val_acc: 0.6421\n",
      "Epoch 22/25\n",
      " - 11s - loss: 0.5174 - acc: 0.7394 - val_loss: 0.6453 - val_acc: 0.6377\n",
      "Epoch 23/25\n",
      " - 11s - loss: 0.5148 - acc: 0.7392 - val_loss: 0.6503 - val_acc: 0.6419\n",
      "Epoch 24/25\n",
      " - 11s - loss: 0.5161 - acc: 0.7409 - val_loss: 0.6508 - val_acc: 0.6433\n",
      "Epoch 25/25\n",
      " - 11s - loss: 0.5101 - acc: 0.7431 - val_loss: 0.6483 - val_acc: 0.6444\n",
      "model saved as:  model_no_pool8.h5\n"
     ]
    }
   ],
   "source": [
    "make_model(x_train, y_train, x_test, y_test, filt_width=8, epochs=epochs)"
   ]
  },
  {
   "cell_type": "code",
   "execution_count": 15,
   "metadata": {},
   "outputs": [
    {
     "name": "stdout",
     "output_type": "stream",
     "text": [
      "Train on 15822 samples, validate on 6781 samples\n",
      "Epoch 1/25\n",
      " - 13s - loss: 0.6789 - acc: 0.5747 - val_loss: 0.6498 - val_acc: 0.6197\n",
      "Epoch 2/25\n",
      " - 13s - loss: 0.6430 - acc: 0.6303 - val_loss: 0.6455 - val_acc: 0.6265\n",
      "Epoch 3/25\n",
      " - 13s - loss: 0.6238 - acc: 0.6504 - val_loss: 0.6523 - val_acc: 0.6238\n",
      "Epoch 4/25\n",
      " - 13s - loss: 0.6110 - acc: 0.6661 - val_loss: 0.6431 - val_acc: 0.6349\n",
      "Epoch 5/25\n",
      " - 13s - loss: 0.5961 - acc: 0.6803 - val_loss: 0.6461 - val_acc: 0.6287\n",
      "Epoch 6/25\n",
      " - 12s - loss: 0.5809 - acc: 0.6913 - val_loss: 0.6383 - val_acc: 0.6362\n",
      "Epoch 7/25\n",
      " - 13s - loss: 0.5719 - acc: 0.6980 - val_loss: 0.6391 - val_acc: 0.6343\n",
      "Epoch 8/25\n",
      " - 13s - loss: 0.5569 - acc: 0.7096 - val_loss: 0.6395 - val_acc: 0.6363\n",
      "Epoch 9/25\n",
      " - 13s - loss: 0.5493 - acc: 0.7192 - val_loss: 0.6443 - val_acc: 0.6341\n",
      "Epoch 10/25\n",
      " - 13s - loss: 0.5429 - acc: 0.7203 - val_loss: 0.6409 - val_acc: 0.6465\n",
      "Epoch 11/25\n",
      " - 13s - loss: 0.5402 - acc: 0.7216 - val_loss: 0.6416 - val_acc: 0.6447\n",
      "Epoch 12/25\n",
      " - 13s - loss: 0.5330 - acc: 0.7261 - val_loss: 0.6507 - val_acc: 0.6470\n",
      "Epoch 13/25\n",
      " - 13s - loss: 0.5287 - acc: 0.7321 - val_loss: 0.6447 - val_acc: 0.6467\n",
      "Epoch 14/25\n",
      " - 13s - loss: 0.5223 - acc: 0.7337 - val_loss: 0.6424 - val_acc: 0.6478\n",
      "Epoch 15/25\n",
      " - 13s - loss: 0.5190 - acc: 0.7371 - val_loss: 0.6414 - val_acc: 0.6505\n",
      "Epoch 16/25\n",
      " - 13s - loss: 0.5126 - acc: 0.7416 - val_loss: 0.6406 - val_acc: 0.6546\n",
      "Epoch 17/25\n",
      " - 13s - loss: 0.5058 - acc: 0.7463 - val_loss: 0.6444 - val_acc: 0.6472\n",
      "Epoch 18/25\n",
      " - 13s - loss: 0.5070 - acc: 0.7460 - val_loss: 0.6439 - val_acc: 0.6492\n",
      "Epoch 19/25\n",
      " - 13s - loss: 0.5034 - acc: 0.7454 - val_loss: 0.6483 - val_acc: 0.6523\n",
      "Epoch 20/25\n",
      " - 13s - loss: 0.5016 - acc: 0.7492 - val_loss: 0.6481 - val_acc: 0.6530\n",
      "Epoch 21/25\n",
      " - 13s - loss: 0.5033 - acc: 0.7477 - val_loss: 0.6439 - val_acc: 0.6506\n",
      "Epoch 22/25\n",
      " - 13s - loss: 0.4984 - acc: 0.7487 - val_loss: 0.6476 - val_acc: 0.6549\n",
      "Epoch 23/25\n",
      " - 13s - loss: 0.4980 - acc: 0.7531 - val_loss: 0.6514 - val_acc: 0.6495\n",
      "Epoch 24/25\n",
      " - 13s - loss: 0.4915 - acc: 0.7564 - val_loss: 0.6462 - val_acc: 0.6533\n",
      "Epoch 25/25\n",
      " - 13s - loss: 0.4945 - acc: 0.7545 - val_loss: 0.6451 - val_acc: 0.6561\n",
      "model saved as:  model_no_pool10.h5\n"
     ]
    }
   ],
   "source": [
    "make_model(x_train, y_train, x_test, y_test, filt_width=10, epochs=epochs)"
   ]
  },
  {
   "cell_type": "code",
   "execution_count": 16,
   "metadata": {},
   "outputs": [
    {
     "name": "stdout",
     "output_type": "stream",
     "text": [
      "Train on 15822 samples, validate on 6781 samples\n",
      "Epoch 1/25\n",
      " - 14s - loss: 0.6800 - acc: 0.5673 - val_loss: 0.6506 - val_acc: 0.6228\n",
      "Epoch 2/25\n",
      " - 14s - loss: 0.6373 - acc: 0.6393 - val_loss: 0.6453 - val_acc: 0.6175\n",
      "Epoch 3/25\n",
      " - 14s - loss: 0.6165 - acc: 0.6595 - val_loss: 0.6424 - val_acc: 0.6315\n",
      "Epoch 4/25\n",
      " - 14s - loss: 0.6002 - acc: 0.6743 - val_loss: 0.6378 - val_acc: 0.6369\n",
      "Epoch 5/25\n",
      " - 14s - loss: 0.5852 - acc: 0.6883 - val_loss: 0.6311 - val_acc: 0.6402\n",
      "Epoch 6/25\n",
      " - 14s - loss: 0.5706 - acc: 0.7010 - val_loss: 0.6317 - val_acc: 0.6449\n",
      "Epoch 7/25\n",
      " - 14s - loss: 0.5525 - acc: 0.7094 - val_loss: 0.6280 - val_acc: 0.6483\n",
      "Epoch 8/25\n",
      " - 14s - loss: 0.5451 - acc: 0.7201 - val_loss: 0.6268 - val_acc: 0.6484\n",
      "Epoch 9/25\n",
      " - 14s - loss: 0.5389 - acc: 0.7202 - val_loss: 0.6313 - val_acc: 0.6537\n",
      "Epoch 10/25\n",
      " - 14s - loss: 0.5275 - acc: 0.7308 - val_loss: 0.6317 - val_acc: 0.6505\n",
      "Epoch 11/25\n",
      " - 14s - loss: 0.5214 - acc: 0.7330 - val_loss: 0.6517 - val_acc: 0.6371\n",
      "Epoch 12/25\n",
      " - 14s - loss: 0.5143 - acc: 0.7402 - val_loss: 0.6374 - val_acc: 0.6511\n",
      "Epoch 13/25\n",
      " - 14s - loss: 0.5129 - acc: 0.7417 - val_loss: 0.6365 - val_acc: 0.6503\n",
      "Epoch 14/25\n",
      " - 14s - loss: 0.4987 - acc: 0.7487 - val_loss: 0.6433 - val_acc: 0.6539\n",
      "Epoch 15/25\n",
      " - 14s - loss: 0.5021 - acc: 0.7480 - val_loss: 0.6401 - val_acc: 0.6520\n",
      "Epoch 16/25\n",
      " - 14s - loss: 0.4944 - acc: 0.7531 - val_loss: 0.6411 - val_acc: 0.6542\n",
      "Epoch 17/25\n",
      " - 14s - loss: 0.4927 - acc: 0.7578 - val_loss: 0.6418 - val_acc: 0.6536\n",
      "Epoch 18/25\n",
      " - 14s - loss: 0.4925 - acc: 0.7566 - val_loss: 0.6430 - val_acc: 0.6520\n",
      "Epoch 19/25\n",
      " - 14s - loss: 0.4882 - acc: 0.7601 - val_loss: 0.6476 - val_acc: 0.6583\n",
      "Epoch 20/25\n",
      " - 14s - loss: 0.4848 - acc: 0.7595 - val_loss: 0.6415 - val_acc: 0.6604\n",
      "Epoch 21/25\n",
      " - 14s - loss: 0.4823 - acc: 0.7603 - val_loss: 0.6468 - val_acc: 0.6524\n",
      "Epoch 22/25\n",
      " - 14s - loss: 0.4786 - acc: 0.7620 - val_loss: 0.6478 - val_acc: 0.6496\n",
      "Epoch 23/25\n",
      " - 14s - loss: 0.4723 - acc: 0.7671 - val_loss: 0.6475 - val_acc: 0.6499\n",
      "Epoch 24/25\n",
      " - 14s - loss: 0.4763 - acc: 0.7668 - val_loss: 0.6510 - val_acc: 0.6530\n",
      "Epoch 25/25\n",
      " - 14s - loss: 0.4771 - acc: 0.7660 - val_loss: 0.6431 - val_acc: 0.6537\n",
      "model saved as:  model_no_pool12.h5\n"
     ]
    }
   ],
   "source": [
    "make_model(x_train, y_train, x_test, y_test, filt_width=12, epochs=epochs)"
   ]
  },
  {
   "cell_type": "markdown",
   "metadata": {},
   "source": [
    "## Make an ensemble with these models"
   ]
  },
  {
   "cell_type": "code",
   "execution_count": 8,
   "metadata": {},
   "outputs": [
    {
     "name": "stderr",
     "output_type": "stream",
     "text": [
      "Using TensorFlow backend.\n"
     ]
    },
    {
     "name": "stdout",
     "output_type": "stream",
     "text": [
      "WARNING:tensorflow:From C:\\Users\\Jay\\Miniconda3\\lib\\site-packages\\tensorflow\\python\\util\\deprecation.py:497: calling conv1d (from tensorflow.python.ops.nn_ops) with data_format=NHWC is deprecated and will be removed in a future version.\n",
      "Instructions for updating:\n",
      "`NHWC` for data_format is deprecated, use `NWC` instead\n"
     ]
    }
   ],
   "source": [
    "#load all the models\n",
    "import keras\n",
    "model_no_pool3 = keras.models.load_model('model_no_pool3.h5')\n",
    "model_no_pool4 = keras.models.load_model('model_no_pool4.h5')\n",
    "model_no_pool5 = keras.models.load_model('model_no_pool5.h5')\n",
    "model_no_pool6 = keras.models.load_model('model_no_pool6.h5')\n",
    "model_no_pool8 = keras.models.load_model('model_no_pool8.h5')\n",
    "model_no_pool10 = keras.models.load_model('model_no_pool10.h5')\n",
    "model_no_pool12 = keras.models.load_model('model_no_pool12.h5')\n"
   ]
  },
  {
   "cell_type": "code",
   "execution_count": 18,
   "metadata": {},
   "outputs": [
    {
     "name": "stdout",
     "output_type": "stream",
     "text": [
      "Train acc\n"
     ]
    },
    {
     "data": {
      "text/plain": [
       "0.83579825559347742"
      ]
     },
     "execution_count": 18,
     "metadata": {},
     "output_type": "execute_result"
    }
   ],
   "source": [
    "x = x_train\n",
    "y = y_train\n",
    "\n",
    "y_pred3 = model_no_pool3.predict(x)\n",
    "y_pred4 = model_no_pool4.predict(x)\n",
    "y_pred5 = model_no_pool5.predict(x)\n",
    "y_pred6 = model_no_pool6.predict(x)\n",
    "y_pred8 = model_no_pool8.predict(x)\n",
    "y_pred10 = model_no_pool10.predict(x)\n",
    "y_pred12 = model_no_pool12.predict(x)\n",
    "\n",
    "y_pred_total = np.round((y_pred3 + y_pred4 + y_pred5 + y_pred6 + y_pred8 + y_pred10 + y_pred12)/7)\n",
    "\n",
    "z = y_pred_total == np.reshape(y, [-1,1])\n",
    "\n",
    "print('Train acc')\n",
    "np.sum(z)/len(z)"
   ]
  },
  {
   "cell_type": "code",
   "execution_count": 19,
   "metadata": {},
   "outputs": [
    {
     "name": "stdout",
     "output_type": "stream",
     "text": [
      "Train acc\n"
     ]
    },
    {
     "data": {
      "text/plain": [
       "0.83946403741625586"
      ]
     },
     "execution_count": 19,
     "metadata": {},
     "output_type": "execute_result"
    }
   ],
   "source": [
    "x = x_train\n",
    "y = y_train\n",
    "\n",
    "\n",
    "y_pred12 = model_no_pool12.predict(x)\n",
    "\n",
    "y_pred_total = np.round(y_pred12)\n",
    "\n",
    "z = y_pred_total == np.reshape(y, [-1,1])\n",
    "\n",
    "print('Train acc')\n",
    "np.sum(z)/len(z)"
   ]
  },
  {
   "cell_type": "code",
   "execution_count": 24,
   "metadata": {},
   "outputs": [
    {
     "name": "stdout",
     "output_type": "stream",
     "text": [
      "Test acc\n"
     ]
    },
    {
     "data": {
      "text/plain": [
       "0.66184928476625871"
      ]
     },
     "execution_count": 24,
     "metadata": {},
     "output_type": "execute_result"
    }
   ],
   "source": [
    "x = x_test\n",
    "y = y_test\n",
    "\n",
    "y_pred3 = model_no_pool3.predict(x)\n",
    "y_pred4 = model_no_pool4.predict(x)\n",
    "y_pred5 = model_no_pool5.predict(x)\n",
    "y_pred6 = model_no_pool6.predict(x)\n",
    "y_pred8 = model_no_pool8.predict(x)\n",
    "y_pred10 = model_no_pool10.predict(x)\n",
    "y_pred12 = model_no_pool12.predict(x)\n",
    "\n",
    "y_pred_total = np.round((y_pred3 + y_pred4 + y_pred5 + y_pred6 + y_pred8 + y_pred10 + y_pred12)/7)\n",
    "\n",
    "z = y_pred_total == np.reshape(y, [-1,1])\n",
    "\n",
    "print('Test acc')\n",
    "np.sum(z)/len(z)"
   ]
  },
  {
   "cell_type": "code",
   "execution_count": 20,
   "metadata": {},
   "outputs": [
    {
     "name": "stdout",
     "output_type": "stream",
     "text": [
      "Test acc\n"
     ]
    },
    {
     "data": {
      "text/plain": [
       "0.65373838666863293"
      ]
     },
     "execution_count": 20,
     "metadata": {},
     "output_type": "execute_result"
    }
   ],
   "source": [
    "x = x_test\n",
    "y = y_test\n",
    "\n",
    "\n",
    "y_pred12 = model_no_pool12.predict(x)\n",
    "\n",
    "y_pred_total = np.round(y_pred12)\n",
    "\n",
    "z = y_pred_total == np.reshape(y, [-1,1])\n",
    "\n",
    "print('Test acc')\n",
    "np.sum(z)/len(z)"
   ]
  },
  {
   "cell_type": "code",
   "execution_count": null,
   "metadata": {},
   "outputs": [],
   "source": []
  },
  {
   "cell_type": "markdown",
   "metadata": {},
   "source": [
    "# Filter Vizualization"
   ]
  },
  {
   "cell_type": "code",
   "execution_count": 12,
   "metadata": {},
   "outputs": [],
   "source": [
    "#try to vizulaize the filters\n",
    "weights = model_no_pool3.get_weights()"
   ]
  },
  {
   "cell_type": "code",
   "execution_count": 13,
   "metadata": {},
   "outputs": [
    {
     "data": {
      "text/plain": [
       "(3, 20, 20)"
      ]
     },
     "execution_count": 13,
     "metadata": {},
     "output_type": "execute_result"
    }
   ],
   "source": [
    "weights[0].shape"
   ]
  },
  {
   "cell_type": "code",
   "execution_count": 14,
   "metadata": {},
   "outputs": [
    {
     "data": {
      "image/png": "[encoded data removed]",
      "text/plain": [
       "<matplotlib.figure.Figure at 0x14ab4511630>"
      ]
     },
     "metadata": {},
     "output_type": "display_data"
    }
   ],
   "source": [
    "#I'm expecting 10 filters that are 8 x 20\n",
    "#if I'm interpreting this correctly the weights[0] is and array [8x20 filter, 10 filters]\n",
    "\n",
    "import matplotlib.pyplot as plt\n",
    "%matplotlib inline\n",
    "\n",
    "plt.figure(figsize=(30,10))\n",
    "for ind in range(1,21):\n",
    "    w = weights[0][:,:,ind-1]\n",
    "    plt.subplot(4,5,ind)\n",
    "    plt.imshow(w)\n",
    "    plt.colorbar()"
   ]
  },
  {
   "cell_type": "markdown",
   "metadata": {},
   "source": [
    "since the data only has a single hot pixel in each row, I would expect to see similar patterns in the filters, but this doesn't look much like that so maybe there is some more work to be done here or my expecation is wrong."
   ]
  },
  {
   "cell_type": "code",
   "execution_count": null,
   "metadata": {},
   "outputs": [],
   "source": []
  }
 ],
 "metadata": {
  "anaconda-cloud": {},
  "kernelspec": {
   "display_name": "Python 3",
   "language": "python",
   "name": "python3"
  },
  "language_info": {
   "codemirror_mode": {
    "name": "ipython",
    "version": 3
   },
   "file_extension": ".py",
   "mimetype": "text/x-python",
   "name": "python",
   "nbconvert_exporter": "python",
   "pygments_lexer": "ipython3",
   "version": "3.6.3"
  }
 },
 "nbformat": 4,
 "nbformat_minor": 1
}
