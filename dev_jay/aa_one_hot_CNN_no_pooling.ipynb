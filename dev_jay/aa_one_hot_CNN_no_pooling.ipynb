{
 "cells": [
  {
   "cell_type": "code",
   "execution_count": 1,
   "metadata": {},
   "outputs": [],
   "source": [
    "import numpy as np\n",
    "import pandas as pd\n",
    "import h5py\n",
    "import matplotlib.pyplot as plt\n",
    "from sklearn.model_selection import train_test_split"
   ]
  },
  {
   "cell_type": "code",
   "execution_count": 2,
   "metadata": {},
   "outputs": [],
   "source": [
    "data = pd.read_hdf('aa_one_hot_highlow.h5')"
   ]
  },
  {
   "cell_type": "code",
   "execution_count": 3,
   "metadata": {},
   "outputs": [
    {
     "data": {
      "text/html": [
       "<div>\n",
       "<style scoped>\n",
       "    .dataframe tbody tr th:only-of-type {\n",
       "        vertical-align: middle;\n",
       "    }\n",
       "\n",
       "    .dataframe tbody tr th {\n",
       "        vertical-align: top;\n",
       "    }\n",
       "\n",
       "    .dataframe thead th {\n",
       "        text-align: right;\n",
       "    }\n",
       "</style>\n",
       "<table border=\"1\" class=\"dataframe\">\n",
       "  <thead>\n",
       "    <tr style=\"text-align: right;\">\n",
       "      <th></th>\n",
       "      <th>class</th>\n",
       "      <th>prest_id</th>\n",
       "      <th>conc_cf</th>\n",
       "      <th>aa_one_hot</th>\n",
       "    </tr>\n",
       "  </thead>\n",
       "  <tbody>\n",
       "    <tr>\n",
       "      <th>1</th>\n",
       "      <td>0</td>\n",
       "      <td>140099</td>\n",
       "      <td>2.91540</td>\n",
       "      <td>[[0.0, 0.0, 0.0, 0.0, 0.0, 0.0, 0.0, 0.0, 0.0,...</td>\n",
       "    </tr>\n",
       "    <tr>\n",
       "      <th>2</th>\n",
       "      <td>0</td>\n",
       "      <td>140225</td>\n",
       "      <td>1.48770</td>\n",
       "      <td>[[0.0, 0.0, 0.0, 0.0, 0.0, 0.0, 0.0, 0.0, 0.0,...</td>\n",
       "    </tr>\n",
       "    <tr>\n",
       "      <th>5</th>\n",
       "      <td>0</td>\n",
       "      <td>140325</td>\n",
       "      <td>1.50290</td>\n",
       "      <td>[[0.0, 0.0, 0.0, 0.0, 1.0, 0.0, 0.0, 0.0, 0.0,...</td>\n",
       "    </tr>\n",
       "    <tr>\n",
       "      <th>8</th>\n",
       "      <td>0</td>\n",
       "      <td>140354</td>\n",
       "      <td>0.92003</td>\n",
       "      <td>[[0.0, 0.0, 0.0, 0.0, 0.0, 0.0, 0.0, 0.0, 0.0,...</td>\n",
       "    </tr>\n",
       "    <tr>\n",
       "      <th>10</th>\n",
       "      <td>0</td>\n",
       "      <td>140500</td>\n",
       "      <td>2.21830</td>\n",
       "      <td>[[0.0, 0.0, 0.0, 0.0, 0.0, 0.0, 0.0, 0.0, 0.0,...</td>\n",
       "    </tr>\n",
       "  </tbody>\n",
       "</table>\n",
       "</div>"
      ],
      "text/plain": [
       "    class  prest_id  conc_cf  \\\n",
       "1       0    140099  2.91540   \n",
       "2       0    140225  1.48770   \n",
       "5       0    140325  1.50290   \n",
       "8       0    140354  0.92003   \n",
       "10      0    140500  2.21830   \n",
       "\n",
       "                                           aa_one_hot  \n",
       "1   [[0.0, 0.0, 0.0, 0.0, 0.0, 0.0, 0.0, 0.0, 0.0,...  \n",
       "2   [[0.0, 0.0, 0.0, 0.0, 0.0, 0.0, 0.0, 0.0, 0.0,...  \n",
       "5   [[0.0, 0.0, 0.0, 0.0, 1.0, 0.0, 0.0, 0.0, 0.0,...  \n",
       "8   [[0.0, 0.0, 0.0, 0.0, 0.0, 0.0, 0.0, 0.0, 0.0,...  \n",
       "10  [[0.0, 0.0, 0.0, 0.0, 0.0, 0.0, 0.0, 0.0, 0.0,...  "
      ]
     },
     "execution_count": 3,
     "metadata": {},
     "output_type": "execute_result"
    }
   ],
   "source": [
    "data.head()"
   ]
  },
  {
   "cell_type": "code",
   "execution_count": 4,
   "metadata": {},
   "outputs": [
    {
     "data": {
      "text/html": [
       "<div>\n",
       "<style scoped>\n",
       "    .dataframe tbody tr th:only-of-type {\n",
       "        vertical-align: middle;\n",
       "    }\n",
       "\n",
       "    .dataframe tbody tr th {\n",
       "        vertical-align: top;\n",
       "    }\n",
       "\n",
       "    .dataframe thead th {\n",
       "        text-align: right;\n",
       "    }\n",
       "</style>\n",
       "<table border=\"1\" class=\"dataframe\">\n",
       "  <thead>\n",
       "    <tr style=\"text-align: right;\">\n",
       "      <th></th>\n",
       "      <th>class</th>\n",
       "      <th>prest_id</th>\n",
       "      <th>conc_cf</th>\n",
       "      <th>aa_one_hot</th>\n",
       "    </tr>\n",
       "  </thead>\n",
       "  <tbody>\n",
       "    <tr>\n",
       "      <th>45201</th>\n",
       "      <td>1</td>\n",
       "      <td>4550047</td>\n",
       "      <td>12.28</td>\n",
       "      <td>[[0.0, 0.0, 0.0, 0.0, 0.0, 0.0, 0.0, 0.0, 0.0,...</td>\n",
       "    </tr>\n",
       "    <tr>\n",
       "      <th>45202</th>\n",
       "      <td>1</td>\n",
       "      <td>4550053</td>\n",
       "      <td>11.18</td>\n",
       "      <td>[[0.0, 0.0, 0.0, 0.0, 0.0, 0.0, 0.0, 0.0, 0.0,...</td>\n",
       "    </tr>\n",
       "    <tr>\n",
       "      <th>45203</th>\n",
       "      <td>1</td>\n",
       "      <td>4550054</td>\n",
       "      <td>10.94</td>\n",
       "      <td>[[0.0, 0.0, 0.0, 0.0, 0.0, 1.0, 0.0, 0.0, 0.0,...</td>\n",
       "    </tr>\n",
       "    <tr>\n",
       "      <th>45204</th>\n",
       "      <td>1</td>\n",
       "      <td>4560007</td>\n",
       "      <td>11.30</td>\n",
       "      <td>[[0.0, 0.0, 0.0, 0.0, 0.0, 0.0, 0.0, 1.0, 0.0,...</td>\n",
       "    </tr>\n",
       "    <tr>\n",
       "      <th>45205</th>\n",
       "      <td>1</td>\n",
       "      <td>4560013</td>\n",
       "      <td>9.38</td>\n",
       "      <td>[[0.0, 0.0, 1.0, 0.0, 0.0, 0.0, 0.0, 0.0, 0.0,...</td>\n",
       "    </tr>\n",
       "  </tbody>\n",
       "</table>\n",
       "</div>"
      ],
      "text/plain": [
       "       class  prest_id  conc_cf  \\\n",
       "45201      1   4550047    12.28   \n",
       "45202      1   4550053    11.18   \n",
       "45203      1   4550054    10.94   \n",
       "45204      1   4560007    11.30   \n",
       "45205      1   4560013     9.38   \n",
       "\n",
       "                                              aa_one_hot  \n",
       "45201  [[0.0, 0.0, 0.0, 0.0, 0.0, 0.0, 0.0, 0.0, 0.0,...  \n",
       "45202  [[0.0, 0.0, 0.0, 0.0, 0.0, 0.0, 0.0, 0.0, 0.0,...  \n",
       "45203  [[0.0, 0.0, 0.0, 0.0, 0.0, 1.0, 0.0, 0.0, 0.0,...  \n",
       "45204  [[0.0, 0.0, 0.0, 0.0, 0.0, 0.0, 0.0, 1.0, 0.0,...  \n",
       "45205  [[0.0, 0.0, 1.0, 0.0, 0.0, 0.0, 0.0, 0.0, 0.0,...  "
      ]
     },
     "execution_count": 4,
     "metadata": {},
     "output_type": "execute_result"
    }
   ],
   "source": [
    "data.tail()"
   ]
  },
  {
   "cell_type": "code",
   "execution_count": 5,
   "metadata": {},
   "outputs": [
    {
     "data": {
      "text/plain": [
       "(149, 20)"
      ]
     },
     "execution_count": 5,
     "metadata": {},
     "output_type": "execute_result"
    }
   ],
   "source": [
    "data['aa_one_hot'][1].shape"
   ]
  },
  {
   "cell_type": "code",
   "execution_count": 6,
   "metadata": {},
   "outputs": [],
   "source": [
    "# create a 3D array of one one hot encodings\n",
    "max_len = 149\n",
    "width = 20\n",
    "num_samples = data.shape[0]\n",
    "\n",
    "X = np.zeros((num_samples, max_len, width))\n",
    "for idx, aa_one_hot in enumerate(data['aa_one_hot'].values):\n",
    "    X[idx, :, :] = aa_one_hot\n",
    "\n",
    "    \n",
    "y = data['class'].values"
   ]
  },
  {
   "cell_type": "code",
   "execution_count": 7,
   "metadata": {},
   "outputs": [],
   "source": [
    "x_train, x_test, y_train, y_test = train_test_split(\n",
    "    X, y, test_size=0.3, random_state=42)"
   ]
  },
  {
   "cell_type": "code",
   "execution_count": 41,
   "metadata": {},
   "outputs": [],
   "source": [
    "def make_model(x_train, y_train, x_test, y_test, filt_width=3, epochs=1):\n",
    "\n",
    "    # simple model per Yoon Kim (2014)\n",
    "    from keras.models import Sequential\n",
    "    from keras.layers import Dense, Dropout, Flatten\n",
    "    from keras.layers import Conv1D, GlobalMaxPooling1D, AveragePooling1D\n",
    "    model = Sequential()\n",
    "    model.add(Conv1D(20, filt_width, activation='relu', input_shape=(149, 20)))\n",
    "    #model.add(AveragePooling1D(pool_size=2, strides=None, padding='valid'))\n",
    "    #model.add(GlobalMaxPooling1D())\n",
    "    model.add(Flatten())\n",
    "    model.add(Dropout(0.5))\n",
    "    model.add(Dense(32))\n",
    "    model.add(Dropout(0.5))\n",
    "    model.add(Dense(1, activation='sigmoid'))\n",
    "\n",
    "    model.compile(loss='binary_crossentropy',\n",
    "                  optimizer='adam',\n",
    "                  metrics=['accuracy'])\n",
    "\n",
    "    model.fit(x_train, y_train, batch_size=50, epochs=epochs,\n",
    "              validation_data=(x_test, y_test), verbose=2)\n",
    "    model.save('model_no_pool'+ str(filt_width) + '.h5')\n",
    "    print('model saved as: ', 'model_no_pool'+ str(filt_width) + '.h5')\n",
    "    return"
   ]
  },
  {
   "cell_type": "code",
   "execution_count": 42,
   "metadata": {},
   "outputs": [],
   "source": [
    "epochs = 25"
   ]
  },
  {
   "cell_type": "code",
   "execution_count": 43,
   "metadata": {},
   "outputs": [
    {
     "name": "stdout",
     "output_type": "stream",
     "text": [
      "Train on 15822 samples, validate on 6781 samples\n",
      "Epoch 1/25\n",
      " - 12s - loss: 0.6953 - acc: 0.5478 - val_loss: 0.6664 - val_acc: 0.5950\n",
      "Epoch 2/25\n",
      " - 9s - loss: 0.6543 - acc: 0.6097 - val_loss: 0.6524 - val_acc: 0.6169\n",
      "Epoch 3/25\n",
      " - 9s - loss: 0.6392 - acc: 0.6303 - val_loss: 0.6518 - val_acc: 0.6192\n",
      "Epoch 4/25\n",
      " - 9s - loss: 0.6354 - acc: 0.6377 - val_loss: 0.6516 - val_acc: 0.6164\n",
      "Epoch 5/25\n",
      " - 9s - loss: 0.6269 - acc: 0.6493 - val_loss: 0.6497 - val_acc: 0.6226\n",
      "Epoch 6/25\n",
      " - 9s - loss: 0.6200 - acc: 0.6538 - val_loss: 0.6492 - val_acc: 0.6238\n",
      "Epoch 7/25\n",
      " - 9s - loss: 0.6170 - acc: 0.6595 - val_loss: 0.6530 - val_acc: 0.6116\n",
      "Epoch 8/25\n",
      " - 9s - loss: 0.6131 - acc: 0.6542 - val_loss: 0.6514 - val_acc: 0.6256\n",
      "Epoch 9/25\n",
      " - 9s - loss: 0.6096 - acc: 0.6638 - val_loss: 0.6547 - val_acc: 0.6135\n",
      "Epoch 10/25\n",
      " - 9s - loss: 0.6056 - acc: 0.6665 - val_loss: 0.6573 - val_acc: 0.6160\n",
      "Epoch 11/25\n",
      " - 9s - loss: 0.6041 - acc: 0.6724 - val_loss: 0.6551 - val_acc: 0.6207\n",
      "Epoch 12/25\n",
      " - 9s - loss: 0.6020 - acc: 0.6732 - val_loss: 0.6565 - val_acc: 0.6214\n",
      "Epoch 13/25\n",
      " - 9s - loss: 0.5969 - acc: 0.6736 - val_loss: 0.6541 - val_acc: 0.6207\n",
      "Epoch 14/25\n",
      " - 9s - loss: 0.6004 - acc: 0.6789 - val_loss: 0.6552 - val_acc: 0.6209\n",
      "Epoch 15/25\n",
      " - 9s - loss: 0.5960 - acc: 0.6801 - val_loss: 0.6581 - val_acc: 0.6225\n",
      "Epoch 16/25\n",
      " - 9s - loss: 0.5944 - acc: 0.6773 - val_loss: 0.6578 - val_acc: 0.6232\n",
      "Epoch 17/25\n",
      " - 9s - loss: 0.5963 - acc: 0.6758 - val_loss: 0.6599 - val_acc: 0.6254\n",
      "Epoch 18/25\n",
      " - 9s - loss: 0.5927 - acc: 0.6811 - val_loss: 0.6577 - val_acc: 0.6186\n",
      "Epoch 19/25\n",
      " - 9s - loss: 0.5902 - acc: 0.6858 - val_loss: 0.6593 - val_acc: 0.6231\n",
      "Epoch 20/25\n",
      " - 9s - loss: 0.5854 - acc: 0.6845 - val_loss: 0.6598 - val_acc: 0.6213\n",
      "Epoch 21/25\n",
      " - 9s - loss: 0.5917 - acc: 0.6831 - val_loss: 0.6564 - val_acc: 0.6220\n",
      "Epoch 22/25\n",
      " - 9s - loss: 0.5875 - acc: 0.6829 - val_loss: 0.6595 - val_acc: 0.6191\n",
      "Epoch 23/25\n",
      " - 9s - loss: 0.5883 - acc: 0.6820 - val_loss: 0.6603 - val_acc: 0.6192\n",
      "Epoch 24/25\n",
      " - 9s - loss: 0.5879 - acc: 0.6858 - val_loss: 0.6592 - val_acc: 0.6207\n",
      "Epoch 25/25\n",
      " - 9s - loss: 0.5821 - acc: 0.6863 - val_loss: 0.6599 - val_acc: 0.6191\n",
      "model saved as:  model_no_pool3.h5\n"
     ]
    }
   ],
   "source": [
    "make_model(x_train, y_train, x_test, y_test, filt_width=3, epochs=epochs)"
   ]
  },
  {
   "cell_type": "code",
   "execution_count": 44,
   "metadata": {},
   "outputs": [
    {
     "name": "stdout",
     "output_type": "stream",
     "text": [
      "Train on 15822 samples, validate on 6781 samples\n",
      "Epoch 1/25\n",
      " - 13s - loss: 0.6854 - acc: 0.5636 - val_loss: 0.6553 - val_acc: 0.6107\n",
      "Epoch 2/25\n",
      " - 10s - loss: 0.6486 - acc: 0.6212 - val_loss: 0.6481 - val_acc: 0.6276\n",
      "Epoch 3/25\n",
      " - 10s - loss: 0.6355 - acc: 0.6412 - val_loss: 0.6483 - val_acc: 0.6234\n",
      "Epoch 4/25\n",
      " - 10s - loss: 0.6294 - acc: 0.6436 - val_loss: 0.6470 - val_acc: 0.6259\n",
      "Epoch 5/25\n",
      " - 11s - loss: 0.6213 - acc: 0.6510 - val_loss: 0.6482 - val_acc: 0.6245\n",
      "Epoch 6/25\n",
      " - 10s - loss: 0.6145 - acc: 0.6584 - val_loss: 0.6500 - val_acc: 0.6247\n",
      "Epoch 7/25\n",
      " - 10s - loss: 0.6097 - acc: 0.6654 - val_loss: 0.6484 - val_acc: 0.6296\n",
      "Epoch 8/25\n",
      " - 10s - loss: 0.6036 - acc: 0.6714 - val_loss: 0.6507 - val_acc: 0.6234\n",
      "Epoch 9/25\n",
      " - 10s - loss: 0.6016 - acc: 0.6718 - val_loss: 0.6509 - val_acc: 0.6260\n",
      "Epoch 10/25\n",
      " - 10s - loss: 0.5981 - acc: 0.6748 - val_loss: 0.6516 - val_acc: 0.6276\n",
      "Epoch 11/25\n",
      " - 10s - loss: 0.5948 - acc: 0.6794 - val_loss: 0.6523 - val_acc: 0.6235\n",
      "Epoch 12/25\n",
      " - 10s - loss: 0.5897 - acc: 0.6840 - val_loss: 0.6527 - val_acc: 0.6188\n",
      "Epoch 13/25\n",
      " - 10s - loss: 0.5884 - acc: 0.6834 - val_loss: 0.6560 - val_acc: 0.6281\n",
      "Epoch 14/25\n",
      " - 10s - loss: 0.5840 - acc: 0.6902 - val_loss: 0.6553 - val_acc: 0.6167\n",
      "Epoch 15/25\n",
      " - 10s - loss: 0.5838 - acc: 0.6880 - val_loss: 0.6542 - val_acc: 0.6225\n",
      "Epoch 16/25\n",
      " - 10s - loss: 0.5820 - acc: 0.6916 - val_loss: 0.6575 - val_acc: 0.6160\n",
      "Epoch 17/25\n",
      " - 10s - loss: 0.5770 - acc: 0.6919 - val_loss: 0.6563 - val_acc: 0.6254\n",
      "Epoch 18/25\n",
      " - 10s - loss: 0.5734 - acc: 0.6954 - val_loss: 0.6568 - val_acc: 0.6248\n",
      "Epoch 19/25\n",
      " - 10s - loss: 0.5777 - acc: 0.6931 - val_loss: 0.6546 - val_acc: 0.6253\n",
      "Epoch 20/25\n",
      " - 10s - loss: 0.5743 - acc: 0.6914 - val_loss: 0.6565 - val_acc: 0.6247\n",
      "Epoch 21/25\n",
      " - 10s - loss: 0.5701 - acc: 0.7014 - val_loss: 0.6594 - val_acc: 0.6268\n",
      "Epoch 22/25\n",
      " - 10s - loss: 0.5705 - acc: 0.6971 - val_loss: 0.6600 - val_acc: 0.6220\n",
      "Epoch 23/25\n",
      " - 10s - loss: 0.5694 - acc: 0.6997 - val_loss: 0.6583 - val_acc: 0.6195\n",
      "Epoch 24/25\n",
      " - 10s - loss: 0.5679 - acc: 0.6979 - val_loss: 0.6581 - val_acc: 0.6245\n",
      "Epoch 25/25\n",
      " - 10s - loss: 0.5694 - acc: 0.6950 - val_loss: 0.6598 - val_acc: 0.6186\n",
      "model saved as:  model_no_pool4.h5\n"
     ]
    }
   ],
   "source": [
    "make_model(x_train, y_train, x_test, y_test, filt_width=4, epochs=epochs)"
   ]
  },
  {
   "cell_type": "code",
   "execution_count": 45,
   "metadata": {},
   "outputs": [
    {
     "name": "stdout",
     "output_type": "stream",
     "text": [
      "Train on 15822 samples, validate on 6781 samples\n",
      "Epoch 1/25\n",
      " - 13s - loss: 0.6949 - acc: 0.5497 - val_loss: 0.6640 - val_acc: 0.5946\n",
      "Epoch 2/25\n",
      " - 11s - loss: 0.6483 - acc: 0.6233 - val_loss: 0.6478 - val_acc: 0.6259\n",
      "Epoch 3/25\n",
      " - 11s - loss: 0.6323 - acc: 0.6436 - val_loss: 0.6456 - val_acc: 0.6301\n",
      "Epoch 4/25\n",
      " - 11s - loss: 0.6242 - acc: 0.6548 - val_loss: 0.6464 - val_acc: 0.6304\n",
      "Epoch 5/25\n",
      " - 11s - loss: 0.6132 - acc: 0.6626 - val_loss: 0.6460 - val_acc: 0.6319\n",
      "Epoch 6/25\n",
      " - 11s - loss: 0.6066 - acc: 0.6698 - val_loss: 0.6474 - val_acc: 0.6344\n",
      "Epoch 7/25\n",
      " - 11s - loss: 0.6001 - acc: 0.6749 - val_loss: 0.6434 - val_acc: 0.6381\n",
      "Epoch 8/25\n",
      " - 11s - loss: 0.5925 - acc: 0.6863 - val_loss: 0.6404 - val_acc: 0.6387\n",
      "Epoch 9/25\n",
      " - 11s - loss: 0.5858 - acc: 0.6863 - val_loss: 0.6400 - val_acc: 0.6409\n",
      "Epoch 10/25\n",
      " - 11s - loss: 0.5836 - acc: 0.6890 - val_loss: 0.6418 - val_acc: 0.6313\n",
      "Epoch 11/25\n",
      " - 11s - loss: 0.5792 - acc: 0.6931 - val_loss: 0.6394 - val_acc: 0.6335\n",
      "Epoch 12/25\n",
      " - 11s - loss: 0.5739 - acc: 0.6990 - val_loss: 0.6436 - val_acc: 0.6408\n",
      "Epoch 13/25\n",
      " - 11s - loss: 0.5732 - acc: 0.7004 - val_loss: 0.6404 - val_acc: 0.6393\n",
      "Epoch 14/25\n",
      " - 11s - loss: 0.5691 - acc: 0.7022 - val_loss: 0.6396 - val_acc: 0.6396\n",
      "Epoch 15/25\n",
      " - 11s - loss: 0.5645 - acc: 0.7055 - val_loss: 0.6420 - val_acc: 0.6374\n",
      "Epoch 16/25\n",
      " - 11s - loss: 0.5609 - acc: 0.7068 - val_loss: 0.6469 - val_acc: 0.6380\n",
      "Epoch 17/25\n",
      " - 11s - loss: 0.5570 - acc: 0.7126 - val_loss: 0.6467 - val_acc: 0.6416\n",
      "Epoch 18/25\n",
      " - 11s - loss: 0.5567 - acc: 0.7102 - val_loss: 0.6484 - val_acc: 0.6403\n",
      "Epoch 19/25\n",
      " - 11s - loss: 0.5601 - acc: 0.7046 - val_loss: 0.6464 - val_acc: 0.6372\n",
      "Epoch 20/25\n",
      " - 11s - loss: 0.5540 - acc: 0.7130 - val_loss: 0.6461 - val_acc: 0.6360\n",
      "Epoch 21/25\n",
      " - 11s - loss: 0.5558 - acc: 0.7134 - val_loss: 0.6440 - val_acc: 0.6319\n",
      "Epoch 22/25\n",
      " - 11s - loss: 0.5541 - acc: 0.7109 - val_loss: 0.6446 - val_acc: 0.6374\n",
      "Epoch 23/25\n",
      " - 11s - loss: 0.5497 - acc: 0.7150 - val_loss: 0.6435 - val_acc: 0.6388\n",
      "Epoch 24/25\n",
      " - 11s - loss: 0.5534 - acc: 0.7151 - val_loss: 0.6469 - val_acc: 0.6400\n",
      "Epoch 25/25\n",
      " - 11s - loss: 0.5462 - acc: 0.7203 - val_loss: 0.6518 - val_acc: 0.6372\n",
      "model saved as:  model_no_pool5.h5\n"
     ]
    }
   ],
   "source": [
    "make_model(x_train, y_train, x_test, y_test, filt_width=5, epochs=epochs)"
   ]
  },
  {
   "cell_type": "code",
   "execution_count": 46,
   "metadata": {},
   "outputs": [
    {
     "name": "stdout",
     "output_type": "stream",
     "text": [
      "Train on 15822 samples, validate on 6781 samples\n",
      "Epoch 1/25\n",
      " - 13s - loss: 0.6950 - acc: 0.5480 - val_loss: 0.6570 - val_acc: 0.6065\n",
      "Epoch 2/25\n",
      " - 11s - loss: 0.6455 - acc: 0.6313 - val_loss: 0.6442 - val_acc: 0.6304\n",
      "Epoch 3/25\n",
      " - 11s - loss: 0.6279 - acc: 0.6493 - val_loss: 0.6427 - val_acc: 0.6270\n",
      "Epoch 4/25\n",
      " - 11s - loss: 0.6207 - acc: 0.6562 - val_loss: 0.6414 - val_acc: 0.6325\n",
      "Epoch 5/25\n",
      " - 11s - loss: 0.6104 - acc: 0.6631 - val_loss: 0.6443 - val_acc: 0.6279\n",
      "Epoch 6/25\n",
      " - 11s - loss: 0.6033 - acc: 0.6735 - val_loss: 0.6419 - val_acc: 0.6337\n",
      "Epoch 7/25\n",
      " - 11s - loss: 0.5961 - acc: 0.6781 - val_loss: 0.6436 - val_acc: 0.6294\n",
      "Epoch 8/25\n",
      " - 11s - loss: 0.5868 - acc: 0.6861 - val_loss: 0.6428 - val_acc: 0.6322\n",
      "Epoch 9/25\n",
      " - 11s - loss: 0.5835 - acc: 0.6909 - val_loss: 0.6433 - val_acc: 0.6332\n",
      "Epoch 10/25\n",
      " - 11s - loss: 0.5766 - acc: 0.6954 - val_loss: 0.6418 - val_acc: 0.6350\n",
      "Epoch 11/25\n",
      " - 11s - loss: 0.5745 - acc: 0.6963 - val_loss: 0.6430 - val_acc: 0.6338\n",
      "Epoch 12/25\n",
      " - 11s - loss: 0.5714 - acc: 0.7002 - val_loss: 0.6417 - val_acc: 0.6366\n",
      "Epoch 13/25\n",
      " - 11s - loss: 0.5665 - acc: 0.7026 - val_loss: 0.6447 - val_acc: 0.6363\n",
      "Epoch 14/25\n",
      " - 11s - loss: 0.5600 - acc: 0.7104 - val_loss: 0.6428 - val_acc: 0.6396\n",
      "Epoch 15/25\n",
      " - 11s - loss: 0.5577 - acc: 0.7103 - val_loss: 0.6500 - val_acc: 0.6350\n",
      "Epoch 16/25\n",
      " - 11s - loss: 0.5536 - acc: 0.7136 - val_loss: 0.6445 - val_acc: 0.6405\n",
      "Epoch 17/25\n",
      " - 11s - loss: 0.5505 - acc: 0.7188 - val_loss: 0.6497 - val_acc: 0.6447\n",
      "Epoch 18/25\n",
      " - 11s - loss: 0.5494 - acc: 0.7173 - val_loss: 0.6490 - val_acc: 0.6403\n",
      "Epoch 19/25\n",
      " - 11s - loss: 0.5483 - acc: 0.7208 - val_loss: 0.6487 - val_acc: 0.6440\n",
      "Epoch 20/25\n",
      " - 11s - loss: 0.5488 - acc: 0.7160 - val_loss: 0.6468 - val_acc: 0.6416\n",
      "Epoch 21/25\n",
      " - 11s - loss: 0.5485 - acc: 0.7153 - val_loss: 0.6541 - val_acc: 0.6377\n",
      "Epoch 22/25\n",
      " - 11s - loss: 0.5446 - acc: 0.7206 - val_loss: 0.6464 - val_acc: 0.6419\n",
      "Epoch 23/25\n",
      " - 11s - loss: 0.5371 - acc: 0.7243 - val_loss: 0.6518 - val_acc: 0.6388\n",
      "Epoch 24/25\n",
      " - 11s - loss: 0.5376 - acc: 0.7261 - val_loss: 0.6551 - val_acc: 0.6450\n",
      "Epoch 25/25\n",
      " - 11s - loss: 0.5412 - acc: 0.7255 - val_loss: 0.6528 - val_acc: 0.6416\n",
      "model saved as:  model_no_pool6.h5\n"
     ]
    }
   ],
   "source": [
    "make_model(x_train, y_train, x_test, y_test, filt_width=6, epochs=epochs)"
   ]
  },
  {
   "cell_type": "code",
   "execution_count": 47,
   "metadata": {},
   "outputs": [
    {
     "name": "stdout",
     "output_type": "stream",
     "text": [
      "Train on 15822 samples, validate on 6781 samples\n",
      "Epoch 1/25\n",
      " - 15s - loss: 0.6825 - acc: 0.5646 - val_loss: 0.6498 - val_acc: 0.6228\n",
      "Epoch 2/25\n",
      " - 13s - loss: 0.6417 - acc: 0.6312 - val_loss: 0.6464 - val_acc: 0.6203\n",
      "Epoch 3/25\n",
      " - 14s - loss: 0.6252 - acc: 0.6493 - val_loss: 0.6535 - val_acc: 0.6207\n",
      "Epoch 4/25\n",
      " - 12s - loss: 0.6155 - acc: 0.6600 - val_loss: 0.6454 - val_acc: 0.6248\n",
      "Epoch 5/25\n",
      " - 12s - loss: 0.6066 - acc: 0.6708 - val_loss: 0.6444 - val_acc: 0.6300\n",
      "Epoch 6/25\n",
      " - 12s - loss: 0.5954 - acc: 0.6790 - val_loss: 0.6391 - val_acc: 0.6322\n",
      "Epoch 7/25\n",
      " - 12s - loss: 0.5819 - acc: 0.6912 - val_loss: 0.6448 - val_acc: 0.6344\n",
      "Epoch 8/25\n",
      " - 12s - loss: 0.5761 - acc: 0.6978 - val_loss: 0.6334 - val_acc: 0.6384\n",
      "Epoch 9/25\n",
      " - 12s - loss: 0.5663 - acc: 0.6953 - val_loss: 0.6391 - val_acc: 0.6337\n",
      "Epoch 10/25\n",
      " - 12s - loss: 0.5618 - acc: 0.7072 - val_loss: 0.6375 - val_acc: 0.6357\n",
      "Epoch 11/25\n",
      " - 11s - loss: 0.5577 - acc: 0.7081 - val_loss: 0.6347 - val_acc: 0.6381\n",
      "Epoch 12/25\n",
      " - 11s - loss: 0.5500 - acc: 0.7110 - val_loss: 0.6389 - val_acc: 0.6366\n",
      "Epoch 13/25\n",
      " - 11s - loss: 0.5440 - acc: 0.7177 - val_loss: 0.6422 - val_acc: 0.6324\n",
      "Epoch 14/25\n",
      " - 12s - loss: 0.5430 - acc: 0.7194 - val_loss: 0.6454 - val_acc: 0.6340\n",
      "Epoch 15/25\n",
      " - 11s - loss: 0.5404 - acc: 0.7206 - val_loss: 0.6413 - val_acc: 0.6366\n",
      "Epoch 16/25\n",
      " - 12s - loss: 0.5319 - acc: 0.7290 - val_loss: 0.6438 - val_acc: 0.6411\n",
      "Epoch 17/25\n",
      " - 12s - loss: 0.5308 - acc: 0.7279 - val_loss: 0.6493 - val_acc: 0.6360\n",
      "Epoch 18/25\n",
      " - 11s - loss: 0.5297 - acc: 0.7290 - val_loss: 0.6481 - val_acc: 0.6362\n",
      "Epoch 19/25\n",
      " - 12s - loss: 0.5261 - acc: 0.7318 - val_loss: 0.6434 - val_acc: 0.6388\n",
      "Epoch 20/25\n",
      " - 11s - loss: 0.5271 - acc: 0.7301 - val_loss: 0.6432 - val_acc: 0.6399\n",
      "Epoch 21/25\n",
      " - 11s - loss: 0.5185 - acc: 0.7371 - val_loss: 0.6466 - val_acc: 0.6396\n",
      "Epoch 22/25\n",
      " - 11s - loss: 0.5207 - acc: 0.7371 - val_loss: 0.6516 - val_acc: 0.6383\n",
      "Epoch 23/25\n",
      " - 11s - loss: 0.5264 - acc: 0.7321 - val_loss: 0.6395 - val_acc: 0.6397\n",
      "Epoch 24/25\n",
      " - 11s - loss: 0.5180 - acc: 0.7393 - val_loss: 0.6443 - val_acc: 0.6377\n",
      "Epoch 25/25\n",
      " - 11s - loss: 0.5199 - acc: 0.7327 - val_loss: 0.6449 - val_acc: 0.6411\n",
      "model saved as:  model_no_pool8.h5\n"
     ]
    }
   ],
   "source": [
    "make_model(x_train, y_train, x_test, y_test, filt_width=8, epochs=epochs)"
   ]
  },
  {
   "cell_type": "code",
   "execution_count": 48,
   "metadata": {},
   "outputs": [
    {
     "name": "stdout",
     "output_type": "stream",
     "text": [
      "Train on 15822 samples, validate on 6781 samples\n",
      "Epoch 1/25\n",
      " - 16s - loss: 0.6854 - acc: 0.5666 - val_loss: 0.6618 - val_acc: 0.5964\n",
      "Epoch 2/25\n",
      " - 13s - loss: 0.6393 - acc: 0.6359 - val_loss: 0.6520 - val_acc: 0.6164\n",
      "Epoch 3/25\n",
      " - 13s - loss: 0.6258 - acc: 0.6504 - val_loss: 0.6419 - val_acc: 0.6344\n",
      "Epoch 4/25\n",
      " - 13s - loss: 0.6101 - acc: 0.6669 - val_loss: 0.6423 - val_acc: 0.6340\n",
      "Epoch 5/25\n",
      " - 13s - loss: 0.5992 - acc: 0.6694 - val_loss: 0.6442 - val_acc: 0.6298\n",
      "Epoch 6/25\n",
      " - 13s - loss: 0.5845 - acc: 0.6859 - val_loss: 0.6494 - val_acc: 0.6349\n",
      "Epoch 7/25\n",
      " - 13s - loss: 0.5702 - acc: 0.6973 - val_loss: 0.6383 - val_acc: 0.6363\n",
      "Epoch 8/25\n",
      " - 13s - loss: 0.5604 - acc: 0.7071 - val_loss: 0.6371 - val_acc: 0.6439\n",
      "Epoch 9/25\n",
      " - 13s - loss: 0.5518 - acc: 0.7136 - val_loss: 0.6372 - val_acc: 0.6433\n",
      "Epoch 10/25\n",
      " - 13s - loss: 0.5416 - acc: 0.7187 - val_loss: 0.6419 - val_acc: 0.6396\n",
      "Epoch 11/25\n",
      " - 13s - loss: 0.5346 - acc: 0.7270 - val_loss: 0.6439 - val_acc: 0.6368\n",
      "Epoch 12/25\n",
      " - 13s - loss: 0.5290 - acc: 0.7299 - val_loss: 0.6527 - val_acc: 0.6355\n",
      "Epoch 13/25\n",
      " - 13s - loss: 0.5250 - acc: 0.7337 - val_loss: 0.6457 - val_acc: 0.6396\n",
      "Epoch 14/25\n",
      " - 13s - loss: 0.5206 - acc: 0.7356 - val_loss: 0.6414 - val_acc: 0.6464\n",
      "Epoch 15/25\n",
      " - 13s - loss: 0.5185 - acc: 0.7386 - val_loss: 0.6464 - val_acc: 0.6470\n",
      "Epoch 16/25\n",
      " - 13s - loss: 0.5121 - acc: 0.7436 - val_loss: 0.6439 - val_acc: 0.6465\n",
      "Epoch 17/25\n",
      " - 13s - loss: 0.5092 - acc: 0.7439 - val_loss: 0.6393 - val_acc: 0.6455\n",
      "Epoch 18/25\n",
      " - 13s - loss: 0.5026 - acc: 0.7497 - val_loss: 0.6474 - val_acc: 0.6496\n",
      "Epoch 19/25\n",
      " - 13s - loss: 0.5042 - acc: 0.7499 - val_loss: 0.6404 - val_acc: 0.6489\n",
      "Epoch 20/25\n",
      " - 13s - loss: 0.5013 - acc: 0.7522 - val_loss: 0.6457 - val_acc: 0.6505\n",
      "Epoch 21/25\n",
      " - 13s - loss: 0.4958 - acc: 0.7538 - val_loss: 0.6539 - val_acc: 0.6478\n",
      "Epoch 22/25\n",
      " - 13s - loss: 0.4911 - acc: 0.7517 - val_loss: 0.6486 - val_acc: 0.6471\n",
      "Epoch 23/25\n",
      " - 13s - loss: 0.4916 - acc: 0.7550 - val_loss: 0.6610 - val_acc: 0.6514\n",
      "Epoch 24/25\n",
      " - 13s - loss: 0.4885 - acc: 0.7626 - val_loss: 0.6511 - val_acc: 0.6512\n",
      "Epoch 25/25\n",
      " - 13s - loss: 0.4891 - acc: 0.7603 - val_loss: 0.6577 - val_acc: 0.6484\n",
      "model saved as:  model_no_pool10.h5\n"
     ]
    }
   ],
   "source": [
    "make_model(x_train, y_train, x_test, y_test, filt_width=10, epochs=epochs)"
   ]
  },
  {
   "cell_type": "code",
   "execution_count": 49,
   "metadata": {},
   "outputs": [
    {
     "name": "stdout",
     "output_type": "stream",
     "text": [
      "Train on 15822 samples, validate on 6781 samples\n",
      "Epoch 1/25\n",
      " - 17s - loss: 0.6818 - acc: 0.5660 - val_loss: 0.6511 - val_acc: 0.6198\n",
      "Epoch 2/25\n",
      " - 15s - loss: 0.6376 - acc: 0.6361 - val_loss: 0.6444 - val_acc: 0.6298\n",
      "Epoch 3/25\n",
      " - 15s - loss: 0.6190 - acc: 0.6572 - val_loss: 0.6415 - val_acc: 0.6360\n",
      "Epoch 4/25\n",
      " - 14s - loss: 0.6054 - acc: 0.6689 - val_loss: 0.6395 - val_acc: 0.6288\n",
      "Epoch 5/25\n",
      " - 14s - loss: 0.5889 - acc: 0.6859 - val_loss: 0.6321 - val_acc: 0.6414\n",
      "Epoch 6/25\n",
      " - 14s - loss: 0.5671 - acc: 0.7026 - val_loss: 0.6300 - val_acc: 0.6453\n",
      "Epoch 7/25\n",
      " - 14s - loss: 0.5544 - acc: 0.7120 - val_loss: 0.6328 - val_acc: 0.6405\n",
      "Epoch 8/25\n",
      " - 14s - loss: 0.5422 - acc: 0.7208 - val_loss: 0.6294 - val_acc: 0.6452\n",
      "Epoch 9/25\n",
      " - 14s - loss: 0.5362 - acc: 0.7217 - val_loss: 0.6285 - val_acc: 0.6511\n",
      "Epoch 10/25\n",
      " - 14s - loss: 0.5279 - acc: 0.7296 - val_loss: 0.6299 - val_acc: 0.6489\n",
      "Epoch 11/25\n",
      " - 14s - loss: 0.5193 - acc: 0.7351 - val_loss: 0.6326 - val_acc: 0.6552\n",
      "Epoch 12/25\n",
      " - 14s - loss: 0.5112 - acc: 0.7434 - val_loss: 0.6359 - val_acc: 0.6536\n",
      "Epoch 13/25\n",
      " - 14s - loss: 0.5082 - acc: 0.7402 - val_loss: 0.6388 - val_acc: 0.6456\n",
      "Epoch 14/25\n",
      " - 15s - loss: 0.5038 - acc: 0.7446 - val_loss: 0.6567 - val_acc: 0.6399\n",
      "Epoch 15/25\n",
      " - 14s - loss: 0.4982 - acc: 0.7513 - val_loss: 0.6376 - val_acc: 0.6558\n",
      "Epoch 16/25\n",
      " - 14s - loss: 0.4898 - acc: 0.7571 - val_loss: 0.6380 - val_acc: 0.6518\n",
      "Epoch 17/25\n",
      " - 14s - loss: 0.4904 - acc: 0.7567 - val_loss: 0.6422 - val_acc: 0.6515\n",
      "Epoch 18/25\n",
      " - 14s - loss: 0.4868 - acc: 0.7613 - val_loss: 0.6434 - val_acc: 0.6502\n",
      "Epoch 19/25\n",
      " - 14s - loss: 0.4872 - acc: 0.7593 - val_loss: 0.6435 - val_acc: 0.6536\n",
      "Epoch 20/25\n",
      " - 14s - loss: 0.4754 - acc: 0.7644 - val_loss: 0.6503 - val_acc: 0.6499\n",
      "Epoch 21/25\n",
      " - 14s - loss: 0.4799 - acc: 0.7620 - val_loss: 0.6470 - val_acc: 0.6514\n",
      "Epoch 22/25\n",
      " - 14s - loss: 0.4774 - acc: 0.7669 - val_loss: 0.6463 - val_acc: 0.6524\n",
      "Epoch 23/25\n",
      " - 14s - loss: 0.4733 - acc: 0.7716 - val_loss: 0.6448 - val_acc: 0.6534\n",
      "Epoch 24/25\n",
      " - 14s - loss: 0.4736 - acc: 0.7665 - val_loss: 0.6470 - val_acc: 0.6512\n",
      "Epoch 25/25\n",
      " - 14s - loss: 0.4690 - acc: 0.7688 - val_loss: 0.6544 - val_acc: 0.6540\n",
      "model saved as:  model_no_pool12.h5\n"
     ]
    }
   ],
   "source": [
    "make_model(x_train, y_train, x_test, y_test, filt_width=12, epochs=epochs)"
   ]
  },
  {
   "cell_type": "markdown",
   "metadata": {},
   "source": [
    "## Make an ensemble with these models"
   ]
  },
  {
   "cell_type": "code",
   "execution_count": 50,
   "metadata": {},
   "outputs": [],
   "source": [
    "#load all the models\n",
    "import keras\n",
    "model_no_pool3 = keras.models.load_model('model_no_pool3.h5')\n",
    "model_no_pool4 = keras.models.load_model('model_no_pool4.h5')\n",
    "model_no_pool5 = keras.models.load_model('model_no_pool5.h5')\n",
    "model_no_pool6 = keras.models.load_model('model_no_pool6.h5')\n",
    "model_no_pool8 = keras.models.load_model('model_no_pool8.h5')\n",
    "model_no_pool10 = keras.models.load_model('model_no_pool10.h5')\n",
    "model_no_pool12 = keras.models.load_model('model_no_pool12.h5')\n"
   ]
  },
  {
   "cell_type": "code",
   "execution_count": 51,
   "metadata": {},
   "outputs": [
    {
     "name": "stdout",
     "output_type": "stream",
     "text": [
      "Train acc\n"
     ]
    },
    {
     "data": {
      "text/plain": [
       "0.84129692832764502"
      ]
     },
     "execution_count": 51,
     "metadata": {},
     "output_type": "execute_result"
    }
   ],
   "source": [
    "x = x_train\n",
    "y = y_train\n",
    "\n",
    "y_pred3 = model_no_pool3.predict(x)\n",
    "y_pred4 = model_no_pool4.predict(x)\n",
    "y_pred5 = model_no_pool5.predict(x)\n",
    "y_pred6 = model_no_pool6.predict(x)\n",
    "y_pred8 = model_no_pool8.predict(x)\n",
    "y_pred10 = model_no_pool10.predict(x)\n",
    "y_pred12 = model_no_pool12.predict(x)\n",
    "\n",
    "y_pred_total = np.round((y_pred3 + y_pred4 + y_pred5 + y_pred6 + y_pred8 + y_pred10 + y_pred12)/7)\n",
    "\n",
    "z = y_pred_total == np.reshape(y, [-1,1])\n",
    "\n",
    "print('Train acc')\n",
    "np.sum(z)/len(z)"
   ]
  },
  {
   "cell_type": "code",
   "execution_count": 62,
   "metadata": {},
   "outputs": [
    {
     "name": "stdout",
     "output_type": "stream",
     "text": [
      "Train acc\n"
     ]
    },
    {
     "data": {
      "text/plain": [
       "0.84287700669953225"
      ]
     },
     "execution_count": 62,
     "metadata": {},
     "output_type": "execute_result"
    }
   ],
   "source": [
    "x = x_train\n",
    "y = y_train\n",
    "\n",
    "\n",
    "y_pred12 = model_no_pool12.predict(x)\n",
    "\n",
    "y_pred_total = np.round(y_pred12)\n",
    "\n",
    "z = y_pred_total == np.reshape(y, [-1,1])\n",
    "\n",
    "print('Train acc')\n",
    "np.sum(z)/len(z)"
   ]
  },
  {
   "cell_type": "code",
   "execution_count": 63,
   "metadata": {},
   "outputs": [
    {
     "name": "stdout",
     "output_type": "stream",
     "text": [
      "Test acc\n"
     ]
    },
    {
     "data": {
      "text/plain": [
       "0.65403332841763751"
      ]
     },
     "execution_count": 63,
     "metadata": {},
     "output_type": "execute_result"
    }
   ],
   "source": [
    "x = x_test\n",
    "y = y_test\n",
    "\n",
    "\n",
    "y_pred12 = model_no_pool12.predict(x)\n",
    "\n",
    "y_pred_total = np.round(y_pred12)\n",
    "\n",
    "z = y_pred_total == np.reshape(y, [-1,1])\n",
    "\n",
    "print('Test acc')\n",
    "np.sum(z)/len(z)"
   ]
  },
  {
   "cell_type": "code",
   "execution_count": null,
   "metadata": {},
   "outputs": [],
   "source": []
  },
  {
   "cell_type": "markdown",
   "metadata": {},
   "source": [
    "# Filter Vizualization"
   ]
  },
  {
   "cell_type": "code",
   "execution_count": 56,
   "metadata": {},
   "outputs": [],
   "source": [
    "#try to vizulaize the filters\n",
    "weights = model_no_pool8.get_weights()"
   ]
  },
  {
   "cell_type": "code",
   "execution_count": 57,
   "metadata": {},
   "outputs": [
    {
     "data": {
      "text/plain": [
       "(8, 20, 20)"
      ]
     },
     "execution_count": 57,
     "metadata": {},
     "output_type": "execute_result"
    }
   ],
   "source": [
    "weights[0].shape"
   ]
  },
  {
   "cell_type": "code",
   "execution_count": 59,
   "metadata": {},
   "outputs": [
    {
     "data": {
      "image/png": "[encoded data removed]",
      "text/plain": [
       "<Figure size 2160x720 with 40 Axes>"
      ]
     },
     "metadata": {},
     "output_type": "display_data"
    }
   ],
   "source": [
    "#I'm expecting 10 filters that are 8 x 20\n",
    "#if I'm interpreting this correctly the weights[0] is and array [8x20 filter, 10 filters]\n",
    "\n",
    "import matplotlib.pyplot as plt\n",
    "%matplotlib inline\n",
    "\n",
    "plt.figure(figsize=(30,10))\n",
    "for ind in range(1,21):\n",
    "    w = weights[0][:,:,ind-1]\n",
    "    plt.subplot(4,5,ind)\n",
    "    plt.imshow(w)\n",
    "    plt.colorbar()"
   ]
  },
  {
   "cell_type": "markdown",
   "metadata": {},
   "source": [
    "since the data only has a single hot pixel in each row, I would expect to see similar patterns in the filters, but this doesn't look much like that so maybe there is some more work to be done here or my expecation is wrong."
   ]
  },
  {
   "cell_type": "code",
   "execution_count": null,
   "metadata": {},
   "outputs": [],
   "source": []
  }
 ],
 "metadata": {
  "anaconda-cloud": {},
  "kernelspec": {
   "display_name": "Python 3",
   "language": "python",
   "name": "python3"
  },
  "language_info": {
   "codemirror_mode": {
    "name": "ipython",
    "version": 3
   },
   "file_extension": ".py",
   "mimetype": "text/x-python",
   "name": "python",
   "nbconvert_exporter": "python",
   "pygments_lexer": "ipython3",
   "version": "3.6.4"
  }
 },
 "nbformat": 4,
 "nbformat_minor": 1
}
