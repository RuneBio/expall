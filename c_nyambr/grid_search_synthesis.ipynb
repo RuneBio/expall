{
 "cells": [
  {
   "cell_type": "code",
   "execution_count": 10,
   "metadata": {
    "collapsed": true
   },
   "outputs": [],
   "source": [
    "import pandas as pd\n",
    "import numpy as np\n",
    "import matplotlib.pyplot as plt\n",
    "%matplotlib inline\n",
    "\n",
    "grid_search_data = pd.read_csv('first_grid_search_results.csv', index_col=0)"
   ]
  },
  {
   "cell_type": "code",
   "execution_count": 2,
   "metadata": {
    "collapsed": false,
    "scrolled": true
   },
   "outputs": [
    {
     "data": {
      "text/html": [
       "<div>\n",
       "<style scoped>\n",
       "    .dataframe tbody tr th:only-of-type {\n",
       "        vertical-align: middle;\n",
       "    }\n",
       "\n",
       "    .dataframe tbody tr th {\n",
       "        vertical-align: top;\n",
       "    }\n",
       "\n",
       "    .dataframe thead th {\n",
       "        text-align: right;\n",
       "    }\n",
       "</style>\n",
       "<table border=\"1\" class=\"dataframe\">\n",
       "  <thead>\n",
       "    <tr style=\"text-align: right;\">\n",
       "      <th></th>\n",
       "      <th>filter_size</th>\n",
       "      <th>hidden_dims</th>\n",
       "      <th>num_filters</th>\n",
       "      <th>pool_size</th>\n",
       "      <th>means</th>\n",
       "      <th>stddev</th>\n",
       "    </tr>\n",
       "  </thead>\n",
       "  <tbody>\n",
       "    <tr>\n",
       "      <th>44</th>\n",
       "      <td>3</td>\n",
       "      <td>50</td>\n",
       "      <td>100</td>\n",
       "      <td>50</td>\n",
       "      <td>0.557578</td>\n",
       "      <td>0.008692</td>\n",
       "    </tr>\n",
       "    <tr>\n",
       "      <th>24</th>\n",
       "      <td>3</td>\n",
       "      <td>10</td>\n",
       "      <td>200</td>\n",
       "      <td>50</td>\n",
       "      <td>0.556693</td>\n",
       "      <td>0.019770</td>\n",
       "    </tr>\n",
       "    <tr>\n",
       "      <th>19</th>\n",
       "      <td>3</td>\n",
       "      <td>10</td>\n",
       "      <td>100</td>\n",
       "      <td>50</td>\n",
       "      <td>0.556440</td>\n",
       "      <td>0.014469</td>\n",
       "    </tr>\n",
       "    <tr>\n",
       "      <th>69</th>\n",
       "      <td>3</td>\n",
       "      <td>100</td>\n",
       "      <td>100</td>\n",
       "      <td>50</td>\n",
       "      <td>0.556188</td>\n",
       "      <td>0.015759</td>\n",
       "    </tr>\n",
       "    <tr>\n",
       "      <th>59</th>\n",
       "      <td>3</td>\n",
       "      <td>100</td>\n",
       "      <td>20</td>\n",
       "      <td>50</td>\n",
       "      <td>0.555492</td>\n",
       "      <td>0.014300</td>\n",
       "    </tr>\n",
       "    <tr>\n",
       "      <th>49</th>\n",
       "      <td>3</td>\n",
       "      <td>50</td>\n",
       "      <td>200</td>\n",
       "      <td>50</td>\n",
       "      <td>0.554860</td>\n",
       "      <td>0.015304</td>\n",
       "    </tr>\n",
       "    <tr>\n",
       "      <th>64</th>\n",
       "      <td>3</td>\n",
       "      <td>100</td>\n",
       "      <td>50</td>\n",
       "      <td>50</td>\n",
       "      <td>0.554481</td>\n",
       "      <td>0.009144</td>\n",
       "    </tr>\n",
       "    <tr>\n",
       "      <th>89</th>\n",
       "      <td>5</td>\n",
       "      <td>10</td>\n",
       "      <td>50</td>\n",
       "      <td>50</td>\n",
       "      <td>0.552079</td>\n",
       "      <td>0.011023</td>\n",
       "    </tr>\n",
       "    <tr>\n",
       "      <th>34</th>\n",
       "      <td>3</td>\n",
       "      <td>50</td>\n",
       "      <td>20</td>\n",
       "      <td>50</td>\n",
       "      <td>0.551195</td>\n",
       "      <td>0.010271</td>\n",
       "    </tr>\n",
       "    <tr>\n",
       "      <th>83</th>\n",
       "      <td>5</td>\n",
       "      <td>10</td>\n",
       "      <td>20</td>\n",
       "      <td>20</td>\n",
       "      <td>0.550942</td>\n",
       "      <td>0.009334</td>\n",
       "    </tr>\n",
       "    <tr>\n",
       "      <th>13</th>\n",
       "      <td>3</td>\n",
       "      <td>10</td>\n",
       "      <td>50</td>\n",
       "      <td>20</td>\n",
       "      <td>0.550626</td>\n",
       "      <td>0.008181</td>\n",
       "    </tr>\n",
       "    <tr>\n",
       "      <th>33</th>\n",
       "      <td>3</td>\n",
       "      <td>50</td>\n",
       "      <td>20</td>\n",
       "      <td>20</td>\n",
       "      <td>0.550563</td>\n",
       "      <td>0.010810</td>\n",
       "    </tr>\n",
       "    <tr>\n",
       "      <th>74</th>\n",
       "      <td>3</td>\n",
       "      <td>100</td>\n",
       "      <td>200</td>\n",
       "      <td>50</td>\n",
       "      <td>0.550563</td>\n",
       "      <td>0.013954</td>\n",
       "    </tr>\n",
       "    <tr>\n",
       "      <th>7</th>\n",
       "      <td>3</td>\n",
       "      <td>10</td>\n",
       "      <td>20</td>\n",
       "      <td>10</td>\n",
       "      <td>0.550057</td>\n",
       "      <td>0.010024</td>\n",
       "    </tr>\n",
       "    <tr>\n",
       "      <th>12</th>\n",
       "      <td>3</td>\n",
       "      <td>10</td>\n",
       "      <td>50</td>\n",
       "      <td>10</td>\n",
       "      <td>0.549678</td>\n",
       "      <td>0.008637</td>\n",
       "    </tr>\n",
       "    <tr>\n",
       "      <th>164</th>\n",
       "      <td>7</td>\n",
       "      <td>10</td>\n",
       "      <td>50</td>\n",
       "      <td>50</td>\n",
       "      <td>0.549678</td>\n",
       "      <td>0.009219</td>\n",
       "    </tr>\n",
       "    <tr>\n",
       "      <th>84</th>\n",
       "      <td>5</td>\n",
       "      <td>10</td>\n",
       "      <td>20</td>\n",
       "      <td>50</td>\n",
       "      <td>0.549488</td>\n",
       "      <td>0.012848</td>\n",
       "    </tr>\n",
       "    <tr>\n",
       "      <th>189</th>\n",
       "      <td>7</td>\n",
       "      <td>50</td>\n",
       "      <td>50</td>\n",
       "      <td>50</td>\n",
       "      <td>0.548540</td>\n",
       "      <td>0.009464</td>\n",
       "    </tr>\n",
       "    <tr>\n",
       "      <th>139</th>\n",
       "      <td>5</td>\n",
       "      <td>100</td>\n",
       "      <td>50</td>\n",
       "      <td>50</td>\n",
       "      <td>0.548540</td>\n",
       "      <td>0.009418</td>\n",
       "    </tr>\n",
       "    <tr>\n",
       "      <th>94</th>\n",
       "      <td>5</td>\n",
       "      <td>10</td>\n",
       "      <td>100</td>\n",
       "      <td>50</td>\n",
       "      <td>0.548414</td>\n",
       "      <td>0.011015</td>\n",
       "    </tr>\n",
       "    <tr>\n",
       "      <th>104</th>\n",
       "      <td>5</td>\n",
       "      <td>50</td>\n",
       "      <td>10</td>\n",
       "      <td>50</td>\n",
       "      <td>0.548034</td>\n",
       "      <td>0.013966</td>\n",
       "    </tr>\n",
       "    <tr>\n",
       "      <th>99</th>\n",
       "      <td>5</td>\n",
       "      <td>10</td>\n",
       "      <td>200</td>\n",
       "      <td>50</td>\n",
       "      <td>0.547845</td>\n",
       "      <td>0.007240</td>\n",
       "    </tr>\n",
       "    <tr>\n",
       "      <th>39</th>\n",
       "      <td>3</td>\n",
       "      <td>50</td>\n",
       "      <td>50</td>\n",
       "      <td>50</td>\n",
       "      <td>0.547655</td>\n",
       "      <td>0.014975</td>\n",
       "    </tr>\n",
       "    <tr>\n",
       "      <th>119</th>\n",
       "      <td>5</td>\n",
       "      <td>50</td>\n",
       "      <td>100</td>\n",
       "      <td>50</td>\n",
       "      <td>0.547339</td>\n",
       "      <td>0.013403</td>\n",
       "    </tr>\n",
       "    <tr>\n",
       "      <th>79</th>\n",
       "      <td>5</td>\n",
       "      <td>10</td>\n",
       "      <td>10</td>\n",
       "      <td>50</td>\n",
       "      <td>0.547276</td>\n",
       "      <td>0.013286</td>\n",
       "    </tr>\n",
       "    <tr>\n",
       "      <th>144</th>\n",
       "      <td>5</td>\n",
       "      <td>100</td>\n",
       "      <td>100</td>\n",
       "      <td>50</td>\n",
       "      <td>0.546834</td>\n",
       "      <td>0.014050</td>\n",
       "    </tr>\n",
       "    <tr>\n",
       "      <th>109</th>\n",
       "      <td>5</td>\n",
       "      <td>50</td>\n",
       "      <td>20</td>\n",
       "      <td>50</td>\n",
       "      <td>0.546644</td>\n",
       "      <td>0.013777</td>\n",
       "    </tr>\n",
       "    <tr>\n",
       "      <th>134</th>\n",
       "      <td>5</td>\n",
       "      <td>100</td>\n",
       "      <td>20</td>\n",
       "      <td>50</td>\n",
       "      <td>0.546518</td>\n",
       "      <td>0.013247</td>\n",
       "    </tr>\n",
       "    <tr>\n",
       "      <th>159</th>\n",
       "      <td>7</td>\n",
       "      <td>10</td>\n",
       "      <td>20</td>\n",
       "      <td>50</td>\n",
       "      <td>0.546075</td>\n",
       "      <td>0.011004</td>\n",
       "    </tr>\n",
       "    <tr>\n",
       "      <th>29</th>\n",
       "      <td>3</td>\n",
       "      <td>50</td>\n",
       "      <td>10</td>\n",
       "      <td>50</td>\n",
       "      <td>0.545064</td>\n",
       "      <td>0.021811</td>\n",
       "    </tr>\n",
       "    <tr>\n",
       "      <th>...</th>\n",
       "      <td>...</td>\n",
       "      <td>...</td>\n",
       "      <td>...</td>\n",
       "      <td>...</td>\n",
       "      <td>...</td>\n",
       "      <td>...</td>\n",
       "    </tr>\n",
       "    <tr>\n",
       "      <th>146</th>\n",
       "      <td>5</td>\n",
       "      <td>100</td>\n",
       "      <td>200</td>\n",
       "      <td>5</td>\n",
       "      <td>0.511819</td>\n",
       "      <td>0.014535</td>\n",
       "    </tr>\n",
       "    <tr>\n",
       "      <th>15</th>\n",
       "      <td>3</td>\n",
       "      <td>10</td>\n",
       "      <td>100</td>\n",
       "      <td>2</td>\n",
       "      <td>0.511566</td>\n",
       "      <td>0.010741</td>\n",
       "    </tr>\n",
       "    <tr>\n",
       "      <th>220</th>\n",
       "      <td>7</td>\n",
       "      <td>100</td>\n",
       "      <td>200</td>\n",
       "      <td>2</td>\n",
       "      <td>0.511377</td>\n",
       "      <td>0.015314</td>\n",
       "    </tr>\n",
       "    <tr>\n",
       "      <th>272</th>\n",
       "      <td>10</td>\n",
       "      <td>50</td>\n",
       "      <td>200</td>\n",
       "      <td>10</td>\n",
       "      <td>0.511313</td>\n",
       "      <td>0.017182</td>\n",
       "    </tr>\n",
       "    <tr>\n",
       "      <th>110</th>\n",
       "      <td>5</td>\n",
       "      <td>50</td>\n",
       "      <td>50</td>\n",
       "      <td>2</td>\n",
       "      <td>0.511061</td>\n",
       "      <td>0.010845</td>\n",
       "    </tr>\n",
       "    <tr>\n",
       "      <th>45</th>\n",
       "      <td>3</td>\n",
       "      <td>50</td>\n",
       "      <td>200</td>\n",
       "      <td>2</td>\n",
       "      <td>0.510997</td>\n",
       "      <td>0.013278</td>\n",
       "    </tr>\n",
       "    <tr>\n",
       "      <th>298</th>\n",
       "      <td>10</td>\n",
       "      <td>100</td>\n",
       "      <td>200</td>\n",
       "      <td>20</td>\n",
       "      <td>0.510934</td>\n",
       "      <td>0.016349</td>\n",
       "    </tr>\n",
       "    <tr>\n",
       "      <th>95</th>\n",
       "      <td>5</td>\n",
       "      <td>10</td>\n",
       "      <td>200</td>\n",
       "      <td>2</td>\n",
       "      <td>0.510681</td>\n",
       "      <td>0.016023</td>\n",
       "    </tr>\n",
       "    <tr>\n",
       "      <th>40</th>\n",
       "      <td>3</td>\n",
       "      <td>50</td>\n",
       "      <td>100</td>\n",
       "      <td>2</td>\n",
       "      <td>0.510681</td>\n",
       "      <td>0.011147</td>\n",
       "    </tr>\n",
       "    <tr>\n",
       "      <th>65</th>\n",
       "      <td>3</td>\n",
       "      <td>100</td>\n",
       "      <td>100</td>\n",
       "      <td>2</td>\n",
       "      <td>0.510429</td>\n",
       "      <td>0.014695</td>\n",
       "    </tr>\n",
       "    <tr>\n",
       "      <th>255</th>\n",
       "      <td>10</td>\n",
       "      <td>50</td>\n",
       "      <td>20</td>\n",
       "      <td>2</td>\n",
       "      <td>0.510429</td>\n",
       "      <td>0.010318</td>\n",
       "    </tr>\n",
       "    <tr>\n",
       "      <th>290</th>\n",
       "      <td>10</td>\n",
       "      <td>100</td>\n",
       "      <td>100</td>\n",
       "      <td>2</td>\n",
       "      <td>0.510239</td>\n",
       "      <td>0.010788</td>\n",
       "    </tr>\n",
       "    <tr>\n",
       "      <th>295</th>\n",
       "      <td>10</td>\n",
       "      <td>100</td>\n",
       "      <td>200</td>\n",
       "      <td>2</td>\n",
       "      <td>0.510049</td>\n",
       "      <td>0.012116</td>\n",
       "    </tr>\n",
       "    <tr>\n",
       "      <th>185</th>\n",
       "      <td>7</td>\n",
       "      <td>50</td>\n",
       "      <td>50</td>\n",
       "      <td>2</td>\n",
       "      <td>0.509986</td>\n",
       "      <td>0.006463</td>\n",
       "    </tr>\n",
       "    <tr>\n",
       "      <th>230</th>\n",
       "      <td>10</td>\n",
       "      <td>10</td>\n",
       "      <td>20</td>\n",
       "      <td>2</td>\n",
       "      <td>0.509670</td>\n",
       "      <td>0.014141</td>\n",
       "    </tr>\n",
       "    <tr>\n",
       "      <th>90</th>\n",
       "      <td>5</td>\n",
       "      <td>10</td>\n",
       "      <td>100</td>\n",
       "      <td>2</td>\n",
       "      <td>0.509544</td>\n",
       "      <td>0.010629</td>\n",
       "    </tr>\n",
       "    <tr>\n",
       "      <th>205</th>\n",
       "      <td>7</td>\n",
       "      <td>100</td>\n",
       "      <td>20</td>\n",
       "      <td>2</td>\n",
       "      <td>0.509417</td>\n",
       "      <td>0.011856</td>\n",
       "    </tr>\n",
       "    <tr>\n",
       "      <th>260</th>\n",
       "      <td>10</td>\n",
       "      <td>50</td>\n",
       "      <td>50</td>\n",
       "      <td>2</td>\n",
       "      <td>0.509038</td>\n",
       "      <td>0.012878</td>\n",
       "    </tr>\n",
       "    <tr>\n",
       "      <th>170</th>\n",
       "      <td>7</td>\n",
       "      <td>10</td>\n",
       "      <td>200</td>\n",
       "      <td>2</td>\n",
       "      <td>0.508975</td>\n",
       "      <td>0.008804</td>\n",
       "    </tr>\n",
       "    <tr>\n",
       "      <th>120</th>\n",
       "      <td>5</td>\n",
       "      <td>50</td>\n",
       "      <td>200</td>\n",
       "      <td>2</td>\n",
       "      <td>0.508722</td>\n",
       "      <td>0.015243</td>\n",
       "    </tr>\n",
       "    <tr>\n",
       "      <th>270</th>\n",
       "      <td>10</td>\n",
       "      <td>50</td>\n",
       "      <td>200</td>\n",
       "      <td>2</td>\n",
       "      <td>0.508659</td>\n",
       "      <td>0.008833</td>\n",
       "    </tr>\n",
       "    <tr>\n",
       "      <th>165</th>\n",
       "      <td>7</td>\n",
       "      <td>10</td>\n",
       "      <td>100</td>\n",
       "      <td>2</td>\n",
       "      <td>0.508532</td>\n",
       "      <td>0.010980</td>\n",
       "    </tr>\n",
       "    <tr>\n",
       "      <th>210</th>\n",
       "      <td>7</td>\n",
       "      <td>100</td>\n",
       "      <td>50</td>\n",
       "      <td>2</td>\n",
       "      <td>0.508406</td>\n",
       "      <td>0.008424</td>\n",
       "    </tr>\n",
       "    <tr>\n",
       "      <th>20</th>\n",
       "      <td>3</td>\n",
       "      <td>10</td>\n",
       "      <td>200</td>\n",
       "      <td>2</td>\n",
       "      <td>0.508280</td>\n",
       "      <td>0.015113</td>\n",
       "    </tr>\n",
       "    <tr>\n",
       "      <th>180</th>\n",
       "      <td>7</td>\n",
       "      <td>50</td>\n",
       "      <td>20</td>\n",
       "      <td>2</td>\n",
       "      <td>0.507395</td>\n",
       "      <td>0.012135</td>\n",
       "    </tr>\n",
       "    <tr>\n",
       "      <th>195</th>\n",
       "      <td>7</td>\n",
       "      <td>50</td>\n",
       "      <td>200</td>\n",
       "      <td>2</td>\n",
       "      <td>0.507332</td>\n",
       "      <td>0.015201</td>\n",
       "    </tr>\n",
       "    <tr>\n",
       "      <th>280</th>\n",
       "      <td>10</td>\n",
       "      <td>100</td>\n",
       "      <td>20</td>\n",
       "      <td>2</td>\n",
       "      <td>0.507268</td>\n",
       "      <td>0.009151</td>\n",
       "    </tr>\n",
       "    <tr>\n",
       "      <th>271</th>\n",
       "      <td>10</td>\n",
       "      <td>50</td>\n",
       "      <td>200</td>\n",
       "      <td>5</td>\n",
       "      <td>0.507205</td>\n",
       "      <td>0.016232</td>\n",
       "    </tr>\n",
       "    <tr>\n",
       "      <th>245</th>\n",
       "      <td>10</td>\n",
       "      <td>10</td>\n",
       "      <td>200</td>\n",
       "      <td>2</td>\n",
       "      <td>0.505183</td>\n",
       "      <td>0.013111</td>\n",
       "    </tr>\n",
       "    <tr>\n",
       "      <th>265</th>\n",
       "      <td>10</td>\n",
       "      <td>50</td>\n",
       "      <td>100</td>\n",
       "      <td>2</td>\n",
       "      <td>0.505056</td>\n",
       "      <td>0.010994</td>\n",
       "    </tr>\n",
       "  </tbody>\n",
       "</table>\n",
       "<p>300 rows × 6 columns</p>\n",
       "</div>"
      ],
      "text/plain": [
       "     filter_size  hidden_dims  num_filters  pool_size     means    stddev\n",
       "44             3           50          100         50  0.557578  0.008692\n",
       "24             3           10          200         50  0.556693  0.019770\n",
       "19             3           10          100         50  0.556440  0.014469\n",
       "69             3          100          100         50  0.556188  0.015759\n",
       "59             3          100           20         50  0.555492  0.014300\n",
       "49             3           50          200         50  0.554860  0.015304\n",
       "64             3          100           50         50  0.554481  0.009144\n",
       "89             5           10           50         50  0.552079  0.011023\n",
       "34             3           50           20         50  0.551195  0.010271\n",
       "83             5           10           20         20  0.550942  0.009334\n",
       "13             3           10           50         20  0.550626  0.008181\n",
       "33             3           50           20         20  0.550563  0.010810\n",
       "74             3          100          200         50  0.550563  0.013954\n",
       "7              3           10           20         10  0.550057  0.010024\n",
       "12             3           10           50         10  0.549678  0.008637\n",
       "164            7           10           50         50  0.549678  0.009219\n",
       "84             5           10           20         50  0.549488  0.012848\n",
       "189            7           50           50         50  0.548540  0.009464\n",
       "139            5          100           50         50  0.548540  0.009418\n",
       "94             5           10          100         50  0.548414  0.011015\n",
       "104            5           50           10         50  0.548034  0.013966\n",
       "99             5           10          200         50  0.547845  0.007240\n",
       "39             3           50           50         50  0.547655  0.014975\n",
       "119            5           50          100         50  0.547339  0.013403\n",
       "79             5           10           10         50  0.547276  0.013286\n",
       "144            5          100          100         50  0.546834  0.014050\n",
       "109            5           50           20         50  0.546644  0.013777\n",
       "134            5          100           20         50  0.546518  0.013247\n",
       "159            7           10           20         50  0.546075  0.011004\n",
       "29             3           50           10         50  0.545064  0.021811\n",
       "..           ...          ...          ...        ...       ...       ...\n",
       "146            5          100          200          5  0.511819  0.014535\n",
       "15             3           10          100          2  0.511566  0.010741\n",
       "220            7          100          200          2  0.511377  0.015314\n",
       "272           10           50          200         10  0.511313  0.017182\n",
       "110            5           50           50          2  0.511061  0.010845\n",
       "45             3           50          200          2  0.510997  0.013278\n",
       "298           10          100          200         20  0.510934  0.016349\n",
       "95             5           10          200          2  0.510681  0.016023\n",
       "40             3           50          100          2  0.510681  0.011147\n",
       "65             3          100          100          2  0.510429  0.014695\n",
       "255           10           50           20          2  0.510429  0.010318\n",
       "290           10          100          100          2  0.510239  0.010788\n",
       "295           10          100          200          2  0.510049  0.012116\n",
       "185            7           50           50          2  0.509986  0.006463\n",
       "230           10           10           20          2  0.509670  0.014141\n",
       "90             5           10          100          2  0.509544  0.010629\n",
       "205            7          100           20          2  0.509417  0.011856\n",
       "260           10           50           50          2  0.509038  0.012878\n",
       "170            7           10          200          2  0.508975  0.008804\n",
       "120            5           50          200          2  0.508722  0.015243\n",
       "270           10           50          200          2  0.508659  0.008833\n",
       "165            7           10          100          2  0.508532  0.010980\n",
       "210            7          100           50          2  0.508406  0.008424\n",
       "20             3           10          200          2  0.508280  0.015113\n",
       "180            7           50           20          2  0.507395  0.012135\n",
       "195            7           50          200          2  0.507332  0.015201\n",
       "280           10          100           20          2  0.507268  0.009151\n",
       "271           10           50          200          5  0.507205  0.016232\n",
       "245           10           10          200          2  0.505183  0.013111\n",
       "265           10           50          100          2  0.505056  0.010994\n",
       "\n",
       "[300 rows x 6 columns]"
      ]
     },
     "execution_count": 2,
     "metadata": {},
     "output_type": "execute_result"
    }
   ],
   "source": [
    "grid_search_data.sort_values('means', ascending=False)"
   ]
  },
  {
   "cell_type": "code",
   "execution_count": 3,
   "metadata": {
    "collapsed": false
   },
   "outputs": [
    {
     "name": "stdout",
     "output_type": "stream",
     "text": [
      "Pearson correlation of each hyperparameter \n",
      "with accuracy from 10-fold cv:\n"
     ]
    },
    {
     "data": {
      "text/plain": [
       "filter_size   -0.321720\n",
       "hidden_dims   -0.104940\n",
       "num_filters   -0.263673\n",
       "pool_size      0.741312\n",
       "Name: means, dtype: float64"
      ]
     },
     "execution_count": 3,
     "metadata": {},
     "output_type": "execute_result"
    }
   ],
   "source": [
    "print('Pearson correlation of each hyperparameter \\nwith accuracy '\n",
    "      'from 10-fold cv:')\n",
    "grid_search_data.corr()['means'][:4]"
   ]
  },
  {
   "cell_type": "markdown",
   "metadata": {},
   "source": [
    "Without any further analysis, it seems there is a slight preference for small filter_size and large pool_size.\n",
    "We should also vary pool_stride."
   ]
  },
  {
   "cell_type": "code",
   "execution_count": 17,
   "metadata": {
    "collapsed": false
   },
   "outputs": [
    {
     "data": {
      "text/plain": [
       "<matplotlib.axes._subplots.AxesSubplot at 0x10ead6358>"
      ]
     },
     "execution_count": 17,
     "metadata": {},
     "output_type": "execute_result"
    },
    {
     "data": {
      "image/png": "[encoded data removed]",
      "text/plain": [
       "<Figure size 432x288 with 1 Axes>"
      ]
     },
     "metadata": {},
     "output_type": "display_data"
    }
   ],
   "source": [
    "grouped = grid_search_data.groupby('filter_size')\n",
    "grouped.mean()['means'].plot(yerr=grouped.mean()['stddev'], marker='o', ms=7, mfc='k')"
   ]
  },
  {
   "cell_type": "code",
   "execution_count": 18,
   "metadata": {
    "collapsed": false
   },
   "outputs": [
    {
     "data": {
      "text/plain": [
       "<matplotlib.axes._subplots.AxesSubplot at 0x10ebaaac8>"
      ]
     },
     "execution_count": 18,
     "metadata": {},
     "output_type": "execute_result"
    },
    {
     "data": {
      "image/png": "[encoded data removed]",
      "text/plain": [
       "<Figure size 432x288 with 1 Axes>"
      ]
     },
     "metadata": {},
     "output_type": "display_data"
    }
   ],
   "source": [
    "grouped = grid_search_data.groupby('hidden_dims')\n",
    "grouped.mean()['means'].plot(yerr=grouped.mean()['stddev'], marker='o', ms=7, mfc='k')"
   ]
  },
  {
   "cell_type": "code",
   "execution_count": 19,
   "metadata": {
    "collapsed": false
   },
   "outputs": [
    {
     "data": {
      "text/plain": [
       "<matplotlib.axes._subplots.AxesSubplot at 0x10ec6ba90>"
      ]
     },
     "execution_count": 19,
     "metadata": {},
     "output_type": "execute_result"
    },
    {
     "data": {
      "image/png": "[encoded data removed]",
      "text/plain": [
       "<Figure size 432x288 with 1 Axes>"
      ]
     },
     "metadata": {},
     "output_type": "display_data"
    }
   ],
   "source": [
    "grouped = grid_search_data.groupby('num_filters')\n",
    "grouped.mean()['means'].plot(yerr=grouped.mean()['stddev'], marker='o', ms=7, mfc='k')"
   ]
  },
  {
   "cell_type": "code",
   "execution_count": 20,
   "metadata": {
    "collapsed": false
   },
   "outputs": [
    {
     "data": {
      "text/plain": [
       "<matplotlib.axes._subplots.AxesSubplot at 0x10ed32400>"
      ]
     },
     "execution_count": 20,
     "metadata": {},
     "output_type": "execute_result"
    },
    {
     "data": {
      "image/png": "[encoded data removed]",
      "text/plain": [
       "<Figure size 432x288 with 1 Axes>"
      ]
     },
     "metadata": {},
     "output_type": "display_data"
    }
   ],
   "source": [
    "grouped = grid_search_data.groupby('pool_size')\n",
    "grouped.mean()['means'].plot(yerr=grouped.mean()['stddev'], marker='o', ms=7, mfc='k')"
   ]
  },
  {
   "cell_type": "markdown",
   "metadata": {},
   "source": [
    "# correlation between sets of 2?"
   ]
  },
  {
   "cell_type": "code",
   "execution_count": 25,
   "metadata": {
    "collapsed": false
   },
   "outputs": [
    {
     "data": {
      "text/plain": [
       "<matplotlib.axes._subplots.AxesSubplot at 0x10f11d978>"
      ]
     },
     "execution_count": 25,
     "metadata": {},
     "output_type": "execute_result"
    },
    {
     "data": {
      "image/png": "[encoded data removed]",
      "text/plain": [
       "<Figure size 432x288 with 1 Axes>"
      ]
     },
     "metadata": {},
     "output_type": "display_data"
    }
   ],
   "source": [
    "grouped = grid_search_data.groupby(['pool_size', 'filter_size'])\n",
    "grouped.mean()['means'].plot(yerr=grouped.mean()['stddev'], marker='o', ms=7, mfc='k')"
   ]
  },
  {
   "cell_type": "code",
   "execution_count": 24,
   "metadata": {
    "collapsed": false
   },
   "outputs": [
    {
     "data": {
      "text/plain": [
       "<matplotlib.axes._subplots.AxesSubplot at 0x10f04d588>"
      ]
     },
     "execution_count": 24,
     "metadata": {},
     "output_type": "execute_result"
    },
    {
     "data": {
      "image/png": "[encoded data removed]",
      "text/plain": [
       "<Figure size 432x288 with 1 Axes>"
      ]
     },
     "metadata": {},
     "output_type": "display_data"
    }
   ],
   "source": [
    "grouped = grid_search_data.groupby(['pool_size', 'num_filters'])\n",
    "grouped.mean()['means'].plot(yerr=grouped.mean()['stddev'], marker='o', ms=7, mfc='k')"
   ]
  },
  {
   "cell_type": "code",
   "execution_count": 27,
   "metadata": {
    "collapsed": false
   },
   "outputs": [
    {
     "data": {
      "text/plain": [
       "<matplotlib.axes._subplots.AxesSubplot at 0x10f044eb8>"
      ]
     },
     "execution_count": 27,
     "metadata": {},
     "output_type": "execute_result"
    },
    {
     "data": {
      "image/png": "[encoded data removed]",
      "text/plain": [
       "<Figure size 432x288 with 1 Axes>"
      ]
     },
     "metadata": {},
     "output_type": "display_data"
    }
   ],
   "source": [
    "grouped = grid_search_data.groupby(['filter_size', 'num_filters'])\n",
    "grouped.mean()['means'].plot(yerr=grouped.mean()['stddev'], marker='o', ms=7, mfc='k')"
   ]
  },
  {
   "cell_type": "code",
   "execution_count": 26,
   "metadata": {
    "collapsed": false
   },
   "outputs": [
    {
     "data": {
      "text/plain": [
       "<matplotlib.axes._subplots.AxesSubplot at 0x10ebbab38>"
      ]
     },
     "execution_count": 26,
     "metadata": {},
     "output_type": "execute_result"
    },
    {
     "data": {
      "image/png": "[encoded data removed]",
      "text/plain": [
       "<Figure size 432x288 with 1 Axes>"
      ]
     },
     "metadata": {},
     "output_type": "display_data"
    }
   ],
   "source": [
    "grouped = grid_search_data.groupby(['pool_size', 'filter_size', 'num_filters'])\n",
    "grouped.mean()['means'].plot(yerr=grouped.mean()['stddev'], marker='o', ms=7, mfc='k')"
   ]
  },
  {
   "cell_type": "code",
   "execution_count": null,
   "metadata": {
    "collapsed": true
   },
   "outputs": [],
   "source": [
    "# current results indicate GlobalMaxPooling1D with small filter size will improve results"
   ]
  },
  {
   "cell_type": "markdown",
   "metadata": {},
   "source": [
    "# second attempt, switching to max pooling and multiple fitler sizes"
   ]
  },
  {
   "cell_type": "code",
   "execution_count": 5,
   "metadata": {
    "collapsed": false,
    "scrolled": true
   },
   "outputs": [
    {
     "data": {
      "text/html": [
       "<div>\n",
       "<style scoped>\n",
       "    .dataframe tbody tr th:only-of-type {\n",
       "        vertical-align: middle;\n",
       "    }\n",
       "\n",
       "    .dataframe tbody tr th {\n",
       "        vertical-align: top;\n",
       "    }\n",
       "\n",
       "    .dataframe thead th {\n",
       "        text-align: right;\n",
       "    }\n",
       "</style>\n",
       "<table border=\"1\" class=\"dataframe\">\n",
       "  <thead>\n",
       "    <tr style=\"text-align: right;\">\n",
       "      <th></th>\n",
       "      <th>filter_sizes</th>\n",
       "      <th>num_filters</th>\n",
       "      <th>means</th>\n",
       "      <th>stddev</th>\n",
       "    </tr>\n",
       "  </thead>\n",
       "  <tbody>\n",
       "    <tr>\n",
       "      <th>29</th>\n",
       "      <td>(5, 7, 10)</td>\n",
       "      <td>200</td>\n",
       "      <td>0.638534</td>\n",
       "      <td>0.009223</td>\n",
       "    </tr>\n",
       "    <tr>\n",
       "      <th>39</th>\n",
       "      <td>(3, 4, 5, 6)</td>\n",
       "      <td>200</td>\n",
       "      <td>0.635439</td>\n",
       "      <td>0.010293</td>\n",
       "    </tr>\n",
       "    <tr>\n",
       "      <th>33</th>\n",
       "      <td>(10, 10, 10)</td>\n",
       "      <td>100</td>\n",
       "      <td>0.635250</td>\n",
       "      <td>0.009037</td>\n",
       "    </tr>\n",
       "    <tr>\n",
       "      <th>34</th>\n",
       "      <td>(10, 10, 10)</td>\n",
       "      <td>200</td>\n",
       "      <td>0.634807</td>\n",
       "      <td>0.011488</td>\n",
       "    </tr>\n",
       "    <tr>\n",
       "      <th>13</th>\n",
       "      <td>(5, 5, 5)</td>\n",
       "      <td>100</td>\n",
       "      <td>0.633733</td>\n",
       "      <td>0.014114</td>\n",
       "    </tr>\n",
       "    <tr>\n",
       "      <th>14</th>\n",
       "      <td>(5, 5, 5)</td>\n",
       "      <td>200</td>\n",
       "      <td>0.632849</td>\n",
       "      <td>0.010271</td>\n",
       "    </tr>\n",
       "    <tr>\n",
       "      <th>23</th>\n",
       "      <td>(7, 7, 7)</td>\n",
       "      <td>100</td>\n",
       "      <td>0.632786</td>\n",
       "      <td>0.014647</td>\n",
       "    </tr>\n",
       "    <tr>\n",
       "      <th>38</th>\n",
       "      <td>(3, 4, 5, 6)</td>\n",
       "      <td>100</td>\n",
       "      <td>0.632660</td>\n",
       "      <td>0.007379</td>\n",
       "    </tr>\n",
       "    <tr>\n",
       "      <th>2</th>\n",
       "      <td>(3, 3, 3)</td>\n",
       "      <td>50</td>\n",
       "      <td>0.632028</td>\n",
       "      <td>0.011632</td>\n",
       "    </tr>\n",
       "    <tr>\n",
       "      <th>28</th>\n",
       "      <td>(5, 7, 10)</td>\n",
       "      <td>100</td>\n",
       "      <td>0.631586</td>\n",
       "      <td>0.010217</td>\n",
       "    </tr>\n",
       "    <tr>\n",
       "      <th>19</th>\n",
       "      <td>(3, 5, 7)</td>\n",
       "      <td>200</td>\n",
       "      <td>0.631459</td>\n",
       "      <td>0.010377</td>\n",
       "    </tr>\n",
       "    <tr>\n",
       "      <th>9</th>\n",
       "      <td>(3, 4, 5)</td>\n",
       "      <td>200</td>\n",
       "      <td>0.630764</td>\n",
       "      <td>0.012289</td>\n",
       "    </tr>\n",
       "    <tr>\n",
       "      <th>3</th>\n",
       "      <td>(3, 3, 3)</td>\n",
       "      <td>100</td>\n",
       "      <td>0.629438</td>\n",
       "      <td>0.010152</td>\n",
       "    </tr>\n",
       "    <tr>\n",
       "      <th>24</th>\n",
       "      <td>(7, 7, 7)</td>\n",
       "      <td>200</td>\n",
       "      <td>0.629185</td>\n",
       "      <td>0.007925</td>\n",
       "    </tr>\n",
       "    <tr>\n",
       "      <th>4</th>\n",
       "      <td>(3, 3, 3)</td>\n",
       "      <td>200</td>\n",
       "      <td>0.629122</td>\n",
       "      <td>0.009882</td>\n",
       "    </tr>\n",
       "    <tr>\n",
       "      <th>16</th>\n",
       "      <td>(3, 5, 7)</td>\n",
       "      <td>20</td>\n",
       "      <td>0.628490</td>\n",
       "      <td>0.010991</td>\n",
       "    </tr>\n",
       "    <tr>\n",
       "      <th>17</th>\n",
       "      <td>(3, 5, 7)</td>\n",
       "      <td>50</td>\n",
       "      <td>0.628048</td>\n",
       "      <td>0.007095</td>\n",
       "    </tr>\n",
       "    <tr>\n",
       "      <th>21</th>\n",
       "      <td>(7, 7, 7)</td>\n",
       "      <td>20</td>\n",
       "      <td>0.628048</td>\n",
       "      <td>0.011544</td>\n",
       "    </tr>\n",
       "    <tr>\n",
       "      <th>12</th>\n",
       "      <td>(5, 5, 5)</td>\n",
       "      <td>50</td>\n",
       "      <td>0.627795</td>\n",
       "      <td>0.004859</td>\n",
       "    </tr>\n",
       "    <tr>\n",
       "      <th>37</th>\n",
       "      <td>(3, 4, 5, 6)</td>\n",
       "      <td>50</td>\n",
       "      <td>0.627732</td>\n",
       "      <td>0.009387</td>\n",
       "    </tr>\n",
       "    <tr>\n",
       "      <th>6</th>\n",
       "      <td>(3, 4, 5)</td>\n",
       "      <td>20</td>\n",
       "      <td>0.627669</td>\n",
       "      <td>0.009506</td>\n",
       "    </tr>\n",
       "    <tr>\n",
       "      <th>27</th>\n",
       "      <td>(5, 7, 10)</td>\n",
       "      <td>50</td>\n",
       "      <td>0.627353</td>\n",
       "      <td>0.009213</td>\n",
       "    </tr>\n",
       "    <tr>\n",
       "      <th>1</th>\n",
       "      <td>(3, 3, 3)</td>\n",
       "      <td>20</td>\n",
       "      <td>0.627290</td>\n",
       "      <td>0.010989</td>\n",
       "    </tr>\n",
       "    <tr>\n",
       "      <th>7</th>\n",
       "      <td>(3, 4, 5)</td>\n",
       "      <td>50</td>\n",
       "      <td>0.627037</td>\n",
       "      <td>0.009281</td>\n",
       "    </tr>\n",
       "    <tr>\n",
       "      <th>32</th>\n",
       "      <td>(10, 10, 10)</td>\n",
       "      <td>50</td>\n",
       "      <td>0.626469</td>\n",
       "      <td>0.008095</td>\n",
       "    </tr>\n",
       "    <tr>\n",
       "      <th>22</th>\n",
       "      <td>(7, 7, 7)</td>\n",
       "      <td>50</td>\n",
       "      <td>0.626406</td>\n",
       "      <td>0.009181</td>\n",
       "    </tr>\n",
       "    <tr>\n",
       "      <th>18</th>\n",
       "      <td>(3, 5, 7)</td>\n",
       "      <td>100</td>\n",
       "      <td>0.625837</td>\n",
       "      <td>0.014587</td>\n",
       "    </tr>\n",
       "    <tr>\n",
       "      <th>8</th>\n",
       "      <td>(3, 4, 5)</td>\n",
       "      <td>100</td>\n",
       "      <td>0.625395</td>\n",
       "      <td>0.009150</td>\n",
       "    </tr>\n",
       "    <tr>\n",
       "      <th>5</th>\n",
       "      <td>(3, 4, 5)</td>\n",
       "      <td>10</td>\n",
       "      <td>0.622931</td>\n",
       "      <td>0.009982</td>\n",
       "    </tr>\n",
       "    <tr>\n",
       "      <th>36</th>\n",
       "      <td>(3, 4, 5, 6)</td>\n",
       "      <td>20</td>\n",
       "      <td>0.622678</td>\n",
       "      <td>0.009844</td>\n",
       "    </tr>\n",
       "    <tr>\n",
       "      <th>11</th>\n",
       "      <td>(5, 5, 5)</td>\n",
       "      <td>20</td>\n",
       "      <td>0.622363</td>\n",
       "      <td>0.009382</td>\n",
       "    </tr>\n",
       "    <tr>\n",
       "      <th>35</th>\n",
       "      <td>(3, 4, 5, 6)</td>\n",
       "      <td>10</td>\n",
       "      <td>0.622299</td>\n",
       "      <td>0.008732</td>\n",
       "    </tr>\n",
       "    <tr>\n",
       "      <th>15</th>\n",
       "      <td>(3, 5, 7)</td>\n",
       "      <td>10</td>\n",
       "      <td>0.621920</td>\n",
       "      <td>0.010214</td>\n",
       "    </tr>\n",
       "    <tr>\n",
       "      <th>31</th>\n",
       "      <td>(10, 10, 10)</td>\n",
       "      <td>20</td>\n",
       "      <td>0.621162</td>\n",
       "      <td>0.012763</td>\n",
       "    </tr>\n",
       "    <tr>\n",
       "      <th>26</th>\n",
       "      <td>(5, 7, 10)</td>\n",
       "      <td>20</td>\n",
       "      <td>0.620467</td>\n",
       "      <td>0.011503</td>\n",
       "    </tr>\n",
       "    <tr>\n",
       "      <th>20</th>\n",
       "      <td>(7, 7, 7)</td>\n",
       "      <td>10</td>\n",
       "      <td>0.619457</td>\n",
       "      <td>0.010457</td>\n",
       "    </tr>\n",
       "    <tr>\n",
       "      <th>25</th>\n",
       "      <td>(5, 7, 10)</td>\n",
       "      <td>10</td>\n",
       "      <td>0.618762</td>\n",
       "      <td>0.015745</td>\n",
       "    </tr>\n",
       "    <tr>\n",
       "      <th>10</th>\n",
       "      <td>(5, 5, 5)</td>\n",
       "      <td>10</td>\n",
       "      <td>0.614277</td>\n",
       "      <td>0.012729</td>\n",
       "    </tr>\n",
       "    <tr>\n",
       "      <th>30</th>\n",
       "      <td>(10, 10, 10)</td>\n",
       "      <td>10</td>\n",
       "      <td>0.613266</td>\n",
       "      <td>0.009704</td>\n",
       "    </tr>\n",
       "    <tr>\n",
       "      <th>0</th>\n",
       "      <td>(3, 3, 3)</td>\n",
       "      <td>10</td>\n",
       "      <td>0.612887</td>\n",
       "      <td>0.017035</td>\n",
       "    </tr>\n",
       "  </tbody>\n",
       "</table>\n",
       "</div>"
      ],
      "text/plain": [
       "    filter_sizes  num_filters     means    stddev\n",
       "29    (5, 7, 10)          200  0.638534  0.009223\n",
       "39  (3, 4, 5, 6)          200  0.635439  0.010293\n",
       "33  (10, 10, 10)          100  0.635250  0.009037\n",
       "34  (10, 10, 10)          200  0.634807  0.011488\n",
       "13     (5, 5, 5)          100  0.633733  0.014114\n",
       "14     (5, 5, 5)          200  0.632849  0.010271\n",
       "23     (7, 7, 7)          100  0.632786  0.014647\n",
       "38  (3, 4, 5, 6)          100  0.632660  0.007379\n",
       "2      (3, 3, 3)           50  0.632028  0.011632\n",
       "28    (5, 7, 10)          100  0.631586  0.010217\n",
       "19     (3, 5, 7)          200  0.631459  0.010377\n",
       "9      (3, 4, 5)          200  0.630764  0.012289\n",
       "3      (3, 3, 3)          100  0.629438  0.010152\n",
       "24     (7, 7, 7)          200  0.629185  0.007925\n",
       "4      (3, 3, 3)          200  0.629122  0.009882\n",
       "16     (3, 5, 7)           20  0.628490  0.010991\n",
       "17     (3, 5, 7)           50  0.628048  0.007095\n",
       "21     (7, 7, 7)           20  0.628048  0.011544\n",
       "12     (5, 5, 5)           50  0.627795  0.004859\n",
       "37  (3, 4, 5, 6)           50  0.627732  0.009387\n",
       "6      (3, 4, 5)           20  0.627669  0.009506\n",
       "27    (5, 7, 10)           50  0.627353  0.009213\n",
       "1      (3, 3, 3)           20  0.627290  0.010989\n",
       "7      (3, 4, 5)           50  0.627037  0.009281\n",
       "32  (10, 10, 10)           50  0.626469  0.008095\n",
       "22     (7, 7, 7)           50  0.626406  0.009181\n",
       "18     (3, 5, 7)          100  0.625837  0.014587\n",
       "8      (3, 4, 5)          100  0.625395  0.009150\n",
       "5      (3, 4, 5)           10  0.622931  0.009982\n",
       "36  (3, 4, 5, 6)           20  0.622678  0.009844\n",
       "11     (5, 5, 5)           20  0.622363  0.009382\n",
       "35  (3, 4, 5, 6)           10  0.622299  0.008732\n",
       "15     (3, 5, 7)           10  0.621920  0.010214\n",
       "31  (10, 10, 10)           20  0.621162  0.012763\n",
       "26    (5, 7, 10)           20  0.620467  0.011503\n",
       "20     (7, 7, 7)           10  0.619457  0.010457\n",
       "25    (5, 7, 10)           10  0.618762  0.015745\n",
       "10     (5, 5, 5)           10  0.614277  0.012729\n",
       "30  (10, 10, 10)           10  0.613266  0.009704\n",
       "0      (3, 3, 3)           10  0.612887  0.017035"
      ]
     },
     "execution_count": 5,
     "metadata": {},
     "output_type": "execute_result"
    }
   ],
   "source": [
    "grid_search_two = pd.read_csv('second_grid_search_results.csv', index_col=0)\n",
    "grid_search_two.sort_values('means', ascending=False)"
   ]
  },
  {
   "cell_type": "code",
   "execution_count": 8,
   "metadata": {
    "collapsed": false
   },
   "outputs": [
    {
     "name": "stdout",
     "output_type": "stream",
     "text": [
      "Pearson correlation of each hyperparameter \n",
      "with accuracy from 10-fold cv:\n"
     ]
    },
    {
     "data": {
      "text/plain": [
       "num_filters    0.714684\n",
       "means          1.000000\n",
       "stddev        -0.265817\n",
       "Name: means, dtype: float64"
      ]
     },
     "execution_count": 8,
     "metadata": {},
     "output_type": "execute_result"
    }
   ],
   "source": [
    "print('Pearson correlation of each hyperparameter \\nwith accuracy '\n",
    "      'from 10-fold cv:')\n",
    "grid_search_two.corr()['means']"
   ]
  },
  {
   "cell_type": "code",
   "execution_count": 11,
   "metadata": {
    "collapsed": false
   },
   "outputs": [
    {
     "data": {
      "text/plain": [
       "<matplotlib.axes._subplots.AxesSubplot at 0x10699c588>"
      ]
     },
     "execution_count": 11,
     "metadata": {},
     "output_type": "execute_result"
    },
    {
     "data": {
      "image/png": "[encoded data removed]",
      "text/plain": [
       "<Figure size 432x288 with 1 Axes>"
      ]
     },
     "metadata": {},
     "output_type": "display_data"
    }
   ],
   "source": [
    "grouped = grid_search_two.groupby('num_filters')\n",
    "grouped.mean()['means'].plot(yerr=grouped.mean()['stddev'], marker='o', ms=7, mfc='k')"
   ]
  },
  {
   "cell_type": "code",
   "execution_count": 12,
   "metadata": {
    "collapsed": false
   },
   "outputs": [
    {
     "data": {
      "text/plain": [
       "<matplotlib.axes._subplots.AxesSubplot at 0x106a016d8>"
      ]
     },
     "execution_count": 12,
     "metadata": {},
     "output_type": "execute_result"
    },
    {
     "data": {
      "image/png": "[encoded data removed]",
      "text/plain": [
       "<Figure size 432x288 with 1 Axes>"
      ]
     },
     "metadata": {},
     "output_type": "display_data"
    }
   ],
   "source": [
    "grouped = grid_search_two.groupby('filter_sizes')\n",
    "grouped.mean()['means'].plot(yerr=grouped.mean()['stddev'], marker='o', ms=7, mfc='k')"
   ]
  },
  {
   "cell_type": "code",
   "execution_count": 13,
   "metadata": {
    "collapsed": false
   },
   "outputs": [
    {
     "data": {
      "text/plain": [
       "<matplotlib.axes._subplots.AxesSubplot at 0x106ac10f0>"
      ]
     },
     "execution_count": 13,
     "metadata": {},
     "output_type": "execute_result"
    },
    {
     "data": {
      "image/png": "[encoded data removed]",
      "text/plain": [
       "<Figure size 432x288 with 1 Axes>"
      ]
     },
     "metadata": {},
     "output_type": "display_data"
    }
   ],
   "source": [
    "grouped = grid_search_two.groupby(['filter_sizes', 'num_filters'])\n",
    "grouped.mean()['means'].plot(yerr=grouped.mean()['stddev'], marker='o', ms=7, mfc='k')"
   ]
  },
  {
   "cell_type": "code",
   "execution_count": null,
   "metadata": {
    "collapsed": true
   },
   "outputs": [],
   "source": []
  }
 ],
 "metadata": {
  "anaconda-cloud": {},
  "kernelspec": {
   "display_name": "Python 3",
   "language": "python",
   "name": "python3"
  },
  "language_info": {
   "codemirror_mode": {
    "name": "ipython",
    "version": 3
   },
   "file_extension": ".py",
   "mimetype": "text/x-python",
   "name": "python",
   "nbconvert_exporter": "python",
   "pygments_lexer": "ipython3",
   "version": "3.6.0"
  }
 },
 "nbformat": 4,
 "nbformat_minor": 2
}
