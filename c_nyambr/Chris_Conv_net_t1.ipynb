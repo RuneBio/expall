{
 "cells": [
  {
   "cell_type": "code",
   "execution_count": 1,
   "metadata": {
    "collapsed": false
   },
   "outputs": [
    {
     "name": "stderr",
     "output_type": "stream",
     "text": [
      "Using TensorFlow backend.\n"
     ]
    }
   ],
   "source": [
    "import numpy as np\n",
    "import pandas as pd\n",
    "import keras\n",
    "%matplotlib inline\n",
    "import matplotlib.pyplot as plt\n",
    "from collections import Counter\n",
    "import json\n",
    "import os\n",
    "import sys\n",
    "import re\n",
    "import subprocess\n",
    "import itertools\n",
    "from tqdm import tqdm\n",
    "from Bio.Seq import Seq\n",
    "from Bio.SeqRecord import SeqRecord\n",
    "from Bio import SeqIO"
   ]
  },
  {
   "cell_type": "code",
   "execution_count": 2,
   "metadata": {
    "collapsed": false
   },
   "outputs": [
    {
     "name": "stdout",
     "output_type": "stream",
     "text": [
      "[name: \"/device:CPU:0\"\n",
      "device_type: \"CPU\"\n",
      "memory_limit: 268435456\n",
      "locality {\n",
      "}\n",
      "incarnation: 900147255296124452\n",
      "]\n"
     ]
    }
   ],
   "source": [
    "from tensorflow.python.client import device_lib\n",
    "print(device_lib.list_local_devices())"
   ]
  },
  {
   "cell_type": "markdown",
   "metadata": {
    "collapsed": true
   },
   "source": [
    "### First, check inputs are in the correct format and establish a simple architecture "
   ]
  },
  {
   "cell_type": "markdown",
   "metadata": {
    "collapsed": true
   },
   "source": [
    "Format data to only have top 25% and bottom 25% of overall data"
   ]
  },
  {
   "cell_type": "code",
   "execution_count": 3,
   "metadata": {
    "collapsed": true
   },
   "outputs": [],
   "source": [
    "# ROOT_DIR - root directory\n",
    "ROOT_DIR = os.getcwd()+'/'\n",
    "\n",
    "# FEATURE_DIR - directory where feature dataframes are saved\n",
    "DATA_DIR = ROOT_DIR + 'Protein_ML/dataframes/'"
   ]
  },
  {
   "cell_type": "code",
   "execution_count": 4,
   "metadata": {
    "collapsed": false
   },
   "outputs": [
    {
     "data": {
      "text/html": [
       "<div>\n",
       "<table border=\"1\" class=\"dataframe\">\n",
       "  <thead>\n",
       "    <tr style=\"text-align: right;\">\n",
       "      <th></th>\n",
       "      <th>prest_id</th>\n",
       "      <th>uniprot_id</th>\n",
       "      <th>conc_cf</th>\n",
       "      <th>aa_seq</th>\n",
       "      <th>nt_seq</th>\n",
       "      <th>aa_len</th>\n",
       "      <th>true_nt_seq</th>\n",
       "      <th>AAA</th>\n",
       "      <th>AAT</th>\n",
       "      <th>AAC</th>\n",
       "      <th>...</th>\n",
       "      <th>GTC</th>\n",
       "      <th>GTG</th>\n",
       "      <th>GCA</th>\n",
       "      <th>GCT</th>\n",
       "      <th>GCC</th>\n",
       "      <th>GCG</th>\n",
       "      <th>GGA</th>\n",
       "      <th>GGT</th>\n",
       "      <th>GGC</th>\n",
       "      <th>GGG</th>\n",
       "    </tr>\n",
       "  </thead>\n",
       "  <tbody>\n",
       "    <tr>\n",
       "      <th>0</th>\n",
       "      <td>140095</td>\n",
       "      <td>G3V3N0</td>\n",
       "      <td>4.3075</td>\n",
       "      <td>IMTAPSSFEQFKVAMNYLQLYNVPDCLEDIQDADCSSSKCSSSASS...</td>\n",
       "      <td>GACAAGCTTGCGGCCGCAATTATGACAGCTCCCTCCAGTTTTGAGC...</td>\n",
       "      <td>139</td>\n",
       "      <td>ATTATGACAGCTCCCTCCAGTTTTGAGCAGTTTAAAGTGGCAATGA...</td>\n",
       "      <td>8</td>\n",
       "      <td>6</td>\n",
       "      <td>3</td>\n",
       "      <td>...</td>\n",
       "      <td>0</td>\n",
       "      <td>4</td>\n",
       "      <td>3</td>\n",
       "      <td>4</td>\n",
       "      <td>1</td>\n",
       "      <td>1</td>\n",
       "      <td>1</td>\n",
       "      <td>1</td>\n",
       "      <td>3</td>\n",
       "      <td>2</td>\n",
       "    </tr>\n",
       "    <tr>\n",
       "      <th>1</th>\n",
       "      <td>140099</td>\n",
       "      <td>G3V537</td>\n",
       "      <td>2.9154</td>\n",
       "      <td>TYYAWKHELLGSGTCPALPPREVLGMEELEKLPEEQVAEEELECSA...</td>\n",
       "      <td>GACAAGCTTGCGGCCGCAACCTACTATGCCTGGAAGCATGAGCTGC...</td>\n",
       "      <td>144</td>\n",
       "      <td>ACCTACTATGCCTGGAAGCATGAGCTGCTGGGCTCTGGCACCTGCC...</td>\n",
       "      <td>1</td>\n",
       "      <td>2</td>\n",
       "      <td>2</td>\n",
       "      <td>...</td>\n",
       "      <td>1</td>\n",
       "      <td>3</td>\n",
       "      <td>4</td>\n",
       "      <td>4</td>\n",
       "      <td>6</td>\n",
       "      <td>3</td>\n",
       "      <td>1</td>\n",
       "      <td>1</td>\n",
       "      <td>5</td>\n",
       "      <td>5</td>\n",
       "    </tr>\n",
       "    <tr>\n",
       "      <th>2</th>\n",
       "      <td>140225</td>\n",
       "      <td>P12724</td>\n",
       "      <td>1.4877</td>\n",
       "      <td>SLHARPPQFTRAQWFAIQHISLNPPRCTIAMRAINNYRWRCKNQNT...</td>\n",
       "      <td>GACAAGCTTGCGGCCGCATCACTCCATGCCAGACCCCCACAGTTTA...</td>\n",
       "      <td>136</td>\n",
       "      <td>TCACTCCATGCCAGACCCCCACAGTTTACGAGGGCTCAGTGGTTTG...</td>\n",
       "      <td>1</td>\n",
       "      <td>7</td>\n",
       "      <td>8</td>\n",
       "      <td>...</td>\n",
       "      <td>0</td>\n",
       "      <td>2</td>\n",
       "      <td>5</td>\n",
       "      <td>2</td>\n",
       "      <td>2</td>\n",
       "      <td>1</td>\n",
       "      <td>1</td>\n",
       "      <td>2</td>\n",
       "      <td>1</td>\n",
       "      <td>0</td>\n",
       "    </tr>\n",
       "    <tr>\n",
       "      <th>3</th>\n",
       "      <td>140235</td>\n",
       "      <td>H0YH02</td>\n",
       "      <td>6.7224</td>\n",
       "      <td>ARALNESKRVNNGNTAPEDSSPAKKTRRCQRQESKKMPVAGGKANK...</td>\n",
       "      <td>GACAAGCTTGCGGCCGCAGCGAGAGCATTAAATGAAAGCAAAAGAG...</td>\n",
       "      <td>123</td>\n",
       "      <td>GCGAGAGCATTAAATGAAAGCAAAAGAGTTAATAATGGCAACACGG...</td>\n",
       "      <td>5</td>\n",
       "      <td>7</td>\n",
       "      <td>5</td>\n",
       "      <td>...</td>\n",
       "      <td>2</td>\n",
       "      <td>5</td>\n",
       "      <td>1</td>\n",
       "      <td>5</td>\n",
       "      <td>4</td>\n",
       "      <td>2</td>\n",
       "      <td>3</td>\n",
       "      <td>0</td>\n",
       "      <td>3</td>\n",
       "      <td>1</td>\n",
       "    </tr>\n",
       "    <tr>\n",
       "      <th>4</th>\n",
       "      <td>140309</td>\n",
       "      <td>F5GYC5</td>\n",
       "      <td>3.3848</td>\n",
       "      <td>HRKEPGARLEATRGAARPHKQGTKPMITRPSVSQLGEGKCPSSQHL...</td>\n",
       "      <td>GACAAGCTTGCGGCCGCACATCGGAAAGAGCCTGGGGCAAGGCTGG...</td>\n",
       "      <td>124</td>\n",
       "      <td>CATCGGAAAGAGCCTGGGGCAAGGCTGGAGGCCACAAGAGGAGCTG...</td>\n",
       "      <td>4</td>\n",
       "      <td>1</td>\n",
       "      <td>1</td>\n",
       "      <td>...</td>\n",
       "      <td>0</td>\n",
       "      <td>1</td>\n",
       "      <td>2</td>\n",
       "      <td>3</td>\n",
       "      <td>4</td>\n",
       "      <td>1</td>\n",
       "      <td>3</td>\n",
       "      <td>2</td>\n",
       "      <td>1</td>\n",
       "      <td>3</td>\n",
       "    </tr>\n",
       "  </tbody>\n",
       "</table>\n",
       "<p>5 rows × 71 columns</p>\n",
       "</div>"
      ],
      "text/plain": [
       "   prest_id uniprot_id  conc_cf  \\\n",
       "0    140095     G3V3N0   4.3075   \n",
       "1    140099     G3V537   2.9154   \n",
       "2    140225     P12724   1.4877   \n",
       "3    140235     H0YH02   6.7224   \n",
       "4    140309     F5GYC5   3.3848   \n",
       "\n",
       "                                              aa_seq  \\\n",
       "0  IMTAPSSFEQFKVAMNYLQLYNVPDCLEDIQDADCSSSKCSSSASS...   \n",
       "1  TYYAWKHELLGSGTCPALPPREVLGMEELEKLPEEQVAEEELECSA...   \n",
       "2  SLHARPPQFTRAQWFAIQHISLNPPRCTIAMRAINNYRWRCKNQNT...   \n",
       "3  ARALNESKRVNNGNTAPEDSSPAKKTRRCQRQESKKMPVAGGKANK...   \n",
       "4  HRKEPGARLEATRGAARPHKQGTKPMITRPSVSQLGEGKCPSSQHL...   \n",
       "\n",
       "                                              nt_seq  aa_len  \\\n",
       "0  GACAAGCTTGCGGCCGCAATTATGACAGCTCCCTCCAGTTTTGAGC...     139   \n",
       "1  GACAAGCTTGCGGCCGCAACCTACTATGCCTGGAAGCATGAGCTGC...     144   \n",
       "2  GACAAGCTTGCGGCCGCATCACTCCATGCCAGACCCCCACAGTTTA...     136   \n",
       "3  GACAAGCTTGCGGCCGCAGCGAGAGCATTAAATGAAAGCAAAAGAG...     123   \n",
       "4  GACAAGCTTGCGGCCGCACATCGGAAAGAGCCTGGGGCAAGGCTGG...     124   \n",
       "\n",
       "                                         true_nt_seq  AAA  AAT  AAC ...   GTC  \\\n",
       "0  ATTATGACAGCTCCCTCCAGTTTTGAGCAGTTTAAAGTGGCAATGA...    8    6    3 ...     0   \n",
       "1  ACCTACTATGCCTGGAAGCATGAGCTGCTGGGCTCTGGCACCTGCC...    1    2    2 ...     1   \n",
       "2  TCACTCCATGCCAGACCCCCACAGTTTACGAGGGCTCAGTGGTTTG...    1    7    8 ...     0   \n",
       "3  GCGAGAGCATTAAATGAAAGCAAAAGAGTTAATAATGGCAACACGG...    5    7    5 ...     2   \n",
       "4  CATCGGAAAGAGCCTGGGGCAAGGCTGGAGGCCACAAGAGGAGCTG...    4    1    1 ...     0   \n",
       "\n",
       "   GTG  GCA  GCT  GCC  GCG  GGA  GGT  GGC  GGG  \n",
       "0    4    3    4    1    1    1    1    3    2  \n",
       "1    3    4    4    6    3    1    1    5    5  \n",
       "2    2    5    2    2    1    1    2    1    0  \n",
       "3    5    1    5    4    2    3    0    3    1  \n",
       "4    1    2    3    4    1    3    2    1    3  \n",
       "\n",
       "[5 rows x 71 columns]"
      ]
     },
     "execution_count": 4,
     "metadata": {},
     "output_type": "execute_result"
    }
   ],
   "source": [
    "data_codon = pd.read_csv('DF_all_w_codon_counts.csv', index_col=0)\n",
    "data_codon.head()"
   ]
  },
  {
   "cell_type": "code",
   "execution_count": 5,
   "metadata": {
    "collapsed": false
   },
   "outputs": [
    {
     "data": {
      "text/plain": [
       "array([[<matplotlib.axes._subplots.AxesSubplot object at 0x2ad437633240>]],\n",
       "      dtype=object)"
      ]
     },
     "execution_count": 5,
     "metadata": {},
     "output_type": "execute_result"
    },
    {
     "data": {
      "image/png": "[encoded data removed]",
      "text/plain": [
       "<matplotlib.figure.Figure at 0x2ad437633f98>"
      ]
     },
     "metadata": {},
     "output_type": "display_data"
    }
   ],
   "source": [
    "data_codon.hist(column='conc_cf',bins=30)"
   ]
  },
  {
   "cell_type": "code",
   "execution_count": 6,
   "metadata": {
    "collapsed": false
   },
   "outputs": [
    {
     "data": {
      "text/plain": [
       "5.4001973645199906"
      ]
     },
     "execution_count": 6,
     "metadata": {},
     "output_type": "execute_result"
    }
   ],
   "source": [
    "data_codon.conc_cf.mean()"
   ]
  },
  {
   "cell_type": "code",
   "execution_count": 7,
   "metadata": {
    "collapsed": false
   },
   "outputs": [
    {
     "data": {
      "text/html": [
       "<div>\n",
       "<table border=\"1\" class=\"dataframe\">\n",
       "  <thead>\n",
       "    <tr style=\"text-align: right;\">\n",
       "      <th></th>\n",
       "      <th>prest_id</th>\n",
       "      <th>uniprot_id</th>\n",
       "      <th>conc_cf</th>\n",
       "      <th>aa_seq</th>\n",
       "      <th>nt_seq</th>\n",
       "      <th>aa_len</th>\n",
       "      <th>true_nt_seq</th>\n",
       "      <th>AAA</th>\n",
       "      <th>AAT</th>\n",
       "      <th>AAC</th>\n",
       "      <th>...</th>\n",
       "      <th>GTG</th>\n",
       "      <th>GCA</th>\n",
       "      <th>GCT</th>\n",
       "      <th>GCC</th>\n",
       "      <th>GCG</th>\n",
       "      <th>GGA</th>\n",
       "      <th>GGT</th>\n",
       "      <th>GGC</th>\n",
       "      <th>GGG</th>\n",
       "      <th>expressed</th>\n",
       "    </tr>\n",
       "  </thead>\n",
       "  <tbody>\n",
       "    <tr>\n",
       "      <th>0</th>\n",
       "      <td>140095</td>\n",
       "      <td>G3V3N0</td>\n",
       "      <td>4.3075</td>\n",
       "      <td>IMTAPSSFEQFKVAMNYLQLYNVPDCLEDIQDADCSSSKCSSSASS...</td>\n",
       "      <td>GACAAGCTTGCGGCCGCAATTATGACAGCTCCCTCCAGTTTTGAGC...</td>\n",
       "      <td>139</td>\n",
       "      <td>ATTATGACAGCTCCCTCCAGTTTTGAGCAGTTTAAAGTGGCAATGA...</td>\n",
       "      <td>8</td>\n",
       "      <td>6</td>\n",
       "      <td>3</td>\n",
       "      <td>...</td>\n",
       "      <td>4</td>\n",
       "      <td>3</td>\n",
       "      <td>4</td>\n",
       "      <td>1</td>\n",
       "      <td>1</td>\n",
       "      <td>1</td>\n",
       "      <td>1</td>\n",
       "      <td>3</td>\n",
       "      <td>2</td>\n",
       "      <td>False</td>\n",
       "    </tr>\n",
       "    <tr>\n",
       "      <th>1</th>\n",
       "      <td>140099</td>\n",
       "      <td>G3V537</td>\n",
       "      <td>2.9154</td>\n",
       "      <td>TYYAWKHELLGSGTCPALPPREVLGMEELEKLPEEQVAEEELECSA...</td>\n",
       "      <td>GACAAGCTTGCGGCCGCAACCTACTATGCCTGGAAGCATGAGCTGC...</td>\n",
       "      <td>144</td>\n",
       "      <td>ACCTACTATGCCTGGAAGCATGAGCTGCTGGGCTCTGGCACCTGCC...</td>\n",
       "      <td>1</td>\n",
       "      <td>2</td>\n",
       "      <td>2</td>\n",
       "      <td>...</td>\n",
       "      <td>3</td>\n",
       "      <td>4</td>\n",
       "      <td>4</td>\n",
       "      <td>6</td>\n",
       "      <td>3</td>\n",
       "      <td>1</td>\n",
       "      <td>1</td>\n",
       "      <td>5</td>\n",
       "      <td>5</td>\n",
       "      <td>False</td>\n",
       "    </tr>\n",
       "    <tr>\n",
       "      <th>2</th>\n",
       "      <td>140225</td>\n",
       "      <td>P12724</td>\n",
       "      <td>1.4877</td>\n",
       "      <td>SLHARPPQFTRAQWFAIQHISLNPPRCTIAMRAINNYRWRCKNQNT...</td>\n",
       "      <td>GACAAGCTTGCGGCCGCATCACTCCATGCCAGACCCCCACAGTTTA...</td>\n",
       "      <td>136</td>\n",
       "      <td>TCACTCCATGCCAGACCCCCACAGTTTACGAGGGCTCAGTGGTTTG...</td>\n",
       "      <td>1</td>\n",
       "      <td>7</td>\n",
       "      <td>8</td>\n",
       "      <td>...</td>\n",
       "      <td>2</td>\n",
       "      <td>5</td>\n",
       "      <td>2</td>\n",
       "      <td>2</td>\n",
       "      <td>1</td>\n",
       "      <td>1</td>\n",
       "      <td>2</td>\n",
       "      <td>1</td>\n",
       "      <td>0</td>\n",
       "      <td>False</td>\n",
       "    </tr>\n",
       "    <tr>\n",
       "      <th>3</th>\n",
       "      <td>140235</td>\n",
       "      <td>H0YH02</td>\n",
       "      <td>6.7224</td>\n",
       "      <td>ARALNESKRVNNGNTAPEDSSPAKKTRRCQRQESKKMPVAGGKANK...</td>\n",
       "      <td>GACAAGCTTGCGGCCGCAGCGAGAGCATTAAATGAAAGCAAAAGAG...</td>\n",
       "      <td>123</td>\n",
       "      <td>GCGAGAGCATTAAATGAAAGCAAAAGAGTTAATAATGGCAACACGG...</td>\n",
       "      <td>5</td>\n",
       "      <td>7</td>\n",
       "      <td>5</td>\n",
       "      <td>...</td>\n",
       "      <td>5</td>\n",
       "      <td>1</td>\n",
       "      <td>5</td>\n",
       "      <td>4</td>\n",
       "      <td>2</td>\n",
       "      <td>3</td>\n",
       "      <td>0</td>\n",
       "      <td>3</td>\n",
       "      <td>1</td>\n",
       "      <td>True</td>\n",
       "    </tr>\n",
       "    <tr>\n",
       "      <th>4</th>\n",
       "      <td>140309</td>\n",
       "      <td>F5GYC5</td>\n",
       "      <td>3.3848</td>\n",
       "      <td>HRKEPGARLEATRGAARPHKQGTKPMITRPSVSQLGEGKCPSSQHL...</td>\n",
       "      <td>GACAAGCTTGCGGCCGCACATCGGAAAGAGCCTGGGGCAAGGCTGG...</td>\n",
       "      <td>124</td>\n",
       "      <td>CATCGGAAAGAGCCTGGGGCAAGGCTGGAGGCCACAAGAGGAGCTG...</td>\n",
       "      <td>4</td>\n",
       "      <td>1</td>\n",
       "      <td>1</td>\n",
       "      <td>...</td>\n",
       "      <td>1</td>\n",
       "      <td>2</td>\n",
       "      <td>3</td>\n",
       "      <td>4</td>\n",
       "      <td>1</td>\n",
       "      <td>3</td>\n",
       "      <td>2</td>\n",
       "      <td>1</td>\n",
       "      <td>3</td>\n",
       "      <td>False</td>\n",
       "    </tr>\n",
       "  </tbody>\n",
       "</table>\n",
       "<p>5 rows × 72 columns</p>\n",
       "</div>"
      ],
      "text/plain": [
       "   prest_id uniprot_id  conc_cf  \\\n",
       "0    140095     G3V3N0   4.3075   \n",
       "1    140099     G3V537   2.9154   \n",
       "2    140225     P12724   1.4877   \n",
       "3    140235     H0YH02   6.7224   \n",
       "4    140309     F5GYC5   3.3848   \n",
       "\n",
       "                                              aa_seq  \\\n",
       "0  IMTAPSSFEQFKVAMNYLQLYNVPDCLEDIQDADCSSSKCSSSASS...   \n",
       "1  TYYAWKHELLGSGTCPALPPREVLGMEELEKLPEEQVAEEELECSA...   \n",
       "2  SLHARPPQFTRAQWFAIQHISLNPPRCTIAMRAINNYRWRCKNQNT...   \n",
       "3  ARALNESKRVNNGNTAPEDSSPAKKTRRCQRQESKKMPVAGGKANK...   \n",
       "4  HRKEPGARLEATRGAARPHKQGTKPMITRPSVSQLGEGKCPSSQHL...   \n",
       "\n",
       "                                              nt_seq  aa_len  \\\n",
       "0  GACAAGCTTGCGGCCGCAATTATGACAGCTCCCTCCAGTTTTGAGC...     139   \n",
       "1  GACAAGCTTGCGGCCGCAACCTACTATGCCTGGAAGCATGAGCTGC...     144   \n",
       "2  GACAAGCTTGCGGCCGCATCACTCCATGCCAGACCCCCACAGTTTA...     136   \n",
       "3  GACAAGCTTGCGGCCGCAGCGAGAGCATTAAATGAAAGCAAAAGAG...     123   \n",
       "4  GACAAGCTTGCGGCCGCACATCGGAAAGAGCCTGGGGCAAGGCTGG...     124   \n",
       "\n",
       "                                         true_nt_seq  AAA  AAT  AAC  \\\n",
       "0  ATTATGACAGCTCCCTCCAGTTTTGAGCAGTTTAAAGTGGCAATGA...    8    6    3   \n",
       "1  ACCTACTATGCCTGGAAGCATGAGCTGCTGGGCTCTGGCACCTGCC...    1    2    2   \n",
       "2  TCACTCCATGCCAGACCCCCACAGTTTACGAGGGCTCAGTGGTTTG...    1    7    8   \n",
       "3  GCGAGAGCATTAAATGAAAGCAAAAGAGTTAATAATGGCAACACGG...    5    7    5   \n",
       "4  CATCGGAAAGAGCCTGGGGCAAGGCTGGAGGCCACAAGAGGAGCTG...    4    1    1   \n",
       "\n",
       "     ...      GTG  GCA  GCT  GCC  GCG  GGA  GGT  GGC  GGG  expressed  \n",
       "0    ...        4    3    4    1    1    1    1    3    2      False  \n",
       "1    ...        3    4    4    6    3    1    1    5    5      False  \n",
       "2    ...        2    5    2    2    1    1    2    1    0      False  \n",
       "3    ...        5    1    5    4    2    3    0    3    1       True  \n",
       "4    ...        1    2    3    4    1    3    2    1    3      False  \n",
       "\n",
       "[5 rows x 72 columns]"
      ]
     },
     "execution_count": 7,
     "metadata": {},
     "output_type": "execute_result"
    }
   ],
   "source": [
    "target = 'expressed'\n",
    "data_codon.loc[:,target] = data_codon.conc_cf > data_codon.conc_cf.mean()\n",
    "data_codon.head()"
   ]
  },
  {
   "cell_type": "code",
   "execution_count": 8,
   "metadata": {
    "collapsed": false
   },
   "outputs": [
    {
     "name": "stdout",
     "output_type": "stream",
     "text": [
      "Number expressed: 11301\n",
      "Number not expressed: 11302\n",
      "Min expression cutoff: 7.2576\n",
      "Max non-expression: 3.269225\n"
     ]
    }
   ],
   "source": [
    "min_expressed = np.percentile(data_codon['conc_cf'],75)\n",
    "max_not_expressed = np.percentile(data_codon['conc_cf'],25)\n",
    "\n",
    "data_cfilt = data_codon[(data_codon['conc_cf'] > min_expressed) | (data_codon['conc_cf'] < max_not_expressed)]\n",
    "\n",
    "print('Number expressed:',len(data_cfilt[data_cfilt[target]]))\n",
    "print('Number not expressed:',len(data_cfilt[data_cfilt[target]==False]))\n",
    "print('Min expression cutoff:',min_expressed)\n",
    "print('Max non-expression:',max_not_expressed)"
   ]
  },
  {
   "cell_type": "code",
   "execution_count": 9,
   "metadata": {
    "collapsed": false
   },
   "outputs": [
    {
     "data": {
      "text/plain": [
       "array([[<matplotlib.axes._subplots.AxesSubplot object at 0x2ad434779828>]],\n",
       "      dtype=object)"
      ]
     },
     "execution_count": 9,
     "metadata": {},
     "output_type": "execute_result"
    },
    {
     "data": {
      "image/png": "[encoded data removed]",
      "text/plain": [
       "<matplotlib.figure.Figure at 0x2ad4347301d0>"
      ]
     },
     "metadata": {},
     "output_type": "display_data"
    }
   ],
   "source": [
    "data_cfilt.hist(column='conc_cf',bins=30)"
   ]
  },
  {
   "cell_type": "markdown",
   "metadata": {},
   "source": [
    "Now, Apply color encoding to filtered dataset "
   ]
  },
  {
   "cell_type": "code",
   "execution_count": 10,
   "metadata": {
    "collapsed": false
   },
   "outputs": [
    {
     "data": {
      "text/plain": [
       "64"
      ]
     },
     "execution_count": 10,
     "metadata": {},
     "output_type": "execute_result"
    }
   ],
   "source": [
    "len(data_cfilt.columns[7:71])"
   ]
  },
  {
   "cell_type": "code",
   "execution_count": 11,
   "metadata": {
    "collapsed": false
   },
   "outputs": [
    {
     "data": {
      "text/plain": [
       "Index(['AAA', 'AAT', 'AAC', 'AAG', 'ATA', 'ATT', 'ATC', 'ATG', 'ACA', 'ACT',\n",
       "       'ACC', 'ACG', 'AGA', 'AGT', 'AGC', 'AGG', 'TAA', 'TAT', 'TAC', 'TAG',\n",
       "       'TTA', 'TTT', 'TTC', 'TTG', 'TCA', 'TCT', 'TCC', 'TCG', 'TGA', 'TGT',\n",
       "       'TGC', 'TGG', 'CAA', 'CAT', 'CAC', 'CAG', 'CTA', 'CTT', 'CTC', 'CTG',\n",
       "       'CCA', 'CCT', 'CCC', 'CCG', 'CGA', 'CGT', 'CGC', 'CGG', 'GAA', 'GAT',\n",
       "       'GAC', 'GAG', 'GTA', 'GTT', 'GTC', 'GTG', 'GCA', 'GCT', 'GCC', 'GCG',\n",
       "       'GGA', 'GGT', 'GGC', 'GGG'],\n",
       "      dtype='object')"
      ]
     },
     "execution_count": 11,
     "metadata": {},
     "output_type": "execute_result"
    }
   ],
   "source": [
    "# first... let's get the list of codons from our pals Sastry et al\n",
    "codon_list = data_cfilt.columns[7:71]\n",
    "codon_list"
   ]
  },
  {
   "cell_type": "code",
   "execution_count": 12,
   "metadata": {
    "collapsed": false
   },
   "outputs": [
    {
     "name": "stderr",
     "output_type": "stream",
     "text": [
      "/sw/anaconda-4.3.1/python3/lib/python3.6/site-packages/ipykernel/__main__.py:4: SettingWithCopyWarning: \n",
      "A value is trying to be set on a copy of a slice from a DataFrame.\n",
      "Try using .loc[row_indexer,col_indexer] = value instead\n",
      "\n",
      "See the caveats in the documentation: http://pandas.pydata.org/pandas-docs/stable/indexing.html#indexing-view-versus-copy\n"
     ]
    }
   ],
   "source": [
    "def nt_seq_to_list(nt_sequence):\n",
    "    return np.array(list(map(''.join, zip(*[iter(str(nt_sequence))]*3))))\n",
    "\n",
    "data_cfilt['codon_array'] = data_cfilt.loc[:,'true_nt_seq'].apply(nt_seq_to_list)\n",
    "#data_cfilt.head()"
   ]
  },
  {
   "cell_type": "code",
   "execution_count": 13,
   "metadata": {
    "collapsed": false
   },
   "outputs": [
    {
     "data": {
      "text/plain": [
       "[]"
      ]
     },
     "execution_count": 13,
     "metadata": {},
     "output_type": "execute_result"
    }
   ],
   "source": [
    "# filtering out the sequences with codon fragments\n",
    "weird_seq_len = []\n",
    "for idx, row in data_cfilt.iterrows():\n",
    "    if len(str(row['true_nt_seq']))%3:\n",
    "        weird_seq_len.append(idx)\n",
    "\n",
    "#data.drop(weird_seq_len, inplace=True)\n",
    "weird_seq_len"
   ]
  },
  {
   "cell_type": "code",
   "execution_count": 14,
   "metadata": {
    "collapsed": true
   },
   "outputs": [],
   "source": [
    "with open('codon_colors.json', 'r') as fp:\n",
    "    codon_colors = json.load(fp)"
   ]
  },
  {
   "cell_type": "code",
   "execution_count": 15,
   "metadata": {
    "collapsed": false
   },
   "outputs": [
    {
     "data": {
      "text/plain": [
       "64"
      ]
     },
     "execution_count": 15,
     "metadata": {},
     "output_type": "execute_result"
    }
   ],
   "source": [
    "len(codon_colors)"
   ]
  },
  {
   "cell_type": "code",
   "execution_count": 16,
   "metadata": {
    "collapsed": false
   },
   "outputs": [
    {
     "name": "stderr",
     "output_type": "stream",
     "text": [
      "/sw/anaconda-4.3.1/python3/lib/python3.6/site-packages/ipykernel/__main__.py:13: SettingWithCopyWarning: \n",
      "A value is trying to be set on a copy of a slice from a DataFrame.\n",
      "Try using .loc[row_indexer,col_indexer] = value instead\n",
      "\n",
      "See the caveats in the documentation: http://pandas.pydata.org/pandas-docs/stable/indexing.html#indexing-view-versus-copy\n"
     ]
    }
   ],
   "source": [
    "def list_to_color_matrix(codon_array):\n",
    "    # mark for garbage if codon_array is nan\n",
    "    if str(codon_array[0]) == 'nan':\n",
    "        return\n",
    "\n",
    "    # otherwise return color matrix\n",
    "    color_matrix = np.ndarray(shape=(len(codon_array), 4))\n",
    "    for idx, codon in enumerate(codon_array):\n",
    "        color_matrix[idx] = np.array(codon_colors[codon])\n",
    "        \n",
    "    return color_matrix\n",
    "\n",
    "data_cfilt['color_matrix'] = data_cfilt['codon_array'].apply(list_to_color_matrix)"
   ]
  },
  {
   "cell_type": "code",
   "execution_count": 17,
   "metadata": {
    "collapsed": false
   },
   "outputs": [
    {
     "data": {
      "text/html": [
       "<div>\n",
       "<table border=\"1\" class=\"dataframe\">\n",
       "  <thead>\n",
       "    <tr style=\"text-align: right;\">\n",
       "      <th></th>\n",
       "      <th>prest_id</th>\n",
       "      <th>uniprot_id</th>\n",
       "      <th>conc_cf</th>\n",
       "      <th>aa_seq</th>\n",
       "      <th>nt_seq</th>\n",
       "      <th>aa_len</th>\n",
       "      <th>true_nt_seq</th>\n",
       "      <th>AAA</th>\n",
       "      <th>AAT</th>\n",
       "      <th>AAC</th>\n",
       "      <th>...</th>\n",
       "      <th>GCT</th>\n",
       "      <th>GCC</th>\n",
       "      <th>GCG</th>\n",
       "      <th>GGA</th>\n",
       "      <th>GGT</th>\n",
       "      <th>GGC</th>\n",
       "      <th>GGG</th>\n",
       "      <th>expressed</th>\n",
       "      <th>codon_array</th>\n",
       "      <th>color_matrix</th>\n",
       "    </tr>\n",
       "  </thead>\n",
       "  <tbody>\n",
       "    <tr>\n",
       "      <th>1</th>\n",
       "      <td>140099</td>\n",
       "      <td>G3V537</td>\n",
       "      <td>2.91540</td>\n",
       "      <td>TYYAWKHELLGSGTCPALPPREVLGMEELEKLPEEQVAEEELECSA...</td>\n",
       "      <td>GACAAGCTTGCGGCCGCAACCTACTATGCCTGGAAGCATGAGCTGC...</td>\n",
       "      <td>144</td>\n",
       "      <td>ACCTACTATGCCTGGAAGCATGAGCTGCTGGGCTCTGGCACCTGCC...</td>\n",
       "      <td>1</td>\n",
       "      <td>2</td>\n",
       "      <td>2</td>\n",
       "      <td>...</td>\n",
       "      <td>4</td>\n",
       "      <td>6</td>\n",
       "      <td>3</td>\n",
       "      <td>1</td>\n",
       "      <td>1</td>\n",
       "      <td>5</td>\n",
       "      <td>5</td>\n",
       "      <td>False</td>\n",
       "      <td>[ACC, TAC, TAT, GCC, TGG, AAG, CAT, GAG, CTG, ...</td>\n",
       "      <td>[[0.013574272678167909, 0.4886114754109594, 0....</td>\n",
       "    </tr>\n",
       "    <tr>\n",
       "      <th>2</th>\n",
       "      <td>140225</td>\n",
       "      <td>P12724</td>\n",
       "      <td>1.48770</td>\n",
       "      <td>SLHARPPQFTRAQWFAIQHISLNPPRCTIAMRAINNYRWRCKNQNT...</td>\n",
       "      <td>GACAAGCTTGCGGCCGCATCACTCCATGCCAGACCCCCACAGTTTA...</td>\n",
       "      <td>136</td>\n",
       "      <td>TCACTCCATGCCAGACCCCCACAGTTTACGAGGGCTCAGTGGTTTG...</td>\n",
       "      <td>1</td>\n",
       "      <td>7</td>\n",
       "      <td>8</td>\n",
       "      <td>...</td>\n",
       "      <td>2</td>\n",
       "      <td>2</td>\n",
       "      <td>1</td>\n",
       "      <td>1</td>\n",
       "      <td>2</td>\n",
       "      <td>1</td>\n",
       "      <td>0</td>\n",
       "      <td>False</td>\n",
       "      <td>[TCA, CTC, CAT, GCC, AGA, CCC, CCA, CAG, TTT, ...</td>\n",
       "      <td>[[0.5532275834715675, 0.8806392137305686, 0.98...</td>\n",
       "    </tr>\n",
       "    <tr>\n",
       "      <th>5</th>\n",
       "      <td>140325</td>\n",
       "      <td>O43506</td>\n",
       "      <td>1.50290</td>\n",
       "      <td>FVGWWTHQRFVELVVVVDNIRYLFSQSNATTVQHEVFNVVNIVDSF...</td>\n",
       "      <td>GACAAGCTTGCGGCCGCATTTGTGGGCTGGTGGACCCATCAGCGGT...</td>\n",
       "      <td>137</td>\n",
       "      <td>TTTGTGGGCTGGTGGACCCATCAGCGGTTTGTTGAGCTGGTAGTGG...</td>\n",
       "      <td>2</td>\n",
       "      <td>10</td>\n",
       "      <td>3</td>\n",
       "      <td>...</td>\n",
       "      <td>0</td>\n",
       "      <td>1</td>\n",
       "      <td>1</td>\n",
       "      <td>4</td>\n",
       "      <td>1</td>\n",
       "      <td>3</td>\n",
       "      <td>0</td>\n",
       "      <td>False</td>\n",
       "      <td>[TTT, GTG, GGC, TGG, TGG, ACC, CAT, CAG, CGG, ...</td>\n",
       "      <td>[[0.017356812254592402, 0.617596870329498, 0.8...</td>\n",
       "    </tr>\n",
       "    <tr>\n",
       "      <th>8</th>\n",
       "      <td>140354</td>\n",
       "      <td>O95072</td>\n",
       "      <td>0.92003</td>\n",
       "      <td>RRRLLFWDKETQISPEKFQEQLQTRAHCWECPMVQPPERTIRGPAE...</td>\n",
       "      <td>GACAAGCTTGCGGCCGCACGTCGCCGGTTACTGTTCTGGGACAAGG...</td>\n",
       "      <td>134</td>\n",
       "      <td>CGTCGCCGGTTACTGTTCTGGGACAAGGAGACTCAGATCTCCCCGG...</td>\n",
       "      <td>2</td>\n",
       "      <td>0</td>\n",
       "      <td>0</td>\n",
       "      <td>...</td>\n",
       "      <td>2</td>\n",
       "      <td>5</td>\n",
       "      <td>2</td>\n",
       "      <td>0</td>\n",
       "      <td>1</td>\n",
       "      <td>3</td>\n",
       "      <td>0</td>\n",
       "      <td>False</td>\n",
       "      <td>[CGT, CGC, CGG, TTA, CTG, TTC, TGG, GAC, AAG, ...</td>\n",
       "      <td>[[0.4166338148414295, 0.7446047830557105, 0.77...</td>\n",
       "    </tr>\n",
       "    <tr>\n",
       "      <th>10</th>\n",
       "      <td>140500</td>\n",
       "      <td>C9J919</td>\n",
       "      <td>2.21830</td>\n",
       "      <td>MQQPPPQKVRINLQQQPPPLQIKSVPLPTLKMQTTLVPPTVESSPE...</td>\n",
       "      <td>GACAAGCTTGCGGCCGCAATGCAACAGCCTCCACCTCAGAAAGTTC...</td>\n",
       "      <td>140</td>\n",
       "      <td>ATGCAACAGCCTCCACCTCAGAAAGTTCGAATCAATTTACAGCAAC...</td>\n",
       "      <td>2</td>\n",
       "      <td>3</td>\n",
       "      <td>3</td>\n",
       "      <td>...</td>\n",
       "      <td>0</td>\n",
       "      <td>3</td>\n",
       "      <td>1</td>\n",
       "      <td>0</td>\n",
       "      <td>1</td>\n",
       "      <td>1</td>\n",
       "      <td>1</td>\n",
       "      <td>False</td>\n",
       "      <td>[ATG, CAA, CAG, CCT, CCA, CCT, CAG, AAA, GTT, ...</td>\n",
       "      <td>[[0.12671680502352456, 0.1954819418675614, 0.7...</td>\n",
       "    </tr>\n",
       "  </tbody>\n",
       "</table>\n",
       "<p>5 rows × 74 columns</p>\n",
       "</div>"
      ],
      "text/plain": [
       "    prest_id uniprot_id  conc_cf  \\\n",
       "1     140099     G3V537  2.91540   \n",
       "2     140225     P12724  1.48770   \n",
       "5     140325     O43506  1.50290   \n",
       "8     140354     O95072  0.92003   \n",
       "10    140500     C9J919  2.21830   \n",
       "\n",
       "                                               aa_seq  \\\n",
       "1   TYYAWKHELLGSGTCPALPPREVLGMEELEKLPEEQVAEEELECSA...   \n",
       "2   SLHARPPQFTRAQWFAIQHISLNPPRCTIAMRAINNYRWRCKNQNT...   \n",
       "5   FVGWWTHQRFVELVVVVDNIRYLFSQSNATTVQHEVFNVVNIVDSF...   \n",
       "8   RRRLLFWDKETQISPEKFQEQLQTRAHCWECPMVQPPERTIRGPAE...   \n",
       "10  MQQPPPQKVRINLQQQPPPLQIKSVPLPTLKMQTTLVPPTVESSPE...   \n",
       "\n",
       "                                               nt_seq  aa_len  \\\n",
       "1   GACAAGCTTGCGGCCGCAACCTACTATGCCTGGAAGCATGAGCTGC...     144   \n",
       "2   GACAAGCTTGCGGCCGCATCACTCCATGCCAGACCCCCACAGTTTA...     136   \n",
       "5   GACAAGCTTGCGGCCGCATTTGTGGGCTGGTGGACCCATCAGCGGT...     137   \n",
       "8   GACAAGCTTGCGGCCGCACGTCGCCGGTTACTGTTCTGGGACAAGG...     134   \n",
       "10  GACAAGCTTGCGGCCGCAATGCAACAGCCTCCACCTCAGAAAGTTC...     140   \n",
       "\n",
       "                                          true_nt_seq  AAA  AAT  AAC  \\\n",
       "1   ACCTACTATGCCTGGAAGCATGAGCTGCTGGGCTCTGGCACCTGCC...    1    2    2   \n",
       "2   TCACTCCATGCCAGACCCCCACAGTTTACGAGGGCTCAGTGGTTTG...    1    7    8   \n",
       "5   TTTGTGGGCTGGTGGACCCATCAGCGGTTTGTTGAGCTGGTAGTGG...    2   10    3   \n",
       "8   CGTCGCCGGTTACTGTTCTGGGACAAGGAGACTCAGATCTCCCCGG...    2    0    0   \n",
       "10  ATGCAACAGCCTCCACCTCAGAAAGTTCGAATCAATTTACAGCAAC...    2    3    3   \n",
       "\n",
       "                          ...                          GCT  GCC  GCG  GGA  \\\n",
       "1                         ...                            4    6    3    1   \n",
       "2                         ...                            2    2    1    1   \n",
       "5                         ...                            0    1    1    4   \n",
       "8                         ...                            2    5    2    0   \n",
       "10                        ...                            0    3    1    0   \n",
       "\n",
       "    GGT  GGC  GGG  expressed  \\\n",
       "1     1    5    5      False   \n",
       "2     2    1    0      False   \n",
       "5     1    3    0      False   \n",
       "8     1    3    0      False   \n",
       "10    1    1    1      False   \n",
       "\n",
       "                                          codon_array  \\\n",
       "1   [ACC, TAC, TAT, GCC, TGG, AAG, CAT, GAG, CTG, ...   \n",
       "2   [TCA, CTC, CAT, GCC, AGA, CCC, CCA, CAG, TTT, ...   \n",
       "5   [TTT, GTG, GGC, TGG, TGG, ACC, CAT, CAG, CGG, ...   \n",
       "8   [CGT, CGC, CGG, TTA, CTG, TTC, TGG, GAC, AAG, ...   \n",
       "10  [ATG, CAA, CAG, CCT, CCA, CCT, CAG, AAA, GTT, ...   \n",
       "\n",
       "                                         color_matrix  \n",
       "1   [[0.013574272678167909, 0.4886114754109594, 0....  \n",
       "2   [[0.5532275834715675, 0.8806392137305686, 0.98...  \n",
       "5   [[0.017356812254592402, 0.617596870329498, 0.8...  \n",
       "8   [[0.4166338148414295, 0.7446047830557105, 0.77...  \n",
       "10  [[0.12671680502352456, 0.1954819418675614, 0.7...  \n",
       "\n",
       "[5 rows x 74 columns]"
      ]
     },
     "execution_count": 17,
     "metadata": {},
     "output_type": "execute_result"
    }
   ],
   "source": [
    "data_cfilt.head()\n",
    "#data_cfilt.loc[1,'color_matrix']"
   ]
  },
  {
   "cell_type": "code",
   "execution_count": 18,
   "metadata": {
    "collapsed": false
   },
   "outputs": [
    {
     "data": {
      "image/png": "[encoded data removed]",
      "text/plain": [
       "<matplotlib.figure.Figure at 0x2ad43463fa90>"
      ]
     },
     "metadata": {},
     "output_type": "display_data"
    }
   ],
   "source": [
    "# show sequence barcode (chose row 45000 since it's short and the visualization is better)\n",
    "barcode = data_cfilt['color_matrix'][1].reshape(1, len(data_cfilt['color_matrix'][1]), 4)\n",
    "\n",
    "plt.figure(figsize=(12, 8))\n",
    "plt.imshow(barcode, interpolation='nearest')\n",
    "plt.show()"
   ]
  },
  {
   "cell_type": "code",
   "execution_count": null,
   "metadata": {
    "collapsed": true
   },
   "outputs": [],
   "source": []
  }
 ],
 "metadata": {
  "kernelspec": {
   "display_name": "Python 3",
   "language": "python",
   "name": "python3"
  },
  "language_info": {
   "codemirror_mode": {
    "name": "ipython",
    "version": 3
   },
   "file_extension": ".py",
   "mimetype": "text/x-python",
   "name": "python",
   "nbconvert_exporter": "python",
   "pygments_lexer": "ipython3",
   "version": "3.6.0"
  }
 },
 "nbformat": 4,
 "nbformat_minor": 0
}
