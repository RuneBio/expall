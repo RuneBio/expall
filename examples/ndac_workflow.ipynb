{
 "cells": [
  {
   "cell_type": "code",
   "execution_count": 1,
   "metadata": {},
   "outputs": [
    {
     "name": "stderr",
     "output_type": "stream",
     "text": [
      "/Users/joshsmith/Git/NovoNordisk_Capstone/.env/lib/python3.6/site-packages/h5py/__init__.py:36: FutureWarning: Conversion of the second argument of issubdtype from `float` to `np.floating` is deprecated. In future, it will be treated as `np.float64 == np.dtype(float).type`.\n",
      "  from ._conv import register_converters as _register_converters\n",
      "Using TensorFlow backend.\n"
     ]
    }
   ],
   "source": [
    "import numpy as np\n",
    "import pandas as pd\n",
    "import matplotlib.pyplot as plt\n",
    "%matplotlib inline\n",
    "\n",
    "#the following 2 lines are required if ndac is not installed\n",
    "import sys\n",
    "sys.path.append(\"..\") \n",
    "import ndac\n",
    "\n",
    "from ndac.data_processing import quantile_classify, encode_sequence, value_classify\n",
    "from ndac.predict import train_clstm"
   ]
  },
  {
   "cell_type": "markdown",
   "metadata": {},
   "source": [
    "## Raw data import\n",
    "The basic raw data should be a colum of a measured experimental values to be used as a metric for classifciation (eg. expression or solubility) and a sequence (eg. amino acid or nucleotide).  The data will be imported as a pandas dataframe so more than the minimum 2 colums is acceptable.\n",
    "\n",
    "In the example below, there are 6 columns.  The 'conc_cf' (protein experssion level) will be used as the metric and 'nt_seq' will serve as the sequence. "
   ]
  },
  {
   "cell_type": "code",
   "execution_count": 2,
   "metadata": {},
   "outputs": [
    {
     "data": {
      "text/html": [
       "<div>\n",
       "<style scoped>\n",
       "    .dataframe tbody tr th:only-of-type {\n",
       "        vertical-align: middle;\n",
       "    }\n",
       "\n",
       "    .dataframe tbody tr th {\n",
       "        vertical-align: top;\n",
       "    }\n",
       "\n",
       "    .dataframe thead th {\n",
       "        text-align: right;\n",
       "    }\n",
       "</style>\n",
       "<table border=\"1\" class=\"dataframe\">\n",
       "  <thead>\n",
       "    <tr style=\"text-align: right;\">\n",
       "      <th></th>\n",
       "      <th>prest_id</th>\n",
       "      <th>uniprot_id</th>\n",
       "      <th>conc_cf</th>\n",
       "      <th>aa_seq</th>\n",
       "      <th>nt_seq</th>\n",
       "      <th>aa_len</th>\n",
       "    </tr>\n",
       "  </thead>\n",
       "  <tbody>\n",
       "    <tr>\n",
       "      <th>0</th>\n",
       "      <td>140095</td>\n",
       "      <td>G3V3N0</td>\n",
       "      <td>4.3075</td>\n",
       "      <td>IMTAPSSFEQFKVAMNYLQLYNVPDCLEDIQDADCSSSKCSSSASS...</td>\n",
       "      <td>GACAAGCTTGCGGCCGCAATTATGACAGCTCCCTCCAGTTTTGAGC...</td>\n",
       "      <td>139</td>\n",
       "    </tr>\n",
       "    <tr>\n",
       "      <th>1</th>\n",
       "      <td>140099</td>\n",
       "      <td>G3V537</td>\n",
       "      <td>2.9154</td>\n",
       "      <td>TYYAWKHELLGSGTCPALPPREVLGMEELEKLPEEQVAEEELECSA...</td>\n",
       "      <td>GACAAGCTTGCGGCCGCAACCTACTATGCCTGGAAGCATGAGCTGC...</td>\n",
       "      <td>144</td>\n",
       "    </tr>\n",
       "    <tr>\n",
       "      <th>2</th>\n",
       "      <td>140225</td>\n",
       "      <td>P12724</td>\n",
       "      <td>1.4877</td>\n",
       "      <td>SLHARPPQFTRAQWFAIQHISLNPPRCTIAMRAINNYRWRCKNQNT...</td>\n",
       "      <td>GACAAGCTTGCGGCCGCATCACTCCATGCCAGACCCCCACAGTTTA...</td>\n",
       "      <td>136</td>\n",
       "    </tr>\n",
       "    <tr>\n",
       "      <th>3</th>\n",
       "      <td>140235</td>\n",
       "      <td>H0YH02</td>\n",
       "      <td>6.7224</td>\n",
       "      <td>ARALNESKRVNNGNTAPEDSSPAKKTRRCQRQESKKMPVAGGKANK...</td>\n",
       "      <td>GACAAGCTTGCGGCCGCAGCGAGAGCATTAAATGAAAGCAAAAGAG...</td>\n",
       "      <td>123</td>\n",
       "    </tr>\n",
       "    <tr>\n",
       "      <th>4</th>\n",
       "      <td>140309</td>\n",
       "      <td>F5GYC5</td>\n",
       "      <td>3.3848</td>\n",
       "      <td>HRKEPGARLEATRGAARPHKQGTKPMITRPSVSQLGEGKCPSSQHL...</td>\n",
       "      <td>GACAAGCTTGCGGCCGCACATCGGAAAGAGCCTGGGGCAAGGCTGG...</td>\n",
       "      <td>124</td>\n",
       "    </tr>\n",
       "  </tbody>\n",
       "</table>\n",
       "</div>"
      ],
      "text/plain": [
       "   prest_id uniprot_id  conc_cf  \\\n",
       "0    140095     G3V3N0   4.3075   \n",
       "1    140099     G3V537   2.9154   \n",
       "2    140225     P12724   1.4877   \n",
       "3    140235     H0YH02   6.7224   \n",
       "4    140309     F5GYC5   3.3848   \n",
       "\n",
       "                                              aa_seq  \\\n",
       "0  IMTAPSSFEQFKVAMNYLQLYNVPDCLEDIQDADCSSSKCSSSASS...   \n",
       "1  TYYAWKHELLGSGTCPALPPREVLGMEELEKLPEEQVAEEELECSA...   \n",
       "2  SLHARPPQFTRAQWFAIQHISLNPPRCTIAMRAINNYRWRCKNQNT...   \n",
       "3  ARALNESKRVNNGNTAPEDSSPAKKTRRCQRQESKKMPVAGGKANK...   \n",
       "4  HRKEPGARLEATRGAARPHKQGTKPMITRPSVSQLGEGKCPSSQHL...   \n",
       "\n",
       "                                              nt_seq  aa_len  \n",
       "0  GACAAGCTTGCGGCCGCAATTATGACAGCTCCCTCCAGTTTTGAGC...     139  \n",
       "1  GACAAGCTTGCGGCCGCAACCTACTATGCCTGGAAGCATGAGCTGC...     144  \n",
       "2  GACAAGCTTGCGGCCGCATCACTCCATGCCAGACCCCCACAGTTTA...     136  \n",
       "3  GACAAGCTTGCGGCCGCAGCGAGAGCATTAAATGAAAGCAAAAGAG...     123  \n",
       "4  GACAAGCTTGCGGCCGCACATCGGAAAGAGCCTGGGGCAAGGCTGG...     124  "
      ]
     },
     "execution_count": 2,
     "metadata": {},
     "output_type": "execute_result"
    }
   ],
   "source": [
    "# read in sequence/property data\n",
    "data = pd.read_csv('../dataframes/DF_prest.csv', index_col=0)\n",
    "data.head()"
   ]
  },
  {
   "cell_type": "markdown",
   "metadata": {},
   "source": [
    "## Data processing\n",
    "Data that are labeled with an emperimental value as a metric are classified.  There are two functions available for classicication. `quntile_classify` calssifies based on the first and forth quantiles or user defined quntiles and `value_classify` classifies based on user input values for high and low values.\n",
    "\n",
    "### `quantile_classify`\n",
    "Classify low values as 0, remove middle values, and classify high values as 1.  The default is to calssify the lowest 25% of values as 0, remove the middle 50% and label the to 25% as 1."
   ]
  },
  {
   "cell_type": "code",
   "execution_count": 3,
   "metadata": {},
   "outputs": [
    {
     "name": "stdout",
     "output_type": "stream",
     "text": [
      "45206 samples input.\n",
      "11302 samples in class 0\n",
      "11301 samples in class 1\n",
      "22603 samples removed.\n"
     ]
    },
    {
     "data": {
      "image/png": "[encoded data removed]",
      "text/plain": [
       "<Figure size 432x288 with 1 Axes>"
      ]
     },
     "metadata": {},
     "output_type": "display_data"
    }
   ],
   "source": [
    "# split quantiles and encode with nucleotide sequence\n",
    "df, hist = quantile_classify(data['conc_cf'], data['nt_seq'],\n",
    "                             [0.25, 0.75], drop_class=[1])"
   ]
  },
  {
   "cell_type": "markdown",
   "metadata": {},
   "source": [
    "## `value_classify`\n",
    "\n",
    "Classify values below low_value as 0, classify values above high_value as 1 and remove values in between.\n"
   ]
  },
  {
   "cell_type": "code",
   "execution_count": 4,
   "metadata": {},
   "outputs": [
    {
     "name": "stdout",
     "output_type": "stream",
     "text": [
      "16082 samples input.\n",
      "3324 samples in class 0\n",
      "5091 samples in class 1\n",
      "7667 samples in class 2\n",
      "0 samples removed.\n"
     ]
    },
    {
     "data": {
      "image/png": "[encoded data removed]",
      "text/plain": [
       "<Figure size 432x288 with 1 Axes>"
      ]
     },
     "metadata": {},
     "output_type": "display_data"
    }
   ],
   "source": [
    "sol_data = pd.read_csv('../dataframes/DF_solubility.csv', index_col=0)\n",
    "sol_df, sol_hist = ndac.value_classify(sol_data['solubility_class_1M'], \n",
    "                                       sol_data['aa_seq'], \n",
    "                                       split_values = [3.95,4.25])"
   ]
  },
  {
   "cell_type": "markdown",
   "metadata": {},
   "source": [
    "## `encode_sequence`\n",
    "\n",
    "Encode sequence and such.."
   ]
  },
  {
   "cell_type": "code",
   "execution_count": 5,
   "metadata": {},
   "outputs": [],
   "source": [
    "X, y = encode_sequence(df['nt_seq'], df['class'],\n",
    "                       max_length=200, tag='GACAAGCTTGCGGCCGCA')"
   ]
  },
  {
   "cell_type": "markdown",
   "metadata": {},
   "source": [
    "## Model training\n",
    "\n",
    "## `train_clstm`\n",
    "train that clstm"
   ]
  },
  {
   "cell_type": "code",
   "execution_count": 6,
   "metadata": {},
   "outputs": [
    {
     "name": "stdout",
     "output_type": "stream",
     "text": [
      "WARNING:tensorflow:From /Users/joshsmith/Git/NovoNordisk_Capstone/.env/lib/python3.6/site-packages/tensorflow/python/util/deprecation.py:497: calling conv1d (from tensorflow.python.ops.nn_ops) with data_format=NHWC is deprecated and will be removed in a future version.\n",
      "Instructions for updating:\n",
      "`NHWC` for data_format is deprecated, use `NWC` instead\n",
      "_________________________________________________________________\n",
      "Layer (type)                 Output Shape              Param #   \n",
      "=================================================================\n",
      "embedding_1 (Embedding)      (None, 200, 10)           740       \n",
      "_________________________________________________________________\n",
      "conv1d_1 (Conv1D)            (None, 200, 128)          3968      \n",
      "_________________________________________________________________\n",
      "max_pooling1d_1 (MaxPooling1 (None, 100, 128)          0         \n",
      "_________________________________________________________________\n",
      "lstm_1 (LSTM)                (None, 100)               91600     \n",
      "_________________________________________________________________\n",
      "dense_1 (Dense)              (None, 1)                 101       \n",
      "=================================================================\n",
      "Total params: 96,409\n",
      "Trainable params: 96,409\n",
      "Non-trainable params: 0\n",
      "_________________________________________________________________\n",
      "None\n",
      "Epoch 1/1\n",
      "15677/15677 [==============================] - 28s 2ms/step - loss: 0.6790 - acc: 0.5602\n",
      "Accuracy: 63.05%\n"
     ]
    }
   ],
   "source": [
    "nt_model = train_clstm(X, y, test_fraction=0.3, \n",
    "                       epochs=1)"
   ]
  },
  {
   "cell_type": "markdown",
   "metadata": {},
   "source": [
    "# Want to capture our entire worflow??\n",
    "\n",
    "here ya go:"
   ]
  },
  {
   "cell_type": "code",
   "execution_count": null,
   "metadata": {},
   "outputs": [],
   "source": [
    "data = pd.read_csv('../dataframes/DF_prest.csv', index_col=0)\n",
    "df, hist = quantile_classify(data['conc_cf'], data['nt_seq'],\n",
    "                             [0.25, 0.75], drop_class=[1])\n",
    "X, y = encode_sequence(df['nt_seq'], df['class'],\n",
    "                       max_length=200, tag='GACAAGCTTGCGGCCGCA')\n",
    "nt_model = train_clstm(X, y, test_fraction=0.3, \n",
    "                       epochs=1)"
   ]
  },
  {
   "cell_type": "code",
   "execution_count": null,
   "metadata": {},
   "outputs": [],
   "source": [
    "# using Sastry et al. split for retrospective analysis"
   ]
  },
  {
   "cell_type": "code",
   "execution_count": 7,
   "metadata": {
    "scrolled": true
   },
   "outputs": [
    {
     "name": "stdout",
     "output_type": "stream",
     "text": [
      "_________________________________________________________________\n",
      "Layer (type)                 Output Shape              Param #   \n",
      "=================================================================\n",
      "embedding_2 (Embedding)      (None, 200, 10)           210       \n",
      "_________________________________________________________________\n",
      "conv1d_2 (Conv1D)            (None, 200, 128)          3968      \n",
      "_________________________________________________________________\n",
      "max_pooling1d_2 (MaxPooling1 (None, 100, 128)          0         \n",
      "_________________________________________________________________\n",
      "lstm_2 (LSTM)                (None, 100)               91600     \n",
      "_________________________________________________________________\n",
      "dense_2 (Dense)              (None, 1)                 101       \n",
      "=================================================================\n",
      "Total params: 95,879\n",
      "Trainable params: 95,879\n",
      "Non-trainable params: 0\n",
      "_________________________________________________________________\n",
      "None\n",
      "Epoch 1/35\n",
      "10216/10216 [==============================] - 20s 2ms/step - loss: 0.6854 - acc: 0.5459\n",
      "Epoch 2/35\n",
      "10216/10216 [==============================] - 19s 2ms/step - loss: 0.6684 - acc: 0.5921\n",
      "Epoch 3/35\n",
      "10216/10216 [==============================] - 19s 2ms/step - loss: 0.6495 - acc: 0.6257\n",
      "Epoch 4/35\n",
      "10216/10216 [==============================] - 18s 2ms/step - loss: 0.6428 - acc: 0.6365\n",
      "Epoch 5/35\n",
      "10216/10216 [==============================] - 17s 2ms/step - loss: 0.6395 - acc: 0.6399\n",
      "Epoch 6/35\n",
      "10216/10216 [==============================] - 17s 2ms/step - loss: 0.6345 - acc: 0.6502\n",
      "Epoch 7/35\n",
      "10216/10216 [==============================] - 17s 2ms/step - loss: 0.6324 - acc: 0.6471\n",
      "Epoch 8/35\n",
      "10216/10216 [==============================] - 17s 2ms/step - loss: 0.6312 - acc: 0.6497\n",
      "Epoch 9/35\n",
      "10216/10216 [==============================] - 17s 2ms/step - loss: 0.6275 - acc: 0.6544\n",
      "Epoch 10/35\n",
      "10216/10216 [==============================] - 17s 2ms/step - loss: 0.6271 - acc: 0.6551\n",
      "Epoch 11/35\n",
      "10216/10216 [==============================] - 18s 2ms/step - loss: 0.6213 - acc: 0.6604\n",
      "Epoch 12/35\n",
      "10216/10216 [==============================] - 17s 2ms/step - loss: 0.6218 - acc: 0.6583\n",
      "Epoch 13/35\n",
      "10216/10216 [==============================] - 18s 2ms/step - loss: 0.6177 - acc: 0.6603\n",
      "Epoch 14/35\n",
      "10216/10216 [==============================] - 17s 2ms/step - loss: 0.6155 - acc: 0.6627\n",
      "Epoch 15/35\n",
      "10216/10216 [==============================] - 17s 2ms/step - loss: 0.6116 - acc: 0.6704\n",
      "Epoch 16/35\n",
      "10216/10216 [==============================] - 17s 2ms/step - loss: 0.6073 - acc: 0.6736\n",
      "Epoch 17/35\n",
      "10216/10216 [==============================] - 17s 2ms/step - loss: 0.6051 - acc: 0.6766\n",
      "Epoch 18/35\n",
      "10216/10216 [==============================] - 17s 2ms/step - loss: 0.5981 - acc: 0.6835\n",
      "Epoch 19/35\n",
      "10216/10216 [==============================] - 17s 2ms/step - loss: 0.5968 - acc: 0.6874\n",
      "Epoch 20/35\n",
      "10216/10216 [==============================] - 17s 2ms/step - loss: 0.5912 - acc: 0.6826\n",
      "Epoch 21/35\n",
      "10216/10216 [==============================] - 17s 2ms/step - loss: 0.5811 - acc: 0.6944\n",
      "Epoch 22/35\n",
      "10216/10216 [==============================] - 18s 2ms/step - loss: 0.5725 - acc: 0.7012\n",
      "Epoch 23/35\n",
      "10216/10216 [==============================] - 18s 2ms/step - loss: 0.5699 - acc: 0.7026\n",
      "Epoch 24/35\n",
      "10216/10216 [==============================] - 17s 2ms/step - loss: 0.5594 - acc: 0.7134\n",
      "Epoch 25/35\n",
      "10216/10216 [==============================] - 17s 2ms/step - loss: 0.5532 - acc: 0.7168\n",
      "Epoch 26/35\n",
      "10216/10216 [==============================] - 18s 2ms/step - loss: 0.5484 - acc: 0.7212\n",
      "Epoch 27/35\n",
      "10216/10216 [==============================] - 19s 2ms/step - loss: 0.5426 - acc: 0.7263\n",
      "Epoch 28/35\n",
      "10216/10216 [==============================] - 18s 2ms/step - loss: 0.5374 - acc: 0.7313\n",
      "Epoch 29/35\n",
      "10216/10216 [==============================] - 21s 2ms/step - loss: 0.5349 - acc: 0.7354\n",
      "Epoch 30/35\n",
      "10216/10216 [==============================] - 19s 2ms/step - loss: 0.5303 - acc: 0.7355\n",
      "Epoch 31/35\n",
      "10216/10216 [==============================] - 18s 2ms/step - loss: 0.5257 - acc: 0.7371\n",
      "Epoch 32/35\n",
      "10216/10216 [==============================] - 18s 2ms/step - loss: 0.5202 - acc: 0.7453\n",
      "Epoch 33/35\n",
      "10216/10216 [==============================] - 18s 2ms/step - loss: 0.5153 - acc: 0.7438\n",
      "Epoch 34/35\n",
      "10216/10216 [==============================] - 17s 2ms/step - loss: 0.5149 - acc: 0.7488\n",
      "Epoch 35/35\n",
      "10216/10216 [==============================] - 17s 2ms/step - loss: 0.5079 - acc: 0.7535\n"
     ]
    }
   ],
   "source": [
    "data = pd.read_csv('DF_train.csv', index_col=0)\n",
    "#df, hist = quantile_classify(data['conc_cf'], data['aa_seq'], [0.25, 0.75], drop_class=[1])\n",
    "X, y = encode_sequence(data['aa_seq'], data['expressed'],\n",
    "                       max_length=200)\n",
    "aa_model = train_clstm(X, y, epochs=35, save_file='aa_model.h5')"
   ]
  },
  {
   "cell_type": "code",
   "execution_count": null,
   "metadata": {},
   "outputs": [],
   "source": []
  },
  {
   "cell_type": "code",
   "execution_count": null,
   "metadata": {},
   "outputs": [],
   "source": []
  },
  {
   "cell_type": "code",
   "execution_count": null,
   "metadata": {},
   "outputs": [],
   "source": []
  },
  {
   "cell_type": "code",
   "execution_count": null,
   "metadata": {},
   "outputs": [],
   "source": []
  },
  {
   "cell_type": "code",
   "execution_count": null,
   "metadata": {},
   "outputs": [],
   "source": []
  }
 ],
 "metadata": {
  "anaconda-cloud": {},
  "kernelspec": {
   "display_name": "Novo Capstone",
   "language": "python",
   "name": "novo"
  },
  "language_info": {
   "codemirror_mode": {
    "name": "ipython",
    "version": 3
   },
   "file_extension": ".py",
   "mimetype": "text/x-python",
   "name": "python",
   "nbconvert_exporter": "python",
   "pygments_lexer": "ipython3",
   "version": "3.6.4"
  }
 },
 "nbformat": 4,
 "nbformat_minor": 2
}
