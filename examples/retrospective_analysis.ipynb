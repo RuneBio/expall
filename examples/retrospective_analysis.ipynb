{
 "cells": [
  {
   "cell_type": "code",
   "execution_count": 1,
   "metadata": {},
   "outputs": [
    {
     "name": "stderr",
     "output_type": "stream",
     "text": [
      "/Users/joshsmith/Git/NovoNordisk_Capstone/.env/lib/python3.6/site-packages/h5py/__init__.py:36: FutureWarning: Conversion of the second argument of issubdtype from `float` to `np.floating` is deprecated. In future, it will be treated as `np.float64 == np.dtype(float).type`.\n",
      "  from ._conv import register_converters as _register_converters\n",
      "Using TensorFlow backend.\n"
     ]
    }
   ],
   "source": [
    "import pandas as pd\n",
    "import numpy as np\n",
    "import sys\n",
    "sys.path.append(\"..\") \n",
    "\n",
    "from ndac.data_processing import encode_sequence\n",
    "from ndac.predict import train_clstm\n",
    "from keras.models import load_model"
   ]
  },
  {
   "cell_type": "markdown",
   "metadata": {},
   "source": [
    "# Read previously trained model"
   ]
  },
  {
   "cell_type": "code",
   "execution_count": 2,
   "metadata": {},
   "outputs": [
    {
     "name": "stdout",
     "output_type": "stream",
     "text": [
      "WARNING:tensorflow:From /Users/joshsmith/Git/NovoNordisk_Capstone/.env/lib/python3.6/site-packages/tensorflow/python/util/deprecation.py:497: calling conv1d (from tensorflow.python.ops.nn_ops) with data_format=NHWC is deprecated and will be removed in a future version.\n",
      "Instructions for updating:\n",
      "`NHWC` for data_format is deprecated, use `NWC` instead\n"
     ]
    }
   ],
   "source": [
    "DF_test = pd.read_csv('DF_test.csv', index_col=0)  # filtered in sastry_preprocessing.ipynb\n",
    "aa_model = load_model('aa_model.h5')  # trained in ndac_workflow.ipynb"
   ]
  },
  {
   "cell_type": "markdown",
   "metadata": {},
   "source": [
    "## predict expression for unseen PrESTs"
   ]
  },
  {
   "cell_type": "code",
   "execution_count": 3,
   "metadata": {},
   "outputs": [],
   "source": [
    "X_test, y_test = encode_sequence(DF_test['aa_seq'], DF_test['expressed'],\n",
    "                                 max_length=200)\n",
    "pred = aa_model.predict_proba(X_test)\n",
    "DF_test.loc[:, 'pred'] = pred"
   ]
  },
  {
   "cell_type": "markdown",
   "metadata": {},
   "source": [
    "We now have a predicted expression probability for each PrEST. Our knowledge of it's true expression ('expressed') will be used for a retrospective analysis to estimate experimental savings."
   ]
  },
  {
   "cell_type": "code",
   "execution_count": 4,
   "metadata": {},
   "outputs": [
    {
     "data": {
      "text/html": [
       "<div>\n",
       "<style scoped>\n",
       "    .dataframe tbody tr th:only-of-type {\n",
       "        vertical-align: middle;\n",
       "    }\n",
       "\n",
       "    .dataframe tbody tr th {\n",
       "        vertical-align: top;\n",
       "    }\n",
       "\n",
       "    .dataframe thead th {\n",
       "        text-align: right;\n",
       "    }\n",
       "</style>\n",
       "<table border=\"1\" class=\"dataframe\">\n",
       "  <thead>\n",
       "    <tr style=\"text-align: right;\">\n",
       "      <th></th>\n",
       "      <th>uniprot_id</th>\n",
       "      <th>aa_seq</th>\n",
       "      <th>pred</th>\n",
       "      <th>expressed</th>\n",
       "    </tr>\n",
       "  </thead>\n",
       "  <tbody>\n",
       "    <tr>\n",
       "      <th>33072</th>\n",
       "      <td>O43506</td>\n",
       "      <td>DAFYHPLEVDVILTGIDIWTASNPLPTSGDLDNVLEDFSIWKNYNL...</td>\n",
       "      <td>0.896197</td>\n",
       "      <td>1.0</td>\n",
       "    </tr>\n",
       "    <tr>\n",
       "      <th>33074</th>\n",
       "      <td>O43506</td>\n",
       "      <td>MVQLHQDTDPQIPKGQPCTLNSSEGGARPAVPHTLFSSALDRWLHN...</td>\n",
       "      <td>0.321429</td>\n",
       "      <td>1.0</td>\n",
       "    </tr>\n",
       "    <tr>\n",
       "      <th>5</th>\n",
       "      <td>O43506</td>\n",
       "      <td>FVGWWTHQRFVELVVVVDNIRYLFSQSNATTVQHEVFNVVNIVDSF...</td>\n",
       "      <td>0.160074</td>\n",
       "      <td>0.0</td>\n",
       "    </tr>\n",
       "    <tr>\n",
       "      <th>33073</th>\n",
       "      <td>O43506</td>\n",
       "      <td>IAHQMELQLSYNFTLKQSSFVGWWTHQRFVELVVVVDNIRYLFSQS...</td>\n",
       "      <td>0.062105</td>\n",
       "      <td>0.0</td>\n",
       "    </tr>\n",
       "  </tbody>\n",
       "</table>\n",
       "</div>"
      ],
      "text/plain": [
       "      uniprot_id                                             aa_seq      pred  \\\n",
       "33072     O43506  DAFYHPLEVDVILTGIDIWTASNPLPTSGDLDNVLEDFSIWKNYNL...  0.896197   \n",
       "33074     O43506  MVQLHQDTDPQIPKGQPCTLNSSEGGARPAVPHTLFSSALDRWLHN...  0.321429   \n",
       "5         O43506  FVGWWTHQRFVELVVVVDNIRYLFSQSNATTVQHEVFNVVNIVDSF...  0.160074   \n",
       "33073     O43506  IAHQMELQLSYNFTLKQSSFVGWWTHQRFVELVVVVDNIRYLFSQS...  0.062105   \n",
       "\n",
       "       expressed  \n",
       "33072        1.0  \n",
       "33074        1.0  \n",
       "5            0.0  \n",
       "33073        0.0  "
      ]
     },
     "execution_count": 4,
     "metadata": {},
     "output_type": "execute_result"
    }
   ],
   "source": [
    "DF_test[DF_test.uniprot_id == 'O43506'][['uniprot_id', 'aa_seq', 'pred', 'expressed']].sort_values('pred', ascending=False)"
   ]
  },
  {
   "cell_type": "markdown",
   "metadata": {},
   "source": [
    "### Original Data Statistics"
   ]
  },
  {
   "cell_type": "code",
   "execution_count": 5,
   "metadata": {
    "scrolled": true
   },
   "outputs": [
    {
     "name": "stdout",
     "output_type": "stream",
     "text": [
      "Original total number of experiments: 11562\n",
      "Original total number of proteins: 4759\n"
     ]
    }
   ],
   "source": [
    "print('Original total number of experiments:',len(DF_test))\n",
    "print('Original total number of proteins:',len(DF_test.uniprot_id.unique()))"
   ]
  },
  {
   "cell_type": "code",
   "execution_count": 6,
   "metadata": {},
   "outputs": [
    {
     "name": "stdout",
     "output_type": "stream",
     "text": [
      "Original Number of passed experiments: 5684\n",
      "Original Pass rate: 49.16%\n",
      "Number of proteins with >1 high expression: 3587\n"
     ]
    }
   ],
   "source": [
    "print('Original Number of passed experiments:',len(DF_test[DF_test.expressed == 1.0]))\n",
    "print('Original Pass rate: %.2f%%'%(np.true_divide(len(DF_test[DF_test.expressed == 1.0]),len(DF_test))*100))\n",
    "print('Number of proteins with >1 high expression:',len(DF_test[DF_test.expressed == 1.0].uniprot_id.unique()))"
   ]
  },
  {
   "cell_type": "markdown",
   "metadata": {},
   "source": [
    "### Grab only the top predicted prESTs for each protein"
   ]
  },
  {
   "cell_type": "code",
   "execution_count": 7,
   "metadata": {},
   "outputs": [
    {
     "name": "stdout",
     "output_type": "stream",
     "text": [
      "Iteration 0\n",
      "Total number of proposed experiments: 4759\n",
      "Total number of expressed proteins: 3079\n",
      "Overall pass rate: 0.6469846606429922\n",
      "Iteration 1\n",
      "Total number of proposed experiments: 6439\n",
      "Total number of expressed proteins: 3543\n",
      "Overall pass rate: 0.5502407206087901\n",
      "Iteration 2\n",
      "Total number of proposed experiments: 6816\n",
      "Total number of expressed proteins: 3586\n",
      "Overall pass rate: 0.5261150234741784\n",
      "Iteration 3\n",
      "Total number of proposed experiments: 6896\n",
      "Total number of expressed proteins: 3587\n",
      "Overall pass rate: 0.5201566125290024\n",
      "Percent saved experiments: 40.3563397336101 %\n"
     ]
    }
   ],
   "source": [
    "n = 4\n",
    "np.random.seed(0)\n",
    "\n",
    "output_df = pd.DataFrame(columns=['prest_id','uniprot_id','expressed','pred','aa_seq'])\n",
    "remaining_df = DF_test.copy()\n",
    "\n",
    "for i in range(n):\n",
    "    print('Iteration',i)\n",
    "    new_output_df = remaining_df.sort_values(['uniprot_id','pred'],ascending=[1,0]).drop_duplicates('uniprot_id')\n",
    "    output_df = pd.concat([output_df,new_output_df])\n",
    "   \n",
    "    pred_pos_proteins = set(output_df[output_df.pred > 0.5].uniprot_id)\n",
    "    true_pos_proteins = set(output_df[output_df.expressed == 1.0].uniprot_id)\n",
    "    print('Total number of proposed experiments:',len(output_df))\n",
    "    print('Total number of expressed proteins:',len(true_pos_proteins))\n",
    "    print('Overall pass rate:',np.true_divide(len(true_pos_proteins),len(output_df)))\n",
    "\n",
    "    # Prepare for next iteration\n",
    "    remaining_df = remaining_df.drop(new_output_df.index)\n",
    "    remaining_df = remaining_df[remaining_df.uniprot_id.isin(true_pos_proteins)==False]\n",
    "\n",
    "    print\n",
    "print('Percent saved experiments:',(1 - np.true_divide(len(output_df),len(DF_test)))*100,'%')"
   ]
  },
  {
   "cell_type": "code",
   "execution_count": null,
   "metadata": {},
   "outputs": [],
   "source": []
  }
 ],
 "metadata": {
  "anaconda-cloud": {},
  "kernelspec": {
   "display_name": "Novo Capstone",
   "language": "python",
   "name": "novo"
  },
  "language_info": {
   "codemirror_mode": {
    "name": "ipython",
    "version": 3
   },
   "file_extension": ".py",
   "mimetype": "text/x-python",
   "name": "python",
   "nbconvert_exporter": "python",
   "pygments_lexer": "ipython3",
   "version": "3.6.4"
  }
 },
 "nbformat": 4,
 "nbformat_minor": 1
}
